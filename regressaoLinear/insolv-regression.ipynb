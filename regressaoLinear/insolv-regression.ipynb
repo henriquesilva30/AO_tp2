{
 "cells": [
  {
   "cell_type": "code",
   "execution_count": 2,
   "metadata": {
    "collapsed": true,
    "pycharm": {
     "name": "#%%\n"
    }
   },
   "outputs": [],
   "source": [
    "import numpy as np\n",
    "import pandas as pd\n",
    "import matplotlib.pyplot as plt\n",
    "import seaborn as sns\n",
    "import re\n",
    "import joblib\n",
    "import sklearn\n",
    "from sklearn.model_selection import train_test_split\n",
    "from sklearn.preprocessing import MinMaxScaler\n",
    "from sklearn.preprocessing import PolynomialFeatures\n",
    "from sklearn.preprocessing import scale\n",
    "from sklearn.feature_selection import RFE\n",
    "from sklearn.linear_model import LinearRegression\n",
    "from sklearn.model_selection import cross_val_score, cross_val_predict, cross_validate\n",
    "from sklearn.model_selection import KFold\n",
    "from sklearn.model_selection import GridSearchCV\n",
    "from sklearn.pipeline import make_pipeline"
   ]
  },
  {
   "cell_type": "code",
   "execution_count": 5,
   "outputs": [
    {
     "name": "stdout",
     "output_type": "stream",
     "text": [
      "Shape of input data: (44090, 30) and shape of target variable: (44090,)\n"
     ]
    },
    {
     "data": {
      "text/plain": "   t1_all_total5_fl_match_win  t1_all_total5_fl_match_draw  \\\n0                           0                            0   \n1                           0                            0   \n2                           0                            0   \n3                           0                            0   \n4                           0                            0   \n\n   t1_all_total5_fl_match_lost  t1_all_total10_fl_match_win  \\\n0                            0                            0   \n1                            0                            0   \n2                            0                            0   \n3                            0                            0   \n4                            0                            0   \n\n   t1_all_total10_fl_match_draw  t1_all_total10_fl_match_lost  \\\n0                             0                             0   \n1                             0                             0   \n2                             0                             0   \n3                             0                             0   \n4                             0                             0   \n\n   t2_all_total5_fl_match_win  t2_all_total5_fl_match_draw  \\\n0                           0                            0   \n1                           0                            0   \n2                           0                            0   \n3                           0                            0   \n4                           0                            0   \n\n   t2_all_total5_fl_match_lost  t2_all_total10_fl_match_win  ...  \\\n0                            0                            0  ...   \n1                            0                            0  ...   \n2                            0                            0  ...   \n3                            0                            0  ...   \n4                            0                            0  ...   \n\n   t2_away_total5_fl_match_lost  t2_away_total10_fl_match_win  \\\n0                             0                             0   \n1                             0                             0   \n2                             0                             0   \n3                             0                             0   \n4                             0                             0   \n\n   t2_away_total10_fl_match_draw  t2_away_total10_fl_match_lost  \\\n0                              0                              0   \n1                              0                              0   \n2                              0                              0   \n3                              0                              0   \n4                              0                              0   \n\n   t1_h2h_total5_fl_match_win  t1_h2h_total5_fl_match_draw  \\\n0                           0                            0   \n1                           0                            0   \n2                           0                            0   \n3                           0                            0   \n4                           0                            0   \n\n   t1_h2h_total5_fl_match_lost  t1_h2h_total10_fl_match_win  \\\n0                            0                            0   \n1                            0                            0   \n2                            0                            0   \n3                            0                            0   \n4                            0                            0   \n\n   t1_h2h_total10_fl_match_draw  t1_h2h_total10_fl_match_lost  \n0                             0                             0  \n1                             0                             0  \n2                             0                             0  \n3                             0                             0  \n4                             0                             0  \n\n[5 rows x 30 columns]",
      "text/html": "<div>\n<style scoped>\n    .dataframe tbody tr th:only-of-type {\n        vertical-align: middle;\n    }\n\n    .dataframe tbody tr th {\n        vertical-align: top;\n    }\n\n    .dataframe thead th {\n        text-align: right;\n    }\n</style>\n<table border=\"1\" class=\"dataframe\">\n  <thead>\n    <tr style=\"text-align: right;\">\n      <th></th>\n      <th>t1_all_total5_fl_match_win</th>\n      <th>t1_all_total5_fl_match_draw</th>\n      <th>t1_all_total5_fl_match_lost</th>\n      <th>t1_all_total10_fl_match_win</th>\n      <th>t1_all_total10_fl_match_draw</th>\n      <th>t1_all_total10_fl_match_lost</th>\n      <th>t2_all_total5_fl_match_win</th>\n      <th>t2_all_total5_fl_match_draw</th>\n      <th>t2_all_total5_fl_match_lost</th>\n      <th>t2_all_total10_fl_match_win</th>\n      <th>...</th>\n      <th>t2_away_total5_fl_match_lost</th>\n      <th>t2_away_total10_fl_match_win</th>\n      <th>t2_away_total10_fl_match_draw</th>\n      <th>t2_away_total10_fl_match_lost</th>\n      <th>t1_h2h_total5_fl_match_win</th>\n      <th>t1_h2h_total5_fl_match_draw</th>\n      <th>t1_h2h_total5_fl_match_lost</th>\n      <th>t1_h2h_total10_fl_match_win</th>\n      <th>t1_h2h_total10_fl_match_draw</th>\n      <th>t1_h2h_total10_fl_match_lost</th>\n    </tr>\n  </thead>\n  <tbody>\n    <tr>\n      <th>0</th>\n      <td>0</td>\n      <td>0</td>\n      <td>0</td>\n      <td>0</td>\n      <td>0</td>\n      <td>0</td>\n      <td>0</td>\n      <td>0</td>\n      <td>0</td>\n      <td>0</td>\n      <td>...</td>\n      <td>0</td>\n      <td>0</td>\n      <td>0</td>\n      <td>0</td>\n      <td>0</td>\n      <td>0</td>\n      <td>0</td>\n      <td>0</td>\n      <td>0</td>\n      <td>0</td>\n    </tr>\n    <tr>\n      <th>1</th>\n      <td>0</td>\n      <td>0</td>\n      <td>0</td>\n      <td>0</td>\n      <td>0</td>\n      <td>0</td>\n      <td>0</td>\n      <td>0</td>\n      <td>0</td>\n      <td>0</td>\n      <td>...</td>\n      <td>0</td>\n      <td>0</td>\n      <td>0</td>\n      <td>0</td>\n      <td>0</td>\n      <td>0</td>\n      <td>0</td>\n      <td>0</td>\n      <td>0</td>\n      <td>0</td>\n    </tr>\n    <tr>\n      <th>2</th>\n      <td>0</td>\n      <td>0</td>\n      <td>0</td>\n      <td>0</td>\n      <td>0</td>\n      <td>0</td>\n      <td>0</td>\n      <td>0</td>\n      <td>0</td>\n      <td>0</td>\n      <td>...</td>\n      <td>0</td>\n      <td>0</td>\n      <td>0</td>\n      <td>0</td>\n      <td>0</td>\n      <td>0</td>\n      <td>0</td>\n      <td>0</td>\n      <td>0</td>\n      <td>0</td>\n    </tr>\n    <tr>\n      <th>3</th>\n      <td>0</td>\n      <td>0</td>\n      <td>0</td>\n      <td>0</td>\n      <td>0</td>\n      <td>0</td>\n      <td>0</td>\n      <td>0</td>\n      <td>0</td>\n      <td>0</td>\n      <td>...</td>\n      <td>0</td>\n      <td>0</td>\n      <td>0</td>\n      <td>0</td>\n      <td>0</td>\n      <td>0</td>\n      <td>0</td>\n      <td>0</td>\n      <td>0</td>\n      <td>0</td>\n    </tr>\n    <tr>\n      <th>4</th>\n      <td>0</td>\n      <td>0</td>\n      <td>0</td>\n      <td>0</td>\n      <td>0</td>\n      <td>0</td>\n      <td>0</td>\n      <td>0</td>\n      <td>0</td>\n      <td>0</td>\n      <td>...</td>\n      <td>0</td>\n      <td>0</td>\n      <td>0</td>\n      <td>0</td>\n      <td>0</td>\n      <td>0</td>\n      <td>0</td>\n      <td>0</td>\n      <td>0</td>\n      <td>0</td>\n    </tr>\n  </tbody>\n</table>\n<p>5 rows × 30 columns</p>\n</div>"
     },
     "execution_count": 5,
     "metadata": {},
     "output_type": "execute_result"
    }
   ],
   "source": [
    "train_data = pd.read_csv('../files/t1_win_NullCorretion.csv')\n",
    "\n",
    "# Remove rows with missing target values\n",
    "train_data.dropna(axis=0, subset=['t1_fl_match_win'], inplace=True)\n",
    "y = train_data.t1_fl_match_win # Target variable\n",
    "train_data.drop(['t1_fl_match_win'], axis=1, inplace=True) # Removing target variable from training data\n",
    "\n",
    "\n",
    "# Select numeric columns only\n",
    "numeric_cols = [cname for cname in train_data.columns if train_data[cname].dtype in ['int64', 'float64']]\n",
    "X = train_data[numeric_cols].copy()\n",
    "\n",
    "print(\"Shape of input data: {} and shape of target variable: {}\".format(X.shape, y.shape))\n",
    "\n",
    "X.head() # Show first 5 training examples"
   ],
   "metadata": {
    "collapsed": false,
    "pycharm": {
     "name": "#%%\n"
    }
   }
  },
  {
   "cell_type": "code",
   "execution_count": 6,
   "outputs": [],
   "source": [
    "def modelLinearRegression():\n",
    "\n",
    "    # the other way of doing the same thing (more explicit)\n",
    "    lm = LinearRegression()\n",
    "    lm.fit(X, y)\n",
    "    rfe = RFE(lm, n_features_to_select=6)\n",
    "    rfe = rfe.fit(X, y)\n",
    "\n",
    "    # create a KFold object with 20 splits\n",
    "    folds = KFold(n_splits = 20, shuffle = True, random_state = 100)\n",
    "    print (\"Resultados do modelo Linear Regression\\n\")\n",
    "    scoresR2 = cross_val_score(lm, X, y, scoring='r2', cv=folds)\n",
    "    print(\"\\nResultado do r2 :{}\".format(scoresR2))\n",
    "    scoresNMSE = cross_val_score(lm, X, y, scoring='neg_mean_squared_error', cv=folds)\n",
    "    print(\"\\nResultado do NMSE :{}\".format(scoresNMSE))\n",
    "    scoresME = cross_val_score(lm, X, y, scoring='max_error', cv=folds)\n",
    "    print(\"\\nResultado do ME :{}\".format(scoresME))"
   ],
   "metadata": {
    "collapsed": false,
    "pycharm": {
     "name": "#%%\n"
    }
   }
  },
  {
   "cell_type": "code",
   "execution_count": 7,
   "outputs": [],
   "source": [
    "def modelRandomForestRegressor():\n",
    "    # the other way of doing the same thing (more explicit)\n",
    "    from sklearn import linear_model, tree, ensemble\n",
    "    lm = ensemble.RandomForestRegressor()\n",
    "    lm.fit(X, y)\n",
    "    rfe = RFE(lm, n_features_to_select=6)\n",
    "    rfe = rfe.fit(X, y)\n",
    "\n",
    "    # create a KFold object with 5 splits\n",
    "    folds = KFold(n_splits = 20, shuffle = True, random_state = 100)\n",
    "    print (\"\\nResultados do modelo Random Forest Regressor\\n\")\n",
    "    scoresR2 = cross_val_score(lm, X, y, scoring='r2', cv=folds)\n",
    "    print(\"\\nResultado do r2 :{}\".format(scoresR2))\n",
    "    scoresNMSE = cross_val_score(lm, X, y, scoring='neg_mean_squared_error', cv=folds)\n",
    "    print(\"\\nResultado do NMSE :{}\".format(scoresNMSE))\n",
    "    scoresME = cross_val_score(lm, X, y, scoring='max_error', cv=folds)\n",
    "    print(\"\\nResultado do ME :{}\".format(scoresME))"
   ],
   "metadata": {
    "collapsed": false,
    "pycharm": {
     "name": "#%%\n"
    }
   }
  },
  {
   "cell_type": "code",
   "execution_count": 8,
   "outputs": [],
   "source": [
    "def modelDecisionTreeRegressor():\n",
    "    from sklearn import linear_model, tree, ensemble\n",
    "\n",
    "    # the other way of doing the same thing (more explicit)\n",
    "    lm = tree.DecisionTreeRegressor()\n",
    "    lm.fit(X, y)\n",
    "    rfe = RFE(lm, n_features_to_select=6)\n",
    "    rfe = rfe.fit(X, y)\n",
    "\n",
    "    # create a KFold object with 5 splits\n",
    "    folds = KFold(n_splits = 20, shuffle = True, random_state = 100)\n",
    "    print (\"\\nResultados do modelo Decision Tree Regressor\\n\")\n",
    "    scoresR2 = cross_val_score(lm, X, y, scoring='r2', cv=folds)\n",
    "    print(\"\\nResultado do r2 :{}\".format(scoresR2))\n",
    "    scoresNMSE = cross_val_score(lm, X, y, scoring='neg_mean_squared_error', cv=folds)\n",
    "    print(\"\\nResultado do NMSE :{}\".format(scoresNMSE))\n",
    "    scoresME = cross_val_score(lm, X, y, scoring='max_error', cv=folds)\n",
    "    print(\"\\nResultado do ME :{}\".format(scoresME))\n",
    "    filename = 'modelo_final-kf.sav'\n",
    "    joblib.dump(lm, open(filename, 'wb'))\n"
   ],
   "metadata": {
    "collapsed": false,
    "pycharm": {
     "name": "#%%\n"
    }
   }
  },
  {
   "cell_type": "code",
   "execution_count": 9,
   "outputs": [
    {
     "name": "stdout",
     "output_type": "stream",
     "text": [
      "Resultados do modelo Linear Regression\n",
      "\n",
      "\n",
      "Resultado do r2 :[0.05969749 0.04838249 0.0830501  0.06107574 0.05899927 0.06390341\n",
      " 0.06454815 0.05614907 0.04965345 0.07288673 0.05691575 0.05690892\n",
      " 0.05799665 0.07612536 0.04434285 0.06782187 0.04492739 0.06093386\n",
      " 0.0664866  0.06183301]\n",
      "\n",
      "Resultado do NMSE :[-0.22870469 -0.22923178 -0.22362562 -0.22905115 -0.22859039 -0.22849265\n",
      " -0.22773268 -0.22921055 -0.23107649 -0.22728536 -0.23228499 -0.23061448\n",
      " -0.22653675 -0.22691455 -0.23322868 -0.22668803 -0.23416563 -0.22734002\n",
      " -0.22672986 -0.2314267 ]\n",
      "\n",
      "Resultado do ME :[-0.94716466 -0.95992393 -0.90725178 -0.92636637 -0.91849732 -0.92385873\n",
      " -0.88218965 -0.93205092 -0.97957271 -0.93186525 -0.94163633 -1.01523991\n",
      " -0.94467574 -0.89813819 -0.92777997 -0.90520902 -0.97148034 -0.98342307\n",
      " -0.94709358 -0.93196262]\n",
      "\n",
      "Resultados do modelo Decision Tree Regressor\n",
      "\n",
      "\n",
      "Resultado do r2 :[-0.82666296 -0.81942553 -0.82249777 -0.8495004  -0.88325776 -0.85854347\n",
      " -0.94375377 -0.79950922 -0.9359402  -0.86435115 -0.85510349 -0.80823234\n",
      " -0.91855255 -0.77252122 -0.84605929 -0.86736195 -0.90756315 -0.88731253\n",
      " -0.91557474 -0.83430138]\n",
      "\n",
      "Resultado do NMSE :[-0.45404798 -0.43175495 -0.446418   -0.44967505 -0.45341643 -0.44426892\n",
      " -0.4650372  -0.4534468  -0.46059796 -0.44986006 -0.44576698 -0.44226303\n",
      " -0.45820518 -0.43061281 -0.44856572 -0.45204003 -0.45576647 -0.4563385\n",
      " -0.45055544 -0.44963128]\n",
      "\n",
      "Resultado do ME :[-1. -1. -1. -1. -1. -1. -1. -1. -1. -1. -1. -1. -1. -1. -1. -1. -1. -1.\n",
      " -1. -1.]\n"
     ]
    }
   ],
   "source": [
    "modelLinearRegression()\n",
    "modelDecisionTreeRegressor()\n",
    "#modelRandomForestRegressor() não chega a correr fica em loop no modelo de cima"
   ],
   "metadata": {
    "collapsed": false,
    "pycharm": {
     "name": "#%%\n"
    }
   }
  },
  {
   "cell_type": "code",
   "execution_count": 10,
   "outputs": [
    {
     "data": {
      "text/plain": "   t1_all_total5_fl_match_win  t1_all_total5_fl_match_draw  \\\n0                           3                            0   \n\n   t1_all_total5_fl_match_lost  t1_all_total10_fl_match_win  \\\n0                            2                            6   \n\n   t1_all_total10_fl_match_draw  t1_all_total10_fl_match_lost  \\\n0                             1                             3   \n\n   t2_all_total5_fl_match_win  t2_all_total5_fl_match_draw  \\\n0                           0                            4   \n\n   t2_all_total5_fl_match_lost  t2_all_total10_fl_match_win  ...  \\\n0                            1                            2  ...   \n\n   t2_away_total5_fl_match_lost  t2_away_total10_fl_match_win  \\\n0                             0                             2   \n\n   t2_away_total10_fl_match_draw  t2_away_total10_fl_match_lost  \\\n0                              4                              0   \n\n   t1_h2h_total5_fl_match_win  t1_h2h_total5_fl_match_draw  \\\n0                           0                            0   \n\n   t1_h2h_total5_fl_match_lost  t1_h2h_total10_fl_match_win  \\\n0                            0                            0   \n\n   t1_h2h_total10_fl_match_draw  t1_h2h_total10_fl_match_lost  \n0                             0                             0  \n\n[1 rows x 30 columns]",
      "text/html": "<div>\n<style scoped>\n    .dataframe tbody tr th:only-of-type {\n        vertical-align: middle;\n    }\n\n    .dataframe tbody tr th {\n        vertical-align: top;\n    }\n\n    .dataframe thead th {\n        text-align: right;\n    }\n</style>\n<table border=\"1\" class=\"dataframe\">\n  <thead>\n    <tr style=\"text-align: right;\">\n      <th></th>\n      <th>t1_all_total5_fl_match_win</th>\n      <th>t1_all_total5_fl_match_draw</th>\n      <th>t1_all_total5_fl_match_lost</th>\n      <th>t1_all_total10_fl_match_win</th>\n      <th>t1_all_total10_fl_match_draw</th>\n      <th>t1_all_total10_fl_match_lost</th>\n      <th>t2_all_total5_fl_match_win</th>\n      <th>t2_all_total5_fl_match_draw</th>\n      <th>t2_all_total5_fl_match_lost</th>\n      <th>t2_all_total10_fl_match_win</th>\n      <th>...</th>\n      <th>t2_away_total5_fl_match_lost</th>\n      <th>t2_away_total10_fl_match_win</th>\n      <th>t2_away_total10_fl_match_draw</th>\n      <th>t2_away_total10_fl_match_lost</th>\n      <th>t1_h2h_total5_fl_match_win</th>\n      <th>t1_h2h_total5_fl_match_draw</th>\n      <th>t1_h2h_total5_fl_match_lost</th>\n      <th>t1_h2h_total10_fl_match_win</th>\n      <th>t1_h2h_total10_fl_match_draw</th>\n      <th>t1_h2h_total10_fl_match_lost</th>\n    </tr>\n  </thead>\n  <tbody>\n    <tr>\n      <th>0</th>\n      <td>3</td>\n      <td>0</td>\n      <td>2</td>\n      <td>6</td>\n      <td>1</td>\n      <td>3</td>\n      <td>0</td>\n      <td>4</td>\n      <td>1</td>\n      <td>2</td>\n      <td>...</td>\n      <td>0</td>\n      <td>2</td>\n      <td>4</td>\n      <td>0</td>\n      <td>0</td>\n      <td>0</td>\n      <td>0</td>\n      <td>0</td>\n      <td>0</td>\n      <td>0</td>\n    </tr>\n  </tbody>\n</table>\n<p>1 rows × 30 columns</p>\n</div>"
     },
     "execution_count": 10,
     "metadata": {},
     "output_type": "execute_result"
    }
   ],
   "source": [
    "# load the model from disk\n",
    "filename = 'modelo_final-kf.sav'\n",
    "loaded_model = joblib.load(open(filename, 'rb'))\n",
    "# novo registo a prever\n",
    "dNew = pd.read_csv('../files/t1_win_Sample.csv')\n",
    "dNew = dNew.drop('t1_fl_match_win', axis=1)   #Remover o campo vitoria\n",
    "dNew.head(2)     #Mostra as primeiras n linhas do conjunto de dados   Display the first n rows of the dataset"
   ],
   "metadata": {
    "collapsed": false,
    "pycharm": {
     "name": "#%%\n"
    }
   }
  },
  {
   "cell_type": "code",
   "execution_count": 11,
   "outputs": [
    {
     "name": "stdout",
     "output_type": "stream",
     "text": [
      "Equipa da casa perde\n"
     ]
    }
   ],
   "source": [
    "#Fazer uma previsão com o novo registo\n",
    "yNew = pd.Series(loaded_model.predict(dNew))\n",
    "if yNew[0] == 0:\n",
    "  print(\"Equipa da casa perde\")\n",
    "else:\n",
    "  print(\"Equipa da casa ganha\")"
   ],
   "metadata": {
    "collapsed": false,
    "pycharm": {
     "name": "#%%\n"
    }
   }
  }
 ],
 "metadata": {
  "kernelspec": {
   "display_name": "Python 3",
   "language": "python",
   "name": "python3"
  },
  "language_info": {
   "codemirror_mode": {
    "name": "ipython",
    "version": 2
   },
   "file_extension": ".py",
   "mimetype": "text/x-python",
   "name": "python",
   "nbconvert_exporter": "python",
   "pygments_lexer": "ipython2",
   "version": "2.7.6"
  }
 },
 "nbformat": 4,
 "nbformat_minor": 0
}