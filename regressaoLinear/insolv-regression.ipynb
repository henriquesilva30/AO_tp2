{
 "cells": [
  {
   "cell_type": "code",
   "execution_count": 8,
   "metadata": {
    "collapsed": true,
    "pycharm": {
     "name": "#%%\n"
    }
   },
   "outputs": [],
   "source": [
    "import numpy as np\n",
    "import pandas as pd\n",
    "import matplotlib.pyplot as plt\n",
    "import seaborn as sns\n",
    "import re\n",
    "import joblib\n",
    "import sklearn\n",
    "from sklearn.model_selection import train_test_split\n",
    "from sklearn.preprocessing import MinMaxScaler\n",
    "from sklearn.preprocessing import PolynomialFeatures\n",
    "from sklearn.preprocessing import scale\n",
    "from sklearn.feature_selection import RFE\n",
    "from sklearn.linear_model import LinearRegression\n",
    "from sklearn.model_selection import cross_val_score, cross_val_predict, cross_validate\n",
    "from sklearn.model_selection import KFold\n",
    "from sklearn.model_selection import GridSearchCV\n",
    "from sklearn.pipeline import make_pipeline"
   ]
  },
  {
   "cell_type": "code",
   "execution_count": 9,
   "outputs": [
    {
     "name": "stdout",
     "output_type": "stream",
     "text": [
      "Shape of input data: (43823, 49) and shape of target variable: (43823,)\n"
     ]
    },
    {
     "data": {
      "text/plain": "   id_match_competition  t1_all_total5_fl_match_win  \\\n0                  8910                           0   \n1                  8910                           0   \n2                  8910                           0   \n3                  8910                           0   \n4                  8910                           0   \n\n   t1_all_total5_fl_match_draw  t1_all_total5_fl_match_lost  \\\n0                            0                            0   \n1                            0                            0   \n2                            0                            0   \n3                            0                            0   \n4                            0                            0   \n\n   t1_all_total10_fl_match_win  t1_all_total10_fl_match_draw  \\\n0                            0                             0   \n1                            0                             0   \n2                            0                             0   \n3                            0                             0   \n4                            0                             0   \n\n   t1_all_total10_fl_match_lost  t2_all_total5_fl_match_win  \\\n0                             0                           0   \n1                             0                           0   \n2                             0                           0   \n3                             0                           0   \n4                             0                           0   \n\n   t2_all_total5_fl_match_draw  t2_all_total5_fl_match_lost  ...  \\\n0                            0                            0  ...   \n1                            0                            0  ...   \n2                            0                            0  ...   \n3                            0                            0  ...   \n4                            0                            0  ...   \n\n   t1_h2h_home_total5_fl_match_lost  t1_h2h_home_total10_fl_match_win  \\\n0                                 0                                 0   \n1                                 0                                 0   \n2                                 0                                 0   \n3                                 0                                 0   \n4                                 0                                 0   \n\n   t1_h2h_home_total10_fl_match_draw  t1_h2h_home_total10_fl_match_lost  \\\n0                                  0                                  0   \n1                                  0                                  0   \n2                                  0                                  0   \n3                                  0                                  0   \n4                                  0                                  0   \n\n   t2_h2h_away_total5_fl_match_win  t2_h2h_away_total5_fl_match_draw  \\\n0                                0                                 0   \n1                                0                                 0   \n2                                0                                 0   \n3                                0                                 0   \n4                                0                                 0   \n\n   t2_h2h_away_total5_fl_match_lost  t2_h2h_away_total10_fl_match_win  \\\n0                                 0                                 0   \n1                                 0                                 0   \n2                                 0                                 0   \n3                                 0                                 0   \n4                                 0                                 0   \n\n   t2_h2h_away_total10_fl_match_draw  t2_h2h_away_total10_fl_match_lost  \n0                                  0                                  0  \n1                                  0                                  0  \n2                                  0                                  0  \n3                                  0                                  0  \n4                                  0                                  0  \n\n[5 rows x 49 columns]",
      "text/html": "<div>\n<style scoped>\n    .dataframe tbody tr th:only-of-type {\n        vertical-align: middle;\n    }\n\n    .dataframe tbody tr th {\n        vertical-align: top;\n    }\n\n    .dataframe thead th {\n        text-align: right;\n    }\n</style>\n<table border=\"1\" class=\"dataframe\">\n  <thead>\n    <tr style=\"text-align: right;\">\n      <th></th>\n      <th>id_match_competition</th>\n      <th>t1_all_total5_fl_match_win</th>\n      <th>t1_all_total5_fl_match_draw</th>\n      <th>t1_all_total5_fl_match_lost</th>\n      <th>t1_all_total10_fl_match_win</th>\n      <th>t1_all_total10_fl_match_draw</th>\n      <th>t1_all_total10_fl_match_lost</th>\n      <th>t2_all_total5_fl_match_win</th>\n      <th>t2_all_total5_fl_match_draw</th>\n      <th>t2_all_total5_fl_match_lost</th>\n      <th>...</th>\n      <th>t1_h2h_home_total5_fl_match_lost</th>\n      <th>t1_h2h_home_total10_fl_match_win</th>\n      <th>t1_h2h_home_total10_fl_match_draw</th>\n      <th>t1_h2h_home_total10_fl_match_lost</th>\n      <th>t2_h2h_away_total5_fl_match_win</th>\n      <th>t2_h2h_away_total5_fl_match_draw</th>\n      <th>t2_h2h_away_total5_fl_match_lost</th>\n      <th>t2_h2h_away_total10_fl_match_win</th>\n      <th>t2_h2h_away_total10_fl_match_draw</th>\n      <th>t2_h2h_away_total10_fl_match_lost</th>\n    </tr>\n  </thead>\n  <tbody>\n    <tr>\n      <th>0</th>\n      <td>8910</td>\n      <td>0</td>\n      <td>0</td>\n      <td>0</td>\n      <td>0</td>\n      <td>0</td>\n      <td>0</td>\n      <td>0</td>\n      <td>0</td>\n      <td>0</td>\n      <td>...</td>\n      <td>0</td>\n      <td>0</td>\n      <td>0</td>\n      <td>0</td>\n      <td>0</td>\n      <td>0</td>\n      <td>0</td>\n      <td>0</td>\n      <td>0</td>\n      <td>0</td>\n    </tr>\n    <tr>\n      <th>1</th>\n      <td>8910</td>\n      <td>0</td>\n      <td>0</td>\n      <td>0</td>\n      <td>0</td>\n      <td>0</td>\n      <td>0</td>\n      <td>0</td>\n      <td>0</td>\n      <td>0</td>\n      <td>...</td>\n      <td>0</td>\n      <td>0</td>\n      <td>0</td>\n      <td>0</td>\n      <td>0</td>\n      <td>0</td>\n      <td>0</td>\n      <td>0</td>\n      <td>0</td>\n      <td>0</td>\n    </tr>\n    <tr>\n      <th>2</th>\n      <td>8910</td>\n      <td>0</td>\n      <td>0</td>\n      <td>0</td>\n      <td>0</td>\n      <td>0</td>\n      <td>0</td>\n      <td>0</td>\n      <td>0</td>\n      <td>0</td>\n      <td>...</td>\n      <td>0</td>\n      <td>0</td>\n      <td>0</td>\n      <td>0</td>\n      <td>0</td>\n      <td>0</td>\n      <td>0</td>\n      <td>0</td>\n      <td>0</td>\n      <td>0</td>\n    </tr>\n    <tr>\n      <th>3</th>\n      <td>8910</td>\n      <td>0</td>\n      <td>0</td>\n      <td>0</td>\n      <td>0</td>\n      <td>0</td>\n      <td>0</td>\n      <td>0</td>\n      <td>0</td>\n      <td>0</td>\n      <td>...</td>\n      <td>0</td>\n      <td>0</td>\n      <td>0</td>\n      <td>0</td>\n      <td>0</td>\n      <td>0</td>\n      <td>0</td>\n      <td>0</td>\n      <td>0</td>\n      <td>0</td>\n    </tr>\n    <tr>\n      <th>4</th>\n      <td>8910</td>\n      <td>0</td>\n      <td>0</td>\n      <td>0</td>\n      <td>0</td>\n      <td>0</td>\n      <td>0</td>\n      <td>0</td>\n      <td>0</td>\n      <td>0</td>\n      <td>...</td>\n      <td>0</td>\n      <td>0</td>\n      <td>0</td>\n      <td>0</td>\n      <td>0</td>\n      <td>0</td>\n      <td>0</td>\n      <td>0</td>\n      <td>0</td>\n      <td>0</td>\n    </tr>\n  </tbody>\n</table>\n<p>5 rows × 49 columns</p>\n</div>"
     },
     "execution_count": 9,
     "metadata": {},
     "output_type": "execute_result"
    }
   ],
   "source": [
    "train_data = pd.read_csv('View_data_nullZero.csv')\n",
    "\n",
    "# Remove rows with missing target values\n",
    "train_data.dropna(axis=0, subset=['t1_fl_match_win'], inplace=True)\n",
    "y = train_data.t1_fl_match_win # Target variable\n",
    "train_data.drop(['t1_fl_match_win'], axis=1, inplace=True) # Removing target variable from training data\n",
    "\n",
    "\n",
    "# Select numeric columns only\n",
    "numeric_cols = [cname for cname in train_data.columns if train_data[cname].dtype in ['int64', 'float64']]\n",
    "X = train_data[numeric_cols].copy()\n",
    "\n",
    "print(\"Shape of input data: {} and shape of target variable: {}\".format(X.shape, y.shape))\n",
    "\n",
    "X.head() # Show first 5 training examples"
   ],
   "metadata": {
    "collapsed": false,
    "pycharm": {
     "name": "#%%\n"
    }
   }
  },
  {
   "cell_type": "code",
   "execution_count": 10,
   "outputs": [],
   "source": [
    "def modelLinearRegression():\n",
    "\n",
    "    # the other way of doing the same thing (more explicit)\n",
    "    lm = LinearRegression()\n",
    "    lm.fit(X, y)\n",
    "    rfe = RFE(lm, n_features_to_select=6)\n",
    "    rfe = rfe.fit(X, y)\n",
    "\n",
    "    # create a KFold object with 5 splits\n",
    "    folds = KFold(n_splits = 20, shuffle = True, random_state = 100)\n",
    "    print (\"Resultados do modelo Linear Regression\\n\")\n",
    "    scoresR2 = cross_val_score(lm, X, y, scoring='r2', cv=folds)\n",
    "    print(\"\\nResultado do r2 :{}\".format(scoresR2))\n",
    "    scoresNMSE = cross_val_score(lm, X, y, scoring='neg_mean_squared_error', cv=folds)\n",
    "    print(\"\\nResultado do NMSE :{}\".format(scoresNMSE))\n",
    "    scoresME = cross_val_score(lm, X, y, scoring='max_error', cv=folds)\n",
    "    print(\"\\nResultado do ME :{}\".format(scoresME))"
   ],
   "metadata": {
    "collapsed": false,
    "pycharm": {
     "name": "#%%\n"
    }
   }
  },
  {
   "cell_type": "code",
   "execution_count": 11,
   "outputs": [],
   "source": [
    "def modelRandomForestRegressor():\n",
    "    # the other way of doing the same thing (more explicit)\n",
    "    from sklearn import linear_model, tree, ensemble\n",
    "    lm = ensemble.RandomForestRegressor()\n",
    "    lm.fit(X, y)\n",
    "    rfe = RFE(lm, n_features_to_select=6)\n",
    "    rfe = rfe.fit(X, y)\n",
    "\n",
    "    # create a KFold object with 5 splits\n",
    "    folds = KFold(n_splits = 20, shuffle = True, random_state = 100)\n",
    "    print (\"\\nResultados do modelo Random Forest Regressor\\n\")\n",
    "    scoresR2 = cross_val_score(lm, X, y, scoring='r2', cv=folds)\n",
    "    print(\"\\nResultado do r2 :{}\".format(scoresR2))\n",
    "    scoresNMSE = cross_val_score(lm, X, y, scoring='neg_mean_squared_error', cv=folds)\n",
    "    print(\"\\nResultado do NMSE :{}\".format(scoresNMSE))\n",
    "    scoresME = cross_val_score(lm, X, y, scoring='max_error', cv=folds)\n",
    "    print(\"\\nResultado do ME :{}\".format(scoresME))"
   ],
   "metadata": {
    "collapsed": false,
    "pycharm": {
     "name": "#%%\n"
    }
   }
  },
  {
   "cell_type": "code",
   "execution_count": 12,
   "outputs": [],
   "source": [
    "def modelDecisionTreeRegressor():\n",
    "    from sklearn import linear_model, tree, ensemble\n",
    "\n",
    "    # the other way of doing the same thing (more explicit)\n",
    "    lm = tree.DecisionTreeRegressor()\n",
    "    lm.fit(X, y)\n",
    "    rfe = RFE(lm, n_features_to_select=6)\n",
    "    rfe = rfe.fit(X, y)\n",
    "\n",
    "    # create a KFold object with 5 splits\n",
    "    folds = KFold(n_splits = 20, shuffle = True, random_state = 100)\n",
    "    print (\"\\nResultados do modelo Decision Tree Regressor\\n\")\n",
    "    scoresR2 = cross_val_score(lm, X, y, scoring='r2', cv=folds)\n",
    "    print(\"\\nResultado do r2 :{}\".format(scoresR2))\n",
    "    scoresNMSE = cross_val_score(lm, X, y, scoring='neg_mean_squared_error', cv=folds)\n",
    "    print(\"\\nResultado do NMSE :{}\".format(scoresNMSE))\n",
    "    scoresME = cross_val_score(lm, X, y, scoring='max_error', cv=folds)\n",
    "    print(\"\\nResultado do ME :{}\".format(scoresME))\n",
    "    filename = 'modelo_final-kf.sav'\n",
    "    joblib.dump(lm, open(filename, 'wb'))\n"
   ],
   "metadata": {
    "collapsed": false,
    "pycharm": {
     "name": "#%%\n"
    }
   }
  },
  {
   "cell_type": "code",
   "execution_count": 13,
   "outputs": [
    {
     "name": "stdout",
     "output_type": "stream",
     "text": [
      "Resultados do modelo Linear Regression\n",
      "\n",
      "\n",
      "Resultado do r2 :[0.05556662 0.05700194 0.06703828 0.06956073 0.07043157 0.07110507\n",
      " 0.05288159 0.05391133 0.05732672 0.05936354 0.0586067  0.05729002\n",
      " 0.05079548 0.07963323 0.04270014 0.07186515 0.04311359 0.06166924\n",
      " 0.06825859 0.06017104]\n",
      "\n",
      "Resultado do NMSE :[-0.23132492 -0.22967019 -0.2285151  -0.22894537 -0.22740387 -0.22612726\n",
      " -0.23049329 -0.22719895 -0.23054653 -0.22891582 -0.23295385 -0.22746491\n",
      " -0.22715708 -0.22662336 -0.23304207 -0.22471954 -0.23433953 -0.2255052\n",
      " -0.22661174 -0.2317245 ]\n",
      "\n",
      "Resultado do ME :[-0.93495796 -0.95048809 -0.90188645 -0.94471345 -0.95834157 -0.936553\n",
      " -0.89435468 -1.02067837 -0.9494592  -0.90870755 -0.93443964 -0.92236509\n",
      " -0.97494936 -0.89697772 -0.94080846 -0.92558327 -0.98533653 -1.00908148\n",
      " -0.94873926 -0.93084087]\n",
      "\n",
      "Resultados do modelo Decision Tree Regressor\n",
      "\n",
      "\n",
      "Resultado do r2 :[-0.8873442  -0.88587469 -0.9043563  -0.82678861 -0.87330628 -0.83716768\n",
      " -0.87430984 -0.93075597 -0.87374236 -0.83536264 -0.87307124 -0.91406347\n",
      " -0.88550784 -0.87601045 -0.86660652 -0.84427275 -0.90690208 -0.90737434\n",
      " -0.89962196 -0.82641258]\n",
      "\n",
      "Resultado do NMSE :[-0.46387362 -0.45531903 -0.46678592 -0.45109996 -0.45496508 -0.43779869\n",
      " -0.46458073 -0.46240726 -0.46259098 -0.45658577 -0.46761128 -0.46400912\n",
      " -0.46571783 -0.46364456 -0.45313301 -0.45212543 -0.47703751 -0.45382736\n",
      " -0.46737585 -0.44655542]\n",
      "\n",
      "Resultado do ME :[-1. -1. -1. -1. -1. -1. -1. -1. -1. -1. -1. -1. -1. -1. -1. -1. -1. -1.\n",
      " -1. -1.]\n"
     ]
    }
   ],
   "source": [
    "modelLinearRegression()\n",
    "modelDecisionTreeRegressor()\n",
    "#modelRandomForestRegressor() não chega a correr fica em loop no modelo de cima"
   ],
   "metadata": {
    "collapsed": false,
    "pycharm": {
     "name": "#%%\n"
    }
   }
  },
  {
   "cell_type": "code",
   "execution_count": 14,
   "outputs": [
    {
     "data": {
      "text/plain": "   id_match_competition  t1_all_total5_fl_match_win  \\\n0                   328                           5   \n\n   t1_all_total5_fl_match_draw  t1_all_total5_fl_match_lost  \\\n0                            0                            0   \n\n   t1_all_total10_fl_match_win  t1_all_total10_fl_match_draw  \\\n0                            6                             2   \n\n   t1_all_total10_fl_match_lost  t2_all_total5_fl_match_win  \\\n0                             0                           0   \n\n   t2_all_total5_fl_match_draw  t2_all_total5_fl_match_lost  ...  \\\n0                            0                            4  ...   \n\n   t1_h2h_home_total5_fl_match_lost  t1_h2h_home_total10_fl_match_win  \\\n0                                 0                                 4   \n\n   t1_h2h_home_total10_fl_match_draw  t1_h2h_home_total10_fl_match_lost  \\\n0                                  0                                  0   \n\n   t2_h2h_away_total5_fl_match_win  t2_h2h_away_total5_fl_match_draw  \\\n0                                0                                 0   \n\n   t2_h2h_away_total5_fl_match_lost  t2_h2h_away_total10_fl_match_win  \\\n0                                 2                                 0   \n\n   t2_h2h_away_total10_fl_match_draw  t2_h2h_away_total10_fl_match_lost  \n0                                  0                                  4  \n\n[1 rows x 49 columns]",
      "text/html": "<div>\n<style scoped>\n    .dataframe tbody tr th:only-of-type {\n        vertical-align: middle;\n    }\n\n    .dataframe tbody tr th {\n        vertical-align: top;\n    }\n\n    .dataframe thead th {\n        text-align: right;\n    }\n</style>\n<table border=\"1\" class=\"dataframe\">\n  <thead>\n    <tr style=\"text-align: right;\">\n      <th></th>\n      <th>id_match_competition</th>\n      <th>t1_all_total5_fl_match_win</th>\n      <th>t1_all_total5_fl_match_draw</th>\n      <th>t1_all_total5_fl_match_lost</th>\n      <th>t1_all_total10_fl_match_win</th>\n      <th>t1_all_total10_fl_match_draw</th>\n      <th>t1_all_total10_fl_match_lost</th>\n      <th>t2_all_total5_fl_match_win</th>\n      <th>t2_all_total5_fl_match_draw</th>\n      <th>t2_all_total5_fl_match_lost</th>\n      <th>...</th>\n      <th>t1_h2h_home_total5_fl_match_lost</th>\n      <th>t1_h2h_home_total10_fl_match_win</th>\n      <th>t1_h2h_home_total10_fl_match_draw</th>\n      <th>t1_h2h_home_total10_fl_match_lost</th>\n      <th>t2_h2h_away_total5_fl_match_win</th>\n      <th>t2_h2h_away_total5_fl_match_draw</th>\n      <th>t2_h2h_away_total5_fl_match_lost</th>\n      <th>t2_h2h_away_total10_fl_match_win</th>\n      <th>t2_h2h_away_total10_fl_match_draw</th>\n      <th>t2_h2h_away_total10_fl_match_lost</th>\n    </tr>\n  </thead>\n  <tbody>\n    <tr>\n      <th>0</th>\n      <td>328</td>\n      <td>5</td>\n      <td>0</td>\n      <td>0</td>\n      <td>6</td>\n      <td>2</td>\n      <td>0</td>\n      <td>0</td>\n      <td>0</td>\n      <td>4</td>\n      <td>...</td>\n      <td>0</td>\n      <td>4</td>\n      <td>0</td>\n      <td>0</td>\n      <td>0</td>\n      <td>0</td>\n      <td>2</td>\n      <td>0</td>\n      <td>0</td>\n      <td>4</td>\n    </tr>\n  </tbody>\n</table>\n<p>1 rows × 49 columns</p>\n</div>"
     },
     "execution_count": 14,
     "metadata": {},
     "output_type": "execute_result"
    }
   ],
   "source": [
    "# load the model from disk\n",
    "filename = 'modelo_final-kf.sav'\n",
    "loaded_model = joblib.load(open(filename, 'rb'))\n",
    "# novo registo a prever\n",
    "dNew = pd.read_csv('../files/data_sample_match_win.csv')\n",
    "dNew = dNew.drop('t1_fl_match_win', axis=1)   #Remover a tabela Insolvencia  #Remove the Insolvency table\n",
    "dNew.head(2)     #Mostra as primeiras n linhas do conjunto de dados   Display the first n rows of the dataset"
   ],
   "metadata": {
    "collapsed": false,
    "pycharm": {
     "name": "#%%\n"
    }
   }
  },
  {
   "cell_type": "code",
   "execution_count": 15,
   "outputs": [
    {
     "name": "stdout",
     "output_type": "stream",
     "text": [
      "Equipa da casa ganha\n"
     ]
    }
   ],
   "source": [
    "#Fazer uma previsão com o novo registo\n",
    "yNew = pd.Series(loaded_model.predict(dNew))\n",
    "if yNew[0] == 0:\n",
    "  print(\"Equipa da casa perde\")\n",
    "else:\n",
    "  print(\"Equipa da casa ganha\")"
   ],
   "metadata": {
    "collapsed": false,
    "pycharm": {
     "name": "#%%\n"
    }
   }
  }
 ],
 "metadata": {
  "kernelspec": {
   "display_name": "Python 3",
   "language": "python",
   "name": "python3"
  },
  "language_info": {
   "codemirror_mode": {
    "name": "ipython",
    "version": 2
   },
   "file_extension": ".py",
   "mimetype": "text/x-python",
   "name": "python",
   "nbconvert_exporter": "python",
   "pygments_lexer": "ipython2",
   "version": "2.7.6"
  }
 },
 "nbformat": 4,
 "nbformat_minor": 0
}