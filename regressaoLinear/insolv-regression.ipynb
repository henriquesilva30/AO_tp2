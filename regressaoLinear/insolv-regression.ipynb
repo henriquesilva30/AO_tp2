{
 "cells": [
  {
   "cell_type": "code",
   "execution_count": 16,
   "metadata": {
    "collapsed": true,
    "pycharm": {
     "name": "#%%\n"
    }
   },
   "outputs": [],
   "source": [
    "import numpy as np\n",
    "import pandas as pd\n",
    "import matplotlib.pyplot as plt\n",
    "import seaborn as sns\n",
    "import re\n",
    "import joblib\n",
    "import sklearn\n",
    "from sklearn.model_selection import train_test_split\n",
    "from sklearn.preprocessing import MinMaxScaler\n",
    "from sklearn.preprocessing import PolynomialFeatures\n",
    "from sklearn.preprocessing import scale\n",
    "from sklearn.feature_selection import RFE\n",
    "from sklearn.linear_model import LinearRegression\n",
    "from sklearn.model_selection import cross_val_score, cross_val_predict, cross_validate\n",
    "from sklearn.model_selection import KFold\n",
    "from sklearn.model_selection import GridSearchCV\n",
    "from sklearn.pipeline import make_pipeline"
   ]
  },
  {
   "cell_type": "code",
   "execution_count": 17,
   "outputs": [
    {
     "name": "stdout",
     "output_type": "stream",
     "text": [
      "Shape of input data: (44090, 30) and shape of target variable: (44090,)\n"
     ]
    },
    {
     "data": {
      "text/plain": "   t1_all_total5_fl_match_win  t1_all_total5_fl_match_draw  \\\n0                           0                            0   \n1                           0                            0   \n2                           0                            0   \n3                           0                            0   \n4                           0                            0   \n\n   t1_all_total5_fl_match_lost  t1_all_total10_fl_match_win  \\\n0                            0                            0   \n1                            0                            0   \n2                            0                            0   \n3                            0                            0   \n4                            0                            0   \n\n   t1_all_total10_fl_match_draw  t1_all_total10_fl_match_lost  \\\n0                             0                             0   \n1                             0                             0   \n2                             0                             0   \n3                             0                             0   \n4                             0                             0   \n\n   t2_all_total5_fl_match_win  t2_all_total5_fl_match_draw  \\\n0                           0                            0   \n1                           0                            0   \n2                           0                            0   \n3                           0                            0   \n4                           0                            0   \n\n   t2_all_total5_fl_match_lost  t2_all_total10_fl_match_win  ...  \\\n0                            0                            0  ...   \n1                            0                            0  ...   \n2                            0                            0  ...   \n3                            0                            0  ...   \n4                            0                            0  ...   \n\n   t2_away_total5_fl_match_lost  t2_away_total10_fl_match_win  \\\n0                             0                             0   \n1                             0                             0   \n2                             0                             0   \n3                             0                             0   \n4                             0                             0   \n\n   t2_away_total10_fl_match_draw  t2_away_total10_fl_match_lost  \\\n0                              0                              0   \n1                              0                              0   \n2                              0                              0   \n3                              0                              0   \n4                              0                              0   \n\n   t1_h2h_total5_fl_match_win  t1_h2h_total5_fl_match_draw  \\\n0                           0                            0   \n1                           0                            0   \n2                           0                            0   \n3                           0                            0   \n4                           0                            0   \n\n   t1_h2h_total5_fl_match_lost  t1_h2h_total10_fl_match_win  \\\n0                            0                            0   \n1                            0                            0   \n2                            0                            0   \n3                            0                            0   \n4                            0                            0   \n\n   t1_h2h_total10_fl_match_draw  t1_h2h_total10_fl_match_lost  \n0                             0                             0  \n1                             0                             0  \n2                             0                             0  \n3                             0                             0  \n4                             0                             0  \n\n[5 rows x 30 columns]",
      "text/html": "<div>\n<style scoped>\n    .dataframe tbody tr th:only-of-type {\n        vertical-align: middle;\n    }\n\n    .dataframe tbody tr th {\n        vertical-align: top;\n    }\n\n    .dataframe thead th {\n        text-align: right;\n    }\n</style>\n<table border=\"1\" class=\"dataframe\">\n  <thead>\n    <tr style=\"text-align: right;\">\n      <th></th>\n      <th>t1_all_total5_fl_match_win</th>\n      <th>t1_all_total5_fl_match_draw</th>\n      <th>t1_all_total5_fl_match_lost</th>\n      <th>t1_all_total10_fl_match_win</th>\n      <th>t1_all_total10_fl_match_draw</th>\n      <th>t1_all_total10_fl_match_lost</th>\n      <th>t2_all_total5_fl_match_win</th>\n      <th>t2_all_total5_fl_match_draw</th>\n      <th>t2_all_total5_fl_match_lost</th>\n      <th>t2_all_total10_fl_match_win</th>\n      <th>...</th>\n      <th>t2_away_total5_fl_match_lost</th>\n      <th>t2_away_total10_fl_match_win</th>\n      <th>t2_away_total10_fl_match_draw</th>\n      <th>t2_away_total10_fl_match_lost</th>\n      <th>t1_h2h_total5_fl_match_win</th>\n      <th>t1_h2h_total5_fl_match_draw</th>\n      <th>t1_h2h_total5_fl_match_lost</th>\n      <th>t1_h2h_total10_fl_match_win</th>\n      <th>t1_h2h_total10_fl_match_draw</th>\n      <th>t1_h2h_total10_fl_match_lost</th>\n    </tr>\n  </thead>\n  <tbody>\n    <tr>\n      <th>0</th>\n      <td>0</td>\n      <td>0</td>\n      <td>0</td>\n      <td>0</td>\n      <td>0</td>\n      <td>0</td>\n      <td>0</td>\n      <td>0</td>\n      <td>0</td>\n      <td>0</td>\n      <td>...</td>\n      <td>0</td>\n      <td>0</td>\n      <td>0</td>\n      <td>0</td>\n      <td>0</td>\n      <td>0</td>\n      <td>0</td>\n      <td>0</td>\n      <td>0</td>\n      <td>0</td>\n    </tr>\n    <tr>\n      <th>1</th>\n      <td>0</td>\n      <td>0</td>\n      <td>0</td>\n      <td>0</td>\n      <td>0</td>\n      <td>0</td>\n      <td>0</td>\n      <td>0</td>\n      <td>0</td>\n      <td>0</td>\n      <td>...</td>\n      <td>0</td>\n      <td>0</td>\n      <td>0</td>\n      <td>0</td>\n      <td>0</td>\n      <td>0</td>\n      <td>0</td>\n      <td>0</td>\n      <td>0</td>\n      <td>0</td>\n    </tr>\n    <tr>\n      <th>2</th>\n      <td>0</td>\n      <td>0</td>\n      <td>0</td>\n      <td>0</td>\n      <td>0</td>\n      <td>0</td>\n      <td>0</td>\n      <td>0</td>\n      <td>0</td>\n      <td>0</td>\n      <td>...</td>\n      <td>0</td>\n      <td>0</td>\n      <td>0</td>\n      <td>0</td>\n      <td>0</td>\n      <td>0</td>\n      <td>0</td>\n      <td>0</td>\n      <td>0</td>\n      <td>0</td>\n    </tr>\n    <tr>\n      <th>3</th>\n      <td>0</td>\n      <td>0</td>\n      <td>0</td>\n      <td>0</td>\n      <td>0</td>\n      <td>0</td>\n      <td>0</td>\n      <td>0</td>\n      <td>0</td>\n      <td>0</td>\n      <td>...</td>\n      <td>0</td>\n      <td>0</td>\n      <td>0</td>\n      <td>0</td>\n      <td>0</td>\n      <td>0</td>\n      <td>0</td>\n      <td>0</td>\n      <td>0</td>\n      <td>0</td>\n    </tr>\n    <tr>\n      <th>4</th>\n      <td>0</td>\n      <td>0</td>\n      <td>0</td>\n      <td>0</td>\n      <td>0</td>\n      <td>0</td>\n      <td>0</td>\n      <td>0</td>\n      <td>0</td>\n      <td>0</td>\n      <td>...</td>\n      <td>0</td>\n      <td>0</td>\n      <td>0</td>\n      <td>0</td>\n      <td>0</td>\n      <td>0</td>\n      <td>0</td>\n      <td>0</td>\n      <td>0</td>\n      <td>0</td>\n    </tr>\n  </tbody>\n</table>\n<p>5 rows × 30 columns</p>\n</div>"
     },
     "execution_count": 17,
     "metadata": {},
     "output_type": "execute_result"
    }
   ],
   "source": [
    "train_data = pd.read_csv('../files/t1_win_NullCorretion.csv')\n",
    "\n",
    "# Remove rows with missing target values\n",
    "train_data.dropna(axis=0, subset=['t1_fl_match_win'], inplace=True)\n",
    "y = train_data.t1_fl_match_win # Target variable\n",
    "train_data.drop(['t1_fl_match_win'], axis=1, inplace=True) # Removing target variable from training data\n",
    "\n",
    "\n",
    "# Select numeric columns only\n",
    "numeric_cols = [cname for cname in train_data.columns if train_data[cname].dtype in ['int64', 'float64']]\n",
    "X = train_data[numeric_cols].copy()\n",
    "\n",
    "print(\"Shape of input data: {} and shape of target variable: {}\".format(X.shape, y.shape))\n",
    "\n",
    "X.head() # Show first 5 training examples"
   ],
   "metadata": {
    "collapsed": false,
    "pycharm": {
     "name": "#%%\n"
    }
   }
  },
  {
   "cell_type": "code",
   "execution_count": 18,
   "outputs": [],
   "source": [
    "def modelLinearRegression():\n",
    "\n",
    "    # the other way of doing the same thing (more explicit)\n",
    "    lm = LinearRegression()\n",
    "    lm.fit(X, y)\n",
    "    rfe = RFE(lm, n_features_to_select=6)\n",
    "    rfe = rfe.fit(X, y)\n",
    "\n",
    "    # create a KFold object with 20 splits\n",
    "    folds = KFold(n_splits = 20, shuffle = True, random_state = 100)\n",
    "    print (\"Resultados do modelo Linear Regression\\n\")\n",
    "    scoresR2 = cross_validate(lm, X, y, scoring=['r2','neg_mean_squared_error','max_error'], cv=folds)\n",
    "    print(\"Metrics : \", scoresR2)\n",
    "\n"
   ],
   "metadata": {
    "collapsed": false,
    "pycharm": {
     "name": "#%%\n"
    }
   }
  },
  {
   "cell_type": "code",
   "execution_count": 19,
   "outputs": [],
   "source": [
    "def modelRandomForestRegressor():\n",
    "    # the other way of doing the same thing (more explicit)\n",
    "    from sklearn import linear_model, tree, ensemble\n",
    "    lm = ensemble.RandomForestRegressor()\n",
    "    lm.fit(X, y)\n",
    "    rfe = RFE(lm, n_features_to_select=6)\n",
    "    rfe = rfe.fit(X, y)\n",
    "\n",
    "    # create a KFold object with 5 splits\n",
    "    folds = KFold(n_splits = 20, shuffle = True, random_state = 100)\n",
    "    print (\"\\nResultados do modelo Random Forest Regressor\\n\")\n",
    "    scoresR2 = cross_validate(lm, X, y, scoring=['r2','neg_mean_squared_error','max_error'], cv=folds)\n",
    "    print(\"Metrics : \", scoresR2)\n"
   ],
   "metadata": {
    "collapsed": false,
    "pycharm": {
     "name": "#%%\n"
    }
   }
  },
  {
   "cell_type": "code",
   "execution_count": 20,
   "outputs": [],
   "source": [
    "def modelDecisionTreeRegressor():\n",
    "    from sklearn import linear_model, tree, ensemble\n",
    "\n",
    "    # the other way of doing the same thing (more explicit)\n",
    "    lm = tree.DecisionTreeRegressor()\n",
    "    lm.fit(X, y)\n",
    "    rfe = RFE(lm, n_features_to_select=6)\n",
    "    rfe = rfe.fit(X, y)\n",
    "\n",
    "    # create a KFold object with 5 splits\n",
    "    folds = KFold(n_splits = 20, shuffle = True, random_state = 100)\n",
    "    print (\"\\nResultados do modelo Decision Tree Regressor\\n\")\n",
    "    scoresR2 = cross_validate(lm, X, y, scoring=['r2','neg_mean_squared_error','max_error'], cv=folds)\n",
    "    print(\"Metrics : \", scoresR2)\n",
    "    filename = 'modelo_final-kf.sav'\n",
    "    joblib.dump(lm, open(filename, 'wb'))\n"
   ],
   "metadata": {
    "collapsed": false,
    "pycharm": {
     "name": "#%%\n"
    }
   }
  },
  {
   "cell_type": "code",
   "execution_count": 21,
   "outputs": [
    {
     "name": "stdout",
     "output_type": "stream",
     "text": [
      "Resultados do modelo Linear Regression\n",
      "\n",
      "Metrics :  {'fit_time': array([0.05200028, 0.04799986, 0.05100179, 0.04699898, 0.05099773,\n",
      "       0.0539999 , 0.04500222, 0.04999924, 0.05199862, 0.048002  ,\n",
      "       0.05000281, 0.04900026, 0.0527935 , 0.06399894, 0.06213236,\n",
      "       0.05199671, 0.05299926, 0.05700111, 0.05299926, 0.13500094]), 'score_time': array([0.00300002, 0.00399899, 0.00200033, 0.00300312, 0.00299931,\n",
      "       0.0019989 , 0.00300002, 0.00400305, 0.00299954, 0.00299907,\n",
      "       0.00299883, 0.00300169, 0.00299954, 0.00252151, 0.00251698,\n",
      "       0.00300002, 0.00400186, 0.00399756, 0.0039978 , 0.00299978]), 'test_r2': array([0.0596363 , 0.04836825, 0.08306296, 0.06115538, 0.05897221,\n",
      "       0.0638402 , 0.06458955, 0.05613249, 0.04962635, 0.07291467,\n",
      "       0.05683938, 0.05685243, 0.0580411 , 0.07613269, 0.04427901,\n",
      "       0.06782379, 0.04495537, 0.06101434, 0.0666734 , 0.06183431]), 'test_neg_mean_squared_error': array([-0.22871957, -0.22923521, -0.22362248, -0.22903172, -0.22859697,\n",
      "       -0.22850808, -0.2277226 , -0.22921458, -0.23108308, -0.22727851,\n",
      "       -0.2323038 , -0.23062829, -0.22652606, -0.22691275, -0.23324426,\n",
      "       -0.22668756, -0.23415877, -0.22732054, -0.22668449, -0.23142638]), 'test_max_error': array([-0.94748442, -0.9599697 , -0.90723395, -0.92635685, -0.91840246,\n",
      "       -0.92382409, -0.8821377 , -0.93212137, -0.97970953, -0.93182249,\n",
      "       -0.94164099, -1.01550766, -0.94463378, -0.89809579, -0.92808577,\n",
      "       -0.90531083, -0.97144848, -0.98333461, -0.94709732, -0.93191991])}\n",
      "\n",
      "Resultados do modelo Decision Tree Regressor\n",
      "\n",
      "Metrics :  {'fit_time': array([0.53696084, 0.5369997 , 0.54758477, 0.57251835, 0.53271699,\n",
      "       0.56669331, 0.53105664, 0.51890135, 0.51807785, 0.73161936,\n",
      "       0.67651582, 0.70212007, 0.60300064, 0.67374587, 0.59999967,\n",
      "       0.57700038, 0.83099747, 0.78899908, 0.86400747, 0.80500078]), 'score_time': array([0.00405359, 0.00400186, 0.00400066, 0.00300288, 0.00300193,\n",
      "       0.00396323, 0.00301027, 0.00300097, 0.00295615, 0.00400138,\n",
      "       0.00399852, 0.00300097, 0.00300193, 0.00299978, 0.00300026,\n",
      "       0.00500131, 0.00600433, 0.0049994 , 0.0070014 , 0.00500059]), 'test_r2': array([-0.83105075, -0.82142786, -0.83274038, -0.80702901, -0.86372969,\n",
      "       -0.81822623, -0.92962637, -0.82584691, -0.91715707, -0.83680138,\n",
      "       -0.82453042, -0.80845875, -0.9253739 , -0.76925557, -0.8351641 ,\n",
      "       -0.88427706, -0.89994842, -0.89362894, -0.87225263, -0.85133367]), 'test_neg_mean_squared_error': array([-0.44535656, -0.43875731, -0.44696848, -0.44082584, -0.45274216,\n",
      "       -0.44381245, -0.4697612 , -0.44339987, -0.4661562 , -0.45029887,\n",
      "       -0.44938829, -0.44222322, -0.46302165, -0.43455012, -0.44787286,\n",
      "       -0.45822041, -0.4658312 , -0.45843165, -0.45472895, -0.45668634]), 'test_max_error': array([-1., -1., -1., -1., -1., -1., -1., -1., -1., -1., -1., -1., -1.,\n",
      "       -1., -1., -1., -1., -1., -1., -1.])}\n"
     ]
    }
   ],
   "source": [
    "modelLinearRegression()\n",
    "modelDecisionTreeRegressor()\n",
    "#modelRandomForestRegressor() não chega a correr fica em loop no modelo de cima"
   ],
   "metadata": {
    "collapsed": false,
    "pycharm": {
     "name": "#%%\n"
    }
   }
  },
  {
   "cell_type": "code",
   "execution_count": 22,
   "outputs": [
    {
     "data": {
      "text/plain": "   t1_all_total5_fl_match_win  t1_all_total5_fl_match_draw  \\\n0                           3                            0   \n\n   t1_all_total5_fl_match_lost  t1_all_total10_fl_match_win  \\\n0                            2                            6   \n\n   t1_all_total10_fl_match_draw  t1_all_total10_fl_match_lost  \\\n0                             1                             3   \n\n   t2_all_total5_fl_match_win  t2_all_total5_fl_match_draw  \\\n0                           0                            4   \n\n   t2_all_total5_fl_match_lost  t2_all_total10_fl_match_win  ...  \\\n0                            1                            2  ...   \n\n   t2_away_total5_fl_match_lost  t2_away_total10_fl_match_win  \\\n0                             0                             2   \n\n   t2_away_total10_fl_match_draw  t2_away_total10_fl_match_lost  \\\n0                              4                              0   \n\n   t1_h2h_total5_fl_match_win  t1_h2h_total5_fl_match_draw  \\\n0                           0                            0   \n\n   t1_h2h_total5_fl_match_lost  t1_h2h_total10_fl_match_win  \\\n0                            0                            0   \n\n   t1_h2h_total10_fl_match_draw  t1_h2h_total10_fl_match_lost  \n0                             0                             0  \n\n[1 rows x 30 columns]",
      "text/html": "<div>\n<style scoped>\n    .dataframe tbody tr th:only-of-type {\n        vertical-align: middle;\n    }\n\n    .dataframe tbody tr th {\n        vertical-align: top;\n    }\n\n    .dataframe thead th {\n        text-align: right;\n    }\n</style>\n<table border=\"1\" class=\"dataframe\">\n  <thead>\n    <tr style=\"text-align: right;\">\n      <th></th>\n      <th>t1_all_total5_fl_match_win</th>\n      <th>t1_all_total5_fl_match_draw</th>\n      <th>t1_all_total5_fl_match_lost</th>\n      <th>t1_all_total10_fl_match_win</th>\n      <th>t1_all_total10_fl_match_draw</th>\n      <th>t1_all_total10_fl_match_lost</th>\n      <th>t2_all_total5_fl_match_win</th>\n      <th>t2_all_total5_fl_match_draw</th>\n      <th>t2_all_total5_fl_match_lost</th>\n      <th>t2_all_total10_fl_match_win</th>\n      <th>...</th>\n      <th>t2_away_total5_fl_match_lost</th>\n      <th>t2_away_total10_fl_match_win</th>\n      <th>t2_away_total10_fl_match_draw</th>\n      <th>t2_away_total10_fl_match_lost</th>\n      <th>t1_h2h_total5_fl_match_win</th>\n      <th>t1_h2h_total5_fl_match_draw</th>\n      <th>t1_h2h_total5_fl_match_lost</th>\n      <th>t1_h2h_total10_fl_match_win</th>\n      <th>t1_h2h_total10_fl_match_draw</th>\n      <th>t1_h2h_total10_fl_match_lost</th>\n    </tr>\n  </thead>\n  <tbody>\n    <tr>\n      <th>0</th>\n      <td>3</td>\n      <td>0</td>\n      <td>2</td>\n      <td>6</td>\n      <td>1</td>\n      <td>3</td>\n      <td>0</td>\n      <td>4</td>\n      <td>1</td>\n      <td>2</td>\n      <td>...</td>\n      <td>0</td>\n      <td>2</td>\n      <td>4</td>\n      <td>0</td>\n      <td>0</td>\n      <td>0</td>\n      <td>0</td>\n      <td>0</td>\n      <td>0</td>\n      <td>0</td>\n    </tr>\n  </tbody>\n</table>\n<p>1 rows × 30 columns</p>\n</div>"
     },
     "execution_count": 22,
     "metadata": {},
     "output_type": "execute_result"
    }
   ],
   "source": [
    "# load the model from disk\n",
    "filename = 'modelo_final-kf.sav'\n",
    "loaded_model = joblib.load(open(filename, 'rb'))\n",
    "# novo registo a prever\n",
    "dNew = pd.read_csv('../files/t1_win_Sample.csv')\n",
    "dNew = dNew.drop('t1_fl_match_win', axis=1)   #Remover o campo vitoria\n",
    "dNew.head(2)     #Mostra as primeiras n linhas do conjunto de dados   Display the first n rows of the dataset"
   ],
   "metadata": {
    "collapsed": false,
    "pycharm": {
     "name": "#%%\n"
    }
   }
  },
  {
   "cell_type": "code",
   "execution_count": 23,
   "outputs": [
    {
     "name": "stdout",
     "output_type": "stream",
     "text": [
      "Equipa da casa perde\n"
     ]
    }
   ],
   "source": [
    "#Fazer uma previsão com o novo registo\n",
    "yNew = pd.Series(loaded_model.predict(dNew))\n",
    "if yNew[0] == 0:\n",
    "  print(\"Equipa da casa perde\")\n",
    "else:\n",
    "  print(\"Equipa da casa ganha\")"
   ],
   "metadata": {
    "collapsed": false,
    "pycharm": {
     "name": "#%%\n"
    }
   }
  }
 ],
 "metadata": {
  "kernelspec": {
   "display_name": "Python 3",
   "language": "python",
   "name": "python3"
  },
  "language_info": {
   "codemirror_mode": {
    "name": "ipython",
    "version": 2
   },
   "file_extension": ".py",
   "mimetype": "text/x-python",
   "name": "python",
   "nbconvert_exporter": "python",
   "pygments_lexer": "ipython2",
   "version": "2.7.6"
  }
 },
 "nbformat": 4,
 "nbformat_minor": 0
}