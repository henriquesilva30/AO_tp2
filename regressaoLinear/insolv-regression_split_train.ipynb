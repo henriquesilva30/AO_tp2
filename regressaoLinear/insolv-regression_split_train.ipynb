{
 "cells": [
  {
   "cell_type": "code",
   "execution_count": 27,
   "metadata": {
    "collapsed": true,
    "pycharm": {
     "name": "#%%\n"
    }
   },
   "outputs": [],
   "source": [
    "import pandas as pd\n",
    "import numpy as np\n",
    "from sklearn.linear_model import LinearRegression\n",
    "from sklearn.model_selection import train_test_split\n",
    "from sklearn.model_selection import KFold, StratifiedKFold, cross_val_score\n",
    "from sklearn.metrics import mean_absolute_error, mean_squared_error,max_error,median_absolute_error\n",
    "from sklearn import linear_model, tree, ensemble\n",
    "import joblib\n"
   ]
  },
  {
   "cell_type": "code",
   "execution_count": 28,
   "outputs": [
    {
     "name": "stdout",
     "output_type": "stream",
     "text": [
      "Shape of input data: (44090, 30) and shape of target variable: (44090,)\n"
     ]
    },
    {
     "data": {
      "text/plain": "   t1_all_total5_fl_match_win  t1_all_total5_fl_match_draw  \\\n0                           0                            0   \n1                           0                            0   \n2                           0                            0   \n3                           0                            0   \n4                           0                            0   \n\n   t1_all_total5_fl_match_lost  t1_all_total10_fl_match_win  \\\n0                            0                            0   \n1                            0                            0   \n2                            0                            0   \n3                            0                            0   \n4                            0                            0   \n\n   t1_all_total10_fl_match_draw  t1_all_total10_fl_match_lost  \\\n0                             0                             0   \n1                             0                             0   \n2                             0                             0   \n3                             0                             0   \n4                             0                             0   \n\n   t2_all_total5_fl_match_win  t2_all_total5_fl_match_draw  \\\n0                           0                            0   \n1                           0                            0   \n2                           0                            0   \n3                           0                            0   \n4                           0                            0   \n\n   t2_all_total5_fl_match_lost  t2_all_total10_fl_match_win  ...  \\\n0                            0                            0  ...   \n1                            0                            0  ...   \n2                            0                            0  ...   \n3                            0                            0  ...   \n4                            0                            0  ...   \n\n   t2_away_total5_fl_match_lost  t2_away_total10_fl_match_win  \\\n0                             0                             0   \n1                             0                             0   \n2                             0                             0   \n3                             0                             0   \n4                             0                             0   \n\n   t2_away_total10_fl_match_draw  t2_away_total10_fl_match_lost  \\\n0                              0                              0   \n1                              0                              0   \n2                              0                              0   \n3                              0                              0   \n4                              0                              0   \n\n   t1_h2h_total5_fl_match_win  t1_h2h_total5_fl_match_draw  \\\n0                           0                            0   \n1                           0                            0   \n2                           0                            0   \n3                           0                            0   \n4                           0                            0   \n\n   t1_h2h_total5_fl_match_lost  t1_h2h_total10_fl_match_win  \\\n0                            0                            0   \n1                            0                            0   \n2                            0                            0   \n3                            0                            0   \n4                            0                            0   \n\n   t1_h2h_total10_fl_match_draw  t1_h2h_total10_fl_match_lost  \n0                             0                             0  \n1                             0                             0  \n2                             0                             0  \n3                             0                             0  \n4                             0                             0  \n\n[5 rows x 30 columns]",
      "text/html": "<div>\n<style scoped>\n    .dataframe tbody tr th:only-of-type {\n        vertical-align: middle;\n    }\n\n    .dataframe tbody tr th {\n        vertical-align: top;\n    }\n\n    .dataframe thead th {\n        text-align: right;\n    }\n</style>\n<table border=\"1\" class=\"dataframe\">\n  <thead>\n    <tr style=\"text-align: right;\">\n      <th></th>\n      <th>t1_all_total5_fl_match_win</th>\n      <th>t1_all_total5_fl_match_draw</th>\n      <th>t1_all_total5_fl_match_lost</th>\n      <th>t1_all_total10_fl_match_win</th>\n      <th>t1_all_total10_fl_match_draw</th>\n      <th>t1_all_total10_fl_match_lost</th>\n      <th>t2_all_total5_fl_match_win</th>\n      <th>t2_all_total5_fl_match_draw</th>\n      <th>t2_all_total5_fl_match_lost</th>\n      <th>t2_all_total10_fl_match_win</th>\n      <th>...</th>\n      <th>t2_away_total5_fl_match_lost</th>\n      <th>t2_away_total10_fl_match_win</th>\n      <th>t2_away_total10_fl_match_draw</th>\n      <th>t2_away_total10_fl_match_lost</th>\n      <th>t1_h2h_total5_fl_match_win</th>\n      <th>t1_h2h_total5_fl_match_draw</th>\n      <th>t1_h2h_total5_fl_match_lost</th>\n      <th>t1_h2h_total10_fl_match_win</th>\n      <th>t1_h2h_total10_fl_match_draw</th>\n      <th>t1_h2h_total10_fl_match_lost</th>\n    </tr>\n  </thead>\n  <tbody>\n    <tr>\n      <th>0</th>\n      <td>0</td>\n      <td>0</td>\n      <td>0</td>\n      <td>0</td>\n      <td>0</td>\n      <td>0</td>\n      <td>0</td>\n      <td>0</td>\n      <td>0</td>\n      <td>0</td>\n      <td>...</td>\n      <td>0</td>\n      <td>0</td>\n      <td>0</td>\n      <td>0</td>\n      <td>0</td>\n      <td>0</td>\n      <td>0</td>\n      <td>0</td>\n      <td>0</td>\n      <td>0</td>\n    </tr>\n    <tr>\n      <th>1</th>\n      <td>0</td>\n      <td>0</td>\n      <td>0</td>\n      <td>0</td>\n      <td>0</td>\n      <td>0</td>\n      <td>0</td>\n      <td>0</td>\n      <td>0</td>\n      <td>0</td>\n      <td>...</td>\n      <td>0</td>\n      <td>0</td>\n      <td>0</td>\n      <td>0</td>\n      <td>0</td>\n      <td>0</td>\n      <td>0</td>\n      <td>0</td>\n      <td>0</td>\n      <td>0</td>\n    </tr>\n    <tr>\n      <th>2</th>\n      <td>0</td>\n      <td>0</td>\n      <td>0</td>\n      <td>0</td>\n      <td>0</td>\n      <td>0</td>\n      <td>0</td>\n      <td>0</td>\n      <td>0</td>\n      <td>0</td>\n      <td>...</td>\n      <td>0</td>\n      <td>0</td>\n      <td>0</td>\n      <td>0</td>\n      <td>0</td>\n      <td>0</td>\n      <td>0</td>\n      <td>0</td>\n      <td>0</td>\n      <td>0</td>\n    </tr>\n    <tr>\n      <th>3</th>\n      <td>0</td>\n      <td>0</td>\n      <td>0</td>\n      <td>0</td>\n      <td>0</td>\n      <td>0</td>\n      <td>0</td>\n      <td>0</td>\n      <td>0</td>\n      <td>0</td>\n      <td>...</td>\n      <td>0</td>\n      <td>0</td>\n      <td>0</td>\n      <td>0</td>\n      <td>0</td>\n      <td>0</td>\n      <td>0</td>\n      <td>0</td>\n      <td>0</td>\n      <td>0</td>\n    </tr>\n    <tr>\n      <th>4</th>\n      <td>0</td>\n      <td>0</td>\n      <td>0</td>\n      <td>0</td>\n      <td>0</td>\n      <td>0</td>\n      <td>0</td>\n      <td>0</td>\n      <td>0</td>\n      <td>0</td>\n      <td>...</td>\n      <td>0</td>\n      <td>0</td>\n      <td>0</td>\n      <td>0</td>\n      <td>0</td>\n      <td>0</td>\n      <td>0</td>\n      <td>0</td>\n      <td>0</td>\n      <td>0</td>\n    </tr>\n  </tbody>\n</table>\n<p>5 rows × 30 columns</p>\n</div>"
     },
     "execution_count": 28,
     "metadata": {},
     "output_type": "execute_result"
    }
   ],
   "source": [
    "train_data = pd.read_csv('../files/t1_win_NullCorretion.csv')\n",
    "\n",
    "# Remove rows with missing target values\n",
    "train_data.dropna(axis=0, subset=['t1_fl_match_win'], inplace=True)\n",
    "y = train_data.t1_fl_match_win # Target variable\n",
    "train_data.drop(['t1_fl_match_win'], axis=1, inplace=True) # Removing target variable from training data\n",
    "\n",
    "\n",
    "# Select numeric columns only\n",
    "numeric_cols = [cname for cname in train_data.columns if train_data[cname].dtype in ['int64', 'float64']]\n",
    "X = train_data[numeric_cols].copy()\n",
    "\n",
    "print(\"Shape of input data: {} and shape of target variable: {}\".format(X.shape, y.shape))\n",
    "\n",
    "X.head() # Show first 5 training examples"
   ],
   "metadata": {
    "collapsed": false,
    "pycharm": {
     "name": "#%%\n"
    }
   }
  },
  {
   "cell_type": "code",
   "execution_count": 29,
   "outputs": [],
   "source": [
    "def RandomForestRegressor():\n",
    "    # fit the model\n",
    "    data = {}\n",
    "    model = ensemble.RandomForestRegressor(random_state=1)\n",
    "    model.fit(X_train, y_train )\n",
    "    # make predictions\n",
    "    yhat = model.predict(X_test)\n",
    "    # evaluate predictions\n",
    "    score = [mean_absolute_error(y_test, yhat),mean_squared_error(y_test, yhat),median_absolute_error(y_test, yhat),max_error(y_test, yhat)]\n",
    "    print (\"Resultados do modelo Random Forest Regressor\")\n",
    "    print('Test size {:.2f}'.format(a))\n",
    "    data['Test_size']='{:.2f}'.format(a)\n",
    "    data['Modelo']= 'Random Forest Regressor'\n",
    "    print(\"MeanAE - MSE - MedinAE - ME\", score)\n",
    "    data['MeanAE - MSE - MedinAE - ME'] = score\n",
    "    jsonString = json.dumps(data)\n",
    "    jsonFile.write(jsonString+\",\\n\")\n",
    "\n",
    "    filename = 'modelo_final-split_train.sav'\n",
    "    joblib.dump(model, open(filename, 'wb'))"
   ],
   "metadata": {
    "collapsed": false,
    "pycharm": {
     "name": "#%%\n"
    }
   }
  },
  {
   "cell_type": "code",
   "execution_count": 30,
   "outputs": [],
   "source": [
    "def DecisionTreeRegressor():\n",
    "    model = tree.DecisionTreeRegressor(random_state=1)\n",
    "    model.fit(X_train, y_train)\n",
    "    yhat = model.predict(X_test)\n",
    "    # evaluate predictions\n",
    "    score = [mean_absolute_error(y_test, yhat),mean_squared_error(y_test, yhat),median_absolute_error(y_test, yhat),max_error(y_test, yhat)]\n",
    "    data = {}\n",
    "    print (\"Resultados do modelo  Decision Tree Regressor\")\n",
    "    print('Test size {:.2f}'.format(a))\n",
    "    data['Test_size']='{:.2f}'.format(a)\n",
    "    data['Modelo']= 'Decision Tree Regressor'\n",
    "    print(\"MeanAE - MSE - MedinAE - ME\", score)\n",
    "    data['MeanAE - MSE - MedinAE - ME'] = score\n",
    "    jsonString = json.dumps(data)\n",
    "    jsonFile.write(jsonString+\",\\n\")\n"
   ],
   "metadata": {
    "collapsed": false,
    "pycharm": {
     "name": "#%%\n"
    }
   }
  },
  {
   "cell_type": "code",
   "execution_count": 31,
   "outputs": [],
   "source": [
    "def LinearRegression():\n",
    "    model = LinearRegression()\n",
    "    model.fit(X_train, y_train)\n",
    "    yhat = model.predict(X_test)\n",
    "    # evaluate predictions\n",
    "    score = [mean_absolute_error(y_test, yhat),mean_squared_error(y_test, yhat),median_absolute_error(y_test, yhat),max_error(y_test, yhat)]\n",
    "    data = {}\n",
    "    print (\"Resultados do modelo  Linear Regression\")\n",
    "    print('Test size {:.2f}'.format(a))\n",
    "    data['Test_size']='{:.2f}'.format(a)\n",
    "    data['Modelo']= 'Linear Regression'\n",
    "    print(\"MeanAE - MSE - MedinAE - ME\", score)\n",
    "    data['MeanAE - MSE - MedinAE - ME'] = score\n",
    "    jsonString = json.dumps(data)\n",
    "    jsonFile.write(jsonString+\",\\n\")"
   ],
   "metadata": {
    "collapsed": false,
    "pycharm": {
     "name": "#%%\n"
    }
   }
  },
  {
   "cell_type": "code",
   "execution_count": 32,
   "outputs": [
    {
     "name": "stdout",
     "output_type": "stream",
     "text": [
      "Resultados do modelo  Decision Tree Regressor\n",
      "Test size 0.10\n",
      "MeanAE - MSE - MedinAE - ME [0.4601932857522734, 0.45264229011049034, 0.0, 1.0]\n",
      "Resultados do modelo Random Forest Regressor\n",
      "Test size 0.10\n",
      "MeanAE - MSE - MedinAE - ME [0.46240908003343206, 0.23999894870852104, 0.46, 0.9933333333333333]\n",
      "Resultados do modelo  Decision Tree Regressor\n",
      "Test size 0.15\n",
      "MeanAE - MSE - MedinAE - ME [0.45589431384585205, 0.44890711462077937, 0.0, 1.0]\n",
      "Resultados do modelo Random Forest Regressor\n",
      "Test size 0.15\n",
      "MeanAE - MSE - MedinAE - ME [0.46231174680688686, 0.2399484283362091, 0.46, 1.0]\n",
      "Resultados do modelo  Decision Tree Regressor\n",
      "Test size 0.20\n",
      "MeanAE - MSE - MedinAE - ME [0.469158674855904, 0.46203834769663427, 0.0, 1.0]\n",
      "Resultados do modelo Random Forest Regressor\n",
      "Test size 0.20\n",
      "MeanAE - MSE - MedinAE - ME [0.46355121628817125, 0.2415212397732155, 0.46, 1.0]\n",
      "Resultados do modelo  Decision Tree Regressor\n",
      "Test size 0.25\n",
      "MeanAE - MSE - MedinAE - ME [0.4695856596217339, 0.4629657189426268, 0.0, 1.0]\n",
      "Resultados do modelo Random Forest Regressor\n",
      "Test size 0.25\n",
      "MeanAE - MSE - MedinAE - ME [0.46348383511369673, 0.24184315351200636, 0.46, 1.0]\n",
      "Resultados do modelo  Decision Tree Regressor\n",
      "Test size 0.30\n",
      "MeanAE - MSE - MedinAE - ME [0.46641494836852815, 0.4597664489107363, 0.0, 1.0]\n",
      "Resultados do modelo Random Forest Regressor\n",
      "Test size 0.30\n",
      "MeanAE - MSE - MedinAE - ME [0.4631061385246732, 0.24142738165870134, 0.46, 1.0]\n",
      "Resultados do modelo  Decision Tree Regressor\n",
      "Test size 0.35\n",
      "MeanAE - MSE - MedinAE - ME [0.4663094952093781, 0.45979549695322025, 0.0, 1.0]\n",
      "Resultados do modelo Random Forest Regressor\n",
      "Test size 0.35\n",
      "MeanAE - MSE - MedinAE - ME [0.4625863977737122, 0.24099863219586792, 0.46, 1.0]\n",
      "Resultados do modelo  Decision Tree Regressor\n",
      "Test size 0.40\n",
      "MeanAE - MSE - MedinAE - ME [0.4612930645943107, 0.4550961377469176, 0.0, 1.0]\n",
      "Resultados do modelo Random Forest Regressor\n",
      "Test size 0.40\n",
      "MeanAE - MSE - MedinAE - ME [0.46175518966818563, 0.23979651593204934, 0.45999999999999996, 0.99]\n",
      "Resultados do modelo  Decision Tree Regressor\n",
      "Test size 0.45\n",
      "MeanAE - MSE - MedinAE - ME [0.45853720444752694, 0.45235675856264423, 0.0, 1.0]\n",
      "Resultados do modelo Random Forest Regressor\n",
      "Test size 0.45\n",
      "MeanAE - MSE - MedinAE - ME [0.46092244793057924, 0.23914802206951338, 0.45999999999999996, 0.9917582417582418]\n",
      "Resultados do modelo  Decision Tree Regressor\n",
      "Test size 0.50\n",
      "MeanAE - MSE - MedinAE - ME [0.4563717851430718, 0.45014290516929295, 0.0, 1.0]\n",
      "Resultados do modelo Random Forest Regressor\n",
      "Test size 0.50\n",
      "MeanAE - MSE - MedinAE - ME [0.4614646889209456, 0.23942557488904576, 0.45999999999999996, 1.0]\n"
     ]
    }
   ],
   "source": [
    "import json\n",
    "jsonFile = open(\"regression-split-train.json\", \"w\")\n",
    "jsonTxt = ''\n",
    "jsonFile.write('[')\n",
    "\n",
    "a = 0.10\n",
    "while a < 0.50:\n",
    "    X_train, X_test, y_train, y_test = train_test_split(X, y, test_size=a, random_state=18)\n",
    "    DecisionTreeRegressor()\n",
    "    RandomForestRegressor()\n",
    "    #LinearRegression() erro\n",
    "    a +=0.05\n",
    "jsonFile.write(']')\n",
    "jsonFile.close()"
   ],
   "metadata": {
    "collapsed": false,
    "pycharm": {
     "name": "#%%\n"
    }
   }
  },
  {
   "cell_type": "code",
   "execution_count": 33,
   "outputs": [
    {
     "data": {
      "text/plain": "   t1_all_total5_fl_match_win  t1_all_total5_fl_match_draw  \\\n0                           3                            0   \n\n   t1_all_total5_fl_match_lost  t1_all_total10_fl_match_win  \\\n0                            2                            6   \n\n   t1_all_total10_fl_match_draw  t1_all_total10_fl_match_lost  \\\n0                             1                             3   \n\n   t2_all_total5_fl_match_win  t2_all_total5_fl_match_draw  \\\n0                           0                            4   \n\n   t2_all_total5_fl_match_lost  t2_all_total10_fl_match_win  ...  \\\n0                            1                            2  ...   \n\n   t2_away_total5_fl_match_lost  t2_away_total10_fl_match_win  \\\n0                             0                             2   \n\n   t2_away_total10_fl_match_draw  t2_away_total10_fl_match_lost  \\\n0                              4                              0   \n\n   t1_h2h_total5_fl_match_win  t1_h2h_total5_fl_match_draw  \\\n0                           0                            0   \n\n   t1_h2h_total5_fl_match_lost  t1_h2h_total10_fl_match_win  \\\n0                            0                            0   \n\n   t1_h2h_total10_fl_match_draw  t1_h2h_total10_fl_match_lost  \n0                             0                             0  \n\n[1 rows x 30 columns]",
      "text/html": "<div>\n<style scoped>\n    .dataframe tbody tr th:only-of-type {\n        vertical-align: middle;\n    }\n\n    .dataframe tbody tr th {\n        vertical-align: top;\n    }\n\n    .dataframe thead th {\n        text-align: right;\n    }\n</style>\n<table border=\"1\" class=\"dataframe\">\n  <thead>\n    <tr style=\"text-align: right;\">\n      <th></th>\n      <th>t1_all_total5_fl_match_win</th>\n      <th>t1_all_total5_fl_match_draw</th>\n      <th>t1_all_total5_fl_match_lost</th>\n      <th>t1_all_total10_fl_match_win</th>\n      <th>t1_all_total10_fl_match_draw</th>\n      <th>t1_all_total10_fl_match_lost</th>\n      <th>t2_all_total5_fl_match_win</th>\n      <th>t2_all_total5_fl_match_draw</th>\n      <th>t2_all_total5_fl_match_lost</th>\n      <th>t2_all_total10_fl_match_win</th>\n      <th>...</th>\n      <th>t2_away_total5_fl_match_lost</th>\n      <th>t2_away_total10_fl_match_win</th>\n      <th>t2_away_total10_fl_match_draw</th>\n      <th>t2_away_total10_fl_match_lost</th>\n      <th>t1_h2h_total5_fl_match_win</th>\n      <th>t1_h2h_total5_fl_match_draw</th>\n      <th>t1_h2h_total5_fl_match_lost</th>\n      <th>t1_h2h_total10_fl_match_win</th>\n      <th>t1_h2h_total10_fl_match_draw</th>\n      <th>t1_h2h_total10_fl_match_lost</th>\n    </tr>\n  </thead>\n  <tbody>\n    <tr>\n      <th>0</th>\n      <td>3</td>\n      <td>0</td>\n      <td>2</td>\n      <td>6</td>\n      <td>1</td>\n      <td>3</td>\n      <td>0</td>\n      <td>4</td>\n      <td>1</td>\n      <td>2</td>\n      <td>...</td>\n      <td>0</td>\n      <td>2</td>\n      <td>4</td>\n      <td>0</td>\n      <td>0</td>\n      <td>0</td>\n      <td>0</td>\n      <td>0</td>\n      <td>0</td>\n      <td>0</td>\n    </tr>\n  </tbody>\n</table>\n<p>1 rows × 30 columns</p>\n</div>"
     },
     "execution_count": 33,
     "metadata": {},
     "output_type": "execute_result"
    }
   ],
   "source": [
    "# load the model from disk\n",
    "filename = 'modelo_final-split_train.sav'\n",
    "loaded_model = joblib.load(open(filename, 'rb'))\n",
    "# novo registo a prever\n",
    "dNew = pd.read_csv('../files/t1_win_Sample.csv')\n",
    "dNew = dNew.drop('t1_fl_match_win', axis=1)   #Remover o campo vitoria\n",
    "dNew.head(2)     #Mostra as primeiras n linhas do conjunto de dados   Display the first n rows of the dataset\n"
   ],
   "metadata": {
    "collapsed": false,
    "pycharm": {
     "name": "#%%\n"
    }
   }
  },
  {
   "cell_type": "code",
   "execution_count": 34,
   "outputs": [
    {
     "name": "stdout",
     "output_type": "stream",
     "text": [
      "Equipa da casa ganha\n"
     ]
    }
   ],
   "source": [
    "#Fazer uma previsão com o novo registo\n",
    "yNew = pd.Series(loaded_model.predict(dNew))\n",
    "if yNew[0] == 0:\n",
    "  print(\"Equipa da casa perde\")\n",
    "else:\n",
    "  print(\"Equipa da casa ganha\")"
   ],
   "metadata": {
    "collapsed": false,
    "pycharm": {
     "name": "#%%\n"
    }
   }
  }
 ],
 "metadata": {
  "kernelspec": {
   "display_name": "Python 3",
   "language": "python",
   "name": "python3"
  },
  "language_info": {
   "codemirror_mode": {
    "name": "ipython",
    "version": 2
   },
   "file_extension": ".py",
   "mimetype": "text/x-python",
   "name": "python",
   "nbconvert_exporter": "python",
   "pygments_lexer": "ipython2",
   "version": "2.7.6"
  }
 },
 "nbformat": 4,
 "nbformat_minor": 0
}