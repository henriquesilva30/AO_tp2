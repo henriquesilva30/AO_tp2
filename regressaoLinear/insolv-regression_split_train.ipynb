{
 "cells": [
  {
   "cell_type": "code",
   "execution_count": 1,
   "metadata": {
    "collapsed": true,
    "pycharm": {
     "name": "#%%\n"
    }
   },
   "outputs": [],
   "source": [
    "import pandas as pd\n",
    "import numpy as np\n",
    "from sklearn.linear_model import LinearRegression\n",
    "from sklearn.model_selection import train_test_split\n",
    "from sklearn.model_selection import KFold, StratifiedKFold, cross_val_score\n",
    "from sklearn.metrics import mean_absolute_error, mean_squared_error,max_error,median_absolute_error\n",
    "from sklearn import linear_model, tree, ensemble"
   ]
  },
  {
   "cell_type": "code",
   "execution_count": 2,
   "outputs": [
    {
     "name": "stdout",
     "output_type": "stream",
     "text": [
      "Shape of input data: (43823, 49) and shape of target variable: (43823,)\n"
     ]
    },
    {
     "data": {
      "text/plain": "   id_match_competition  t1_all_total5_fl_match_win  \\\n0                  8910                           0   \n1                  8910                           0   \n2                  8910                           0   \n3                  8910                           0   \n4                  8910                           0   \n\n   t1_all_total5_fl_match_draw  t1_all_total5_fl_match_lost  \\\n0                            0                            0   \n1                            0                            0   \n2                            0                            0   \n3                            0                            0   \n4                            0                            0   \n\n   t1_all_total10_fl_match_win  t1_all_total10_fl_match_draw  \\\n0                            0                             0   \n1                            0                             0   \n2                            0                             0   \n3                            0                             0   \n4                            0                             0   \n\n   t1_all_total10_fl_match_lost  t2_all_total5_fl_match_win  \\\n0                             0                           0   \n1                             0                           0   \n2                             0                           0   \n3                             0                           0   \n4                             0                           0   \n\n   t2_all_total5_fl_match_draw  t2_all_total5_fl_match_lost  ...  \\\n0                            0                            0  ...   \n1                            0                            0  ...   \n2                            0                            0  ...   \n3                            0                            0  ...   \n4                            0                            0  ...   \n\n   t1_h2h_home_total5_fl_match_lost  t1_h2h_home_total10_fl_match_win  \\\n0                                 0                                 0   \n1                                 0                                 0   \n2                                 0                                 0   \n3                                 0                                 0   \n4                                 0                                 0   \n\n   t1_h2h_home_total10_fl_match_draw  t1_h2h_home_total10_fl_match_lost  \\\n0                                  0                                  0   \n1                                  0                                  0   \n2                                  0                                  0   \n3                                  0                                  0   \n4                                  0                                  0   \n\n   t2_h2h_away_total5_fl_match_win  t2_h2h_away_total5_fl_match_draw  \\\n0                                0                                 0   \n1                                0                                 0   \n2                                0                                 0   \n3                                0                                 0   \n4                                0                                 0   \n\n   t2_h2h_away_total5_fl_match_lost  t2_h2h_away_total10_fl_match_win  \\\n0                                 0                                 0   \n1                                 0                                 0   \n2                                 0                                 0   \n3                                 0                                 0   \n4                                 0                                 0   \n\n   t2_h2h_away_total10_fl_match_draw  t2_h2h_away_total10_fl_match_lost  \n0                                  0                                  0  \n1                                  0                                  0  \n2                                  0                                  0  \n3                                  0                                  0  \n4                                  0                                  0  \n\n[5 rows x 49 columns]",
      "text/html": "<div>\n<style scoped>\n    .dataframe tbody tr th:only-of-type {\n        vertical-align: middle;\n    }\n\n    .dataframe tbody tr th {\n        vertical-align: top;\n    }\n\n    .dataframe thead th {\n        text-align: right;\n    }\n</style>\n<table border=\"1\" class=\"dataframe\">\n  <thead>\n    <tr style=\"text-align: right;\">\n      <th></th>\n      <th>id_match_competition</th>\n      <th>t1_all_total5_fl_match_win</th>\n      <th>t1_all_total5_fl_match_draw</th>\n      <th>t1_all_total5_fl_match_lost</th>\n      <th>t1_all_total10_fl_match_win</th>\n      <th>t1_all_total10_fl_match_draw</th>\n      <th>t1_all_total10_fl_match_lost</th>\n      <th>t2_all_total5_fl_match_win</th>\n      <th>t2_all_total5_fl_match_draw</th>\n      <th>t2_all_total5_fl_match_lost</th>\n      <th>...</th>\n      <th>t1_h2h_home_total5_fl_match_lost</th>\n      <th>t1_h2h_home_total10_fl_match_win</th>\n      <th>t1_h2h_home_total10_fl_match_draw</th>\n      <th>t1_h2h_home_total10_fl_match_lost</th>\n      <th>t2_h2h_away_total5_fl_match_win</th>\n      <th>t2_h2h_away_total5_fl_match_draw</th>\n      <th>t2_h2h_away_total5_fl_match_lost</th>\n      <th>t2_h2h_away_total10_fl_match_win</th>\n      <th>t2_h2h_away_total10_fl_match_draw</th>\n      <th>t2_h2h_away_total10_fl_match_lost</th>\n    </tr>\n  </thead>\n  <tbody>\n    <tr>\n      <th>0</th>\n      <td>8910</td>\n      <td>0</td>\n      <td>0</td>\n      <td>0</td>\n      <td>0</td>\n      <td>0</td>\n      <td>0</td>\n      <td>0</td>\n      <td>0</td>\n      <td>0</td>\n      <td>...</td>\n      <td>0</td>\n      <td>0</td>\n      <td>0</td>\n      <td>0</td>\n      <td>0</td>\n      <td>0</td>\n      <td>0</td>\n      <td>0</td>\n      <td>0</td>\n      <td>0</td>\n    </tr>\n    <tr>\n      <th>1</th>\n      <td>8910</td>\n      <td>0</td>\n      <td>0</td>\n      <td>0</td>\n      <td>0</td>\n      <td>0</td>\n      <td>0</td>\n      <td>0</td>\n      <td>0</td>\n      <td>0</td>\n      <td>...</td>\n      <td>0</td>\n      <td>0</td>\n      <td>0</td>\n      <td>0</td>\n      <td>0</td>\n      <td>0</td>\n      <td>0</td>\n      <td>0</td>\n      <td>0</td>\n      <td>0</td>\n    </tr>\n    <tr>\n      <th>2</th>\n      <td>8910</td>\n      <td>0</td>\n      <td>0</td>\n      <td>0</td>\n      <td>0</td>\n      <td>0</td>\n      <td>0</td>\n      <td>0</td>\n      <td>0</td>\n      <td>0</td>\n      <td>...</td>\n      <td>0</td>\n      <td>0</td>\n      <td>0</td>\n      <td>0</td>\n      <td>0</td>\n      <td>0</td>\n      <td>0</td>\n      <td>0</td>\n      <td>0</td>\n      <td>0</td>\n    </tr>\n    <tr>\n      <th>3</th>\n      <td>8910</td>\n      <td>0</td>\n      <td>0</td>\n      <td>0</td>\n      <td>0</td>\n      <td>0</td>\n      <td>0</td>\n      <td>0</td>\n      <td>0</td>\n      <td>0</td>\n      <td>...</td>\n      <td>0</td>\n      <td>0</td>\n      <td>0</td>\n      <td>0</td>\n      <td>0</td>\n      <td>0</td>\n      <td>0</td>\n      <td>0</td>\n      <td>0</td>\n      <td>0</td>\n    </tr>\n    <tr>\n      <th>4</th>\n      <td>8910</td>\n      <td>0</td>\n      <td>0</td>\n      <td>0</td>\n      <td>0</td>\n      <td>0</td>\n      <td>0</td>\n      <td>0</td>\n      <td>0</td>\n      <td>0</td>\n      <td>...</td>\n      <td>0</td>\n      <td>0</td>\n      <td>0</td>\n      <td>0</td>\n      <td>0</td>\n      <td>0</td>\n      <td>0</td>\n      <td>0</td>\n      <td>0</td>\n      <td>0</td>\n    </tr>\n  </tbody>\n</table>\n<p>5 rows × 49 columns</p>\n</div>"
     },
     "execution_count": 2,
     "metadata": {},
     "output_type": "execute_result"
    }
   ],
   "source": [
    "train_data = pd.read_csv('View_data_nullZero.csv')\n",
    "\n",
    "# Remove rows with missing target values\n",
    "train_data.dropna(axis=0, subset=['t1_fl_match_win'], inplace=True)\n",
    "y = train_data.t1_fl_match_win # Target variable\n",
    "train_data.drop(['t1_fl_match_win'], axis=1, inplace=True) # Removing target variable from training data\n",
    "\n",
    "\n",
    "# Select numeric columns only\n",
    "numeric_cols = [cname for cname in train_data.columns if train_data[cname].dtype in ['int64', 'float64']]\n",
    "X = train_data[numeric_cols].copy()\n",
    "\n",
    "print(\"Shape of input data: {} and shape of target variable: {}\".format(X.shape, y.shape))\n",
    "\n",
    "X.head() # Show first 5 training examples"
   ],
   "metadata": {
    "collapsed": false,
    "pycharm": {
     "name": "#%%\n"
    }
   }
  },
  {
   "cell_type": "code",
   "execution_count": 3,
   "outputs": [],
   "source": [
    "def RandomForestRegressor():\n",
    "    # fit the model\n",
    "    model = ensemble.RandomForestRegressor(random_state=1)\n",
    "    model.fit(X_train, y_train )\n",
    "    # make predictions\n",
    "    yhat = model.predict(X_test)\n",
    "    # evaluate predictions\n",
    "    mae = mean_absolute_error(y_test, yhat)\n",
    "    mse = mean_squared_error(y_test, yhat)\n",
    "    mdse = median_absolute_error(y_test, yhat)\n",
    "    me = max_error(y_test, yhat)\n",
    "    print (\"Resultados do modelo Random Forest Regressor Test_size: {:.2f}\\n\".format(a))\n",
    "    print('MeanAbsoluteError: %.3f' % mae)\n",
    "    print('MeanSquareError: %.3f'% mdse)\n",
    "    print('MedianAbsoluteError: %.3f'% mse)\n",
    "    print('MaxError: %.3f\\n'% me)"
   ],
   "metadata": {
    "collapsed": false,
    "pycharm": {
     "name": "#%%\n"
    }
   }
  },
  {
   "cell_type": "code",
   "execution_count": 4,
   "outputs": [],
   "source": [
    "def DecisionTreeRegressor():\n",
    "    model = tree.DecisionTreeRegressor(random_state=1)\n",
    "    model.fit(X_train, y_train)\n",
    "    yhat = model.predict(X_test)\n",
    "    # evaluate predictions\n",
    "    mae = mean_absolute_error(y_test, yhat)\n",
    "    mse = mean_squared_error(y_test, yhat)\n",
    "    mdse = median_absolute_error(y_test, yhat)\n",
    "    me = max_error(y_test, yhat)\n",
    "    print (\"Resultados do modelo Decision Tree Regressor Test_size: {:.2f}\\n\".format(a))\n",
    "    print('MeanAbsoluteError: %.3f' % mae)\n",
    "    print('MeanSquareError: %.3f'% mdse)\n",
    "    print('MedianAbsoluteError: %.3f'% mse)\n",
    "    print('MaxError: %.3f\\n'% me)"
   ],
   "metadata": {
    "collapsed": false,
    "pycharm": {
     "name": "#%%\n"
    }
   }
  },
  {
   "cell_type": "code",
   "execution_count": 5,
   "outputs": [],
   "source": [
    "def LinearRegression():\n",
    "    model = LinearRegression()\n",
    "    model.fit(X_train, y_train)\n",
    "    yhat = model.predict(X_test)\n",
    "    # evaluate predictions\n",
    "    mae = mean_absolute_error(y_test, yhat)\n",
    "    mse = mean_squared_error(y_test, yhat)\n",
    "    mdse = median_absolute_error(y_test, yhat)\n",
    "    me = max_error(y_test, yhat)\n",
    "    print (\"\\nResultados do modelo Linear Regression\\n\")\n",
    "    print('MeanAbsoluteError: %.3f' % mae)\n",
    "    print('MeanSquareError: %.3f'% mdse)\n",
    "    print('MedianAbsoluteError: %.3f'% mse)\n",
    "    print('MaxError: %.3f\\n'% me)"
   ],
   "metadata": {
    "collapsed": false,
    "pycharm": {
     "name": "#%%\n"
    }
   }
  },
  {
   "cell_type": "code",
   "execution_count": 6,
   "outputs": [
    {
     "name": "stdout",
     "output_type": "stream",
     "text": [
      "Resultados do modelo Decision Tree Regressor Test_size: 0.10\n",
      "\n",
      "MeanAbsoluteError: 0.452\n",
      "MeanSquareError: 0.000\n",
      "MedianAbsoluteError: 0.450\n",
      "MaxError: 1.000\n",
      "\n",
      "Resultados do modelo Random Forest Regressor Test_size: 0.10\n",
      "\n",
      "MeanAbsoluteError: 0.459\n",
      "MeanSquareError: 0.460\n",
      "MedianAbsoluteError: 0.235\n",
      "MaxError: 1.000\n",
      "\n",
      "Resultados do modelo Decision Tree Regressor Test_size: 0.15\n",
      "\n",
      "MeanAbsoluteError: 0.458\n",
      "MeanSquareError: 0.000\n",
      "MedianAbsoluteError: 0.457\n",
      "MaxError: 1.000\n",
      "\n",
      "Resultados do modelo Random Forest Regressor Test_size: 0.15\n",
      "\n",
      "MeanAbsoluteError: 0.459\n",
      "MeanSquareError: 0.460\n",
      "MedianAbsoluteError: 0.235\n",
      "MaxError: 1.000\n",
      "\n",
      "Resultados do modelo Decision Tree Regressor Test_size: 0.20\n",
      "\n",
      "MeanAbsoluteError: 0.459\n",
      "MeanSquareError: 0.000\n",
      "MedianAbsoluteError: 0.458\n",
      "MaxError: 1.000\n",
      "\n",
      "Resultados do modelo Random Forest Regressor Test_size: 0.20\n",
      "\n",
      "MeanAbsoluteError: 0.461\n",
      "MeanSquareError: 0.460\n",
      "MedianAbsoluteError: 0.236\n",
      "MaxError: 1.000\n",
      "\n",
      "Resultados do modelo Decision Tree Regressor Test_size: 0.25\n",
      "\n",
      "MeanAbsoluteError: 0.464\n",
      "MeanSquareError: 0.000\n",
      "MedianAbsoluteError: 0.462\n",
      "MaxError: 1.000\n",
      "\n",
      "Resultados do modelo Random Forest Regressor Test_size: 0.25\n",
      "\n",
      "MeanAbsoluteError: 0.460\n",
      "MeanSquareError: 0.460\n",
      "MedianAbsoluteError: 0.235\n",
      "MaxError: 1.000\n",
      "\n",
      "Resultados do modelo Decision Tree Regressor Test_size: 0.30\n",
      "\n",
      "MeanAbsoluteError: 0.453\n",
      "MeanSquareError: 0.000\n",
      "MedianAbsoluteError: 0.452\n",
      "MaxError: 1.000\n",
      "\n",
      "Resultados do modelo Random Forest Regressor Test_size: 0.30\n",
      "\n",
      "MeanAbsoluteError: 0.461\n",
      "MeanSquareError: 0.460\n",
      "MedianAbsoluteError: 0.237\n",
      "MaxError: 1.000\n",
      "\n",
      "Resultados do modelo Decision Tree Regressor Test_size: 0.35\n",
      "\n",
      "MeanAbsoluteError: 0.456\n",
      "MeanSquareError: 0.000\n",
      "MedianAbsoluteError: 0.455\n",
      "MaxError: 1.000\n",
      "\n",
      "Resultados do modelo Random Forest Regressor Test_size: 0.35\n",
      "\n",
      "MeanAbsoluteError: 0.461\n",
      "MeanSquareError: 0.460\n",
      "MedianAbsoluteError: 0.236\n",
      "MaxError: 0.989\n",
      "\n",
      "Resultados do modelo Decision Tree Regressor Test_size: 0.40\n",
      "\n",
      "MeanAbsoluteError: 0.460\n",
      "MeanSquareError: 0.000\n",
      "MedianAbsoluteError: 0.459\n",
      "MaxError: 1.000\n",
      "\n",
      "Resultados do modelo Random Forest Regressor Test_size: 0.40\n",
      "\n",
      "MeanAbsoluteError: 0.462\n",
      "MeanSquareError: 0.460\n",
      "MedianAbsoluteError: 0.237\n",
      "MaxError: 1.000\n",
      "\n",
      "Resultados do modelo Decision Tree Regressor Test_size: 0.45\n",
      "\n",
      "MeanAbsoluteError: 0.461\n",
      "MeanSquareError: 0.000\n",
      "MedianAbsoluteError: 0.460\n",
      "MaxError: 1.000\n",
      "\n",
      "Resultados do modelo Random Forest Regressor Test_size: 0.45\n",
      "\n",
      "MeanAbsoluteError: 0.462\n",
      "MeanSquareError: 0.460\n",
      "MedianAbsoluteError: 0.237\n",
      "MaxError: 0.980\n",
      "\n",
      "Resultados do modelo Decision Tree Regressor Test_size: 0.50\n",
      "\n",
      "MeanAbsoluteError: 0.462\n",
      "MeanSquareError: 0.000\n",
      "MedianAbsoluteError: 0.461\n",
      "MaxError: 1.000\n",
      "\n",
      "Resultados do modelo Random Forest Regressor Test_size: 0.50\n",
      "\n",
      "MeanAbsoluteError: 0.462\n",
      "MeanSquareError: 0.460\n",
      "MedianAbsoluteError: 0.238\n",
      "MaxError: 1.000\n",
      "\n"
     ]
    }
   ],
   "source": [
    "# Lets split the data into 5 folds.\n",
    "# We will use this 'kf'(KFold splitting stratergy) object as input to cross_val_score() method\n",
    "a = 0.10\n",
    "while a < 0.50:\n",
    "    X_train, X_test, y_train, y_test = train_test_split(X, y, test_size=a, random_state=18)\n",
    "    DecisionTreeRegressor()\n",
    "    RandomForestRegressor()\n",
    "    #LinearRegression() erro\n",
    "    a +=0.05\n"
   ],
   "metadata": {
    "collapsed": false,
    "pycharm": {
     "name": "#%%\n"
    }
   }
  }
 ],
 "metadata": {
  "kernelspec": {
   "display_name": "Python 3",
   "language": "python",
   "name": "python3"
  },
  "language_info": {
   "codemirror_mode": {
    "name": "ipython",
    "version": 2
   },
   "file_extension": ".py",
   "mimetype": "text/x-python",
   "name": "python",
   "nbconvert_exporter": "python",
   "pygments_lexer": "ipython2",
   "version": "2.7.6"
  }
 },
 "nbformat": 4,
 "nbformat_minor": 0
}