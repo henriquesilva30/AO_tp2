{
 "cells": [
  {
   "cell_type": "code",
   "execution_count": 1,
   "metadata": {
    "execution": {
     "iopub.execute_input": "2022-05-30T21:49:37.543270Z",
     "iopub.status.busy": "2022-05-30T21:49:37.542384Z",
     "iopub.status.idle": "2022-05-30T21:49:37.621743Z",
     "shell.execute_reply": "2022-05-30T21:49:37.620837Z",
     "shell.execute_reply.started": "2022-05-30T21:49:37.543230Z"
    },
    "pycharm": {
     "name": "#%%\n"
    },
    "trusted": true
   },
   "outputs": [
    {
     "name": "stdout",
     "output_type": "stream",
     "text": [
      "Shape of input data: (43823, 49) and shape of target variable: (43823,)\n"
     ]
    },
    {
     "data": {
      "text/plain": "   id_match_competition  t1_all_total5_fl_match_win  \\\n0                  8910                           0   \n1                  8910                           0   \n2                  8910                           0   \n3                  8910                           0   \n4                  8910                           0   \n\n   t1_all_total5_fl_match_draw  t1_all_total5_fl_match_lost  \\\n0                            0                            0   \n1                            0                            0   \n2                            0                            0   \n3                            0                            0   \n4                            0                            0   \n\n   t1_all_total10_fl_match_win  t1_all_total10_fl_match_draw  \\\n0                            0                             0   \n1                            0                             0   \n2                            0                             0   \n3                            0                             0   \n4                            0                             0   \n\n   t1_all_total10_fl_match_lost  t2_all_total5_fl_match_win  \\\n0                             0                           0   \n1                             0                           0   \n2                             0                           0   \n3                             0                           0   \n4                             0                           0   \n\n   t2_all_total5_fl_match_draw  t2_all_total5_fl_match_lost  ...  \\\n0                            0                            0  ...   \n1                            0                            0  ...   \n2                            0                            0  ...   \n3                            0                            0  ...   \n4                            0                            0  ...   \n\n   t1_h2h_home_total5_fl_match_lost  t1_h2h_home_total10_fl_match_win  \\\n0                                 0                                 0   \n1                                 0                                 0   \n2                                 0                                 0   \n3                                 0                                 0   \n4                                 0                                 0   \n\n   t1_h2h_home_total10_fl_match_draw  t1_h2h_home_total10_fl_match_lost  \\\n0                                  0                                  0   \n1                                  0                                  0   \n2                                  0                                  0   \n3                                  0                                  0   \n4                                  0                                  0   \n\n   t2_h2h_away_total5_fl_match_win  t2_h2h_away_total5_fl_match_draw  \\\n0                                0                                 0   \n1                                0                                 0   \n2                                0                                 0   \n3                                0                                 0   \n4                                0                                 0   \n\n   t2_h2h_away_total5_fl_match_lost  t2_h2h_away_total10_fl_match_win  \\\n0                                 0                                 0   \n1                                 0                                 0   \n2                                 0                                 0   \n3                                 0                                 0   \n4                                 0                                 0   \n\n   t2_h2h_away_total10_fl_match_draw  t2_h2h_away_total10_fl_match_lost  \n0                                  0                                  0  \n1                                  0                                  0  \n2                                  0                                  0  \n3                                  0                                  0  \n4                                  0                                  0  \n\n[5 rows x 49 columns]",
      "text/html": "<div>\n<style scoped>\n    .dataframe tbody tr th:only-of-type {\n        vertical-align: middle;\n    }\n\n    .dataframe tbody tr th {\n        vertical-align: top;\n    }\n\n    .dataframe thead th {\n        text-align: right;\n    }\n</style>\n<table border=\"1\" class=\"dataframe\">\n  <thead>\n    <tr style=\"text-align: right;\">\n      <th></th>\n      <th>id_match_competition</th>\n      <th>t1_all_total5_fl_match_win</th>\n      <th>t1_all_total5_fl_match_draw</th>\n      <th>t1_all_total5_fl_match_lost</th>\n      <th>t1_all_total10_fl_match_win</th>\n      <th>t1_all_total10_fl_match_draw</th>\n      <th>t1_all_total10_fl_match_lost</th>\n      <th>t2_all_total5_fl_match_win</th>\n      <th>t2_all_total5_fl_match_draw</th>\n      <th>t2_all_total5_fl_match_lost</th>\n      <th>...</th>\n      <th>t1_h2h_home_total5_fl_match_lost</th>\n      <th>t1_h2h_home_total10_fl_match_win</th>\n      <th>t1_h2h_home_total10_fl_match_draw</th>\n      <th>t1_h2h_home_total10_fl_match_lost</th>\n      <th>t2_h2h_away_total5_fl_match_win</th>\n      <th>t2_h2h_away_total5_fl_match_draw</th>\n      <th>t2_h2h_away_total5_fl_match_lost</th>\n      <th>t2_h2h_away_total10_fl_match_win</th>\n      <th>t2_h2h_away_total10_fl_match_draw</th>\n      <th>t2_h2h_away_total10_fl_match_lost</th>\n    </tr>\n  </thead>\n  <tbody>\n    <tr>\n      <th>0</th>\n      <td>8910</td>\n      <td>0</td>\n      <td>0</td>\n      <td>0</td>\n      <td>0</td>\n      <td>0</td>\n      <td>0</td>\n      <td>0</td>\n      <td>0</td>\n      <td>0</td>\n      <td>...</td>\n      <td>0</td>\n      <td>0</td>\n      <td>0</td>\n      <td>0</td>\n      <td>0</td>\n      <td>0</td>\n      <td>0</td>\n      <td>0</td>\n      <td>0</td>\n      <td>0</td>\n    </tr>\n    <tr>\n      <th>1</th>\n      <td>8910</td>\n      <td>0</td>\n      <td>0</td>\n      <td>0</td>\n      <td>0</td>\n      <td>0</td>\n      <td>0</td>\n      <td>0</td>\n      <td>0</td>\n      <td>0</td>\n      <td>...</td>\n      <td>0</td>\n      <td>0</td>\n      <td>0</td>\n      <td>0</td>\n      <td>0</td>\n      <td>0</td>\n      <td>0</td>\n      <td>0</td>\n      <td>0</td>\n      <td>0</td>\n    </tr>\n    <tr>\n      <th>2</th>\n      <td>8910</td>\n      <td>0</td>\n      <td>0</td>\n      <td>0</td>\n      <td>0</td>\n      <td>0</td>\n      <td>0</td>\n      <td>0</td>\n      <td>0</td>\n      <td>0</td>\n      <td>...</td>\n      <td>0</td>\n      <td>0</td>\n      <td>0</td>\n      <td>0</td>\n      <td>0</td>\n      <td>0</td>\n      <td>0</td>\n      <td>0</td>\n      <td>0</td>\n      <td>0</td>\n    </tr>\n    <tr>\n      <th>3</th>\n      <td>8910</td>\n      <td>0</td>\n      <td>0</td>\n      <td>0</td>\n      <td>0</td>\n      <td>0</td>\n      <td>0</td>\n      <td>0</td>\n      <td>0</td>\n      <td>0</td>\n      <td>...</td>\n      <td>0</td>\n      <td>0</td>\n      <td>0</td>\n      <td>0</td>\n      <td>0</td>\n      <td>0</td>\n      <td>0</td>\n      <td>0</td>\n      <td>0</td>\n      <td>0</td>\n    </tr>\n    <tr>\n      <th>4</th>\n      <td>8910</td>\n      <td>0</td>\n      <td>0</td>\n      <td>0</td>\n      <td>0</td>\n      <td>0</td>\n      <td>0</td>\n      <td>0</td>\n      <td>0</td>\n      <td>0</td>\n      <td>...</td>\n      <td>0</td>\n      <td>0</td>\n      <td>0</td>\n      <td>0</td>\n      <td>0</td>\n      <td>0</td>\n      <td>0</td>\n      <td>0</td>\n      <td>0</td>\n      <td>0</td>\n    </tr>\n  </tbody>\n</table>\n<p>5 rows × 49 columns</p>\n</div>"
     },
     "execution_count": 1,
     "metadata": {},
     "output_type": "execute_result"
    }
   ],
   "source": [
    "# -*- coding: utf-8 -*-\n",
    "\n",
    "#Imports\n",
    "import numpy as np\n",
    "import matplotlib.pyplot as plt\n",
    "import pandas as pd\n",
    "from tensorflow import keras\n",
    "from sklearn.model_selection import train_test_split\n",
    "from sklearn.preprocessing import StandardScaler\n",
    "\n",
    "#Importar o Dataset\n",
    "\n",
    "train_data = pd.read_csv('View_data_nullZero.csv')\n",
    "\n",
    "# Remove rows with missing target values\n",
    "train_data.dropna(axis=0, subset=['t1_fl_match_win'], inplace=True)\n",
    "y = train_data.t1_fl_match_win # Target variable\n",
    "train_data.drop(['t1_fl_match_win'], axis=1, inplace=True) # Removing target variable from training data\n",
    "\n",
    "\n",
    "# Select numeric columns only\n",
    "numeric_cols = [cname for cname in train_data.columns if train_data[cname].dtype in ['int64', 'float64']]\n",
    "X = train_data[numeric_cols].copy()\n",
    "\n",
    "print(\"Shape of input data: {} and shape of target variable: {}\".format(X.shape, y.shape))\n",
    "\n",
    "X.head() # Show first 5 training examples\n"
   ]
  },
  {
   "cell_type": "code",
   "execution_count": 2,
   "metadata": {
    "execution": {
     "iopub.execute_input": "2022-05-30T21:51:17.316903Z",
     "iopub.status.busy": "2022-05-30T21:51:17.316448Z",
     "iopub.status.idle": "2022-05-30T21:52:05.629120Z",
     "shell.execute_reply": "2022-05-30T21:52:05.628253Z",
     "shell.execute_reply.started": "2022-05-30T21:51:17.316869Z"
    },
    "pycharm": {
     "name": "#%%\n"
    },
    "trusted": true
   },
   "outputs": [
    {
     "name": "stdout",
     "output_type": "stream",
     "text": [
      "Loss_Acc_Prec_Recall: [68.50933837890625, 0.4217648208141327, 0.4217648208141327, 1.0]\n",
      "Loss_Acc_Prec_Recall: [68.50933837890625, 0.4217648208141327, 0.4217648208141327, 1.0]\n",
      "Loss_Acc_Prec_Recall: [68.50933837890625, 0.4217648208141327, 0.4217648208141327, 1.0]\n",
      "Loss_Acc_Prec_Recall: [68.50933837890625, 0.4217648208141327, 0.4217648208141327, 1.0]\n",
      "Loss_Acc_Prec_Recall: [68.50933837890625, 0.4217648208141327, 0.4217648208141327, 1.0]\n",
      "Loss_Acc_Prec_Recall: [68.50933837890625, 0.4217648208141327, 0.4217648208141327, 1.0]\n",
      "Loss_Acc_Prec_Recall: [68.50933837890625, 0.4217648208141327, 0.4217648208141327, 1.0]\n",
      "Loss_Acc_Prec_Recall: [68.50933837890625, 0.4217648208141327, 0.4217648208141327, 1.0]\n",
      "Loss_Acc_Prec_Recall: [68.50933837890625, 0.4217648208141327, 0.4217648208141327, 1.0]\n",
      "Loss_Acc_Prec_Recall: [68.50933837890625, 0.4217648208141327, 0.4217648208141327, 1.0]\n",
      "Loss_Acc_Prec_Recall: [68.50933837890625, 0.4217648208141327, 0.4217648208141327, 1.0]\n",
      "Loss_Acc_Prec_Recall: [68.50933837890625, 0.4217648208141327, 0.4217648208141327, 1.0]\n",
      "Loss_Acc_Prec_Recall: [68.50933837890625, 0.4217648208141327, 0.4217648208141327, 1.0]\n",
      "Loss_Acc_Prec_Recall: [68.50933837890625, 0.4217648208141327, 0.4217648208141327, 1.0]\n",
      "Loss_Acc_Prec_Recall: [68.50933837890625, 0.4217648208141327, 0.4217648208141327, 1.0]\n",
      "Loss_Acc_Prec_Recall: [68.50933837890625, 0.4217648208141327, 0.4217648208141327, 1.0]\n",
      "Loss_Acc_Prec_Recall: [68.50933837890625, 0.4217648208141327, 0.4217648208141327, 1.0]\n",
      "Loss_Acc_Prec_Recall: [68.50933837890625, 0.4217648208141327, 0.4217648208141327, 1.0]\n",
      "Loss_Acc_Prec_Recall: [68.50933837890625, 0.4217648208141327, 0.4217648208141327, 1.0]\n",
      "Loss_Acc_Prec_Recall: [68.50933837890625, 0.4217648208141327, 0.4217648208141327, 1.0]\n"
     ]
    }
   ],
   "source": [
    "#Dividir em conjunto de treino e conjunto de teste\n",
    "import json\n",
    "from sklearn.model_selection import KFold\n",
    "jsonFile = open(\"data_split-kfold.json\", \"w\")\n",
    "jsonTxt = ''\n",
    "\n",
    "\n",
    "    #---------------------Cirar a Rede Neuronal Artificial--------------------------\n",
    "import keras\n",
    "from keras.models import Sequential\n",
    "from keras.layers import Dense\n",
    "from numpy import loadtxt\n",
    "\n",
    "model = Sequential()\n",
    "\n",
    "    #Adicionar a Input Layer e a primeira hidden layers\n",
    "model.add(Dense(12,  activation='relu'))\n",
    "model.add(Dense(32, activation='relu'))\n",
    "model.add(Dense(1, activation='sigmoid'))\n",
    "\n",
    "    #Compiling the ANN\n",
    "model.compile(loss='binary_crossentropy', optimizer='adam', metrics=['accuracy',keras.metrics.Precision(),keras.metrics.Recall()])\n",
    "\n",
    "# Define the K-fold Cross Validator\n",
    "kfold = KFold(n_splits=20, shuffle=True)\n",
    "\n",
    "# K-fold Cross Validation model evaluation\n",
    "fold_no = 1\n",
    "for train, test in kfold.split(X, y):\n",
    "    accuracy = model.evaluate(X, y, verbose=0)\n",
    "    data = {}\n",
    "    data['Loss_Acc_Prec_Recall']=accuracy\n",
    "#    jsonString = json.dumps(data,separators=('},',\",\"))\n",
    "    jsonString = json.dumps(data)\n",
    "    jsonTxt += jsonString+',\\n'\n",
    "    print('Loss_Acc_Prec_Recall: {}'.format(accuracy))\n",
    "jsonFile.write('['+jsonTxt+']')\n",
    "jsonFile.close()\n"
   ]
  },
  {
   "cell_type": "code",
   "execution_count": 3,
   "metadata": {
    "execution": {
     "iopub.execute_input": "2022-05-30T21:55:57.341658Z",
     "iopub.status.busy": "2022-05-30T21:55:57.341193Z"
    },
    "pycharm": {
     "name": "#%%\n"
    },
    "trusted": true
   },
   "outputs": [
    {
     "name": "stdout",
     "output_type": "stream",
     "text": [
      "Requirement already satisfied: ann_visualizer in c:\\users\\utilizador\\trabalhos\\pythonprojects\\lib\\site-packages (2.5)\n"
     ]
    },
    {
     "name": "stderr",
     "output_type": "stream",
     "text": [
      "WARNING: You are using pip version 21.3.1; however, version 22.1.2 is available.\n",
      "You should consider upgrading via the 'C:\\Users\\utilizador\\Trabalhos\\pythonProjects\\Scripts\\python.exe -m pip install --upgrade pip' command.\n"
     ]
    },
    {
     "name": "stdout",
     "output_type": "stream",
     "text": [
      "Requirement already satisfied: graphviz in c:\\users\\utilizador\\trabalhos\\pythonprojects\\lib\\site-packages (0.20)\n"
     ]
    },
    {
     "name": "stderr",
     "output_type": "stream",
     "text": [
      "WARNING: You are using pip version 21.3.1; however, version 22.1.2 is available.\n",
      "You should consider upgrading via the 'C:\\Users\\utilizador\\Trabalhos\\pythonProjects\\Scripts\\python.exe -m pip install --upgrade pip' command.\n"
     ]
    }
   ],
   "source": [
    "#Grafico da rede neuronal\n",
    "!pip3 install ann_visualizer\n",
    "!pip install graphviz"
   ]
  },
  {
   "cell_type": "code",
   "execution_count": 4,
   "metadata": {
    "execution": {
     "iopub.execute_input": "2022-05-30T21:52:11.860752Z",
     "iopub.status.busy": "2022-05-30T21:52:11.859624Z",
     "iopub.status.idle": "2022-05-30T21:55:14.341386Z",
     "shell.execute_reply": "2022-05-30T21:55:14.339580Z",
     "shell.execute_reply.started": "2022-05-30T21:52:11.860710Z"
    },
    "pycharm": {
     "name": "#%%\n"
    },
    "trusted": true
   },
   "outputs": [],
   "source": [
    "\n",
    "#from ann_visualizer.visualize import ann_viz;\n",
    "#ann_viz(model, title=\"Visualização da Rede Neuronal Insolvência\")"
   ]
  },
  {
   "cell_type": "code",
   "execution_count": 5,
   "metadata": {
    "pycharm": {
     "name": "#%%\n"
    }
   },
   "outputs": [
    {
     "name": "stdout",
     "output_type": "stream",
     "text": [
      "Equipa da casa ganha\n",
      "Requirement already satisfied: ann_visualizer in c:\\users\\utilizador\\trabalhos\\pythonprojects\\lib\\site-packages (2.5)\n"
     ]
    },
    {
     "name": "stderr",
     "output_type": "stream",
     "text": [
      "WARNING: You are using pip version 21.3.1; however, version 22.1.2 is available.\n",
      "You should consider upgrading via the 'C:\\Users\\utilizador\\Trabalhos\\pythonProjects\\Scripts\\python.exe -m pip install --upgrade pip' command.\n"
     ]
    },
    {
     "name": "stdout",
     "output_type": "stream",
     "text": [
      "Requirement already satisfied: graphviz in c:\\users\\utilizador\\trabalhos\\pythonprojects\\lib\\site-packages (0.20)\n"
     ]
    },
    {
     "name": "stderr",
     "output_type": "stream",
     "text": [
      "WARNING: You are using pip version 21.3.1; however, version 22.1.2 is available.\n",
      "You should consider upgrading via the 'C:\\Users\\utilizador\\Trabalhos\\pythonProjects\\Scripts\\python.exe -m pip install --upgrade pip' command.\n"
     ]
    }
   ],
   "source": [
    "#Carregar novo dado\n",
    "dataset = pd.read_csv('../files/data_sample_match_win.csv')\n",
    "X_new = dataset.drop('t1_fl_match_win', axis=1)   #Colunas usadas para calcular a Insolvencia. Contêm as features\n",
    "\n",
    "#Fazer a previsão de y - Insolvência\n",
    "predictions = model.predict(X_new)\n",
    "\n",
    "if predictions[0][0] == 0:\n",
    "  print(\"Equipa da casa perde\")\n",
    "else:\n",
    "  print(\"Equipa da casa ganha\")\n",
    "\n",
    "#Grafico da rede neuronal\n",
    "!pip3 install ann_visualizer\n",
    "!pip install graphviz\n",
    "\n",
    "from ann_visualizer.visualize import ann_viz;\n",
    "ann_viz(model, title=\"Visualização da Rede Neuronal do Resultado da equipa da casa\")"
   ]
  }
 ],
 "metadata": {
  "kernelspec": {
   "display_name": "Python 3.9.13 64-bit (windows store)",
   "language": "python",
   "name": "python3"
  },
  "language_info": {
   "codemirror_mode": {
    "name": "ipython",
    "version": 3
   },
   "file_extension": ".py",
   "mimetype": "text/x-python",
   "name": "python",
   "nbconvert_exporter": "python",
   "pygments_lexer": "ipython3",
   "version": "3.9.13"
  },
  "vscode": {
   "interpreter": {
    "hash": "25b9d76d03052f04b853783704bf9224d9817fdb32617c036d1776cea483770c"
   }
  }
 },
 "nbformat": 4,
 "nbformat_minor": 4
}