{
 "cells": [
  {
   "cell_type": "code",
   "execution_count": 13,
   "metadata": {
    "execution": {
     "iopub.execute_input": "2022-05-30T21:49:37.543270Z",
     "iopub.status.busy": "2022-05-30T21:49:37.542384Z",
     "iopub.status.idle": "2022-05-30T21:49:37.621743Z",
     "shell.execute_reply": "2022-05-30T21:49:37.620837Z",
     "shell.execute_reply.started": "2022-05-30T21:49:37.543230Z"
    },
    "pycharm": {
     "name": "#%%\n"
    },
    "trusted": true
   },
   "outputs": [
    {
     "data": {
      "text/plain": "(44090, 30)"
     },
     "execution_count": 13,
     "metadata": {},
     "output_type": "execute_result"
    }
   ],
   "source": [
    "# -*- coding: utf-8 -*-\n",
    " \n",
    "\n",
    "#Imports\n",
    "import numpy as np\n",
    "import matplotlib.pyplot as plt\n",
    "import pandas as pd\n",
    "from tensorflow import keras\n",
    "from sklearn.model_selection import train_test_split\n",
    "from sklearn.preprocessing import StandardScaler\n",
    "\n",
    "#Importar o Dataset\n",
    " \n",
    "dataset = pd.read_csv('../files/t1_win_NullCorretion.csv')\n",
    "\n",
    "X = dataset.drop('t1_fl_match_win', axis=1)   #Colunas usadas para calcular a Vitoria. Contêm as features\n",
    "y= dataset.t1_fl_match_win                    #Parametro a ser calculado\n",
    "X.shape\n",
    "\n"
   ]
  },
  {
   "cell_type": "code",
   "execution_count": 14,
   "metadata": {
    "execution": {
     "iopub.execute_input": "2022-05-30T21:51:17.316903Z",
     "iopub.status.busy": "2022-05-30T21:51:17.316448Z",
     "iopub.status.idle": "2022-05-30T21:52:05.629120Z",
     "shell.execute_reply": "2022-05-30T21:52:05.628253Z",
     "shell.execute_reply.started": "2022-05-30T21:51:17.316869Z"
    },
    "pycharm": {
     "name": "#%%\n"
    },
    "trusted": true
   },
   "outputs": [
    {
     "name": "stdout",
     "output_type": "stream",
     "text": [
      "2481/2481 [==============================] - 7s 2ms/step - loss: 0.6565 - accuracy: 0.6096 - precision_14: 0.5636 - recall_14: 0.3378\n",
      "Epoch 2/5\n",
      "2481/2481 [==============================] - 5s 2ms/step - loss: 0.6506 - accuracy: 0.6170 - precision_14: 0.5846 - recall_14: 0.3244\n",
      "Epoch 3/5\n",
      "2481/2481 [==============================] - 5s 2ms/step - loss: 0.6493 - accuracy: 0.6183 - precision_14: 0.5900 - recall_14: 0.3169\n",
      "Epoch 4/5\n",
      "2481/2481 [==============================] - 4s 2ms/step - loss: 0.6486 - accuracy: 0.6203 - precision_14: 0.5951 - recall_14: 0.3178\n",
      "Epoch 5/5\n",
      "2481/2481 [==============================] - 4s 2ms/step - loss: 0.6483 - accuracy: 0.6178 - precision_14: 0.5884 - recall_14: 0.3178\n",
      "Test size 0.10 + batch size 16 = [0.649908185005188, 0.6179406046867371, 0.6210599541664124, 0.23965340852737427]\n",
      "Epoch 1/5\n",
      "2067/2067 [==============================] - 4s 2ms/step - loss: 0.6567 - accuracy: 0.6091 - precision_15: 0.5635 - recall_15: 0.3330\n",
      "Epoch 2/5\n",
      "2067/2067 [==============================] - 4s 2ms/step - loss: 0.6508 - accuracy: 0.6194 - precision_15: 0.5893 - recall_15: 0.3283\n",
      "Epoch 3/5\n",
      "2067/2067 [==============================] - 3s 2ms/step - loss: 0.6498 - accuracy: 0.6210 - precision_15: 0.5894 - recall_15: 0.3405\n",
      "Epoch 4/5\n",
      "2067/2067 [==============================] - 3s 2ms/step - loss: 0.6492 - accuracy: 0.6197 - precision_15: 0.5870 - recall_15: 0.3380\n",
      "Epoch 5/5\n",
      "2067/2067 [==============================] - 3s 2ms/step - loss: 0.6489 - accuracy: 0.6206 - precision_15: 0.5911 - recall_15: 0.3314\n",
      "Test size 0.25 + batch size 16 = [0.6487201452255249, 0.6212292909622192, 0.5731053352355957, 0.39680320024490356]\n",
      "Epoch 1/5\n",
      "1654/1654 [==============================] - 4s 2ms/step - loss: 0.6630 - accuracy: 0.5999 - precision_16: 0.5440 - recall_16: 0.3773\n",
      "Epoch 2/5\n",
      "1654/1654 [==============================] - 4s 2ms/step - loss: 0.6533 - accuracy: 0.6132 - precision_16: 0.5770 - recall_16: 0.3452\n",
      "Epoch 3/5\n",
      "1654/1654 [==============================] - 4s 2ms/step - loss: 0.6517 - accuracy: 0.6146 - precision_16: 0.5794 - recall_16: 0.3481\n",
      "Epoch 4/5\n",
      "1654/1654 [==============================] - 3s 2ms/step - loss: 0.6512 - accuracy: 0.6166 - precision_16: 0.5863 - recall_16: 0.3406\n",
      "Epoch 5/5\n",
      "1654/1654 [==============================] - 3s 2ms/step - loss: 0.6508 - accuracy: 0.6168 - precision_16: 0.5874 - recall_16: 0.3384\n",
      "Test size 0.40 + batch size 16 = [0.6489782333374023, 0.6205715537071228, 0.5751745700836182, 0.38130348920822144]\n",
      "Epoch 1/5\n",
      "1241/1241 [==============================] - 3s 2ms/step - loss: 0.6613 - accuracy: 0.6075 - precision_17: 0.5601 - recall_17: 0.3327\n",
      "Epoch 2/5\n",
      "1241/1241 [==============================] - 2s 2ms/step - loss: 0.6519 - accuracy: 0.6146 - precision_17: 0.5761 - recall_17: 0.3330\n",
      "Epoch 3/5\n",
      "1241/1241 [==============================] - 2s 2ms/step - loss: 0.6503 - accuracy: 0.6174 - precision_17: 0.5869 - recall_17: 0.3200\n",
      "Epoch 4/5\n",
      "1241/1241 [==============================] - 2s 2ms/step - loss: 0.6496 - accuracy: 0.6186 - precision_17: 0.5880 - recall_17: 0.3256\n",
      "Epoch 5/5\n",
      "1241/1241 [==============================] - 2s 2ms/step - loss: 0.6489 - accuracy: 0.6186 - precision_17: 0.5867 - recall_17: 0.3298\n",
      "Test size 0.10 + batch size 32 = [0.6509286165237427, 0.6154003143310547, 0.6505376100540161, 0.1888488233089447]\n",
      "Epoch 1/5\n",
      "1034/1034 [==============================] - 3s 2ms/step - loss: 0.6574 - accuracy: 0.6087 - precision_18: 0.5601 - recall_18: 0.3449\n",
      "Epoch 2/5\n",
      "1034/1034 [==============================] - 2s 2ms/step - loss: 0.6511 - accuracy: 0.6180 - precision_18: 0.5884 - recall_18: 0.3201\n",
      "Epoch 3/5\n",
      "1034/1034 [==============================] - 2s 2ms/step - loss: 0.6499 - accuracy: 0.6169 - precision_18: 0.5811 - recall_18: 0.3347\n",
      "Epoch 4/5\n",
      "1034/1034 [==============================] - 2s 2ms/step - loss: 0.6492 - accuracy: 0.6203 - precision_18: 0.5897 - recall_18: 0.3334\n",
      "Epoch 5/5\n",
      "1034/1034 [==============================] - 2s 2ms/step - loss: 0.6486 - accuracy: 0.6200 - precision_18: 0.5869 - recall_18: 0.3405\n",
      "Test size 0.25 + batch size 32 = [0.6481810808181763, 0.6209344267845154, 0.5837217569351196, 0.3504655361175537]\n",
      "Epoch 1/5\n",
      "827/827 [==============================] - 2s 2ms/step - loss: 0.6651 - accuracy: 0.5977 - precision_19: 0.5426 - recall_19: 0.3559\n",
      "Epoch 2/5\n",
      "827/827 [==============================] - 1s 2ms/step - loss: 0.6531 - accuracy: 0.6158 - precision_19: 0.5783 - recall_19: 0.3631\n",
      "Epoch 3/5\n",
      "827/827 [==============================] - 1s 2ms/step - loss: 0.6521 - accuracy: 0.6166 - precision_19: 0.5817 - recall_19: 0.3570\n",
      "Epoch 4/5\n",
      "827/827 [==============================] - 1s 1ms/step - loss: 0.6511 - accuracy: 0.6162 - precision_19: 0.5811 - recall_19: 0.3558\n",
      "Epoch 5/5\n",
      "827/827 [==============================] - 1s 2ms/step - loss: 0.6505 - accuracy: 0.6176 - precision_19: 0.5855 - recall_19: 0.3508\n",
      "Test size 0.40 + batch size 32 = [0.6513420939445496, 0.6180766820907593, 0.5607137680053711, 0.4329153299331665]\n",
      "Epoch 1/5\n",
      "2481/2481 [==============================] - 6s 2ms/step - loss: 0.6598 - accuracy: 0.6071 - precision_20: 0.5578 - recall_20: 0.3391\n",
      "Epoch 2/5\n",
      "2481/2481 [==============================] - 5s 2ms/step - loss: 0.6514 - accuracy: 0.6175 - precision_20: 0.5838 - recall_20: 0.3307\n",
      "Epoch 3/5\n",
      "2481/2481 [==============================] - 5s 2ms/step - loss: 0.6498 - accuracy: 0.6171 - precision_20: 0.5862 - recall_20: 0.3193\n",
      "Epoch 4/5\n",
      "2481/2481 [==============================] - 6s 2ms/step - loss: 0.6491 - accuracy: 0.6203 - precision_20: 0.5953 - recall_20: 0.3171\n",
      "Epoch 5/5\n",
      "2481/2481 [==============================] - 5s 2ms/step - loss: 0.6486 - accuracy: 0.6190 - precision_20: 0.5917 - recall_20: 0.3175\n",
      "Test size 0.10 + batch size 16 = [0.6482394337654114, 0.6211159229278564, 0.5800204873085022, 0.36591142416000366]\n",
      "Epoch 1/5\n",
      "2067/2067 [==============================] - 5s 2ms/step - loss: 0.6613 - accuracy: 0.6055 - precision_21: 0.5531 - recall_21: 0.3468\n",
      "Epoch 2/5\n",
      "2067/2067 [==============================] - 3s 2ms/step - loss: 0.6522 - accuracy: 0.6165 - precision_21: 0.5832 - recall_21: 0.3248\n",
      "Epoch 3/5\n",
      "2067/2067 [==============================] - 3s 2ms/step - loss: 0.6504 - accuracy: 0.6169 - precision_21: 0.5857 - recall_21: 0.3197\n",
      "Epoch 4/5\n",
      "2067/2067 [==============================] - 3s 2ms/step - loss: 0.6497 - accuracy: 0.6180 - precision_21: 0.5870 - recall_21: 0.3241\n",
      "Epoch 5/5\n",
      "2067/2067 [==============================] - 3s 2ms/step - loss: 0.6492 - accuracy: 0.6190 - precision_21: 0.5917 - recall_21: 0.3181\n",
      "Test size 0.25 + batch size 16 = [0.6519263386726379, 0.6164889931678772, 0.5560773015022278, 0.4461546838283539]\n",
      "Epoch 1/5\n",
      "1654/1654 [==============================] - 4s 2ms/step - loss: 0.6588 - accuracy: 0.6037 - precision_22: 0.5559 - recall_22: 0.3475\n",
      "Epoch 2/5\n",
      "1654/1654 [==============================] - 3s 2ms/step - loss: 0.6536 - accuracy: 0.6130 - precision_22: 0.5729 - recall_22: 0.3604\n",
      "Epoch 3/5\n",
      "1654/1654 [==============================] - 3s 2ms/step - loss: 0.6524 - accuracy: 0.6146 - precision_22: 0.5781 - recall_22: 0.3535\n",
      "Epoch 4/5\n",
      "1654/1654 [==============================] - 3s 2ms/step - loss: 0.6512 - accuracy: 0.6169 - precision_22: 0.5818 - recall_22: 0.3592\n",
      "Epoch 5/5\n",
      "1654/1654 [==============================] - 3s 2ms/step - loss: 0.6507 - accuracy: 0.6173 - precision_22: 0.5838 - recall_22: 0.3549\n",
      "Test size 0.40 + batch size 16 = [0.6496115326881409, 0.6187117099761963, 0.5621140003204346, 0.4310317039489746]\n",
      "Epoch 1/5\n",
      "1241/1241 [==============================] - 3s 2ms/step - loss: 0.6592 - accuracy: 0.6050 - precision_23: 0.5515 - recall_23: 0.3504\n",
      "Epoch 2/5\n",
      "1241/1241 [==============================] - 2s 2ms/step - loss: 0.6507 - accuracy: 0.6152 - precision_23: 0.5751 - recall_23: 0.3421\n",
      "Epoch 3/5\n",
      "1241/1241 [==============================] - 2s 2ms/step - loss: 0.6494 - accuracy: 0.6180 - precision_23: 0.5867 - recall_23: 0.3255\n",
      "Epoch 4/5\n",
      "1241/1241 [==============================] - 2s 2ms/step - loss: 0.6488 - accuracy: 0.6169 - precision_23: 0.5832 - recall_23: 0.3274\n",
      "Epoch 5/5\n",
      "1241/1241 [==============================] - 2s 2ms/step - loss: 0.6489 - accuracy: 0.6190 - precision_23: 0.5884 - recall_23: 0.3278\n",
      "Test size 0.10 + batch size 32 = [0.648949146270752, 0.6207756996154785, 0.5721709728240967, 0.3970184624195099]\n",
      "Epoch 1/5\n",
      "1034/1034 [==============================] - 4s 2ms/step - loss: 0.6612 - accuracy: 0.6056 - precision_24: 0.5596 - recall_24: 0.3131\n",
      "Epoch 2/5\n",
      "1034/1034 [==============================] - 2s 2ms/step - loss: 0.6513 - accuracy: 0.6190 - precision_24: 0.5827 - recall_24: 0.3467\n",
      "Epoch 3/5\n",
      "1034/1034 [==============================] - 2s 2ms/step - loss: 0.6499 - accuracy: 0.6202 - precision_24: 0.5909 - recall_24: 0.3291\n",
      "Epoch 4/5\n",
      "1034/1034 [==============================] - 2s 2ms/step - loss: 0.6499 - accuracy: 0.6179 - precision_24: 0.5827 - recall_24: 0.3374\n",
      "Epoch 5/5\n",
      "1034/1034 [==============================] - 2s 2ms/step - loss: 0.6491 - accuracy: 0.6203 - precision_24: 0.5896 - recall_24: 0.3342\n",
      "Test size 0.25 + batch size 32 = [0.6500743627548218, 0.6180539727210999, 0.5603633522987366, 0.43490663170814514]\n",
      "Epoch 1/5\n",
      "827/827 [==============================] - 2s 2ms/step - loss: 0.6701 - accuracy: 0.5968 - precision_25: 0.5475 - recall_25: 0.3102\n",
      "Epoch 2/5\n",
      "827/827 [==============================] - 2s 3ms/step - loss: 0.6549 - accuracy: 0.6139 - precision_25: 0.5764 - recall_25: 0.3539\n",
      "Epoch 3/5\n",
      "827/827 [==============================] - 1s 2ms/step - loss: 0.6525 - accuracy: 0.6162 - precision_25: 0.5817 - recall_25: 0.3534\n",
      "Epoch 4/5\n",
      "827/827 [==============================] - 1s 2ms/step - loss: 0.6517 - accuracy: 0.6182 - precision_25: 0.5849 - recall_25: 0.3578\n",
      "Epoch 5/5\n",
      "827/827 [==============================] - 2s 3ms/step - loss: 0.6512 - accuracy: 0.6159 - precision_25: 0.5815 - recall_25: 0.3511\n",
      "Test size 0.40 + batch size 32 = [0.647882878780365, 0.622249960899353, 0.5903716087341309, 0.3385716676712036]\n"
     ]
    }
   ],
   "source": [
    "#Dividir em conjunto de treino e conjunto de teste\n",
    "import json\n",
    "jsonFile = open(\"data_split.json\", \"w\")\n",
    "jsonTxt = ''\n",
    "b= 0\n",
    "a = 0.10\n",
    "while b < 32:\n",
    "  b+=16\n",
    "  while a < 0.50:\n",
    "    X_train, X_test, y_train, y_test = train_test_split(X, y, test_size=a, random_state=18)\n",
    "\n",
    "    #---------------------Cirar a Rede Neuronal Artificial--------------------------\n",
    "    import keras\n",
    "    from keras.models import Sequential\n",
    "    from keras.layers import Dense\n",
    "    from numpy import loadtxt\n",
    "\n",
    "    model = Sequential()\n",
    "\n",
    "    #Adicionar a Input Layer e a primeira hidden layers\n",
    "    model.add(Dense(12, activation='relu'))\n",
    "    model.add(Dense(32, activation='relu'))\n",
    "    model.add(Dense(1, activation='sigmoid'))\n",
    "\n",
    "    #Compiling the ANN\n",
    "    model.compile(loss='binary_crossentropy', optimizer='adam', metrics=['accuracy',keras.metrics.Precision(),keras.metrics.Recall()])\n",
    "\n",
    "    model.fit(X_train, y_train, epochs=5, batch_size=b)\n",
    "    accuracy = model.evaluate(X, y, verbose=0)\n",
    "    data = {}\n",
    "    data['Modelo']='Sequential'\n",
    "    data['Test_size']='{:.2f}'.format(a)\n",
    "    data['Batch_size']=b\n",
    "    data['Loss_Acc_Prec_Recall']=accuracy\n",
    "#    jsonString = json.dumps(data,separators=('},',\",\"))\n",
    "    jsonString = json.dumps(data)\n",
    "    jsonTxt += jsonString+',\\n'\n",
    "    print('Test size {:.2f} + batch size {} = {}'.format(a,b,accuracy))\n",
    "    a +=0.15\n",
    "  a = 0.10\n",
    "jsonFile.write('['+jsonTxt+']')\n",
    "jsonFile.close()\n"
   ]
  },
  {
   "cell_type": "code",
   "execution_count": 15,
   "metadata": {
    "execution": {
     "iopub.execute_input": "2022-05-30T21:55:57.341658Z",
     "iopub.status.busy": "2022-05-30T21:55:57.341193Z"
    },
    "pycharm": {
     "name": "#%%\n"
    },
    "trusted": true
   },
   "outputs": [
    {
     "name": "stdout",
     "output_type": "stream",
     "text": [
      "Requirement already satisfied: ann_visualizer in c:\\users\\utilizador\\trabalhos\\pythonprojects\\lib\\site-packages (2.5)\n"
     ]
    },
    {
     "name": "stderr",
     "output_type": "stream",
     "text": [
      "WARNING: You are using pip version 21.3.1; however, version 22.1.2 is available.\n",
      "You should consider upgrading via the 'C:\\Users\\utilizador\\Trabalhos\\pythonProjects\\Scripts\\python.exe -m pip install --upgrade pip' command.\n"
     ]
    },
    {
     "name": "stdout",
     "output_type": "stream",
     "text": [
      "Requirement already satisfied: graphviz in c:\\users\\utilizador\\trabalhos\\pythonprojects\\lib\\site-packages (0.20)\n"
     ]
    },
    {
     "name": "stderr",
     "output_type": "stream",
     "text": [
      "WARNING: You are using pip version 21.3.1; however, version 22.1.2 is available.\n",
      "You should consider upgrading via the 'C:\\Users\\utilizador\\Trabalhos\\pythonProjects\\Scripts\\python.exe -m pip install --upgrade pip' command.\n"
     ]
    }
   ],
   "source": [
    "#Grafico da rede neuronal\n",
    "!pip3 install ann_visualizer\n",
    "!pip install graphviz"
   ]
  },
  {
   "cell_type": "code",
   "execution_count": 16,
   "metadata": {
    "execution": {
     "iopub.execute_input": "2022-05-30T21:52:11.860752Z",
     "iopub.status.busy": "2022-05-30T21:52:11.859624Z",
     "iopub.status.idle": "2022-05-30T21:55:14.341386Z",
     "shell.execute_reply": "2022-05-30T21:55:14.339580Z",
     "shell.execute_reply.started": "2022-05-30T21:52:11.860710Z"
    },
    "pycharm": {
     "name": "#%%\n"
    },
    "trusted": true
   },
   "outputs": [],
   "source": [
    "\n",
    "#from ann_visualizer.visualize import ann_viz;\n",
    "#ann_viz(model, title=\"Visualização da Rede Neuronal Vitorias\")"
   ]
  },
  {
   "cell_type": "code",
   "execution_count": 17,
   "metadata": {
    "pycharm": {
     "name": "#%%\n"
    }
   },
   "outputs": [
    {
     "name": "stdout",
     "output_type": "stream",
     "text": [
      "Equipa da casa ganha\n",
      "Requirement already satisfied: ann_visualizer in c:\\users\\utilizador\\trabalhos\\pythonprojects\\lib\\site-packages (2.5)\n"
     ]
    },
    {
     "name": "stderr",
     "output_type": "stream",
     "text": [
      "WARNING: You are using pip version 21.3.1; however, version 22.1.2 is available.\n",
      "You should consider upgrading via the 'C:\\Users\\utilizador\\Trabalhos\\pythonProjects\\Scripts\\python.exe -m pip install --upgrade pip' command.\n",
      "WARNING: You are using pip version 21.3.1; however, version 22.1.2 is available.\n",
      "You should consider upgrading via the 'C:\\Users\\utilizador\\Trabalhos\\pythonProjects\\Scripts\\python.exe -m pip install --upgrade pip' command.\n"
     ]
    },
    {
     "name": "stdout",
     "output_type": "stream",
     "text": [
      "Requirement already satisfied: graphviz in c:\\users\\utilizador\\trabalhos\\pythonprojects\\lib\\site-packages (0.20)\n"
     ]
    }
   ],
   "source": [
    "#Carregar novo dado\n",
    "dataset = pd.read_csv('../files/t1_win_Sample.csv')\n",
    "X_new = dataset.drop('t1_fl_match_win', axis=1)   #Colunas usadas para calcular a Vitoria. Contêm as features\n",
    "\n",
    "#Fazer a previsão de y - Vitoria\n",
    "predictions = model.predict(X_new)\n",
    "\n",
    "if predictions[0][0] == 0:\n",
    "  print(\"Equipa da casa perde\")\n",
    "else:\n",
    "  print(\"Equipa da casa ganha\")\n",
    "\n",
    "#Grafico da rede neuronal\n",
    "!pip3 install ann_visualizer\n",
    "!pip install graphviz\n",
    "\n",
    "from ann_visualizer.visualize import ann_viz;\n",
    "ann_viz(model, title=\"Visualização da Rede Neuronal do Resultado da equipa da casa\")"
   ]
  }
 ],
 "metadata": {
  "kernelspec": {
   "display_name": "Python 3.9.13 64-bit (windows store)",
   "language": "python",
   "name": "python3"
  },
  "language_info": {
   "codemirror_mode": {
    "name": "ipython",
    "version": 3
   },
   "file_extension": ".py",
   "mimetype": "text/x-python",
   "name": "python",
   "nbconvert_exporter": "python",
   "pygments_lexer": "ipython3",
   "version": "3.9.13"
  },
  "vscode": {
   "interpreter": {
    "hash": "25b9d76d03052f04b853783704bf9224d9817fdb32617c036d1776cea483770c"
   }
  }
 },
 "nbformat": 4,
 "nbformat_minor": 4
}