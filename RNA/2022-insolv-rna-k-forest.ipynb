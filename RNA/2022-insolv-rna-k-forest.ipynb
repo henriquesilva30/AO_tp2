{
 "metadata": {
  "kernelspec": {
   "language": "python",
   "display_name": "Python 3",
   "name": "python3"
  },
  "language_info": {
   "name": "python",
   "version": "3.7.12",
   "mimetype": "text/x-python",
   "codemirror_mode": {
    "name": "ipython",
    "version": 3
   },
   "pygments_lexer": "ipython3",
   "nbconvert_exporter": "python",
   "file_extension": ".py"
  }
 },
 "nbformat_minor": 4,
 "nbformat": 4,
 "cells": [
  {
   "cell_type": "code",
   "source": [
    "# -*- coding: utf-8 -*-\n",
    " \n",
    "\n",
    "#Imports\n",
    "import numpy as np\n",
    "import matplotlib.pyplot as plt\n",
    "import pandas as pd\n",
    "from tensorflow import keras\n",
    "from sklearn.preprocessing import StandardScaler\n",
    "from sklearn.model_selection import cross_val_score\n",
    "from sklearn.pipeline import make_pipeline\n",
    "from sklearn.preprocessing import StandardScaler\n",
    "from sklearn.svm import SVC\n",
    "from sklearn.ensemble import RandomForestClassifier\n",
    "from sklearn.model_selection import StratifiedKFold\n",
    "\n",
    "\n",
    "#Importar o Dataset\n",
    " \n",
    "dataset = pd.read_csv('Insol_3.csv',sep=';',header=0)\n",
    "\n",
    "X = dataset.drop('Insolvencia', axis=1)   #Colunas usadas para calcular a Insolvencia. Contêm as features\n",
    "y= dataset.Insolvencia                    #Parametro a ser calculado\n",
    "X.head\n",
    "\n",
    "#\n",
    "# Create an instance of Pipeline\n",
    "#\n",
    "pipeline = make_pipeline(StandardScaler(), RandomForestClassifier(n_estimators=100, max_depth=1))\n",
    "#\n",
    "# Create an instance of StratifiedKFold which can be used to get indices of different training and test folds\n",
    "#\n",
    "strtfdKFold = StratifiedKFold(n_splits=20)\n",
    "kfold = strtfdKFold.split(X, y)\n",
    "scores = []\n",
    "#\n",
    "#\n",
    "#\n",
    "for k, (train, test) in enumerate(kfold):\n",
    "    pipeline.fit(X.iloc[train, :], y.iloc[train])\n",
    "    score = pipeline.score(X.iloc[test, :], y.iloc[test])\n",
    "    scores.append(score)\n",
    "    print('Fold: %2d, Training/Test Split Distribution: %s, Accuracy: %.3f' % (k+1, np.bincount(y.iloc[train]), score))\n",
    "\n",
    "print('\\n\\nCross-Validation accuracy: %.3f +/- %.3f' %(np.mean(scores), np.std(scores)))\n"
   ],
   "metadata": {
    "execution": {
     "iopub.status.busy": "2022-05-30T21:49:37.542384Z",
     "iopub.execute_input": "2022-05-30T21:49:37.543270Z",
     "iopub.status.idle": "2022-05-30T21:49:37.621743Z",
     "shell.execute_reply.started": "2022-05-30T21:49:37.543230Z",
     "shell.execute_reply": "2022-05-30T21:49:37.620837Z"
    },
    "trusted": true,
    "pycharm": {
     "name": "#%%\n"
    }
   },
   "execution_count": 34,
   "outputs": [
    {
     "name": "stdout",
     "output_type": "stream",
     "text": [
      "Fold:  1, Training/Test Split Distribution: [2096  505], Accuracy: 0.964\n",
      "Fold:  2, Training/Test Split Distribution: [2096  505], Accuracy: 0.985\n",
      "Fold:  3, Training/Test Split Distribution: [2096  505], Accuracy: 0.971\n",
      "Fold:  4, Training/Test Split Distribution: [2096  505], Accuracy: 0.978\n",
      "Fold:  5, Training/Test Split Distribution: [2096  505], Accuracy: 0.978\n",
      "Fold:  6, Training/Test Split Distribution: [2096  505], Accuracy: 0.978\n",
      "Fold:  7, Training/Test Split Distribution: [2096  505], Accuracy: 1.000\n",
      "Fold:  8, Training/Test Split Distribution: [2097  504], Accuracy: 0.985\n",
      "Fold:  9, Training/Test Split Distribution: [2097  504], Accuracy: 0.978\n",
      "Fold: 10, Training/Test Split Distribution: [2097  504], Accuracy: 0.985\n",
      "Fold: 11, Training/Test Split Distribution: [2097  504], Accuracy: 0.964\n",
      "Fold: 12, Training/Test Split Distribution: [2097  504], Accuracy: 0.934\n",
      "Fold: 13, Training/Test Split Distribution: [2097  504], Accuracy: 1.000\n",
      "Fold: 14, Training/Test Split Distribution: [2097  504], Accuracy: 0.978\n",
      "Fold: 15, Training/Test Split Distribution: [2097  504], Accuracy: 0.978\n",
      "Fold: 16, Training/Test Split Distribution: [2097  504], Accuracy: 1.000\n",
      "Fold: 17, Training/Test Split Distribution: [2097  504], Accuracy: 0.993\n",
      "Fold: 18, Training/Test Split Distribution: [2097  504], Accuracy: 1.000\n",
      "Fold: 19, Training/Test Split Distribution: [2097  505], Accuracy: 0.993\n",
      "Fold: 20, Training/Test Split Distribution: [2097  505], Accuracy: 0.956\n",
      "\n",
      "\n",
      "Cross-Validation accuracy: 0.980 +/- 0.016\n"
     ]
    }
   ]
  },
  {
   "cell_type": "code",
   "source": [
    "kfold = strtfdKFold.split(X, y)\n",
    "scores = []\n",
    "\n",
    "scores = cross_val_score(pipeline, X, y, cv=10, n_jobs=1)\n",
    "print('Cross Validation accuracy scores: %s' % scores)\n",
    "print('Cross Validation accuracy: %.3f +/- %.3f' % (np.mean(scores),np.std(scores)))"
   ],
   "metadata": {
    "execution": {
     "iopub.status.busy": "2022-05-30T21:51:17.316448Z",
     "iopub.execute_input": "2022-05-30T21:51:17.316903Z",
     "iopub.status.idle": "2022-05-30T21:52:05.629120Z",
     "shell.execute_reply.started": "2022-05-30T21:51:17.316869Z",
     "shell.execute_reply": "2022-05-30T21:52:05.628253Z"
    },
    "trusted": true,
    "pycharm": {
     "name": "#%%\n"
    }
   },
   "execution_count": 42,
   "outputs": [
    {
     "name": "stdout",
     "output_type": "stream",
     "text": [
      "Cross Validation accuracy scores: [0.97445255 0.97080292 0.98175182 0.98905109 0.98540146 0.96350365\n",
      " 0.98905109 0.99270073 0.996337   0.97435897]\n",
      "Cross Validation accuracy: 0.982 +/- 0.010\n"
     ]
    }
   ]
  },
  {
   "cell_type": "code",
   "source": [],
   "metadata": {
    "execution": {
     "iopub.status.busy": "2022-05-30T21:55:57.341193Z",
     "iopub.execute_input": "2022-05-30T21:55:57.341658Z"
    },
    "trusted": true,
    "pycharm": {
     "name": "#%%\n",
     "is_executing": true
    }
   },
   "execution_count": null,
   "outputs": []
  },
  {
   "cell_type": "code",
   "source": [],
   "metadata": {
    "execution": {
     "iopub.status.busy": "2022-05-30T21:52:11.859624Z",
     "iopub.execute_input": "2022-05-30T21:52:11.860752Z",
     "iopub.status.idle": "2022-05-30T21:55:14.341386Z",
     "shell.execute_reply.started": "2022-05-30T21:52:11.860710Z",
     "shell.execute_reply": "2022-05-30T21:55:14.339580Z"
    },
    "trusted": true,
    "pycharm": {
     "name": "#%%\n"
    }
   },
   "execution_count": 5,
   "outputs": []
  },
  {
   "cell_type": "code",
   "source": [],
   "metadata": {
    "pycharm": {
     "name": "#%%\n",
     "is_executing": true
    }
   },
   "execution_count": null,
   "outputs": []
  }
 ]
}