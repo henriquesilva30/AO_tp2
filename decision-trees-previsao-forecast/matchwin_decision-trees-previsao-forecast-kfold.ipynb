{
 "cells": [
  {
   "cell_type": "code",
   "execution_count": 1,
   "metadata": {
    "collapsed": true,
    "pycharm": {
     "name": "#%%\n"
    }
   },
   "outputs": [
    {
     "data": {
      "text/plain": "       id_match_competition  t1_all_total5_fl_match_win  \\\n43818                  1069                           1   \n43819                   243                           2   \n43820                   214                           1   \n43821                   257                           1   \n43822                  8613                           3   \n\n       t1_all_total5_fl_match_draw  t1_all_total5_fl_match_lost  \\\n43818                            4                            0   \n43819                            1                            2   \n43820                            3                            1   \n43821                            1                            3   \n43822                            2                            0   \n\n       t1_all_total10_fl_match_win  t1_all_total10_fl_match_draw  \\\n43818                            3                             6   \n43819                            4                             2   \n43820                            5                             3   \n43821                            1                             4   \n43822                            7                             2   \n\n       t1_all_total10_fl_match_lost  t2_all_total5_fl_match_win  \\\n43818                             1                           3   \n43819                             4                           2   \n43820                             2                           3   \n43821                             5                           1   \n43822                             1                           4   \n\n       t2_all_total5_fl_match_draw  t2_all_total5_fl_match_lost  ...  \\\n43818                            1                            1  ...   \n43819                            1                            2  ...   \n43820                            0                            2  ...   \n43821                            2                            2  ...   \n43822                            0                            1  ...   \n\n       t1_h2h_home_total10_fl_match_win  t1_h2h_home_total10_fl_match_draw  \\\n43818                                 0                                  1   \n43819                                 0                                  0   \n43820                                 2                                  2   \n43821                                 1                                  2   \n43822                                 0                                  0   \n\n       t1_h2h_home_total10_fl_match_lost  t2_h2h_away_total5_fl_match_win  \\\n43818                                  0                                0   \n43819                                  0                                0   \n43820                                  0                                0   \n43821                                  2                                2   \n43822                                  1                                1   \n\n       t2_h2h_away_total5_fl_match_draw  t2_h2h_away_total5_fl_match_lost  \\\n43818                                 1                                 0   \n43819                                 0                                 0   \n43820                                 2                                 2   \n43821                                 2                                 1   \n43822                                 0                                 0   \n\n       t2_h2h_away_total10_fl_match_win  t2_h2h_away_total10_fl_match_draw  \\\n43818                                 0                                  1   \n43819                                 0                                  0   \n43820                                 0                                  2   \n43821                                 2                                  2   \n43822                                 1                                  0   \n\n       t2_h2h_away_total10_fl_match_lost  t1_fl_match_win  \n43818                                  0                0  \n43819                                  0                1  \n43820                                  2                1  \n43821                                  1                0  \n43822                                  0                0  \n\n[5 rows x 50 columns]",
      "text/html": "<div>\n<style scoped>\n    .dataframe tbody tr th:only-of-type {\n        vertical-align: middle;\n    }\n\n    .dataframe tbody tr th {\n        vertical-align: top;\n    }\n\n    .dataframe thead th {\n        text-align: right;\n    }\n</style>\n<table border=\"1\" class=\"dataframe\">\n  <thead>\n    <tr style=\"text-align: right;\">\n      <th></th>\n      <th>id_match_competition</th>\n      <th>t1_all_total5_fl_match_win</th>\n      <th>t1_all_total5_fl_match_draw</th>\n      <th>t1_all_total5_fl_match_lost</th>\n      <th>t1_all_total10_fl_match_win</th>\n      <th>t1_all_total10_fl_match_draw</th>\n      <th>t1_all_total10_fl_match_lost</th>\n      <th>t2_all_total5_fl_match_win</th>\n      <th>t2_all_total5_fl_match_draw</th>\n      <th>t2_all_total5_fl_match_lost</th>\n      <th>...</th>\n      <th>t1_h2h_home_total10_fl_match_win</th>\n      <th>t1_h2h_home_total10_fl_match_draw</th>\n      <th>t1_h2h_home_total10_fl_match_lost</th>\n      <th>t2_h2h_away_total5_fl_match_win</th>\n      <th>t2_h2h_away_total5_fl_match_draw</th>\n      <th>t2_h2h_away_total5_fl_match_lost</th>\n      <th>t2_h2h_away_total10_fl_match_win</th>\n      <th>t2_h2h_away_total10_fl_match_draw</th>\n      <th>t2_h2h_away_total10_fl_match_lost</th>\n      <th>t1_fl_match_win</th>\n    </tr>\n  </thead>\n  <tbody>\n    <tr>\n      <th>43818</th>\n      <td>1069</td>\n      <td>1</td>\n      <td>4</td>\n      <td>0</td>\n      <td>3</td>\n      <td>6</td>\n      <td>1</td>\n      <td>3</td>\n      <td>1</td>\n      <td>1</td>\n      <td>...</td>\n      <td>0</td>\n      <td>1</td>\n      <td>0</td>\n      <td>0</td>\n      <td>1</td>\n      <td>0</td>\n      <td>0</td>\n      <td>1</td>\n      <td>0</td>\n      <td>0</td>\n    </tr>\n    <tr>\n      <th>43819</th>\n      <td>243</td>\n      <td>2</td>\n      <td>1</td>\n      <td>2</td>\n      <td>4</td>\n      <td>2</td>\n      <td>4</td>\n      <td>2</td>\n      <td>1</td>\n      <td>2</td>\n      <td>...</td>\n      <td>0</td>\n      <td>0</td>\n      <td>0</td>\n      <td>0</td>\n      <td>0</td>\n      <td>0</td>\n      <td>0</td>\n      <td>0</td>\n      <td>0</td>\n      <td>1</td>\n    </tr>\n    <tr>\n      <th>43820</th>\n      <td>214</td>\n      <td>1</td>\n      <td>3</td>\n      <td>1</td>\n      <td>5</td>\n      <td>3</td>\n      <td>2</td>\n      <td>3</td>\n      <td>0</td>\n      <td>2</td>\n      <td>...</td>\n      <td>2</td>\n      <td>2</td>\n      <td>0</td>\n      <td>0</td>\n      <td>2</td>\n      <td>2</td>\n      <td>0</td>\n      <td>2</td>\n      <td>2</td>\n      <td>1</td>\n    </tr>\n    <tr>\n      <th>43821</th>\n      <td>257</td>\n      <td>1</td>\n      <td>1</td>\n      <td>3</td>\n      <td>1</td>\n      <td>4</td>\n      <td>5</td>\n      <td>1</td>\n      <td>2</td>\n      <td>2</td>\n      <td>...</td>\n      <td>1</td>\n      <td>2</td>\n      <td>2</td>\n      <td>2</td>\n      <td>2</td>\n      <td>1</td>\n      <td>2</td>\n      <td>2</td>\n      <td>1</td>\n      <td>0</td>\n    </tr>\n    <tr>\n      <th>43822</th>\n      <td>8613</td>\n      <td>3</td>\n      <td>2</td>\n      <td>0</td>\n      <td>7</td>\n      <td>2</td>\n      <td>1</td>\n      <td>4</td>\n      <td>0</td>\n      <td>1</td>\n      <td>...</td>\n      <td>0</td>\n      <td>0</td>\n      <td>1</td>\n      <td>1</td>\n      <td>0</td>\n      <td>0</td>\n      <td>1</td>\n      <td>0</td>\n      <td>0</td>\n      <td>0</td>\n    </tr>\n  </tbody>\n</table>\n<p>5 rows × 50 columns</p>\n</div>"
     },
     "execution_count": 1,
     "metadata": {},
     "output_type": "execute_result"
    }
   ],
   "source": [
    "# -*- coding: utf-8 -*-\n",
    "## Exemplo de Criação de um modelo de Previsão/Classificação usando as Arvores de Decisão\n",
    "## Example of Creating a Forecast/Classification model using Decision Trees\n",
    "\n",
    "## import\n",
    "import numpy as np\n",
    "import pandas as pd\n",
    "import seaborn as sns\n",
    "from sklearn.model_selection import train_test_split, cross_validate\n",
    "from sklearn.tree import DecisionTreeClassifier, ExtraTreeClassifier\n",
    "from sklearn import metrics\n",
    "import joblib #better then pickle\n",
    "\n",
    "\n",
    "## carregar o ficheiro resultados para um dataframe do pandas dResult\n",
    "## load the Insol file into a pandas dResult dataframe\n",
    "dResult = pd.read_csv('../files/t1_win_NullCorretion.csv')\n",
    "\n",
    "\n",
    "\n",
    "dResult.head(2)     #Mostra as primeiras n linhas do conjunto de dados\n",
    "dResult.tail(5)     #Mostra as últimas n linhas do conjunto de dados\n"
   ]
  },
  {
   "cell_type": "code",
   "execution_count": 2,
   "metadata": {
    "collapsed": false,
    "pycharm": {
     "name": "#%%\n"
    }
   },
   "outputs": [],
   "source": [
    "## Pre-processamento dividir os dados em conjunto de Treino e Teste\n",
    "## Pre-processing split data into Training and Test sets\n",
    "x = dResult.drop('t1_fl_match_win', axis=1)   #Todas as tabelas que são usadas para fazer a predict\n",
    "y = dResult.t1_fl_match_win                   #Resultados entre 1 e 0 Vitoria ou não Vitoria)\n",
    "\n"
   ]
  },
  {
   "cell_type": "code",
   "execution_count": 3,
   "metadata": {
    "collapsed": false,
    "pycharm": {
     "name": "#%%\n"
    }
   },
   "outputs": [],
   "source": [
    "def modelDecisionTreeClassifier():\n",
    "    from sklearn.model_selection import KFold, StratifiedKFold, cross_val_score\n",
    "    from sklearn import linear_model, tree, ensemble\n",
    "\n",
    "    kf =KFold(n_splits=5, shuffle=True, random_state=42)\n",
    "# split()  method generate indices to split data into training and test set.\n",
    "    for train_index, test_index in kf.split(x, y):\n",
    "        scoresR2 = cross_validate(tree.DecisionTreeClassifier(random_state=42), x, y, scoring=['neg_mean_squared_error','r2','max_error'], cv=kf, return_estimator=True)\n",
    "\n",
    "    print (\"Resultados do modelo Extra Tree Classifier\\n\")\n",
    "    print(\"Metrics : \", scoresR2)\n",
    "    rfc_fit = scoresR2['estimator']\n",
    "    rfc_fit = rfc_fit[0]\n",
    "    filename = 'modelo_final-kf.sav'\n",
    "    joblib.dump(rfc_fit, open(filename, 'wb'))\n",
    "\n"
   ]
  },
  {
   "cell_type": "code",
   "execution_count": 4,
   "metadata": {
    "collapsed": false,
    "pycharm": {
     "name": "#%%\n"
    }
   },
   "outputs": [],
   "source": [
    "def modelExtraTreeClassifier():\n",
    "    from sklearn.model_selection import KFold, StratifiedKFold, cross_val_score\n",
    "    from sklearn import linear_model, tree, ensemble\n",
    "\n",
    "    kf =KFold(n_splits=5, shuffle=True, random_state=42)\n",
    "# split()  method generate indices to split data into training and test set.\n",
    "    for train_index, test_index in kf.split(x, y):\n",
    "        scoresR2 = cross_validate(tree.DecisionTreeClassifier(random_state=42), x, y, scoring=['neg_mean_squared_error','r2','max_error'], cv=kf, return_estimator=True)\n",
    "\n",
    "    print (\"Resultados do modelo Decision Tree Classifier\\n\")\n",
    "    print(\"Metrics : \", scoresR2)\n"
   ]
  },
  {
   "cell_type": "code",
   "execution_count": 5,
   "metadata": {
    "collapsed": false,
    "pycharm": {
     "name": "#%%\n"
    }
   },
   "outputs": [],
   "source": [
    "def modelDecisionTreeRegressor():\n",
    "    from sklearn.model_selection import KFold, StratifiedKFold, cross_val_score\n",
    "    from sklearn import linear_model, tree, ensemble\n",
    "\n",
    "    kf =KFold(n_splits=5, shuffle=True, random_state=42)\n",
    "# split()  method generate indices to split data into training and test set.\n",
    "    for train_index, test_index in kf.split(x, y):\n",
    "        scoresR2 = cross_validate(tree.DecisionTreeClassifier(random_state=42), x, y, scoring=['neg_mean_squared_error','r2','max_error'], cv=kf, return_estimator=True)\n",
    "\n",
    "    print (\"Resultados do modelo Decision Tree Classifier\\n\")\n",
    "    print(\"Metrics : \", scoresR2)\n",
    "\n",
    "\n"
   ]
  },
  {
   "cell_type": "code",
   "execution_count": 6,
   "metadata": {
    "collapsed": false,
    "pycharm": {
     "name": "#%%\n"
    }
   },
   "outputs": [
    {
     "name": "stdout",
     "output_type": "stream",
     "text": [
      "Resultados do modelo Decision Tree Regression\n",
      "\n",
      "Resultado do r2 :[-0.85115962 -0.8919916  -0.89331959 -0.86390885 -0.88492593]\n",
      "Resultado do NMSE :[-0.44946997 -0.46273647 -0.46267592 -0.45562945 -0.45818947]\n",
      "Resultado do ME :[-1. -1. -1. -1. -1.]\n",
      "\n",
      "Resultados do modelo Decision Tree Classifier\n",
      "\n",
      "Resultado do r2 :[-0.9260572  -0.89297813 -0.8945547  -0.90305448 -0.88137136]\n",
      "Resultado do NMSE :[-0.46765545 -0.46297775 -0.46297775 -0.46519854 -0.45732542]\n",
      "Resultado do ME :[-1 -1 -1 -1 -1]\n",
      "\n",
      "Resultados do modelo Extra Tree Classifier\n",
      "\n",
      "Metrics :  {'fit_time': array([0.71899676, 0.79799843, 0.8549993 , 1.0259974 , 0.91763353]), 'score_time': array([0.00600004, 0.00700164, 0.00900364, 0.00700164, 0.00900292]), 'estimator': [DecisionTreeClassifier(random_state=42), DecisionTreeClassifier(random_state=42), DecisionTreeClassifier(random_state=42), DecisionTreeClassifier(random_state=42), DecisionTreeClassifier(random_state=42)], 'test_neg_mean_squared_error': array([-0.45396463, -0.46525956, -0.46023959, -0.45310361, -0.45915107]), 'test_r2': array([-0.86967104, -0.90230774, -0.88334985, -0.853576  , -0.88888182]), 'test_max_error': array([-1, -1, -1, -1, -1])}\n"
     ]
    }
   ],
   "source": [
    "modelDecisionTreeRegressor()\n",
    "modelExtraTreeClassifier()\n",
    "modelDecisionTreeClassifier()"
   ]
  },
  {
   "cell_type": "code",
   "execution_count": 12,
   "outputs": [
    {
     "ename": "ValueError",
     "evalue": "Classification metrics can't handle a mix of multiclass-multioutput and binary targets",
     "output_type": "error",
     "traceback": [
      "\u001B[1;31m---------------------------------------------------------------------------\u001B[0m",
      "\u001B[1;31mValueError\u001B[0m                                Traceback (most recent call last)",
      "Input \u001B[1;32mIn [12]\u001B[0m, in \u001B[0;36m<cell line: 4>\u001B[1;34m()\u001B[0m\n\u001B[0;32m      1\u001B[0m \u001B[38;5;66;03m##Matriz da confusão\u001B[39;00m\n\u001B[0;32m      2\u001B[0m \u001B[38;5;28;01mfrom\u001B[39;00m \u001B[38;5;21;01msklearn\u001B[39;00m\u001B[38;5;21;01m.\u001B[39;00m\u001B[38;5;21;01mmetrics\u001B[39;00m \u001B[38;5;28;01mimport\u001B[39;00m confusion_matrix\n\u001B[0;32m      4\u001B[0m pd\u001B[38;5;241m.\u001B[39mDataFrame(\n\u001B[1;32m----> 5\u001B[0m     \u001B[43mconfusion_matrix\u001B[49m\u001B[43m(\u001B[49m\u001B[43mx\u001B[49m\u001B[43m,\u001B[49m\u001B[43m \u001B[49m\u001B[43my\u001B[49m\u001B[43m)\u001B[49m,\n\u001B[0;32m      6\u001B[0m     columns\u001B[38;5;241m=\u001B[39m[\u001B[38;5;124m'\u001B[39m\u001B[38;5;124mPrevisão da t1_home ganhar \u001B[39m\u001B[38;5;124m'\u001B[39m, \u001B[38;5;124m'\u001B[39m\u001B[38;5;124mPrevisão da  t1_home não ganhar\u001B[39m\u001B[38;5;124m'\u001B[39m],\n\u001B[0;32m      7\u001B[0m     index\u001B[38;5;241m=\u001B[39m[\u001B[38;5;124m'\u001B[39m\u001B[38;5;124mRealidade de ganhar\u001B[39m\u001B[38;5;124m'\u001B[39m, \u001B[38;5;124m'\u001B[39m\u001B[38;5;124mRealidade de não ganhar\u001B[39m\u001B[38;5;124m'\u001B[39m]\n\u001B[0;32m      8\u001B[0m )\n\u001B[0;32m     10\u001B[0m \u001B[38;5;28;01mfrom\u001B[39;00m \u001B[38;5;21;01msklearn\u001B[39;00m \u001B[38;5;28;01mimport\u001B[39;00m tree\n\u001B[0;32m     12\u001B[0m model \u001B[38;5;241m=\u001B[39m tree\u001B[38;5;241m.\u001B[39mDecisionTreeClassifier()\n",
      "File \u001B[1;32m~\\Trabalhos\\pythonProjects\\lib\\site-packages\\sklearn\\metrics\\_classification.py:307\u001B[0m, in \u001B[0;36mconfusion_matrix\u001B[1;34m(y_true, y_pred, labels, sample_weight, normalize)\u001B[0m\n\u001B[0;32m    222\u001B[0m \u001B[38;5;28;01mdef\u001B[39;00m \u001B[38;5;21mconfusion_matrix\u001B[39m(\n\u001B[0;32m    223\u001B[0m     y_true, y_pred, \u001B[38;5;241m*\u001B[39m, labels\u001B[38;5;241m=\u001B[39m\u001B[38;5;28;01mNone\u001B[39;00m, sample_weight\u001B[38;5;241m=\u001B[39m\u001B[38;5;28;01mNone\u001B[39;00m, normalize\u001B[38;5;241m=\u001B[39m\u001B[38;5;28;01mNone\u001B[39;00m\n\u001B[0;32m    224\u001B[0m ):\n\u001B[0;32m    225\u001B[0m     \u001B[38;5;124;03m\"\"\"Compute confusion matrix to evaluate the accuracy of a classification.\u001B[39;00m\n\u001B[0;32m    226\u001B[0m \n\u001B[0;32m    227\u001B[0m \u001B[38;5;124;03m    By definition a confusion matrix :math:`C` is such that :math:`C_{i, j}`\u001B[39;00m\n\u001B[1;32m   (...)\u001B[0m\n\u001B[0;32m    305\u001B[0m \u001B[38;5;124;03m    (0, 2, 1, 1)\u001B[39;00m\n\u001B[0;32m    306\u001B[0m \u001B[38;5;124;03m    \"\"\"\u001B[39;00m\n\u001B[1;32m--> 307\u001B[0m     y_type, y_true, y_pred \u001B[38;5;241m=\u001B[39m \u001B[43m_check_targets\u001B[49m\u001B[43m(\u001B[49m\u001B[43my_true\u001B[49m\u001B[43m,\u001B[49m\u001B[43m \u001B[49m\u001B[43my_pred\u001B[49m\u001B[43m)\u001B[49m\n\u001B[0;32m    308\u001B[0m     \u001B[38;5;28;01mif\u001B[39;00m y_type \u001B[38;5;129;01mnot\u001B[39;00m \u001B[38;5;129;01min\u001B[39;00m (\u001B[38;5;124m\"\u001B[39m\u001B[38;5;124mbinary\u001B[39m\u001B[38;5;124m\"\u001B[39m, \u001B[38;5;124m\"\u001B[39m\u001B[38;5;124mmulticlass\u001B[39m\u001B[38;5;124m\"\u001B[39m):\n\u001B[0;32m    309\u001B[0m         \u001B[38;5;28;01mraise\u001B[39;00m \u001B[38;5;167;01mValueError\u001B[39;00m(\u001B[38;5;124m\"\u001B[39m\u001B[38;5;132;01m%s\u001B[39;00m\u001B[38;5;124m is not supported\u001B[39m\u001B[38;5;124m\"\u001B[39m \u001B[38;5;241m%\u001B[39m y_type)\n",
      "File \u001B[1;32m~\\Trabalhos\\pythonProjects\\lib\\site-packages\\sklearn\\metrics\\_classification.py:93\u001B[0m, in \u001B[0;36m_check_targets\u001B[1;34m(y_true, y_pred)\u001B[0m\n\u001B[0;32m     90\u001B[0m     y_type \u001B[38;5;241m=\u001B[39m {\u001B[38;5;124m\"\u001B[39m\u001B[38;5;124mmulticlass\u001B[39m\u001B[38;5;124m\"\u001B[39m}\n\u001B[0;32m     92\u001B[0m \u001B[38;5;28;01mif\u001B[39;00m \u001B[38;5;28mlen\u001B[39m(y_type) \u001B[38;5;241m>\u001B[39m \u001B[38;5;241m1\u001B[39m:\n\u001B[1;32m---> 93\u001B[0m     \u001B[38;5;28;01mraise\u001B[39;00m \u001B[38;5;167;01mValueError\u001B[39;00m(\n\u001B[0;32m     94\u001B[0m         \u001B[38;5;124m\"\u001B[39m\u001B[38;5;124mClassification metrics can\u001B[39m\u001B[38;5;124m'\u001B[39m\u001B[38;5;124mt handle a mix of \u001B[39m\u001B[38;5;132;01m{0}\u001B[39;00m\u001B[38;5;124m and \u001B[39m\u001B[38;5;132;01m{1}\u001B[39;00m\u001B[38;5;124m targets\u001B[39m\u001B[38;5;124m\"\u001B[39m\u001B[38;5;241m.\u001B[39mformat(\n\u001B[0;32m     95\u001B[0m             type_true, type_pred\n\u001B[0;32m     96\u001B[0m         )\n\u001B[0;32m     97\u001B[0m     )\n\u001B[0;32m     99\u001B[0m \u001B[38;5;66;03m# We can't have more than one value on y_type => The set is no more needed\u001B[39;00m\n\u001B[0;32m    100\u001B[0m y_type \u001B[38;5;241m=\u001B[39m y_type\u001B[38;5;241m.\u001B[39mpop()\n",
      "\u001B[1;31mValueError\u001B[0m: Classification metrics can't handle a mix of multiclass-multioutput and binary targets"
     ]
    }
   ],
   "source": [
    "\n",
    "##Matriz da confusão\n",
    "from sklearn.metrics import confusion_matrix\n",
    "\n",
    "pd.DataFrame(\n",
    "    confusion_matrix(x, y),\n",
    "    columns=['Previsão da t1_home ganhar ', 'Previsão da  t1_home não ganhar'],\n",
    "    index=['Realidade de ganhar', 'Realidade de não ganhar']\n",
    ")\n",
    "\n",
    "from sklearn import tree\n",
    "\n",
    "model = tree.DecisionTreeClassifier()\n",
    "model.fit(x_train, y_train)\n",
    "\n",
    "tree.export_graphviz(model, out_file='tree.dot', feature_names=x.columns)\n",
    "from subprocess import call\n",
    "\n",
    "call(['dot', '-T', 'png', 'tree.dot', '-o', 'tree.png'])\n",
    "\n",
    "from IPython.display import Image\n",
    "Image(filename = 'tree.png')\n"
   ],
   "metadata": {
    "collapsed": false,
    "pycharm": {
     "name": "#%%\n"
    }
   }
  },
  {
   "cell_type": "code",
   "execution_count": 10,
   "metadata": {
    "collapsed": false,
    "pycharm": {
     "name": "#%%\n"
    }
   },
   "outputs": [
    {
     "data": {
      "text/plain": "   id_match_competition  t1_all_total5_fl_match_win  \\\n0                   328                           5   \n\n   t1_all_total5_fl_match_draw  t1_all_total5_fl_match_lost  \\\n0                            0                            0   \n\n   t1_all_total10_fl_match_win  t1_all_total10_fl_match_draw  \\\n0                            6                             2   \n\n   t1_all_total10_fl_match_lost  t2_all_total5_fl_match_win  \\\n0                             0                           0   \n\n   t2_all_total5_fl_match_draw  t2_all_total5_fl_match_lost  ...  \\\n0                            0                            4  ...   \n\n   t1_h2h_home_total5_fl_match_lost  t1_h2h_home_total10_fl_match_win  \\\n0                                 0                                 4   \n\n   t1_h2h_home_total10_fl_match_draw  t1_h2h_home_total10_fl_match_lost  \\\n0                                  0                                  0   \n\n   t2_h2h_away_total5_fl_match_win  t2_h2h_away_total5_fl_match_draw  \\\n0                                0                                 0   \n\n   t2_h2h_away_total5_fl_match_lost  t2_h2h_away_total10_fl_match_win  \\\n0                                 2                                 0   \n\n   t2_h2h_away_total10_fl_match_draw  t2_h2h_away_total10_fl_match_lost  \n0                                  0                                  4  \n\n[1 rows x 49 columns]",
      "text/html": "<div>\n<style scoped>\n    .dataframe tbody tr th:only-of-type {\n        vertical-align: middle;\n    }\n\n    .dataframe tbody tr th {\n        vertical-align: top;\n    }\n\n    .dataframe thead th {\n        text-align: right;\n    }\n</style>\n<table border=\"1\" class=\"dataframe\">\n  <thead>\n    <tr style=\"text-align: right;\">\n      <th></th>\n      <th>id_match_competition</th>\n      <th>t1_all_total5_fl_match_win</th>\n      <th>t1_all_total5_fl_match_draw</th>\n      <th>t1_all_total5_fl_match_lost</th>\n      <th>t1_all_total10_fl_match_win</th>\n      <th>t1_all_total10_fl_match_draw</th>\n      <th>t1_all_total10_fl_match_lost</th>\n      <th>t2_all_total5_fl_match_win</th>\n      <th>t2_all_total5_fl_match_draw</th>\n      <th>t2_all_total5_fl_match_lost</th>\n      <th>...</th>\n      <th>t1_h2h_home_total5_fl_match_lost</th>\n      <th>t1_h2h_home_total10_fl_match_win</th>\n      <th>t1_h2h_home_total10_fl_match_draw</th>\n      <th>t1_h2h_home_total10_fl_match_lost</th>\n      <th>t2_h2h_away_total5_fl_match_win</th>\n      <th>t2_h2h_away_total5_fl_match_draw</th>\n      <th>t2_h2h_away_total5_fl_match_lost</th>\n      <th>t2_h2h_away_total10_fl_match_win</th>\n      <th>t2_h2h_away_total10_fl_match_draw</th>\n      <th>t2_h2h_away_total10_fl_match_lost</th>\n    </tr>\n  </thead>\n  <tbody>\n    <tr>\n      <th>0</th>\n      <td>328</td>\n      <td>5</td>\n      <td>0</td>\n      <td>0</td>\n      <td>6</td>\n      <td>2</td>\n      <td>0</td>\n      <td>0</td>\n      <td>0</td>\n      <td>4</td>\n      <td>...</td>\n      <td>0</td>\n      <td>4</td>\n      <td>0</td>\n      <td>0</td>\n      <td>0</td>\n      <td>0</td>\n      <td>2</td>\n      <td>0</td>\n      <td>0</td>\n      <td>4</td>\n    </tr>\n  </tbody>\n</table>\n<p>1 rows × 49 columns</p>\n</div>"
     },
     "execution_count": 10,
     "metadata": {},
     "output_type": "execute_result"
    }
   ],
   "source": [
    "# load the model from disk\n",
    "filename = 'modelo_final-kf.sav'\n",
    "loaded_model = joblib.load(open(filename, 'rb'))\n",
    "# novo registo a prever\n",
    "dNew = pd.read_csv('../files/t1_win_Sample.csv')\n",
    "dNew = dNew.drop('t1_fl_match_win', axis=1)   #Remover o campo de vitoria\n",
    "dNew.head(2)     #Mostra as primeiras n linhas do conjunto de dados   Display the first n rows of the dataset"
   ]
  },
  {
   "cell_type": "code",
   "execution_count": 11,
   "metadata": {
    "collapsed": false,
    "pycharm": {
     "name": "#%%\n"
    }
   },
   "outputs": [
    {
     "name": "stdout",
     "output_type": "stream",
     "text": [
      "1\n",
      "Equipa da casa ganha\n"
     ]
    }
   ],
   "source": [
    "#Fazer uma previsão com o novo registo\n",
    "yNew = pd.Series(loaded_model.predict(dNew))\n",
    "print( yNew[0])\n",
    "if yNew[0] == 0:\n",
    "  print(\"Equipa da casa perde\")\n",
    "else:\n",
    "  print(\"Equipa da casa ganha\")"
   ]
  }
 ],
 "metadata": {
  "kernelspec": {
   "display_name": "Python 3.8.10 64-bit",
   "language": "python",
   "name": "python3"
  },
  "language_info": {
   "codemirror_mode": {
    "name": "ipython",
    "version": 3
   },
   "file_extension": ".py",
   "mimetype": "text/x-python",
   "name": "python",
   "nbconvert_exporter": "python",
   "pygments_lexer": "ipython3",
   "version": "3.8.10"
  },
  "vscode": {
   "interpreter": {
    "hash": "916dbcbb3f70747c44a77c7bcd40155683ae19c65e1c03b4aa3499c5328201f1"
   }
  }
 },
 "nbformat": 4,
 "nbformat_minor": 0
}