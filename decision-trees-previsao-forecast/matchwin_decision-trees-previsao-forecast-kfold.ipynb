{
 "cells": [
  {
   "cell_type": "code",
   "execution_count": 13,
   "metadata": {
    "collapsed": true,
    "pycharm": {
     "name": "#%%\n"
    }
   },
   "outputs": [
    {
     "data": {
      "text/plain": "       t1_all_total5_fl_match_win  t1_all_total5_fl_match_draw  \\\n44085                           0                            2   \n44086                           2                            1   \n44087                           1                            2   \n44088                           1                            2   \n44089                           1                            1   \n\n       t1_all_total5_fl_match_lost  t1_all_total10_fl_match_win  \\\n44085                            3                            1   \n44086                            2                            5   \n44087                            2                            3   \n44088                            2                            2   \n44089                            3                            2   \n\n       t1_all_total10_fl_match_draw  t1_all_total10_fl_match_lost  \\\n44085                             5                             4   \n44086                             2                             3   \n44087                             3                             4   \n44088                             3                             5   \n44089                             1                             7   \n\n       t2_all_total5_fl_match_win  t2_all_total5_fl_match_draw  \\\n44085                           3                            1   \n44086                           1                            1   \n44087                           2                            1   \n44088                           2                            3   \n44089                           2                            0   \n\n       t2_all_total5_fl_match_lost  t2_all_total10_fl_match_win  ...  \\\n44085                            1                            6  ...   \n44086                            3                            2  ...   \n44087                            2                            4  ...   \n44088                            0                            2  ...   \n44089                            3                            5  ...   \n\n       t2_away_total10_fl_match_win  t2_away_total10_fl_match_draw  \\\n44085                             6                              1   \n44086                             1                              3   \n44087                             1                              3   \n44088                             3                              3   \n44089                             4                              1   \n\n       t2_away_total10_fl_match_lost  t1_h2h_total5_fl_match_win  \\\n44085                              2                           1   \n44086                              4                           3   \n44087                              2                           0   \n44088                              1                           0   \n44089                              4                           0   \n\n       t1_h2h_total5_fl_match_draw  t1_h2h_total5_fl_match_lost  \\\n44085                            0                            4   \n44086                            0                            2   \n44087                            0                            0   \n44088                            1                            1   \n44089                            0                            1   \n\n       t1_h2h_total10_fl_match_win  t1_h2h_total10_fl_match_draw  \\\n44085                            2                             0   \n44086                            5                             1   \n44087                            0                             0   \n44088                            0                             1   \n44089                            0                             0   \n\n       t1_h2h_total10_fl_match_lost  t1_fl_match_win  \n44085                             8                0  \n44086                             4                0  \n44087                             0                0  \n44088                             1                0  \n44089                             1                0  \n\n[5 rows x 31 columns]",
      "text/html": "<div>\n<style scoped>\n    .dataframe tbody tr th:only-of-type {\n        vertical-align: middle;\n    }\n\n    .dataframe tbody tr th {\n        vertical-align: top;\n    }\n\n    .dataframe thead th {\n        text-align: right;\n    }\n</style>\n<table border=\"1\" class=\"dataframe\">\n  <thead>\n    <tr style=\"text-align: right;\">\n      <th></th>\n      <th>t1_all_total5_fl_match_win</th>\n      <th>t1_all_total5_fl_match_draw</th>\n      <th>t1_all_total5_fl_match_lost</th>\n      <th>t1_all_total10_fl_match_win</th>\n      <th>t1_all_total10_fl_match_draw</th>\n      <th>t1_all_total10_fl_match_lost</th>\n      <th>t2_all_total5_fl_match_win</th>\n      <th>t2_all_total5_fl_match_draw</th>\n      <th>t2_all_total5_fl_match_lost</th>\n      <th>t2_all_total10_fl_match_win</th>\n      <th>...</th>\n      <th>t2_away_total10_fl_match_win</th>\n      <th>t2_away_total10_fl_match_draw</th>\n      <th>t2_away_total10_fl_match_lost</th>\n      <th>t1_h2h_total5_fl_match_win</th>\n      <th>t1_h2h_total5_fl_match_draw</th>\n      <th>t1_h2h_total5_fl_match_lost</th>\n      <th>t1_h2h_total10_fl_match_win</th>\n      <th>t1_h2h_total10_fl_match_draw</th>\n      <th>t1_h2h_total10_fl_match_lost</th>\n      <th>t1_fl_match_win</th>\n    </tr>\n  </thead>\n  <tbody>\n    <tr>\n      <th>44085</th>\n      <td>0</td>\n      <td>2</td>\n      <td>3</td>\n      <td>1</td>\n      <td>5</td>\n      <td>4</td>\n      <td>3</td>\n      <td>1</td>\n      <td>1</td>\n      <td>6</td>\n      <td>...</td>\n      <td>6</td>\n      <td>1</td>\n      <td>2</td>\n      <td>1</td>\n      <td>0</td>\n      <td>4</td>\n      <td>2</td>\n      <td>0</td>\n      <td>8</td>\n      <td>0</td>\n    </tr>\n    <tr>\n      <th>44086</th>\n      <td>2</td>\n      <td>1</td>\n      <td>2</td>\n      <td>5</td>\n      <td>2</td>\n      <td>3</td>\n      <td>1</td>\n      <td>1</td>\n      <td>3</td>\n      <td>2</td>\n      <td>...</td>\n      <td>1</td>\n      <td>3</td>\n      <td>4</td>\n      <td>3</td>\n      <td>0</td>\n      <td>2</td>\n      <td>5</td>\n      <td>1</td>\n      <td>4</td>\n      <td>0</td>\n    </tr>\n    <tr>\n      <th>44087</th>\n      <td>1</td>\n      <td>2</td>\n      <td>2</td>\n      <td>3</td>\n      <td>3</td>\n      <td>4</td>\n      <td>2</td>\n      <td>1</td>\n      <td>2</td>\n      <td>4</td>\n      <td>...</td>\n      <td>1</td>\n      <td>3</td>\n      <td>2</td>\n      <td>0</td>\n      <td>0</td>\n      <td>0</td>\n      <td>0</td>\n      <td>0</td>\n      <td>0</td>\n      <td>0</td>\n    </tr>\n    <tr>\n      <th>44088</th>\n      <td>1</td>\n      <td>2</td>\n      <td>2</td>\n      <td>2</td>\n      <td>3</td>\n      <td>5</td>\n      <td>2</td>\n      <td>3</td>\n      <td>0</td>\n      <td>2</td>\n      <td>...</td>\n      <td>3</td>\n      <td>3</td>\n      <td>1</td>\n      <td>0</td>\n      <td>1</td>\n      <td>1</td>\n      <td>0</td>\n      <td>1</td>\n      <td>1</td>\n      <td>0</td>\n    </tr>\n    <tr>\n      <th>44089</th>\n      <td>1</td>\n      <td>1</td>\n      <td>3</td>\n      <td>2</td>\n      <td>1</td>\n      <td>7</td>\n      <td>2</td>\n      <td>0</td>\n      <td>3</td>\n      <td>5</td>\n      <td>...</td>\n      <td>4</td>\n      <td>1</td>\n      <td>4</td>\n      <td>0</td>\n      <td>0</td>\n      <td>1</td>\n      <td>0</td>\n      <td>0</td>\n      <td>1</td>\n      <td>0</td>\n    </tr>\n  </tbody>\n</table>\n<p>5 rows × 31 columns</p>\n</div>"
     },
     "execution_count": 13,
     "metadata": {},
     "output_type": "execute_result"
    }
   ],
   "source": [
    "# -*- coding: utf-8 -*-\n",
    "## Exemplo de Criação de um modelo de Previsão/Classificação usando as Arvores de Decisão\n",
    "## Example of Creating a Forecast/Classification model using Decision Trees\n",
    "\n",
    "## import\n",
    "import numpy as np\n",
    "import pandas as pd\n",
    "import seaborn as sns\n",
    "from sklearn.model_selection import train_test_split, cross_validate\n",
    "from sklearn.tree import DecisionTreeClassifier, ExtraTreeClassifier\n",
    "from sklearn import metrics\n",
    "import joblib #better then pickle\n",
    "\n",
    "\n",
    "## carregar o ficheiro resultados para um dataframe do pandas dResult\n",
    "## load the Insol file into a pandas dResult dataframe\n",
    "dResult = pd.read_csv('../files/t1_win_NullCorretion.csv')\n",
    "\n",
    "\n",
    "\n",
    "dResult.head(2)     #Mostra as primeiras n linhas do conjunto de dados\n",
    "dResult.tail(5)     #Mostra as últimas n linhas do conjunto de dados\n"
   ]
  },
  {
   "cell_type": "code",
   "execution_count": 14,
   "metadata": {
    "collapsed": false,
    "pycharm": {
     "name": "#%%\n"
    }
   },
   "outputs": [],
   "source": [
    "## Pre-processamento dividir os dados em conjunto de Treino e Teste\n",
    "## Pre-processing split data into Training and Test sets\n",
    "x = dResult.drop('t1_fl_match_win', axis=1)   #Todas as tabelas que são usadas para fazer a predict\n",
    "y = dResult.t1_fl_match_win                   #Resultados entre 1 e 0 Vitoria ou não Vitoria)\n",
    "\n"
   ]
  },
  {
   "cell_type": "code",
   "execution_count": 15,
   "metadata": {
    "collapsed": false,
    "pycharm": {
     "name": "#%%\n"
    }
   },
   "outputs": [],
   "source": [
    "def modelDecisionTreeClassifier():\n",
    "    from sklearn.model_selection import KFold, StratifiedKFold, cross_val_score\n",
    "    from sklearn import linear_model, tree, ensemble\n",
    "\n",
    "    kf =KFold(n_splits=5, shuffle=True, random_state=42)\n",
    "# split()  method generate indices to split data into training and test set.\n",
    "    for train_index, test_index in kf.split(x, y):\n",
    "        scoresR2 = cross_validate(tree.DecisionTreeClassifier(random_state=42), x, y, scoring=['neg_mean_squared_error','r2','max_error'], cv=kf, return_estimator=True)\n",
    "\n",
    "    print (\"Resultados do modelo Extra Tree Classifier\\n\")\n",
    "    print(\"Metrics : \", scoresR2)\n",
    "    rfc_fit = scoresR2['estimator']\n",
    "    rfc_fit = rfc_fit[0]\n",
    "    filename = 'modelo_final-kf.sav'\n",
    "    joblib.dump(rfc_fit, open(filename, 'wb'))\n",
    "\n"
   ]
  },
  {
   "cell_type": "code",
   "execution_count": 16,
   "metadata": {
    "collapsed": false,
    "pycharm": {
     "name": "#%%\n"
    }
   },
   "outputs": [],
   "source": [
    "def modelExtraTreeClassifier():\n",
    "    from sklearn.model_selection import KFold, StratifiedKFold, cross_val_score\n",
    "    from sklearn import linear_model, tree, ensemble\n",
    "\n",
    "    kf =KFold(n_splits=5, shuffle=True, random_state=42)\n",
    "# split()  method generate indices to split data into training and test set.\n",
    "    for train_index, test_index in kf.split(x, y):\n",
    "        scoresR2 = cross_validate(tree.DecisionTreeClassifier(random_state=42), x, y, scoring=['neg_mean_squared_error','r2','max_error'], cv=kf, return_estimator=True)\n",
    "\n",
    "    print (\"Resultados do modelo Decision Tree Classifier\\n\")\n",
    "    print(\"Metrics : \", scoresR2)\n"
   ]
  },
  {
   "cell_type": "code",
   "execution_count": 17,
   "metadata": {
    "collapsed": false,
    "pycharm": {
     "name": "#%%\n"
    }
   },
   "outputs": [],
   "source": [
    "def modelDecisionTreeRegressor():\n",
    "    from sklearn.model_selection import KFold, StratifiedKFold, cross_val_score\n",
    "    from sklearn import linear_model, tree, ensemble\n",
    "\n",
    "    kf =KFold(n_splits=5, shuffle=True, random_state=42)\n",
    "# split()  method generate indices to split data into training and test set.\n",
    "    for train_index, test_index in kf.split(x, y):\n",
    "        scoresR2 = cross_validate(tree.DecisionTreeClassifier(random_state=42), x, y, scoring=['neg_mean_squared_error','r2','max_error'], cv=kf, return_estimator=True)\n",
    "\n",
    "    print (\"Resultados do modelo Decision Tree Classifier\\n\")\n",
    "    print(\"Metrics : \", scoresR2)\n",
    "\n",
    "\n"
   ]
  },
  {
   "cell_type": "code",
   "execution_count": 18,
   "metadata": {
    "collapsed": false,
    "pycharm": {
     "name": "#%%\n"
    }
   },
   "outputs": [
    {
     "name": "stdout",
     "output_type": "stream",
     "text": [
      "Resultados do modelo Decision Tree Classifier\n",
      "\n",
      "Metrics :  {'fit_time': array([0.44304013, 0.44595838, 0.4319973 , 0.44699979, 0.44899559]), 'score_time': array([0.00600076, 0.00704098, 0.00600004, 0.00600076, 0.00700307]), 'estimator': [DecisionTreeClassifier(random_state=42), DecisionTreeClassifier(random_state=42), DecisionTreeClassifier(random_state=42), DecisionTreeClassifier(random_state=42), DecisionTreeClassifier(random_state=42)], 'test_neg_mean_squared_error': array([-0.4665457 , -0.45565888, -0.45996825, -0.46371059, -0.45928782]), 'test_r2': array([-0.91359486, -0.87488105, -0.88230821, -0.89451203, -0.88951894]), 'test_max_error': array([-1, -1, -1, -1, -1])}\n",
      "Resultados do modelo Decision Tree Classifier\n",
      "\n",
      "Metrics :  {'fit_time': array([0.53477883, 0.50412607, 0.49003959, 0.48902559, 0.44599724]), 'score_time': array([0.0079999 , 0.00600123, 0.00696349, 0.00500274, 0.00596309]), 'estimator': [DecisionTreeClassifier(random_state=42), DecisionTreeClassifier(random_state=42), DecisionTreeClassifier(random_state=42), DecisionTreeClassifier(random_state=42), DecisionTreeClassifier(random_state=42)], 'test_neg_mean_squared_error': array([-0.4665457 , -0.45565888, -0.45996825, -0.46371059, -0.45928782]), 'test_r2': array([-0.91359486, -0.87488105, -0.88230821, -0.89451203, -0.88951894]), 'test_max_error': array([-1, -1, -1, -1, -1])}\n",
      "Resultados do modelo Extra Tree Classifier\n",
      "\n",
      "Metrics :  {'fit_time': array([0.47396016, 0.44003868, 0.44399738, 0.53498483, 0.44203687]), 'score_time': array([0.00700855, 0.00700188, 0.00600266, 0.00600147, 0.00600004]), 'estimator': [DecisionTreeClassifier(random_state=42), DecisionTreeClassifier(random_state=42), DecisionTreeClassifier(random_state=42), DecisionTreeClassifier(random_state=42), DecisionTreeClassifier(random_state=42)], 'test_neg_mean_squared_error': array([-0.4665457 , -0.45565888, -0.45996825, -0.46371059, -0.45928782]), 'test_r2': array([-0.91359486, -0.87488105, -0.88230821, -0.89451203, -0.88951894]), 'test_max_error': array([-1, -1, -1, -1, -1])}\n"
     ]
    }
   ],
   "source": [
    "modelDecisionTreeRegressor()\n",
    "modelExtraTreeClassifier()\n",
    "modelDecisionTreeClassifier()"
   ]
  },
  {
   "cell_type": "code",
   "execution_count": 19,
   "outputs": [
    {
     "ename": "ValueError",
     "evalue": "Classification metrics can't handle a mix of multiclass-multioutput and binary targets",
     "output_type": "error",
     "traceback": [
      "\u001B[1;31m---------------------------------------------------------------------------\u001B[0m",
      "\u001B[1;31mValueError\u001B[0m                                Traceback (most recent call last)",
      "Input \u001B[1;32mIn [19]\u001B[0m, in \u001B[0;36m<cell line: 4>\u001B[1;34m()\u001B[0m\n\u001B[0;32m      1\u001B[0m \u001B[38;5;66;03m##Matriz da confusão\u001B[39;00m\n\u001B[0;32m      2\u001B[0m \u001B[38;5;28;01mfrom\u001B[39;00m \u001B[38;5;21;01msklearn\u001B[39;00m\u001B[38;5;21;01m.\u001B[39;00m\u001B[38;5;21;01mmetrics\u001B[39;00m \u001B[38;5;28;01mimport\u001B[39;00m confusion_matrix\n\u001B[0;32m      4\u001B[0m pd\u001B[38;5;241m.\u001B[39mDataFrame(\n\u001B[1;32m----> 5\u001B[0m     \u001B[43mconfusion_matrix\u001B[49m\u001B[43m(\u001B[49m\u001B[43mx\u001B[49m\u001B[43m,\u001B[49m\u001B[43m \u001B[49m\u001B[43my\u001B[49m\u001B[43m)\u001B[49m,\n\u001B[0;32m      6\u001B[0m     columns\u001B[38;5;241m=\u001B[39m[\u001B[38;5;124m'\u001B[39m\u001B[38;5;124mPrevisão da t1_home ganhar \u001B[39m\u001B[38;5;124m'\u001B[39m, \u001B[38;5;124m'\u001B[39m\u001B[38;5;124mPrevisão da  t1_home não ganhar\u001B[39m\u001B[38;5;124m'\u001B[39m],\n\u001B[0;32m      7\u001B[0m     index\u001B[38;5;241m=\u001B[39m[\u001B[38;5;124m'\u001B[39m\u001B[38;5;124mRealidade de ganhar\u001B[39m\u001B[38;5;124m'\u001B[39m, \u001B[38;5;124m'\u001B[39m\u001B[38;5;124mRealidade de não ganhar\u001B[39m\u001B[38;5;124m'\u001B[39m]\n\u001B[0;32m      8\u001B[0m )\n\u001B[0;32m     10\u001B[0m \u001B[38;5;28;01mfrom\u001B[39;00m \u001B[38;5;21;01msklearn\u001B[39;00m \u001B[38;5;28;01mimport\u001B[39;00m tree\n\u001B[0;32m     12\u001B[0m model \u001B[38;5;241m=\u001B[39m tree\u001B[38;5;241m.\u001B[39mDecisionTreeClassifier()\n",
      "File \u001B[1;32m~\\Trabalhos\\pythonProjects\\lib\\site-packages\\sklearn\\metrics\\_classification.py:307\u001B[0m, in \u001B[0;36mconfusion_matrix\u001B[1;34m(y_true, y_pred, labels, sample_weight, normalize)\u001B[0m\n\u001B[0;32m    222\u001B[0m \u001B[38;5;28;01mdef\u001B[39;00m \u001B[38;5;21mconfusion_matrix\u001B[39m(\n\u001B[0;32m    223\u001B[0m     y_true, y_pred, \u001B[38;5;241m*\u001B[39m, labels\u001B[38;5;241m=\u001B[39m\u001B[38;5;28;01mNone\u001B[39;00m, sample_weight\u001B[38;5;241m=\u001B[39m\u001B[38;5;28;01mNone\u001B[39;00m, normalize\u001B[38;5;241m=\u001B[39m\u001B[38;5;28;01mNone\u001B[39;00m\n\u001B[0;32m    224\u001B[0m ):\n\u001B[0;32m    225\u001B[0m     \u001B[38;5;124;03m\"\"\"Compute confusion matrix to evaluate the accuracy of a classification.\u001B[39;00m\n\u001B[0;32m    226\u001B[0m \n\u001B[0;32m    227\u001B[0m \u001B[38;5;124;03m    By definition a confusion matrix :math:`C` is such that :math:`C_{i, j}`\u001B[39;00m\n\u001B[1;32m   (...)\u001B[0m\n\u001B[0;32m    305\u001B[0m \u001B[38;5;124;03m    (0, 2, 1, 1)\u001B[39;00m\n\u001B[0;32m    306\u001B[0m \u001B[38;5;124;03m    \"\"\"\u001B[39;00m\n\u001B[1;32m--> 307\u001B[0m     y_type, y_true, y_pred \u001B[38;5;241m=\u001B[39m \u001B[43m_check_targets\u001B[49m\u001B[43m(\u001B[49m\u001B[43my_true\u001B[49m\u001B[43m,\u001B[49m\u001B[43m \u001B[49m\u001B[43my_pred\u001B[49m\u001B[43m)\u001B[49m\n\u001B[0;32m    308\u001B[0m     \u001B[38;5;28;01mif\u001B[39;00m y_type \u001B[38;5;129;01mnot\u001B[39;00m \u001B[38;5;129;01min\u001B[39;00m (\u001B[38;5;124m\"\u001B[39m\u001B[38;5;124mbinary\u001B[39m\u001B[38;5;124m\"\u001B[39m, \u001B[38;5;124m\"\u001B[39m\u001B[38;5;124mmulticlass\u001B[39m\u001B[38;5;124m\"\u001B[39m):\n\u001B[0;32m    309\u001B[0m         \u001B[38;5;28;01mraise\u001B[39;00m \u001B[38;5;167;01mValueError\u001B[39;00m(\u001B[38;5;124m\"\u001B[39m\u001B[38;5;132;01m%s\u001B[39;00m\u001B[38;5;124m is not supported\u001B[39m\u001B[38;5;124m\"\u001B[39m \u001B[38;5;241m%\u001B[39m y_type)\n",
      "File \u001B[1;32m~\\Trabalhos\\pythonProjects\\lib\\site-packages\\sklearn\\metrics\\_classification.py:93\u001B[0m, in \u001B[0;36m_check_targets\u001B[1;34m(y_true, y_pred)\u001B[0m\n\u001B[0;32m     90\u001B[0m     y_type \u001B[38;5;241m=\u001B[39m {\u001B[38;5;124m\"\u001B[39m\u001B[38;5;124mmulticlass\u001B[39m\u001B[38;5;124m\"\u001B[39m}\n\u001B[0;32m     92\u001B[0m \u001B[38;5;28;01mif\u001B[39;00m \u001B[38;5;28mlen\u001B[39m(y_type) \u001B[38;5;241m>\u001B[39m \u001B[38;5;241m1\u001B[39m:\n\u001B[1;32m---> 93\u001B[0m     \u001B[38;5;28;01mraise\u001B[39;00m \u001B[38;5;167;01mValueError\u001B[39;00m(\n\u001B[0;32m     94\u001B[0m         \u001B[38;5;124m\"\u001B[39m\u001B[38;5;124mClassification metrics can\u001B[39m\u001B[38;5;124m'\u001B[39m\u001B[38;5;124mt handle a mix of \u001B[39m\u001B[38;5;132;01m{0}\u001B[39;00m\u001B[38;5;124m and \u001B[39m\u001B[38;5;132;01m{1}\u001B[39;00m\u001B[38;5;124m targets\u001B[39m\u001B[38;5;124m\"\u001B[39m\u001B[38;5;241m.\u001B[39mformat(\n\u001B[0;32m     95\u001B[0m             type_true, type_pred\n\u001B[0;32m     96\u001B[0m         )\n\u001B[0;32m     97\u001B[0m     )\n\u001B[0;32m     99\u001B[0m \u001B[38;5;66;03m# We can't have more than one value on y_type => The set is no more needed\u001B[39;00m\n\u001B[0;32m    100\u001B[0m y_type \u001B[38;5;241m=\u001B[39m y_type\u001B[38;5;241m.\u001B[39mpop()\n",
      "\u001B[1;31mValueError\u001B[0m: Classification metrics can't handle a mix of multiclass-multioutput and binary targets"
     ]
    }
   ],
   "source": [
    "#\n",
    "##Matriz da confusão\n",
    "from sklearn.metrics import confusion_matrix\n",
    "\n",
    "pd.DataFrame(\n",
    "    confusion_matrix(x, y),\n",
    "    columns=['Previsão da t1_home ganhar ', 'Previsão da  t1_home não ganhar'],\n",
    "    index=['Realidade de ganhar', 'Realidade de não ganhar']\n",
    ")\n",
    "\n",
    "from sklearn import tree\n",
    "\n",
    "model = tree.DecisionTreeClassifier()\n",
    "#parametros errados\n",
    "model.fit(x_train, y_train)\n",
    "\n",
    "tree.export_graphviz(model, out_file='tree.dot', feature_names=x.columns)\n",
    "from subprocess import call\n",
    "\n",
    "call(['dot', '-T', 'png', 'tree.dot', '-o', 'tree.png'])\n",
    "\n",
    "from IPython.display import Image\n",
    "Image(filename = 'tree.png')\n"
   ],
   "metadata": {
    "collapsed": false,
    "pycharm": {
     "name": "#%%\n"
    }
   }
  },
  {
   "cell_type": "code",
   "execution_count": 20,
   "metadata": {
    "collapsed": false,
    "pycharm": {
     "name": "#%%\n"
    }
   },
   "outputs": [
    {
     "data": {
      "text/plain": "   t1_all_total5_fl_match_win  t1_all_total5_fl_match_draw  \\\n0                           3                            0   \n\n   t1_all_total5_fl_match_lost  t1_all_total10_fl_match_win  \\\n0                            2                            6   \n\n   t1_all_total10_fl_match_draw  t1_all_total10_fl_match_lost  \\\n0                             1                             3   \n\n   t2_all_total5_fl_match_win  t2_all_total5_fl_match_draw  \\\n0                           0                            4   \n\n   t2_all_total5_fl_match_lost  t2_all_total10_fl_match_win  ...  \\\n0                            1                            2  ...   \n\n   t2_away_total5_fl_match_lost  t2_away_total10_fl_match_win  \\\n0                             0                             2   \n\n   t2_away_total10_fl_match_draw  t2_away_total10_fl_match_lost  \\\n0                              4                              0   \n\n   t1_h2h_total5_fl_match_win  t1_h2h_total5_fl_match_draw  \\\n0                           0                            0   \n\n   t1_h2h_total5_fl_match_lost  t1_h2h_total10_fl_match_win  \\\n0                            0                            0   \n\n   t1_h2h_total10_fl_match_draw  t1_h2h_total10_fl_match_lost  \n0                             0                             0  \n\n[1 rows x 30 columns]",
      "text/html": "<div>\n<style scoped>\n    .dataframe tbody tr th:only-of-type {\n        vertical-align: middle;\n    }\n\n    .dataframe tbody tr th {\n        vertical-align: top;\n    }\n\n    .dataframe thead th {\n        text-align: right;\n    }\n</style>\n<table border=\"1\" class=\"dataframe\">\n  <thead>\n    <tr style=\"text-align: right;\">\n      <th></th>\n      <th>t1_all_total5_fl_match_win</th>\n      <th>t1_all_total5_fl_match_draw</th>\n      <th>t1_all_total5_fl_match_lost</th>\n      <th>t1_all_total10_fl_match_win</th>\n      <th>t1_all_total10_fl_match_draw</th>\n      <th>t1_all_total10_fl_match_lost</th>\n      <th>t2_all_total5_fl_match_win</th>\n      <th>t2_all_total5_fl_match_draw</th>\n      <th>t2_all_total5_fl_match_lost</th>\n      <th>t2_all_total10_fl_match_win</th>\n      <th>...</th>\n      <th>t2_away_total5_fl_match_lost</th>\n      <th>t2_away_total10_fl_match_win</th>\n      <th>t2_away_total10_fl_match_draw</th>\n      <th>t2_away_total10_fl_match_lost</th>\n      <th>t1_h2h_total5_fl_match_win</th>\n      <th>t1_h2h_total5_fl_match_draw</th>\n      <th>t1_h2h_total5_fl_match_lost</th>\n      <th>t1_h2h_total10_fl_match_win</th>\n      <th>t1_h2h_total10_fl_match_draw</th>\n      <th>t1_h2h_total10_fl_match_lost</th>\n    </tr>\n  </thead>\n  <tbody>\n    <tr>\n      <th>0</th>\n      <td>3</td>\n      <td>0</td>\n      <td>2</td>\n      <td>6</td>\n      <td>1</td>\n      <td>3</td>\n      <td>0</td>\n      <td>4</td>\n      <td>1</td>\n      <td>2</td>\n      <td>...</td>\n      <td>0</td>\n      <td>2</td>\n      <td>4</td>\n      <td>0</td>\n      <td>0</td>\n      <td>0</td>\n      <td>0</td>\n      <td>0</td>\n      <td>0</td>\n      <td>0</td>\n    </tr>\n  </tbody>\n</table>\n<p>1 rows × 30 columns</p>\n</div>"
     },
     "execution_count": 20,
     "metadata": {},
     "output_type": "execute_result"
    }
   ],
   "source": [
    "# load the model from disk\n",
    "filename = 'modelo_final-kf.sav'\n",
    "loaded_model = joblib.load(open(filename, 'rb'))\n",
    "# novo registo a prever\n",
    "dNew = pd.read_csv('../files/t1_win_Sample.csv')\n",
    "dNew = dNew.drop('t1_fl_match_win', axis=1)   #Remover o campo de vitoria\n",
    "dNew.head(2)     #Mostra as primeiras n linhas do conjunto de dados   Display the first n rows of the dataset"
   ]
  },
  {
   "cell_type": "code",
   "execution_count": 21,
   "metadata": {
    "collapsed": false,
    "pycharm": {
     "name": "#%%\n"
    }
   },
   "outputs": [
    {
     "name": "stdout",
     "output_type": "stream",
     "text": [
      "0\n",
      "Equipa da casa perde\n"
     ]
    }
   ],
   "source": [
    "#Fazer uma previsão com o novo registo\n",
    "yNew = pd.Series(loaded_model.predict(dNew))\n",
    "print( yNew[0])\n",
    "if yNew[0] == 0:\n",
    "  print(\"Equipa da casa perde\")\n",
    "else:\n",
    "  print(\"Equipa da casa ganha\")"
   ]
  }
 ],
 "metadata": {
  "kernelspec": {
   "display_name": "Python 3.8.10 64-bit",
   "language": "python",
   "name": "python3"
  },
  "language_info": {
   "codemirror_mode": {
    "name": "ipython",
    "version": 3
   },
   "file_extension": ".py",
   "mimetype": "text/x-python",
   "name": "python",
   "nbconvert_exporter": "python",
   "pygments_lexer": "ipython3",
   "version": "3.8.10"
  },
  "vscode": {
   "interpreter": {
    "hash": "916dbcbb3f70747c44a77c7bcd40155683ae19c65e1c03b4aa3499c5328201f1"
   }
  }
 },
 "nbformat": 4,
 "nbformat_minor": 0
}