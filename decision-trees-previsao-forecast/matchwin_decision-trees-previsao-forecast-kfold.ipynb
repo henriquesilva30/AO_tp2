{
 "cells": [
  {
   "cell_type": "code",
   "execution_count": 1,
   "metadata": {
    "collapsed": true,
    "pycharm": {
     "name": "#%%\n"
    }
   },
   "outputs": [
    {
     "data": {
      "text/html": [
       "<div>\n",
       "<style scoped>\n",
       "    .dataframe tbody tr th:only-of-type {\n",
       "        vertical-align: middle;\n",
       "    }\n",
       "\n",
       "    .dataframe tbody tr th {\n",
       "        vertical-align: top;\n",
       "    }\n",
       "\n",
       "    .dataframe thead th {\n",
       "        text-align: right;\n",
       "    }\n",
       "</style>\n",
       "<table border=\"1\" class=\"dataframe\">\n",
       "  <thead>\n",
       "    <tr style=\"text-align: right;\">\n",
       "      <th></th>\n",
       "      <th>id_match_competition</th>\n",
       "      <th>t1_all_total5_fl_match_win</th>\n",
       "      <th>t1_all_total5_fl_match_draw</th>\n",
       "      <th>t1_all_total5_fl_match_lost</th>\n",
       "      <th>t1_all_total10_fl_match_win</th>\n",
       "      <th>t1_all_total10_fl_match_draw</th>\n",
       "      <th>t1_all_total10_fl_match_lost</th>\n",
       "      <th>t2_all_total5_fl_match_win</th>\n",
       "      <th>t2_all_total5_fl_match_draw</th>\n",
       "      <th>t2_all_total5_fl_match_lost</th>\n",
       "      <th>...</th>\n",
       "      <th>t1_h2h_home_total10_fl_match_win</th>\n",
       "      <th>t1_h2h_home_total10_fl_match_draw</th>\n",
       "      <th>t1_h2h_home_total10_fl_match_lost</th>\n",
       "      <th>t2_h2h_away_total5_fl_match_win</th>\n",
       "      <th>t2_h2h_away_total5_fl_match_draw</th>\n",
       "      <th>t2_h2h_away_total5_fl_match_lost</th>\n",
       "      <th>t2_h2h_away_total10_fl_match_win</th>\n",
       "      <th>t2_h2h_away_total10_fl_match_draw</th>\n",
       "      <th>t2_h2h_away_total10_fl_match_lost</th>\n",
       "      <th>t1_fl_match_win</th>\n",
       "    </tr>\n",
       "  </thead>\n",
       "  <tbody>\n",
       "    <tr>\n",
       "      <th>43818</th>\n",
       "      <td>1069</td>\n",
       "      <td>1</td>\n",
       "      <td>4</td>\n",
       "      <td>0</td>\n",
       "      <td>3</td>\n",
       "      <td>6</td>\n",
       "      <td>1</td>\n",
       "      <td>3</td>\n",
       "      <td>1</td>\n",
       "      <td>1</td>\n",
       "      <td>...</td>\n",
       "      <td>0</td>\n",
       "      <td>1</td>\n",
       "      <td>0</td>\n",
       "      <td>0</td>\n",
       "      <td>1</td>\n",
       "      <td>0</td>\n",
       "      <td>0</td>\n",
       "      <td>1</td>\n",
       "      <td>0</td>\n",
       "      <td>0</td>\n",
       "    </tr>\n",
       "    <tr>\n",
       "      <th>43819</th>\n",
       "      <td>243</td>\n",
       "      <td>2</td>\n",
       "      <td>1</td>\n",
       "      <td>2</td>\n",
       "      <td>4</td>\n",
       "      <td>2</td>\n",
       "      <td>4</td>\n",
       "      <td>2</td>\n",
       "      <td>1</td>\n",
       "      <td>2</td>\n",
       "      <td>...</td>\n",
       "      <td>0</td>\n",
       "      <td>0</td>\n",
       "      <td>0</td>\n",
       "      <td>0</td>\n",
       "      <td>0</td>\n",
       "      <td>0</td>\n",
       "      <td>0</td>\n",
       "      <td>0</td>\n",
       "      <td>0</td>\n",
       "      <td>1</td>\n",
       "    </tr>\n",
       "    <tr>\n",
       "      <th>43820</th>\n",
       "      <td>214</td>\n",
       "      <td>1</td>\n",
       "      <td>3</td>\n",
       "      <td>1</td>\n",
       "      <td>5</td>\n",
       "      <td>3</td>\n",
       "      <td>2</td>\n",
       "      <td>3</td>\n",
       "      <td>0</td>\n",
       "      <td>2</td>\n",
       "      <td>...</td>\n",
       "      <td>2</td>\n",
       "      <td>2</td>\n",
       "      <td>0</td>\n",
       "      <td>0</td>\n",
       "      <td>2</td>\n",
       "      <td>2</td>\n",
       "      <td>0</td>\n",
       "      <td>2</td>\n",
       "      <td>2</td>\n",
       "      <td>1</td>\n",
       "    </tr>\n",
       "    <tr>\n",
       "      <th>43821</th>\n",
       "      <td>257</td>\n",
       "      <td>1</td>\n",
       "      <td>1</td>\n",
       "      <td>3</td>\n",
       "      <td>1</td>\n",
       "      <td>4</td>\n",
       "      <td>5</td>\n",
       "      <td>1</td>\n",
       "      <td>2</td>\n",
       "      <td>2</td>\n",
       "      <td>...</td>\n",
       "      <td>1</td>\n",
       "      <td>2</td>\n",
       "      <td>2</td>\n",
       "      <td>2</td>\n",
       "      <td>2</td>\n",
       "      <td>1</td>\n",
       "      <td>2</td>\n",
       "      <td>2</td>\n",
       "      <td>1</td>\n",
       "      <td>0</td>\n",
       "    </tr>\n",
       "    <tr>\n",
       "      <th>43822</th>\n",
       "      <td>8613</td>\n",
       "      <td>3</td>\n",
       "      <td>2</td>\n",
       "      <td>0</td>\n",
       "      <td>7</td>\n",
       "      <td>2</td>\n",
       "      <td>1</td>\n",
       "      <td>4</td>\n",
       "      <td>0</td>\n",
       "      <td>1</td>\n",
       "      <td>...</td>\n",
       "      <td>0</td>\n",
       "      <td>0</td>\n",
       "      <td>1</td>\n",
       "      <td>1</td>\n",
       "      <td>0</td>\n",
       "      <td>0</td>\n",
       "      <td>1</td>\n",
       "      <td>0</td>\n",
       "      <td>0</td>\n",
       "      <td>0</td>\n",
       "    </tr>\n",
       "  </tbody>\n",
       "</table>\n",
       "<p>5 rows × 50 columns</p>\n",
       "</div>"
      ],
      "text/plain": [
       "       id_match_competition  t1_all_total5_fl_match_win  \\\n",
       "43818                  1069                           1   \n",
       "43819                   243                           2   \n",
       "43820                   214                           1   \n",
       "43821                   257                           1   \n",
       "43822                  8613                           3   \n",
       "\n",
       "       t1_all_total5_fl_match_draw  t1_all_total5_fl_match_lost  \\\n",
       "43818                            4                            0   \n",
       "43819                            1                            2   \n",
       "43820                            3                            1   \n",
       "43821                            1                            3   \n",
       "43822                            2                            0   \n",
       "\n",
       "       t1_all_total10_fl_match_win  t1_all_total10_fl_match_draw  \\\n",
       "43818                            3                             6   \n",
       "43819                            4                             2   \n",
       "43820                            5                             3   \n",
       "43821                            1                             4   \n",
       "43822                            7                             2   \n",
       "\n",
       "       t1_all_total10_fl_match_lost  t2_all_total5_fl_match_win  \\\n",
       "43818                             1                           3   \n",
       "43819                             4                           2   \n",
       "43820                             2                           3   \n",
       "43821                             5                           1   \n",
       "43822                             1                           4   \n",
       "\n",
       "       t2_all_total5_fl_match_draw  t2_all_total5_fl_match_lost  ...  \\\n",
       "43818                            1                            1  ...   \n",
       "43819                            1                            2  ...   \n",
       "43820                            0                            2  ...   \n",
       "43821                            2                            2  ...   \n",
       "43822                            0                            1  ...   \n",
       "\n",
       "       t1_h2h_home_total10_fl_match_win  t1_h2h_home_total10_fl_match_draw  \\\n",
       "43818                                 0                                  1   \n",
       "43819                                 0                                  0   \n",
       "43820                                 2                                  2   \n",
       "43821                                 1                                  2   \n",
       "43822                                 0                                  0   \n",
       "\n",
       "       t1_h2h_home_total10_fl_match_lost  t2_h2h_away_total5_fl_match_win  \\\n",
       "43818                                  0                                0   \n",
       "43819                                  0                                0   \n",
       "43820                                  0                                0   \n",
       "43821                                  2                                2   \n",
       "43822                                  1                                1   \n",
       "\n",
       "       t2_h2h_away_total5_fl_match_draw  t2_h2h_away_total5_fl_match_lost  \\\n",
       "43818                                 1                                 0   \n",
       "43819                                 0                                 0   \n",
       "43820                                 2                                 2   \n",
       "43821                                 2                                 1   \n",
       "43822                                 0                                 0   \n",
       "\n",
       "       t2_h2h_away_total10_fl_match_win  t2_h2h_away_total10_fl_match_draw  \\\n",
       "43818                                 0                                  1   \n",
       "43819                                 0                                  0   \n",
       "43820                                 0                                  2   \n",
       "43821                                 2                                  2   \n",
       "43822                                 1                                  0   \n",
       "\n",
       "       t2_h2h_away_total10_fl_match_lost  t1_fl_match_win  \n",
       "43818                                  0                0  \n",
       "43819                                  0                1  \n",
       "43820                                  2                1  \n",
       "43821                                  1                0  \n",
       "43822                                  0                0  \n",
       "\n",
       "[5 rows x 50 columns]"
      ]
     },
     "execution_count": 1,
     "metadata": {},
     "output_type": "execute_result"
    }
   ],
   "source": [
    "# -*- coding: utf-8 -*-\n",
    "## Exemplo de Criação de um modelo de Previsão/Classificação usando as Arvores de Decisão\n",
    "## Example of Creating a Forecast/Classification model using Decision Trees\n",
    "\n",
    "## import\n",
    "import numpy as np\n",
    "import pandas as pd\n",
    "import seaborn as sns\n",
    "from sklearn.model_selection import train_test_split\n",
    "from sklearn.tree import DecisionTreeClassifier, ExtraTreeClassifier\n",
    "from sklearn import metrics\n",
    "\n",
    "## carregar o ficheiro Insol para um dataframe do pandas dInsol\n",
    "## load the Insol file into a pandas dInsol dataframe\n",
    "dInsol = pd.read_csv('View_data_nullZero.csv')\n",
    "\n",
    "\n",
    "\n",
    "dInsol.head(2)     #Mostra as primeiras n linhas do conjunto de dados\n",
    "dInsol.tail(5)     #Mostra as últimas n linhas do conjunto de dados\n"
   ]
  },
  {
   "cell_type": "code",
   "execution_count": 2,
   "metadata": {
    "collapsed": false,
    "pycharm": {
     "name": "#%%\n"
    }
   },
   "outputs": [],
   "source": [
    "## Pre-processamento dividir os dados em conjunto de Treino e Teste\n",
    "## Pre-processing split data into Training and Test sets\n",
    "x = dInsol.drop('t1_fl_match_win', axis=1)   #Todas as tabelas que são usadas para fazer a predict\n",
    "y = dInsol.t1_fl_match_win                   #Resultados entre 1 e 0 8Insolvência ou não Insolvênvia)\n",
    "\n"
   ]
  },
  {
   "cell_type": "code",
   "execution_count": 3,
   "metadata": {
    "collapsed": false,
    "pycharm": {
     "name": "#%%\n"
    }
   },
   "outputs": [],
   "source": [
    "def modelDecisionTreeClassifier():\n",
    "    from sklearn.model_selection import KFold, StratifiedKFold, cross_val_score\n",
    "    from sklearn import linear_model, tree, ensemble\n",
    "\n",
    "    kf =KFold(n_splits=5, shuffle=True, random_state=42)\n",
    "# split()  method generate indices to split data into training and test set.\n",
    "    for train_index, test_index in kf.split(x, y):\n",
    "        scoresR2 = cross_val_score(tree.DecisionTreeClassifier(random_state=42), x, y, scoring='r2', cv=kf)\n",
    "        scoresNMSE = cross_val_score(tree.DecisionTreeClassifier(random_state=42), x, y, scoring='neg_mean_squared_error', cv=kf)\n",
    "        scoresME = cross_val_score(tree.DecisionTreeClassifier(random_state=42), x, y, scoring='max_error', cv=kf)\n",
    "    print (\"Resultados do modelo Extra Tree Classifier\\n\")\n",
    "    print(\"Resultado do r2 :{}\".format(scoresR2))\n",
    "    print(\"Resultado do NMSE :{}\".format(scoresNMSE))\n",
    "    print(\"Resultado do ME :{}\\n\".format(scoresME))\n",
    "\n"
   ]
  },
  {
   "cell_type": "code",
   "execution_count": 4,
   "metadata": {
    "collapsed": false,
    "pycharm": {
     "name": "#%%\n"
    }
   },
   "outputs": [],
   "source": [
    "def modelExtraTreeClassifier():\n",
    "    from sklearn.model_selection import KFold, StratifiedKFold, cross_val_score\n",
    "    from sklearn import linear_model, tree, ensemble\n",
    "\n",
    "    kf =KFold(n_splits=5, shuffle=True, random_state=42)\n",
    "# split()  method generate indices to split data into training and test set.\n",
    "    for train_index, test_index in kf.split(x, y):\n",
    "        scoresR2 = cross_val_score(tree.ExtraTreeClassifier(random_state=42), x, y, scoring='r2', cv=kf)\n",
    "        scoresNMSE = cross_val_score(tree.ExtraTreeClassifier(random_state=42), x, y, scoring='neg_mean_squared_error', cv=kf)\n",
    "        scoresME = cross_val_score(tree.ExtraTreeClassifier(random_state=42), x, y, scoring='max_error', cv=kf)\n",
    "    print (\"Resultados do modelo Decision Tree Classifier\\n\")\n",
    "    print(\"Resultado do r2 :{}\".format(scoresR2))\n",
    "    print(\"Resultado do NMSE :{}\".format(scoresNMSE))\n",
    "    print(\"Resultado do ME :{}\\n\".format(scoresME))\n"
   ]
  },
  {
   "cell_type": "code",
   "execution_count": 5,
   "metadata": {
    "collapsed": false,
    "pycharm": {
     "name": "#%%\n"
    }
   },
   "outputs": [],
   "source": [
    "def modelDecisionTreeRegressor():\n",
    "    from sklearn.model_selection import KFold, StratifiedKFold, cross_val_score\n",
    "    from sklearn import linear_model, tree, ensemble\n",
    "\n",
    "    kf =KFold(n_splits=5, shuffle=True, random_state=42)\n",
    "# split()  method generate indices to split data into training and test set.\n",
    "    for train_index, test_index in kf.split(x, y):\n",
    "        scoresR2 = cross_val_score(tree.DecisionTreeRegressor(random_state=42), x, y, scoring='r2', cv=kf)\n",
    "        scoresNMSE = cross_val_score(tree.DecisionTreeRegressor(random_state=42), x, y, scoring='neg_mean_squared_error', cv=kf)\n",
    "        scoresME = cross_val_score(tree.DecisionTreeRegressor(random_state=42), x, y, scoring='max_error', cv=kf)\n",
    "    print (\"Resultados do modelo Decision Tree Regression\\n\")\n",
    "    print(\"Resultado do r2 :{}\".format(scoresR2))\n",
    "    print(\"Resultado do NMSE :{}\".format(scoresNMSE))\n",
    "    print(\"Resultado do ME :{}\\n\".format(scoresME))\n",
    "\n",
    "\n"
   ]
  },
  {
   "cell_type": "code",
   "execution_count": 6,
   "metadata": {
    "collapsed": false,
    "pycharm": {
     "name": "#%%\n"
    }
   },
   "outputs": [
    {
     "name": "stdout",
     "output_type": "stream",
     "text": [
      "Resultados do modelo Decision Tree Regression\n",
      "\n",
      "Resultado do r2 :[-0.85115962 -0.8919916  -0.89331959 -0.86390885 -0.88492593]\n",
      "Resultado do NMSE :[-0.44946997 -0.46273647 -0.46267592 -0.45562945 -0.45818947]\n",
      "Resultado do ME :[-1. -1. -1. -1. -1.]\n",
      "\n",
      "Resultados do modelo Decision Tree Classifier\n",
      "\n",
      "Resultado do r2 :[-0.9260572  -0.89297813 -0.8945547  -0.90305448 -0.88137136]\n",
      "Resultado do NMSE :[-0.46765545 -0.46297775 -0.46297775 -0.46519854 -0.45732542]\n",
      "Resultado do ME :[-1 -1 -1 -1 -1]\n",
      "\n",
      "Resultados do modelo Extra Tree Classifier\n",
      "\n",
      "Resultado do r2 :[-0.86967104 -0.90230774 -0.88334985 -0.853576   -0.88888182]\n",
      "Resultado do NMSE :[-0.45396463 -0.46525956 -0.46023959 -0.45310361 -0.45915107]\n",
      "Resultado do ME :[-1 -1 -1 -1 -1]\n",
      "\n"
     ]
    }
   ],
   "source": [
    "modelDecisionTreeRegressor()\n",
    "modelExtraTreeClassifier()\n",
    "modelDecisionTreeClassifier()"
   ]
  },
  {
   "cell_type": "code",
   "execution_count": 7,
   "metadata": {
    "collapsed": false,
    "pycharm": {
     "is_executing": true,
     "name": "#%%\n"
    }
   },
   "outputs": [
    {
     "ename": "NameError",
     "evalue": "name 'y_teste' is not defined",
     "output_type": "error",
     "traceback": [
      "\u001b[1;31m---------------------------------------------------------------------------\u001b[0m",
      "\u001b[1;31mNameError\u001b[0m                                 Traceback (most recent call last)",
      "\u001b[1;32md:\\Nova pasta\\AO_tp2\\decision-trees-previsao-forecast\\matchwin_decision-trees-previsao-forecast-kfold.ipynb Cell 7'\u001b[0m in \u001b[0;36m<cell line: 4>\u001b[1;34m()\u001b[0m\n\u001b[0;32m      <a href='vscode-notebook-cell:/d%3A/Nova%20pasta/AO_tp2/decision-trees-previsao-forecast/matchwin_decision-trees-previsao-forecast-kfold.ipynb#ch0000006?line=0'>1</a>\u001b[0m \u001b[39m##Matriz da confusão\u001b[39;00m\n\u001b[0;32m      <a href='vscode-notebook-cell:/d%3A/Nova%20pasta/AO_tp2/decision-trees-previsao-forecast/matchwin_decision-trees-previsao-forecast-kfold.ipynb#ch0000006?line=1'>2</a>\u001b[0m \u001b[39mfrom\u001b[39;00m \u001b[39msklearn\u001b[39;00m\u001b[39m.\u001b[39;00m\u001b[39mmetrics\u001b[39;00m \u001b[39mimport\u001b[39;00m confusion_matrix\n\u001b[0;32m      <a href='vscode-notebook-cell:/d%3A/Nova%20pasta/AO_tp2/decision-trees-previsao-forecast/matchwin_decision-trees-previsao-forecast-kfold.ipynb#ch0000006?line=3'>4</a>\u001b[0m pd\u001b[39m.\u001b[39mDataFrame(\n\u001b[1;32m----> <a href='vscode-notebook-cell:/d%3A/Nova%20pasta/AO_tp2/decision-trees-previsao-forecast/matchwin_decision-trees-previsao-forecast-kfold.ipynb#ch0000006?line=4'>5</a>\u001b[0m     confusion_matrix(y_teste, y_pred),\n\u001b[0;32m      <a href='vscode-notebook-cell:/d%3A/Nova%20pasta/AO_tp2/decision-trees-previsao-forecast/matchwin_decision-trees-previsao-forecast-kfold.ipynb#ch0000006?line=5'>6</a>\u001b[0m     columns\u001b[39m=\u001b[39m[\u001b[39m'\u001b[39m\u001b[39mPrevisão da t1_home ganhar \u001b[39m\u001b[39m'\u001b[39m, \u001b[39m'\u001b[39m\u001b[39mPrevisão da  t1_home não ganhar\u001b[39m\u001b[39m'\u001b[39m],\n\u001b[0;32m      <a href='vscode-notebook-cell:/d%3A/Nova%20pasta/AO_tp2/decision-trees-previsao-forecast/matchwin_decision-trees-previsao-forecast-kfold.ipynb#ch0000006?line=6'>7</a>\u001b[0m     index\u001b[39m=\u001b[39m[\u001b[39m'\u001b[39m\u001b[39mRealidade de ganhar\u001b[39m\u001b[39m'\u001b[39m, \u001b[39m'\u001b[39m\u001b[39mRealidade de não ganhar\u001b[39m\u001b[39m'\u001b[39m]\n\u001b[0;32m      <a href='vscode-notebook-cell:/d%3A/Nova%20pasta/AO_tp2/decision-trees-previsao-forecast/matchwin_decision-trees-previsao-forecast-kfold.ipynb#ch0000006?line=7'>8</a>\u001b[0m )\n\u001b[0;32m     <a href='vscode-notebook-cell:/d%3A/Nova%20pasta/AO_tp2/decision-trees-previsao-forecast/matchwin_decision-trees-previsao-forecast-kfold.ipynb#ch0000006?line=9'>10</a>\u001b[0m \u001b[39mfrom\u001b[39;00m \u001b[39msklearn\u001b[39;00m \u001b[39mimport\u001b[39;00m tree\n\u001b[0;32m     <a href='vscode-notebook-cell:/d%3A/Nova%20pasta/AO_tp2/decision-trees-previsao-forecast/matchwin_decision-trees-previsao-forecast-kfold.ipynb#ch0000006?line=11'>12</a>\u001b[0m model \u001b[39m=\u001b[39m tree\u001b[39m.\u001b[39mDecisionTreeClassifier()\n",
      "\u001b[1;31mNameError\u001b[0m: name 'y_teste' is not defined"
     ]
    }
   ],
   "source": [
    "\n",
    "##Matriz da confusão\n",
    "from sklearn.metrics import confusion_matrix\n",
    "\n",
    "pd.DataFrame(\n",
    "    confusion_matrix(y_teste, y_pred),\n",
    "    columns=['Previsão da t1_home ganhar ', 'Previsão da  t1_home não ganhar'],\n",
    "    index=['Realidade de ganhar', 'Realidade de não ganhar']\n",
    ")\n",
    "\n",
    "from sklearn import tree\n",
    "\n",
    "model = tree.DecisionTreeClassifier()\n",
    "model.fit(x_train, y_train)\n",
    "\n",
    "tree.export_graphviz(model, out_file='tree.dot', feature_names=x.columns)\n",
    "from subprocess import call\n",
    "\n",
    "call(['dot', '-T', 'png', 'tree.dot', '-o', 'tree.png'])\n",
    "\n",
    "from IPython.display import Image\n",
    "Image(filename = 'tree.png')\n"
   ]
  },
  {
   "cell_type": "code",
   "execution_count": null,
   "metadata": {
    "collapsed": false,
    "pycharm": {
     "name": "#%%\n"
    }
   },
   "outputs": [
    {
     "ename": "",
     "evalue": "",
     "output_type": "error",
     "traceback": [
      "\u001b[1;31mRunning cells with 'Python 3.8.10 64-bit' requires ipykernel package.\n",
      "Run the following command to install 'ipykernel' into the Python environment. \n",
      "Command: '/bin/python3 -m pip install ipykernel -U --user --force-reinstall'"
     ]
    }
   ],
   "source": [
    "import pickle\n",
    "\n",
    "filename = 'modelo_final.sav'\n",
    "pickle.dump(model, open(filename, 'wb'))"
   ]
  },
  {
   "cell_type": "code",
   "execution_count": null,
   "metadata": {
    "collapsed": false,
    "pycharm": {
     "name": "#%%\n"
    }
   },
   "outputs": [
    {
     "ename": "",
     "evalue": "",
     "output_type": "error",
     "traceback": [
      "\u001b[1;31mRunning cells with 'Python 3.8.10 64-bit' requires ipykernel package.\n",
      "Run the following command to install 'ipykernel' into the Python environment. \n",
      "Command: '/bin/python3 -m pip install ipykernel -U --user --force-reinstall'"
     ]
    }
   ],
   "source": [
    "# load the model from disk\n",
    "loaded_model = pickle.load(open(filename, 'rb'))\n",
    "result = loaded_model.score(x_teste, y_teste)\n",
    "print(result)\n",
    "\n",
    "#Fazer uma previsão\n",
    "# make a prediction\n",
    "import pickle\n",
    "loaded_model = pickle.load(open('modelo_final.sav', 'rb'))    #Importar o modelo guardado #Import the saved model\n",
    "\n",
    "dNew = pd.read_csv('/work/Insoltestennewcasex.csv',sep=';',header=0)\n",
    "dNew = dNew.drop('Insolvencia', axis=1)   #Remover a tabela Insolvencia  #Remove the Insolvency table\n",
    "dNew.head(2)     #Mostra as primeiras n linhas do conjunto de dados   Display the first n rows of the dataset\n",
    "\n"
   ]
  },
  {
   "cell_type": "code",
   "execution_count": null,
   "metadata": {
    "collapsed": false,
    "pycharm": {
     "name": "#%%\n"
    }
   },
   "outputs": [
    {
     "ename": "",
     "evalue": "",
     "output_type": "error",
     "traceback": [
      "\u001b[1;31mRunning cells with 'Python 3.8.10 64-bit' requires ipykernel package.\n",
      "Run the following command to install 'ipykernel' into the Python environment. \n",
      "Command: '/bin/python3 -m pip install ipykernel -U --user --force-reinstall'"
     ]
    }
   ],
   "source": [
    "yNew = pd.Series(loaded_model.predict(dNew))\n",
    "if yNew[0] == 0:\n",
    "  print(\"Probabilidade de NÃO Insolvência, Probabilidade=%s\" % (yNew[0]))\n",
    "else:\n",
    "   print(\"Probabilidade de Insolvência, Probabilidade=%s\" % (yNew[0]))"
   ]
  }
 ],
 "metadata": {
  "kernelspec": {
   "display_name": "Python 3.8.10 64-bit",
   "language": "python",
   "name": "python3"
  },
  "language_info": {
   "codemirror_mode": {
    "name": "ipython",
    "version": 3
   },
   "file_extension": ".py",
   "mimetype": "text/x-python",
   "name": "python",
   "nbconvert_exporter": "python",
   "pygments_lexer": "ipython3",
   "version": "3.8.10"
  },
  "vscode": {
   "interpreter": {
    "hash": "916dbcbb3f70747c44a77c7bcd40155683ae19c65e1c03b4aa3499c5328201f1"
   }
  }
 },
 "nbformat": 4,
 "nbformat_minor": 0
}
