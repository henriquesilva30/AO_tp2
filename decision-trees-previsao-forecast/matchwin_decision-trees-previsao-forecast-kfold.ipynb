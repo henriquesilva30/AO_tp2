{
 "cells": [
  {
   "cell_type": "code",
   "execution_count": 9,
   "metadata": {
    "collapsed": true,
    "pycharm": {
     "name": "#%%\n"
    }
   },
   "outputs": [
    {
     "data": {
      "text/plain": "       t1_all_total5_fl_match_win  t1_all_total5_fl_match_draw  \\\n44085                           0                            2   \n44086                           2                            1   \n44087                           1                            2   \n44088                           1                            2   \n44089                           1                            1   \n\n       t1_all_total5_fl_match_lost  t1_all_total10_fl_match_win  \\\n44085                            3                            1   \n44086                            2                            5   \n44087                            2                            3   \n44088                            2                            2   \n44089                            3                            2   \n\n       t1_all_total10_fl_match_draw  t1_all_total10_fl_match_lost  \\\n44085                             5                             4   \n44086                             2                             3   \n44087                             3                             4   \n44088                             3                             5   \n44089                             1                             7   \n\n       t2_all_total5_fl_match_win  t2_all_total5_fl_match_draw  \\\n44085                           3                            1   \n44086                           1                            1   \n44087                           2                            1   \n44088                           2                            3   \n44089                           2                            0   \n\n       t2_all_total5_fl_match_lost  t2_all_total10_fl_match_win  ...  \\\n44085                            1                            6  ...   \n44086                            3                            2  ...   \n44087                            2                            4  ...   \n44088                            0                            2  ...   \n44089                            3                            5  ...   \n\n       t2_away_total10_fl_match_win  t2_away_total10_fl_match_draw  \\\n44085                             6                              1   \n44086                             1                              3   \n44087                             1                              3   \n44088                             3                              3   \n44089                             4                              1   \n\n       t2_away_total10_fl_match_lost  t1_h2h_total5_fl_match_win  \\\n44085                              2                           1   \n44086                              4                           3   \n44087                              2                           0   \n44088                              1                           0   \n44089                              4                           0   \n\n       t1_h2h_total5_fl_match_draw  t1_h2h_total5_fl_match_lost  \\\n44085                            0                            4   \n44086                            0                            2   \n44087                            0                            0   \n44088                            1                            1   \n44089                            0                            1   \n\n       t1_h2h_total10_fl_match_win  t1_h2h_total10_fl_match_draw  \\\n44085                            2                             0   \n44086                            5                             1   \n44087                            0                             0   \n44088                            0                             1   \n44089                            0                             0   \n\n       t1_h2h_total10_fl_match_lost  t1_fl_match_win  \n44085                             8                0  \n44086                             4                0  \n44087                             0                0  \n44088                             1                0  \n44089                             1                0  \n\n[5 rows x 31 columns]",
      "text/html": "<div>\n<style scoped>\n    .dataframe tbody tr th:only-of-type {\n        vertical-align: middle;\n    }\n\n    .dataframe tbody tr th {\n        vertical-align: top;\n    }\n\n    .dataframe thead th {\n        text-align: right;\n    }\n</style>\n<table border=\"1\" class=\"dataframe\">\n  <thead>\n    <tr style=\"text-align: right;\">\n      <th></th>\n      <th>t1_all_total5_fl_match_win</th>\n      <th>t1_all_total5_fl_match_draw</th>\n      <th>t1_all_total5_fl_match_lost</th>\n      <th>t1_all_total10_fl_match_win</th>\n      <th>t1_all_total10_fl_match_draw</th>\n      <th>t1_all_total10_fl_match_lost</th>\n      <th>t2_all_total5_fl_match_win</th>\n      <th>t2_all_total5_fl_match_draw</th>\n      <th>t2_all_total5_fl_match_lost</th>\n      <th>t2_all_total10_fl_match_win</th>\n      <th>...</th>\n      <th>t2_away_total10_fl_match_win</th>\n      <th>t2_away_total10_fl_match_draw</th>\n      <th>t2_away_total10_fl_match_lost</th>\n      <th>t1_h2h_total5_fl_match_win</th>\n      <th>t1_h2h_total5_fl_match_draw</th>\n      <th>t1_h2h_total5_fl_match_lost</th>\n      <th>t1_h2h_total10_fl_match_win</th>\n      <th>t1_h2h_total10_fl_match_draw</th>\n      <th>t1_h2h_total10_fl_match_lost</th>\n      <th>t1_fl_match_win</th>\n    </tr>\n  </thead>\n  <tbody>\n    <tr>\n      <th>44085</th>\n      <td>0</td>\n      <td>2</td>\n      <td>3</td>\n      <td>1</td>\n      <td>5</td>\n      <td>4</td>\n      <td>3</td>\n      <td>1</td>\n      <td>1</td>\n      <td>6</td>\n      <td>...</td>\n      <td>6</td>\n      <td>1</td>\n      <td>2</td>\n      <td>1</td>\n      <td>0</td>\n      <td>4</td>\n      <td>2</td>\n      <td>0</td>\n      <td>8</td>\n      <td>0</td>\n    </tr>\n    <tr>\n      <th>44086</th>\n      <td>2</td>\n      <td>1</td>\n      <td>2</td>\n      <td>5</td>\n      <td>2</td>\n      <td>3</td>\n      <td>1</td>\n      <td>1</td>\n      <td>3</td>\n      <td>2</td>\n      <td>...</td>\n      <td>1</td>\n      <td>3</td>\n      <td>4</td>\n      <td>3</td>\n      <td>0</td>\n      <td>2</td>\n      <td>5</td>\n      <td>1</td>\n      <td>4</td>\n      <td>0</td>\n    </tr>\n    <tr>\n      <th>44087</th>\n      <td>1</td>\n      <td>2</td>\n      <td>2</td>\n      <td>3</td>\n      <td>3</td>\n      <td>4</td>\n      <td>2</td>\n      <td>1</td>\n      <td>2</td>\n      <td>4</td>\n      <td>...</td>\n      <td>1</td>\n      <td>3</td>\n      <td>2</td>\n      <td>0</td>\n      <td>0</td>\n      <td>0</td>\n      <td>0</td>\n      <td>0</td>\n      <td>0</td>\n      <td>0</td>\n    </tr>\n    <tr>\n      <th>44088</th>\n      <td>1</td>\n      <td>2</td>\n      <td>2</td>\n      <td>2</td>\n      <td>3</td>\n      <td>5</td>\n      <td>2</td>\n      <td>3</td>\n      <td>0</td>\n      <td>2</td>\n      <td>...</td>\n      <td>3</td>\n      <td>3</td>\n      <td>1</td>\n      <td>0</td>\n      <td>1</td>\n      <td>1</td>\n      <td>0</td>\n      <td>1</td>\n      <td>1</td>\n      <td>0</td>\n    </tr>\n    <tr>\n      <th>44089</th>\n      <td>1</td>\n      <td>1</td>\n      <td>3</td>\n      <td>2</td>\n      <td>1</td>\n      <td>7</td>\n      <td>2</td>\n      <td>0</td>\n      <td>3</td>\n      <td>5</td>\n      <td>...</td>\n      <td>4</td>\n      <td>1</td>\n      <td>4</td>\n      <td>0</td>\n      <td>0</td>\n      <td>1</td>\n      <td>0</td>\n      <td>0</td>\n      <td>1</td>\n      <td>0</td>\n    </tr>\n  </tbody>\n</table>\n<p>5 rows × 31 columns</p>\n</div>"
     },
     "execution_count": 9,
     "metadata": {},
     "output_type": "execute_result"
    }
   ],
   "source": [
    "# -*- coding: utf-8 -*-\n",
    "## Exemplo de Criação de um modelo de Previsão/Classificação usando as Arvores de Decisão\n",
    "## Example of Creating a Forecast/Classification model using Decision Trees\n",
    "\n",
    "## import\n",
    "import numpy as np\n",
    "import pandas as pd\n",
    "import seaborn as sns\n",
    "from sklearn.model_selection import train_test_split, cross_validate\n",
    "from sklearn.tree import DecisionTreeClassifier, ExtraTreeClassifier\n",
    "from sklearn import metrics\n",
    "import joblib #better then pickle\n",
    "\n",
    "\n",
    "## carregar o ficheiro resultados para um dataframe do pandas dResult\n",
    "## load the Insol file into a pandas dResult dataframe\n",
    "dResult = pd.read_csv('../files/t1_win_NullCorretion.csv')\n",
    "\n",
    "\n",
    "\n",
    "dResult.head(2)     #Mostra as primeiras n linhas do conjunto de dados\n",
    "dResult.tail(5)     #Mostra as últimas n linhas do conjunto de dados\n"
   ]
  },
  {
   "cell_type": "code",
   "execution_count": 10,
   "metadata": {
    "collapsed": false,
    "pycharm": {
     "name": "#%%\n"
    }
   },
   "outputs": [],
   "source": [
    "## Pre-processamento dividir os dados em conjunto de Treino e Teste\n",
    "## Pre-processing split data into Training and Test sets\n",
    "x = dResult.drop('t1_fl_match_win', axis=1)   #Todas as tabelas que são usadas para fazer a predict\n",
    "y = dResult.t1_fl_match_win                   #Resultados entre 1 e 0 Vitoria ou não Vitoria)\n",
    "\n"
   ]
  },
  {
   "cell_type": "code",
   "execution_count": 11,
   "metadata": {
    "collapsed": false,
    "pycharm": {
     "name": "#%%\n"
    }
   },
   "outputs": [],
   "source": [
    "def modelDecisionTreeClassifier():\n",
    "    from sklearn.model_selection import KFold, StratifiedKFold, cross_val_score\n",
    "    from sklearn import linear_model, tree, ensemble\n",
    "\n",
    "    kf =KFold(n_splits=20, shuffle=True, random_state=42)\n",
    "# split()  method generate indices to split data into training and test set.\n",
    "    for train_index, test_index in kf.split(x, y):\n",
    "        scoresR2 = cross_validate(tree.DecisionTreeClassifier(random_state=42), x, y, scoring=['neg_mean_squared_error','r2','max_error'], cv=kf, return_estimator=True)\n",
    "\n",
    "    print (\"Resultados do modelo Extra Tree Classifier\\n\")\n",
    "    print(\"Metrics : \", scoresR2)\n",
    "    filename = 'modelo_final-kf.sav'\n",
    "    joblib.dump(tree.DecisionTreeClassifier(random_state=42), open(filename, 'wb'))\n",
    "\n"
   ]
  },
  {
   "cell_type": "code",
   "execution_count": 12,
   "metadata": {
    "collapsed": false,
    "pycharm": {
     "name": "#%%\n"
    }
   },
   "outputs": [],
   "source": [
    "def modelExtraTreeClassifier():\n",
    "    from sklearn.model_selection import KFold, StratifiedKFold, cross_val_score\n",
    "    from sklearn import linear_model, tree, ensemble\n",
    "    val_acc_classifier=[]\n",
    "    jsonFile.write('[')\n",
    "\n",
    "    a=14\n",
    "    while a < 20:\n",
    "        data = {}\n",
    "        print('KFold_splits {:.2f}'.format(a))\n",
    "        data['KFold_splits']='{:.2f}'.format(a)\n",
    "        data['Modelo']= 'Extra Tree Classifier'\n",
    "        kf =KFold(n_splits=20, shuffle=True, random_state=42)\n",
    "# split()  method generate indices to split data into training and test set.\n",
    "        for train_index, test_index in kf.split(x, y):\n",
    "            scoresR2 = cross_validate(tree.DecisionTreeClassifier(random_state=42), x, y, scoring=['neg_mean_squared_error','r2','max_error'], cv=kf, return_estimator=True)\n",
    "        a+=4\n",
    "    # print('NMSE - R2 - ME: ', scoresR2)\n",
    "        data['R2'] = scoresR2['test_r2'].tolist()\n",
    "        data['NMSE'] = scoresR2['test_neg_mean_squared_error'].tolist()\n",
    "        data['ME'] = scoresR2['test_max_error'].tolist()\n",
    "        print('Data: ', data)\n",
    "        jsonString = json.dumps(data)\n",
    "        print('jsonString: ', jsonString)\n",
    "        jsonFile.write(jsonString+\",\\n\")\n",
    "\n",
    "\n",
    "        val_acc_classifier.append(scoresR2)\n",
    "        val_acc_classifier.append(jsonString)\n",
    "    jsonFile.write(']')\n",
    "    return val_acc_classifier\n"
   ]
  },
  {
   "cell_type": "code",
   "execution_count": 13,
   "metadata": {
    "collapsed": false,
    "pycharm": {
     "name": "#%%\n"
    }
   },
   "outputs": [],
   "source": [
    "def modelDecisionTreeRegressor():\n",
    "    from sklearn.model_selection import KFold, StratifiedKFold, cross_val_score\n",
    "    from sklearn import linear_model, tree, ensemble\n",
    "    val_acc_regressor=[]\n",
    "    jsonFile.write('[')\n",
    "\n",
    "    a=14\n",
    "    while a < 20:\n",
    "        data = {}\n",
    "        print('KFold_splits {:.2f}'.format(a))\n",
    "        data['KFold_splits']='{:.2f}'.format(a)\n",
    "        data['Modelo']= 'Decision Tree Classifier'\n",
    "        kf =KFold(n_splits=a, shuffle=True, random_state=42)\n",
    "    # split()  method generate indices to split data into training and test set.\n",
    "        print (\"Resultados do modelo Decision Tree Classifier\\n\")\n",
    "        for train_index, test_index in kf.split(x, y):\n",
    "            scoresR2 = cross_validate(tree.DecisionTreeClassifier(random_state=42), x, y, scoring=['neg_mean_squared_error','r2','max_error'], cv=kf, return_estimator=True)\n",
    "        a+=4\n",
    "       # print('NMSE - R2 - ME: ', scoresR2)\n",
    "        data['R2'] = scoresR2['test_r2'].tolist()\n",
    "        data['NMSE'] = scoresR2['test_neg_mean_squared_error'].tolist()\n",
    "        data['ME'] = scoresR2['test_max_error'].tolist()\n",
    "        print('Data: ', data)\n",
    "        jsonString = json.dumps(data)\n",
    "        print('jsonString: ', jsonString)\n",
    "        jsonFile.write(jsonString+\",\\n\")\n",
    "\n",
    "\n",
    "        val_acc_regressor.append(scoresR2)\n",
    "        val_acc_regressor.append(jsonString)\n",
    "    jsonFile.write(']')\n",
    "    return val_acc_regressor\n"
   ]
  },
  {
   "cell_type": "code",
   "execution_count": 14,
   "metadata": {
    "collapsed": false,
    "pycharm": {
     "name": "#%%\n"
    }
   },
   "outputs": [
    {
     "name": "stdout",
     "output_type": "stream",
     "text": [
      "KFold_splits 14.00\n",
      "Resultados do modelo Decision Tree Classifier\n",
      "\n",
      "Data:  {'KFold_splits': '14.00', 'Modelo': 'Decision Tree Classifier', 'R2': [-0.8777943368107308, -0.9120419782745328, -0.8728682800064973, -0.872632899106236, -0.8452667601254642, -0.8743115960037775, -0.8682906414248963, -0.850580945707142, -0.8546999663439647, -0.9098472449536281, -0.8949054161443861, -0.8133996329485051, -0.9170606713090601, -0.9159428175702413], 'NMSE': [-0.45714285714285713, -0.46634920634920635, -0.45555555555555555, -0.4546031746031746, -0.448396316290886, -0.4563353445538266, -0.45919339472848525, -0.4522070498570975, -0.453477294379168, -0.4645919339472849, -0.4664973007303906, -0.438234360114322, -0.4649094950778025, -0.46872022864401397], 'ME': [-1, -1, -1, -1, -1, -1, -1, -1, -1, -1, -1, -1, -1, -1]}\n",
      "jsonString:  {\"KFold_splits\": \"14.00\", \"Modelo\": \"Decision Tree Classifier\", \"R2\": [-0.8777943368107308, -0.9120419782745328, -0.8728682800064973, -0.872632899106236, -0.8452667601254642, -0.8743115960037775, -0.8682906414248963, -0.850580945707142, -0.8546999663439647, -0.9098472449536281, -0.8949054161443861, -0.8133996329485051, -0.9170606713090601, -0.9159428175702413], \"NMSE\": [-0.45714285714285713, -0.46634920634920635, -0.45555555555555555, -0.4546031746031746, -0.448396316290886, -0.4563353445538266, -0.45919339472848525, -0.4522070498570975, -0.453477294379168, -0.4645919339472849, -0.4664973007303906, -0.438234360114322, -0.4649094950778025, -0.46872022864401397], \"ME\": [-1, -1, -1, -1, -1, -1, -1, -1, -1, -1, -1, -1, -1, -1]}\n",
      "KFold_splits 18.00\n",
      "Resultados do modelo Decision Tree Classifier\n",
      "\n",
      "Data:  {'KFold_splits': '18.00', 'Modelo': 'Decision Tree Classifier', 'R2': [-0.8508013775633436, -0.911831212070157, -0.9680403700588738, -0.9671977673543912, -0.8878459230934055, -0.832321043002423, -0.8638411741909426, -0.8944147914290841, -0.8758516023445231, -0.8697992437244939, -0.8983277377267718, -0.9076727548531247, -0.8983331288092604, -0.8708608103340658, -0.8994294783802332, -1.0058850934647112, -0.8534870897034699, -0.9002809467168607], 'NMSE': [-0.4506122448979592, -0.4669387755102041, -0.4775510204081633, -0.47959183673469385, -0.4579591836734694, -0.44448979591836735, -0.45510204081632655, -0.46244897959183673, -0.4601878317680686, -0.45773785218456514, -0.4634544712127399, -0.46549612086565945, -0.4642711310739077, -0.45977950183748467, -0.45773785218456514, -0.4895875867701103, -0.4483462637811352, -0.4650877909350755], 'ME': [-1, -1, -1, -1, -1, -1, -1, -1, -1, -1, -1, -1, -1, -1, -1, -1, -1, -1]}\n",
      "jsonString:  {\"KFold_splits\": \"18.00\", \"Modelo\": \"Decision Tree Classifier\", \"R2\": [-0.8508013775633436, -0.911831212070157, -0.9680403700588738, -0.9671977673543912, -0.8878459230934055, -0.832321043002423, -0.8638411741909426, -0.8944147914290841, -0.8758516023445231, -0.8697992437244939, -0.8983277377267718, -0.9076727548531247, -0.8983331288092604, -0.8708608103340658, -0.8994294783802332, -1.0058850934647112, -0.8534870897034699, -0.9002809467168607], \"NMSE\": [-0.4506122448979592, -0.4669387755102041, -0.4775510204081633, -0.47959183673469385, -0.4579591836734694, -0.44448979591836735, -0.45510204081632655, -0.46244897959183673, -0.4601878317680686, -0.45773785218456514, -0.4634544712127399, -0.46549612086565945, -0.4642711310739077, -0.45977950183748467, -0.45773785218456514, -0.4895875867701103, -0.4483462637811352, -0.4650877909350755], \"ME\": [-1, -1, -1, -1, -1, -1, -1, -1, -1, -1, -1, -1, -1, -1, -1, -1, -1, -1]}\n",
      "KFold_splits 14.00\n",
      "Resultados do modelo Decision Tree Classifier\n",
      "\n",
      "Data:  {'KFold_splits': '14.00', 'Modelo': 'Decision Tree Classifier', 'R2': [-0.8777943368107308, -0.9120419782745328, -0.8728682800064973, -0.872632899106236, -0.8452667601254642, -0.8743115960037775, -0.8682906414248963, -0.850580945707142, -0.8546999663439647, -0.9098472449536281, -0.8949054161443861, -0.8133996329485051, -0.9170606713090601, -0.9159428175702413], 'NMSE': [-0.45714285714285713, -0.46634920634920635, -0.45555555555555555, -0.4546031746031746, -0.448396316290886, -0.4563353445538266, -0.45919339472848525, -0.4522070498570975, -0.453477294379168, -0.4645919339472849, -0.4664973007303906, -0.438234360114322, -0.4649094950778025, -0.46872022864401397], 'ME': [-1, -1, -1, -1, -1, -1, -1, -1, -1, -1, -1, -1, -1, -1]}\n",
      "jsonString:  {\"KFold_splits\": \"14.00\", \"Modelo\": \"Decision Tree Classifier\", \"R2\": [-0.8777943368107308, -0.9120419782745328, -0.8728682800064973, -0.872632899106236, -0.8452667601254642, -0.8743115960037775, -0.8682906414248963, -0.850580945707142, -0.8546999663439647, -0.9098472449536281, -0.8949054161443861, -0.8133996329485051, -0.9170606713090601, -0.9159428175702413], \"NMSE\": [-0.45714285714285713, -0.46634920634920635, -0.45555555555555555, -0.4546031746031746, -0.448396316290886, -0.4563353445538266, -0.45919339472848525, -0.4522070498570975, -0.453477294379168, -0.4645919339472849, -0.4664973007303906, -0.438234360114322, -0.4649094950778025, -0.46872022864401397], \"ME\": [-1, -1, -1, -1, -1, -1, -1, -1, -1, -1, -1, -1, -1, -1]}\n",
      "KFold_splits 18.00\n",
      "Resultados do modelo Decision Tree Classifier\n",
      "\n",
      "Data:  {'KFold_splits': '18.00', 'Modelo': 'Decision Tree Classifier', 'R2': [-0.8508013775633436, -0.911831212070157, -0.9680403700588738, -0.9671977673543912, -0.8878459230934055, -0.832321043002423, -0.8638411741909426, -0.8944147914290841, -0.8758516023445231, -0.8697992437244939, -0.8983277377267718, -0.9076727548531247, -0.8983331288092604, -0.8708608103340658, -0.8994294783802332, -1.0058850934647112, -0.8534870897034699, -0.9002809467168607], 'NMSE': [-0.4506122448979592, -0.4669387755102041, -0.4775510204081633, -0.47959183673469385, -0.4579591836734694, -0.44448979591836735, -0.45510204081632655, -0.46244897959183673, -0.4601878317680686, -0.45773785218456514, -0.4634544712127399, -0.46549612086565945, -0.4642711310739077, -0.45977950183748467, -0.45773785218456514, -0.4895875867701103, -0.4483462637811352, -0.4650877909350755], 'ME': [-1, -1, -1, -1, -1, -1, -1, -1, -1, -1, -1, -1, -1, -1, -1, -1, -1, -1]}\n",
      "jsonString:  {\"KFold_splits\": \"18.00\", \"Modelo\": \"Decision Tree Classifier\", \"R2\": [-0.8508013775633436, -0.911831212070157, -0.9680403700588738, -0.9671977673543912, -0.8878459230934055, -0.832321043002423, -0.8638411741909426, -0.8944147914290841, -0.8758516023445231, -0.8697992437244939, -0.8983277377267718, -0.9076727548531247, -0.8983331288092604, -0.8708608103340658, -0.8994294783802332, -1.0058850934647112, -0.8534870897034699, -0.9002809467168607], \"NMSE\": [-0.4506122448979592, -0.4669387755102041, -0.4775510204081633, -0.47959183673469385, -0.4579591836734694, -0.44448979591836735, -0.45510204081632655, -0.46244897959183673, -0.4601878317680686, -0.45773785218456514, -0.4634544712127399, -0.46549612086565945, -0.4642711310739077, -0.45977950183748467, -0.45773785218456514, -0.4895875867701103, -0.4483462637811352, -0.4650877909350755], \"ME\": [-1, -1, -1, -1, -1, -1, -1, -1, -1, -1, -1, -1, -1, -1, -1, -1, -1, -1]}\n",
      "KFold_splits 14.00\n"
     ]
    },
    {
     "ename": "KeyboardInterrupt",
     "evalue": "",
     "output_type": "error",
     "traceback": [
      "\u001B[1;31m---------------------------------------------------------------------------\u001B[0m",
      "\u001B[1;31mKeyboardInterrupt\u001B[0m                         Traceback (most recent call last)",
      "Input \u001B[1;32mIn [14]\u001B[0m, in \u001B[0;36m<cell line: 8>\u001B[1;34m()\u001B[0m\n\u001B[0;32m      6\u001B[0m jsonTxt \u001B[38;5;241m+\u001B[39m\u001B[38;5;241m=\u001B[39m modtr[\u001B[38;5;241m1\u001B[39m]\n\u001B[0;32m      7\u001B[0m jsonFile\u001B[38;5;241m.\u001B[39mwrite(jsonTxt)\n\u001B[1;32m----> 8\u001B[0m metc \u001B[38;5;241m=\u001B[39m \u001B[43mmodelExtraTreeClassifier\u001B[49m\u001B[43m(\u001B[49m\u001B[43m)\u001B[49m\n\u001B[0;32m      9\u001B[0m \u001B[38;5;66;03m#demora muito tempo a processar\u001B[39;00m\n\u001B[0;32m     10\u001B[0m modelDecisionTreeClassifier()\n",
      "Input \u001B[1;32mIn [12]\u001B[0m, in \u001B[0;36mmodelExtraTreeClassifier\u001B[1;34m()\u001B[0m\n\u001B[0;32m     14\u001B[0m \u001B[38;5;66;03m# split()  method generate indices to split data into training and test set.\u001B[39;00m\n\u001B[0;32m     15\u001B[0m         \u001B[38;5;28;01mfor\u001B[39;00m train_index, test_index \u001B[38;5;129;01min\u001B[39;00m kf\u001B[38;5;241m.\u001B[39msplit(x, y):\n\u001B[1;32m---> 16\u001B[0m             scoresR2 \u001B[38;5;241m=\u001B[39m \u001B[43mcross_validate\u001B[49m\u001B[43m(\u001B[49m\u001B[43mtree\u001B[49m\u001B[38;5;241;43m.\u001B[39;49m\u001B[43mDecisionTreeClassifier\u001B[49m\u001B[43m(\u001B[49m\u001B[43mrandom_state\u001B[49m\u001B[38;5;241;43m=\u001B[39;49m\u001B[38;5;241;43m42\u001B[39;49m\u001B[43m)\u001B[49m\u001B[43m,\u001B[49m\u001B[43m \u001B[49m\u001B[43mx\u001B[49m\u001B[43m,\u001B[49m\u001B[43m \u001B[49m\u001B[43my\u001B[49m\u001B[43m,\u001B[49m\u001B[43m \u001B[49m\u001B[43mscoring\u001B[49m\u001B[38;5;241;43m=\u001B[39;49m\u001B[43m[\u001B[49m\u001B[38;5;124;43m'\u001B[39;49m\u001B[38;5;124;43mneg_mean_squared_error\u001B[39;49m\u001B[38;5;124;43m'\u001B[39;49m\u001B[43m,\u001B[49m\u001B[38;5;124;43m'\u001B[39;49m\u001B[38;5;124;43mr2\u001B[39;49m\u001B[38;5;124;43m'\u001B[39;49m\u001B[43m,\u001B[49m\u001B[38;5;124;43m'\u001B[39;49m\u001B[38;5;124;43mmax_error\u001B[39;49m\u001B[38;5;124;43m'\u001B[39;49m\u001B[43m]\u001B[49m\u001B[43m,\u001B[49m\u001B[43m \u001B[49m\u001B[43mcv\u001B[49m\u001B[38;5;241;43m=\u001B[39;49m\u001B[43mkf\u001B[49m\u001B[43m,\u001B[49m\u001B[43m \u001B[49m\u001B[43mreturn_estimator\u001B[49m\u001B[38;5;241;43m=\u001B[39;49m\u001B[38;5;28;43;01mTrue\u001B[39;49;00m\u001B[43m)\u001B[49m\n\u001B[0;32m     17\u001B[0m         a\u001B[38;5;241m+\u001B[39m\u001B[38;5;241m=\u001B[39m\u001B[38;5;241m4\u001B[39m\n\u001B[0;32m     18\u001B[0m     \u001B[38;5;66;03m# print('NMSE - R2 - ME: ', scoresR2)\u001B[39;00m\n",
      "File \u001B[1;32m~\\Trabalhos\\pythonProjects\\lib\\site-packages\\sklearn\\model_selection\\_validation.py:267\u001B[0m, in \u001B[0;36mcross_validate\u001B[1;34m(estimator, X, y, groups, scoring, cv, n_jobs, verbose, fit_params, pre_dispatch, return_train_score, return_estimator, error_score)\u001B[0m\n\u001B[0;32m    264\u001B[0m \u001B[38;5;66;03m# We clone the estimator to make sure that all the folds are\u001B[39;00m\n\u001B[0;32m    265\u001B[0m \u001B[38;5;66;03m# independent, and that it is pickle-able.\u001B[39;00m\n\u001B[0;32m    266\u001B[0m parallel \u001B[38;5;241m=\u001B[39m Parallel(n_jobs\u001B[38;5;241m=\u001B[39mn_jobs, verbose\u001B[38;5;241m=\u001B[39mverbose, pre_dispatch\u001B[38;5;241m=\u001B[39mpre_dispatch)\n\u001B[1;32m--> 267\u001B[0m results \u001B[38;5;241m=\u001B[39m \u001B[43mparallel\u001B[49m\u001B[43m(\u001B[49m\n\u001B[0;32m    268\u001B[0m \u001B[43m    \u001B[49m\u001B[43mdelayed\u001B[49m\u001B[43m(\u001B[49m\u001B[43m_fit_and_score\u001B[49m\u001B[43m)\u001B[49m\u001B[43m(\u001B[49m\n\u001B[0;32m    269\u001B[0m \u001B[43m        \u001B[49m\u001B[43mclone\u001B[49m\u001B[43m(\u001B[49m\u001B[43mestimator\u001B[49m\u001B[43m)\u001B[49m\u001B[43m,\u001B[49m\n\u001B[0;32m    270\u001B[0m \u001B[43m        \u001B[49m\u001B[43mX\u001B[49m\u001B[43m,\u001B[49m\n\u001B[0;32m    271\u001B[0m \u001B[43m        \u001B[49m\u001B[43my\u001B[49m\u001B[43m,\u001B[49m\n\u001B[0;32m    272\u001B[0m \u001B[43m        \u001B[49m\u001B[43mscorers\u001B[49m\u001B[43m,\u001B[49m\n\u001B[0;32m    273\u001B[0m \u001B[43m        \u001B[49m\u001B[43mtrain\u001B[49m\u001B[43m,\u001B[49m\n\u001B[0;32m    274\u001B[0m \u001B[43m        \u001B[49m\u001B[43mtest\u001B[49m\u001B[43m,\u001B[49m\n\u001B[0;32m    275\u001B[0m \u001B[43m        \u001B[49m\u001B[43mverbose\u001B[49m\u001B[43m,\u001B[49m\n\u001B[0;32m    276\u001B[0m \u001B[43m        \u001B[49m\u001B[38;5;28;43;01mNone\u001B[39;49;00m\u001B[43m,\u001B[49m\n\u001B[0;32m    277\u001B[0m \u001B[43m        \u001B[49m\u001B[43mfit_params\u001B[49m\u001B[43m,\u001B[49m\n\u001B[0;32m    278\u001B[0m \u001B[43m        \u001B[49m\u001B[43mreturn_train_score\u001B[49m\u001B[38;5;241;43m=\u001B[39;49m\u001B[43mreturn_train_score\u001B[49m\u001B[43m,\u001B[49m\n\u001B[0;32m    279\u001B[0m \u001B[43m        \u001B[49m\u001B[43mreturn_times\u001B[49m\u001B[38;5;241;43m=\u001B[39;49m\u001B[38;5;28;43;01mTrue\u001B[39;49;00m\u001B[43m,\u001B[49m\n\u001B[0;32m    280\u001B[0m \u001B[43m        \u001B[49m\u001B[43mreturn_estimator\u001B[49m\u001B[38;5;241;43m=\u001B[39;49m\u001B[43mreturn_estimator\u001B[49m\u001B[43m,\u001B[49m\n\u001B[0;32m    281\u001B[0m \u001B[43m        \u001B[49m\u001B[43merror_score\u001B[49m\u001B[38;5;241;43m=\u001B[39;49m\u001B[43merror_score\u001B[49m\u001B[43m,\u001B[49m\n\u001B[0;32m    282\u001B[0m \u001B[43m    \u001B[49m\u001B[43m)\u001B[49m\n\u001B[0;32m    283\u001B[0m \u001B[43m    \u001B[49m\u001B[38;5;28;43;01mfor\u001B[39;49;00m\u001B[43m \u001B[49m\u001B[43mtrain\u001B[49m\u001B[43m,\u001B[49m\u001B[43m \u001B[49m\u001B[43mtest\u001B[49m\u001B[43m \u001B[49m\u001B[38;5;129;43;01min\u001B[39;49;00m\u001B[43m \u001B[49m\u001B[43mcv\u001B[49m\u001B[38;5;241;43m.\u001B[39;49m\u001B[43msplit\u001B[49m\u001B[43m(\u001B[49m\u001B[43mX\u001B[49m\u001B[43m,\u001B[49m\u001B[43m \u001B[49m\u001B[43my\u001B[49m\u001B[43m,\u001B[49m\u001B[43m \u001B[49m\u001B[43mgroups\u001B[49m\u001B[43m)\u001B[49m\n\u001B[0;32m    284\u001B[0m \u001B[43m\u001B[49m\u001B[43m)\u001B[49m\n\u001B[0;32m    286\u001B[0m _warn_about_fit_failures(results, error_score)\n\u001B[0;32m    288\u001B[0m \u001B[38;5;66;03m# For callabe scoring, the return type is only know after calling. If the\u001B[39;00m\n\u001B[0;32m    289\u001B[0m \u001B[38;5;66;03m# return type is a dictionary, the error scores can now be inserted with\u001B[39;00m\n\u001B[0;32m    290\u001B[0m \u001B[38;5;66;03m# the correct key.\u001B[39;00m\n",
      "File \u001B[1;32m~\\Trabalhos\\pythonProjects\\lib\\site-packages\\joblib\\parallel.py:1046\u001B[0m, in \u001B[0;36mParallel.__call__\u001B[1;34m(self, iterable)\u001B[0m\n\u001B[0;32m   1043\u001B[0m \u001B[38;5;28;01mif\u001B[39;00m \u001B[38;5;28mself\u001B[39m\u001B[38;5;241m.\u001B[39mdispatch_one_batch(iterator):\n\u001B[0;32m   1044\u001B[0m     \u001B[38;5;28mself\u001B[39m\u001B[38;5;241m.\u001B[39m_iterating \u001B[38;5;241m=\u001B[39m \u001B[38;5;28mself\u001B[39m\u001B[38;5;241m.\u001B[39m_original_iterator \u001B[38;5;129;01mis\u001B[39;00m \u001B[38;5;129;01mnot\u001B[39;00m \u001B[38;5;28;01mNone\u001B[39;00m\n\u001B[1;32m-> 1046\u001B[0m \u001B[38;5;28;01mwhile\u001B[39;00m \u001B[38;5;28;43mself\u001B[39;49m\u001B[38;5;241;43m.\u001B[39;49m\u001B[43mdispatch_one_batch\u001B[49m\u001B[43m(\u001B[49m\u001B[43miterator\u001B[49m\u001B[43m)\u001B[49m:\n\u001B[0;32m   1047\u001B[0m     \u001B[38;5;28;01mpass\u001B[39;00m\n\u001B[0;32m   1049\u001B[0m \u001B[38;5;28;01mif\u001B[39;00m pre_dispatch \u001B[38;5;241m==\u001B[39m \u001B[38;5;124m\"\u001B[39m\u001B[38;5;124mall\u001B[39m\u001B[38;5;124m\"\u001B[39m \u001B[38;5;129;01mor\u001B[39;00m n_jobs \u001B[38;5;241m==\u001B[39m \u001B[38;5;241m1\u001B[39m:\n\u001B[0;32m   1050\u001B[0m     \u001B[38;5;66;03m# The iterable was consumed all at once by the above for loop.\u001B[39;00m\n\u001B[0;32m   1051\u001B[0m     \u001B[38;5;66;03m# No need to wait for async callbacks to trigger to\u001B[39;00m\n\u001B[0;32m   1052\u001B[0m     \u001B[38;5;66;03m# consumption.\u001B[39;00m\n",
      "File \u001B[1;32m~\\Trabalhos\\pythonProjects\\lib\\site-packages\\joblib\\parallel.py:861\u001B[0m, in \u001B[0;36mParallel.dispatch_one_batch\u001B[1;34m(self, iterator)\u001B[0m\n\u001B[0;32m    859\u001B[0m     \u001B[38;5;28;01mreturn\u001B[39;00m \u001B[38;5;28;01mFalse\u001B[39;00m\n\u001B[0;32m    860\u001B[0m \u001B[38;5;28;01melse\u001B[39;00m:\n\u001B[1;32m--> 861\u001B[0m     \u001B[38;5;28;43mself\u001B[39;49m\u001B[38;5;241;43m.\u001B[39;49m\u001B[43m_dispatch\u001B[49m\u001B[43m(\u001B[49m\u001B[43mtasks\u001B[49m\u001B[43m)\u001B[49m\n\u001B[0;32m    862\u001B[0m     \u001B[38;5;28;01mreturn\u001B[39;00m \u001B[38;5;28;01mTrue\u001B[39;00m\n",
      "File \u001B[1;32m~\\Trabalhos\\pythonProjects\\lib\\site-packages\\joblib\\parallel.py:779\u001B[0m, in \u001B[0;36mParallel._dispatch\u001B[1;34m(self, batch)\u001B[0m\n\u001B[0;32m    777\u001B[0m \u001B[38;5;28;01mwith\u001B[39;00m \u001B[38;5;28mself\u001B[39m\u001B[38;5;241m.\u001B[39m_lock:\n\u001B[0;32m    778\u001B[0m     job_idx \u001B[38;5;241m=\u001B[39m \u001B[38;5;28mlen\u001B[39m(\u001B[38;5;28mself\u001B[39m\u001B[38;5;241m.\u001B[39m_jobs)\n\u001B[1;32m--> 779\u001B[0m     job \u001B[38;5;241m=\u001B[39m \u001B[38;5;28;43mself\u001B[39;49m\u001B[38;5;241;43m.\u001B[39;49m\u001B[43m_backend\u001B[49m\u001B[38;5;241;43m.\u001B[39;49m\u001B[43mapply_async\u001B[49m\u001B[43m(\u001B[49m\u001B[43mbatch\u001B[49m\u001B[43m,\u001B[49m\u001B[43m \u001B[49m\u001B[43mcallback\u001B[49m\u001B[38;5;241;43m=\u001B[39;49m\u001B[43mcb\u001B[49m\u001B[43m)\u001B[49m\n\u001B[0;32m    780\u001B[0m     \u001B[38;5;66;03m# A job can complete so quickly than its callback is\u001B[39;00m\n\u001B[0;32m    781\u001B[0m     \u001B[38;5;66;03m# called before we get here, causing self._jobs to\u001B[39;00m\n\u001B[0;32m    782\u001B[0m     \u001B[38;5;66;03m# grow. To ensure correct results ordering, .insert is\u001B[39;00m\n\u001B[0;32m    783\u001B[0m     \u001B[38;5;66;03m# used (rather than .append) in the following line\u001B[39;00m\n\u001B[0;32m    784\u001B[0m     \u001B[38;5;28mself\u001B[39m\u001B[38;5;241m.\u001B[39m_jobs\u001B[38;5;241m.\u001B[39minsert(job_idx, job)\n",
      "File \u001B[1;32m~\\Trabalhos\\pythonProjects\\lib\\site-packages\\joblib\\_parallel_backends.py:208\u001B[0m, in \u001B[0;36mSequentialBackend.apply_async\u001B[1;34m(self, func, callback)\u001B[0m\n\u001B[0;32m    206\u001B[0m \u001B[38;5;28;01mdef\u001B[39;00m \u001B[38;5;21mapply_async\u001B[39m(\u001B[38;5;28mself\u001B[39m, func, callback\u001B[38;5;241m=\u001B[39m\u001B[38;5;28;01mNone\u001B[39;00m):\n\u001B[0;32m    207\u001B[0m     \u001B[38;5;124;03m\"\"\"Schedule a func to be run\"\"\"\u001B[39;00m\n\u001B[1;32m--> 208\u001B[0m     result \u001B[38;5;241m=\u001B[39m \u001B[43mImmediateResult\u001B[49m\u001B[43m(\u001B[49m\u001B[43mfunc\u001B[49m\u001B[43m)\u001B[49m\n\u001B[0;32m    209\u001B[0m     \u001B[38;5;28;01mif\u001B[39;00m callback:\n\u001B[0;32m    210\u001B[0m         callback(result)\n",
      "File \u001B[1;32m~\\Trabalhos\\pythonProjects\\lib\\site-packages\\joblib\\_parallel_backends.py:572\u001B[0m, in \u001B[0;36mImmediateResult.__init__\u001B[1;34m(self, batch)\u001B[0m\n\u001B[0;32m    569\u001B[0m \u001B[38;5;28;01mdef\u001B[39;00m \u001B[38;5;21m__init__\u001B[39m(\u001B[38;5;28mself\u001B[39m, batch):\n\u001B[0;32m    570\u001B[0m     \u001B[38;5;66;03m# Don't delay the application, to avoid keeping the input\u001B[39;00m\n\u001B[0;32m    571\u001B[0m     \u001B[38;5;66;03m# arguments in memory\u001B[39;00m\n\u001B[1;32m--> 572\u001B[0m     \u001B[38;5;28mself\u001B[39m\u001B[38;5;241m.\u001B[39mresults \u001B[38;5;241m=\u001B[39m \u001B[43mbatch\u001B[49m\u001B[43m(\u001B[49m\u001B[43m)\u001B[49m\n",
      "File \u001B[1;32m~\\Trabalhos\\pythonProjects\\lib\\site-packages\\joblib\\parallel.py:262\u001B[0m, in \u001B[0;36mBatchedCalls.__call__\u001B[1;34m(self)\u001B[0m\n\u001B[0;32m    258\u001B[0m \u001B[38;5;28;01mdef\u001B[39;00m \u001B[38;5;21m__call__\u001B[39m(\u001B[38;5;28mself\u001B[39m):\n\u001B[0;32m    259\u001B[0m     \u001B[38;5;66;03m# Set the default nested backend to self._backend but do not set the\u001B[39;00m\n\u001B[0;32m    260\u001B[0m     \u001B[38;5;66;03m# change the default number of processes to -1\u001B[39;00m\n\u001B[0;32m    261\u001B[0m     \u001B[38;5;28;01mwith\u001B[39;00m parallel_backend(\u001B[38;5;28mself\u001B[39m\u001B[38;5;241m.\u001B[39m_backend, n_jobs\u001B[38;5;241m=\u001B[39m\u001B[38;5;28mself\u001B[39m\u001B[38;5;241m.\u001B[39m_n_jobs):\n\u001B[1;32m--> 262\u001B[0m         \u001B[38;5;28;01mreturn\u001B[39;00m [func(\u001B[38;5;241m*\u001B[39margs, \u001B[38;5;241m*\u001B[39m\u001B[38;5;241m*\u001B[39mkwargs)\n\u001B[0;32m    263\u001B[0m                 \u001B[38;5;28;01mfor\u001B[39;00m func, args, kwargs \u001B[38;5;129;01min\u001B[39;00m \u001B[38;5;28mself\u001B[39m\u001B[38;5;241m.\u001B[39mitems]\n",
      "File \u001B[1;32m~\\Trabalhos\\pythonProjects\\lib\\site-packages\\joblib\\parallel.py:262\u001B[0m, in \u001B[0;36m<listcomp>\u001B[1;34m(.0)\u001B[0m\n\u001B[0;32m    258\u001B[0m \u001B[38;5;28;01mdef\u001B[39;00m \u001B[38;5;21m__call__\u001B[39m(\u001B[38;5;28mself\u001B[39m):\n\u001B[0;32m    259\u001B[0m     \u001B[38;5;66;03m# Set the default nested backend to self._backend but do not set the\u001B[39;00m\n\u001B[0;32m    260\u001B[0m     \u001B[38;5;66;03m# change the default number of processes to -1\u001B[39;00m\n\u001B[0;32m    261\u001B[0m     \u001B[38;5;28;01mwith\u001B[39;00m parallel_backend(\u001B[38;5;28mself\u001B[39m\u001B[38;5;241m.\u001B[39m_backend, n_jobs\u001B[38;5;241m=\u001B[39m\u001B[38;5;28mself\u001B[39m\u001B[38;5;241m.\u001B[39m_n_jobs):\n\u001B[1;32m--> 262\u001B[0m         \u001B[38;5;28;01mreturn\u001B[39;00m [func(\u001B[38;5;241m*\u001B[39margs, \u001B[38;5;241m*\u001B[39m\u001B[38;5;241m*\u001B[39mkwargs)\n\u001B[0;32m    263\u001B[0m                 \u001B[38;5;28;01mfor\u001B[39;00m func, args, kwargs \u001B[38;5;129;01min\u001B[39;00m \u001B[38;5;28mself\u001B[39m\u001B[38;5;241m.\u001B[39mitems]\n",
      "File \u001B[1;32m~\\Trabalhos\\pythonProjects\\lib\\site-packages\\sklearn\\utils\\fixes.py:216\u001B[0m, in \u001B[0;36m_FuncWrapper.__call__\u001B[1;34m(self, *args, **kwargs)\u001B[0m\n\u001B[0;32m    214\u001B[0m \u001B[38;5;28;01mdef\u001B[39;00m \u001B[38;5;21m__call__\u001B[39m(\u001B[38;5;28mself\u001B[39m, \u001B[38;5;241m*\u001B[39margs, \u001B[38;5;241m*\u001B[39m\u001B[38;5;241m*\u001B[39mkwargs):\n\u001B[0;32m    215\u001B[0m     \u001B[38;5;28;01mwith\u001B[39;00m config_context(\u001B[38;5;241m*\u001B[39m\u001B[38;5;241m*\u001B[39m\u001B[38;5;28mself\u001B[39m\u001B[38;5;241m.\u001B[39mconfig):\n\u001B[1;32m--> 216\u001B[0m         \u001B[38;5;28;01mreturn\u001B[39;00m \u001B[38;5;28mself\u001B[39m\u001B[38;5;241m.\u001B[39mfunction(\u001B[38;5;241m*\u001B[39margs, \u001B[38;5;241m*\u001B[39m\u001B[38;5;241m*\u001B[39mkwargs)\n",
      "File \u001B[1;32m~\\Trabalhos\\pythonProjects\\lib\\site-packages\\sklearn\\model_selection\\_validation.py:680\u001B[0m, in \u001B[0;36m_fit_and_score\u001B[1;34m(estimator, X, y, scorer, train, test, verbose, parameters, fit_params, return_train_score, return_parameters, return_n_test_samples, return_times, return_estimator, split_progress, candidate_progress, error_score)\u001B[0m\n\u001B[0;32m    678\u001B[0m         estimator\u001B[38;5;241m.\u001B[39mfit(X_train, \u001B[38;5;241m*\u001B[39m\u001B[38;5;241m*\u001B[39mfit_params)\n\u001B[0;32m    679\u001B[0m     \u001B[38;5;28;01melse\u001B[39;00m:\n\u001B[1;32m--> 680\u001B[0m         estimator\u001B[38;5;241m.\u001B[39mfit(X_train, y_train, \u001B[38;5;241m*\u001B[39m\u001B[38;5;241m*\u001B[39mfit_params)\n\u001B[0;32m    682\u001B[0m \u001B[38;5;28;01mexcept\u001B[39;00m \u001B[38;5;167;01mException\u001B[39;00m:\n\u001B[0;32m    683\u001B[0m     \u001B[38;5;66;03m# Note fit time as time until error\u001B[39;00m\n\u001B[0;32m    684\u001B[0m     fit_time \u001B[38;5;241m=\u001B[39m time\u001B[38;5;241m.\u001B[39mtime() \u001B[38;5;241m-\u001B[39m start_time\n",
      "File \u001B[1;32m~\\Trabalhos\\pythonProjects\\lib\\site-packages\\sklearn\\tree\\_classes.py:937\u001B[0m, in \u001B[0;36mDecisionTreeClassifier.fit\u001B[1;34m(self, X, y, sample_weight, check_input, X_idx_sorted)\u001B[0m\n\u001B[0;32m    899\u001B[0m \u001B[38;5;28;01mdef\u001B[39;00m \u001B[38;5;21mfit\u001B[39m(\n\u001B[0;32m    900\u001B[0m     \u001B[38;5;28mself\u001B[39m, X, y, sample_weight\u001B[38;5;241m=\u001B[39m\u001B[38;5;28;01mNone\u001B[39;00m, check_input\u001B[38;5;241m=\u001B[39m\u001B[38;5;28;01mTrue\u001B[39;00m, X_idx_sorted\u001B[38;5;241m=\u001B[39m\u001B[38;5;124m\"\u001B[39m\u001B[38;5;124mdeprecated\u001B[39m\u001B[38;5;124m\"\u001B[39m\n\u001B[0;32m    901\u001B[0m ):\n\u001B[0;32m    902\u001B[0m     \u001B[38;5;124;03m\"\"\"Build a decision tree classifier from the training set (X, y).\u001B[39;00m\n\u001B[0;32m    903\u001B[0m \n\u001B[0;32m    904\u001B[0m \u001B[38;5;124;03m    Parameters\u001B[39;00m\n\u001B[1;32m   (...)\u001B[0m\n\u001B[0;32m    934\u001B[0m \u001B[38;5;124;03m        Fitted estimator.\u001B[39;00m\n\u001B[0;32m    935\u001B[0m \u001B[38;5;124;03m    \"\"\"\u001B[39;00m\n\u001B[1;32m--> 937\u001B[0m     \u001B[38;5;28;43msuper\u001B[39;49m\u001B[43m(\u001B[49m\u001B[43m)\u001B[49m\u001B[38;5;241;43m.\u001B[39;49m\u001B[43mfit\u001B[49m\u001B[43m(\u001B[49m\n\u001B[0;32m    938\u001B[0m \u001B[43m        \u001B[49m\u001B[43mX\u001B[49m\u001B[43m,\u001B[49m\n\u001B[0;32m    939\u001B[0m \u001B[43m        \u001B[49m\u001B[43my\u001B[49m\u001B[43m,\u001B[49m\n\u001B[0;32m    940\u001B[0m \u001B[43m        \u001B[49m\u001B[43msample_weight\u001B[49m\u001B[38;5;241;43m=\u001B[39;49m\u001B[43msample_weight\u001B[49m\u001B[43m,\u001B[49m\n\u001B[0;32m    941\u001B[0m \u001B[43m        \u001B[49m\u001B[43mcheck_input\u001B[49m\u001B[38;5;241;43m=\u001B[39;49m\u001B[43mcheck_input\u001B[49m\u001B[43m,\u001B[49m\n\u001B[0;32m    942\u001B[0m \u001B[43m        \u001B[49m\u001B[43mX_idx_sorted\u001B[49m\u001B[38;5;241;43m=\u001B[39;49m\u001B[43mX_idx_sorted\u001B[49m\u001B[43m,\u001B[49m\n\u001B[0;32m    943\u001B[0m \u001B[43m    \u001B[49m\u001B[43m)\u001B[49m\n\u001B[0;32m    944\u001B[0m     \u001B[38;5;28;01mreturn\u001B[39;00m \u001B[38;5;28mself\u001B[39m\n",
      "File \u001B[1;32m~\\Trabalhos\\pythonProjects\\lib\\site-packages\\sklearn\\tree\\_classes.py:420\u001B[0m, in \u001B[0;36mBaseDecisionTree.fit\u001B[1;34m(self, X, y, sample_weight, check_input, X_idx_sorted)\u001B[0m\n\u001B[0;32m    409\u001B[0m \u001B[38;5;28;01melse\u001B[39;00m:\n\u001B[0;32m    410\u001B[0m     builder \u001B[38;5;241m=\u001B[39m BestFirstTreeBuilder(\n\u001B[0;32m    411\u001B[0m         splitter,\n\u001B[0;32m    412\u001B[0m         min_samples_split,\n\u001B[1;32m   (...)\u001B[0m\n\u001B[0;32m    417\u001B[0m         \u001B[38;5;28mself\u001B[39m\u001B[38;5;241m.\u001B[39mmin_impurity_decrease,\n\u001B[0;32m    418\u001B[0m     )\n\u001B[1;32m--> 420\u001B[0m \u001B[43mbuilder\u001B[49m\u001B[38;5;241;43m.\u001B[39;49m\u001B[43mbuild\u001B[49m\u001B[43m(\u001B[49m\u001B[38;5;28;43mself\u001B[39;49m\u001B[38;5;241;43m.\u001B[39;49m\u001B[43mtree_\u001B[49m\u001B[43m,\u001B[49m\u001B[43m \u001B[49m\u001B[43mX\u001B[49m\u001B[43m,\u001B[49m\u001B[43m \u001B[49m\u001B[43my\u001B[49m\u001B[43m,\u001B[49m\u001B[43m \u001B[49m\u001B[43msample_weight\u001B[49m\u001B[43m)\u001B[49m\n\u001B[0;32m    422\u001B[0m \u001B[38;5;28;01mif\u001B[39;00m \u001B[38;5;28mself\u001B[39m\u001B[38;5;241m.\u001B[39mn_outputs_ \u001B[38;5;241m==\u001B[39m \u001B[38;5;241m1\u001B[39m \u001B[38;5;129;01mand\u001B[39;00m is_classifier(\u001B[38;5;28mself\u001B[39m):\n\u001B[0;32m    423\u001B[0m     \u001B[38;5;28mself\u001B[39m\u001B[38;5;241m.\u001B[39mn_classes_ \u001B[38;5;241m=\u001B[39m \u001B[38;5;28mself\u001B[39m\u001B[38;5;241m.\u001B[39mn_classes_[\u001B[38;5;241m0\u001B[39m]\n",
      "\u001B[1;31mKeyboardInterrupt\u001B[0m: "
     ]
    }
   ],
   "source": [
    "import json\n",
    "jsonFile = open(\"decision-tree-kfold.json\", \"w\")\n",
    "jsonTxt = ''\n",
    "modtr = modelDecisionTreeRegressor()\n",
    "modelDecisionTreeRegressor()\n",
    "jsonTxt += modtr[1]\n",
    "jsonFile.write(jsonTxt)\n",
    "metc = modelExtraTreeClassifier()\n",
    "#demora muito tempo a processar\n",
    "modelDecisionTreeClassifier()\n",
    "jsonTxt += metc[1]\n",
    "jsonFile.write(jsonTxt)\n",
    "\n",
    "jsonFile.close()"
   ]
  },
  {
   "cell_type": "markdown",
   "source": [
    "#\n",
    "##Matriz da confusão\n",
    "from sklearn.metrics import confusion_matrix\n",
    "\n",
    "pd.DataFrame(\n",
    "    confusion_matrix(x, y),\n",
    "    columns=['Previsão da t1_home ganhar ', 'Previsão da  t1_home não ganhar'],\n",
    "    index=['Realidade de ganhar', 'Realidade de não ganhar']\n",
    ")\n",
    "\n",
    "from sklearn import tree\n",
    "\n",
    "model = tree.DecisionTreeClassifier()\n",
    "#parametros errados\n",
    "model.fit(x_train, y_train)\n",
    "\n",
    "tree.export_graphviz(model, out_file='tree.dot', feature_names=x.columns)\n",
    "from subprocess import call\n",
    "\n",
    "call(['dot', '-T', 'png', 'tree.dot', '-o', 'tree.png'])\n",
    "\n",
    "from IPython.display import Image\n",
    "Image(filename = 'tree.png')\n"
   ],
   "metadata": {
    "collapsed": false,
    "pycharm": {
     "name": "#%% md\n"
    }
   }
  },
  {
   "cell_type": "code",
   "execution_count": null,
   "metadata": {
    "collapsed": false,
    "pycharm": {
     "name": "#%%\n"
    }
   },
   "outputs": [],
   "source": [
    "# load the model from disk\n",
    "filename = 'modelo_final-kf.sav'\n",
    "loaded_model = joblib.load(open(filename, 'rb'))\n",
    "# novo registo a prever\n",
    "dNew = pd.read_csv('../files/t1_win_Sample.csv')\n",
    "dNew = dNew.drop('t1_fl_match_win', axis=1)   #Remover o campo de vitoria\n",
    "dNew.head(2)     #Mostra as primeiras n linhas do conjunto de dados   Display the first n rows of the dataset"
   ]
  },
  {
   "cell_type": "code",
   "execution_count": null,
   "metadata": {
    "collapsed": false,
    "pycharm": {
     "name": "#%%\n"
    }
   },
   "outputs": [],
   "source": [
    "#Fazer uma previsão com o novo registo\n",
    "yNew = pd.Series(loaded_model.predict(dNew))\n",
    "print( yNew[0])\n",
    "if yNew[0] == 0:\n",
    "  print(\"Equipa da casa perde\")\n",
    "else:\n",
    "  print(\"Equipa da casa ganha\")"
   ]
  }
 ],
 "metadata": {
  "kernelspec": {
   "display_name": "Python 3.8.10 64-bit",
   "language": "python",
   "name": "python3"
  },
  "language_info": {
   "codemirror_mode": {
    "name": "ipython",
    "version": 3
   },
   "file_extension": ".py",
   "mimetype": "text/x-python",
   "name": "python",
   "nbconvert_exporter": "python",
   "pygments_lexer": "ipython3",
   "version": "3.8.10"
  },
  "vscode": {
   "interpreter": {
    "hash": "916dbcbb3f70747c44a77c7bcd40155683ae19c65e1c03b4aa3499c5328201f1"
   }
  }
 },
 "nbformat": 4,
 "nbformat_minor": 0
}