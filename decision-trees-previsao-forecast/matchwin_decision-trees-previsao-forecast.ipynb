{
 "cells": [
  {
   "cell_type": "code",
   "execution_count": 17,
   "metadata": {
    "collapsed": true,
    "pycharm": {
     "name": "#%%\n"
    }
   },
   "outputs": [
    {
     "data": {
      "text/plain": "       id_match_competition  t1_all_total5_fl_match_win  \\\n43818                  1069                           1   \n43819                   243                           2   \n43820                   214                           1   \n43821                   257                           1   \n43822                  8613                           3   \n\n       t1_all_total5_fl_match_draw  t1_all_total5_fl_match_lost  \\\n43818                            4                            0   \n43819                            1                            2   \n43820                            3                            1   \n43821                            1                            3   \n43822                            2                            0   \n\n       t1_all_total10_fl_match_win  t1_all_total10_fl_match_draw  \\\n43818                            3                             6   \n43819                            4                             2   \n43820                            5                             3   \n43821                            1                             4   \n43822                            7                             2   \n\n       t1_all_total10_fl_match_lost  t2_all_total5_fl_match_win  \\\n43818                             1                           3   \n43819                             4                           2   \n43820                             2                           3   \n43821                             5                           1   \n43822                             1                           4   \n\n       t2_all_total5_fl_match_draw  t2_all_total5_fl_match_lost  ...  \\\n43818                            1                            1  ...   \n43819                            1                            2  ...   \n43820                            0                            2  ...   \n43821                            2                            2  ...   \n43822                            0                            1  ...   \n\n       t1_h2h_home_total10_fl_match_win  t1_h2h_home_total10_fl_match_draw  \\\n43818                                 0                                  1   \n43819                                 0                                  0   \n43820                                 2                                  2   \n43821                                 1                                  2   \n43822                                 0                                  0   \n\n       t1_h2h_home_total10_fl_match_lost  t2_h2h_away_total5_fl_match_win  \\\n43818                                  0                                0   \n43819                                  0                                0   \n43820                                  0                                0   \n43821                                  2                                2   \n43822                                  1                                1   \n\n       t2_h2h_away_total5_fl_match_draw  t2_h2h_away_total5_fl_match_lost  \\\n43818                                 1                                 0   \n43819                                 0                                 0   \n43820                                 2                                 2   \n43821                                 2                                 1   \n43822                                 0                                 0   \n\n       t2_h2h_away_total10_fl_match_win  t2_h2h_away_total10_fl_match_draw  \\\n43818                                 0                                  1   \n43819                                 0                                  0   \n43820                                 0                                  2   \n43821                                 2                                  2   \n43822                                 1                                  0   \n\n       t2_h2h_away_total10_fl_match_lost  t1_fl_match_win  \n43818                                  0                0  \n43819                                  0                1  \n43820                                  2                1  \n43821                                  1                0  \n43822                                  0                0  \n\n[5 rows x 50 columns]",
      "text/html": "<div>\n<style scoped>\n    .dataframe tbody tr th:only-of-type {\n        vertical-align: middle;\n    }\n\n    .dataframe tbody tr th {\n        vertical-align: top;\n    }\n\n    .dataframe thead th {\n        text-align: right;\n    }\n</style>\n<table border=\"1\" class=\"dataframe\">\n  <thead>\n    <tr style=\"text-align: right;\">\n      <th></th>\n      <th>id_match_competition</th>\n      <th>t1_all_total5_fl_match_win</th>\n      <th>t1_all_total5_fl_match_draw</th>\n      <th>t1_all_total5_fl_match_lost</th>\n      <th>t1_all_total10_fl_match_win</th>\n      <th>t1_all_total10_fl_match_draw</th>\n      <th>t1_all_total10_fl_match_lost</th>\n      <th>t2_all_total5_fl_match_win</th>\n      <th>t2_all_total5_fl_match_draw</th>\n      <th>t2_all_total5_fl_match_lost</th>\n      <th>...</th>\n      <th>t1_h2h_home_total10_fl_match_win</th>\n      <th>t1_h2h_home_total10_fl_match_draw</th>\n      <th>t1_h2h_home_total10_fl_match_lost</th>\n      <th>t2_h2h_away_total5_fl_match_win</th>\n      <th>t2_h2h_away_total5_fl_match_draw</th>\n      <th>t2_h2h_away_total5_fl_match_lost</th>\n      <th>t2_h2h_away_total10_fl_match_win</th>\n      <th>t2_h2h_away_total10_fl_match_draw</th>\n      <th>t2_h2h_away_total10_fl_match_lost</th>\n      <th>t1_fl_match_win</th>\n    </tr>\n  </thead>\n  <tbody>\n    <tr>\n      <th>43818</th>\n      <td>1069</td>\n      <td>1</td>\n      <td>4</td>\n      <td>0</td>\n      <td>3</td>\n      <td>6</td>\n      <td>1</td>\n      <td>3</td>\n      <td>1</td>\n      <td>1</td>\n      <td>...</td>\n      <td>0</td>\n      <td>1</td>\n      <td>0</td>\n      <td>0</td>\n      <td>1</td>\n      <td>0</td>\n      <td>0</td>\n      <td>1</td>\n      <td>0</td>\n      <td>0</td>\n    </tr>\n    <tr>\n      <th>43819</th>\n      <td>243</td>\n      <td>2</td>\n      <td>1</td>\n      <td>2</td>\n      <td>4</td>\n      <td>2</td>\n      <td>4</td>\n      <td>2</td>\n      <td>1</td>\n      <td>2</td>\n      <td>...</td>\n      <td>0</td>\n      <td>0</td>\n      <td>0</td>\n      <td>0</td>\n      <td>0</td>\n      <td>0</td>\n      <td>0</td>\n      <td>0</td>\n      <td>0</td>\n      <td>1</td>\n    </tr>\n    <tr>\n      <th>43820</th>\n      <td>214</td>\n      <td>1</td>\n      <td>3</td>\n      <td>1</td>\n      <td>5</td>\n      <td>3</td>\n      <td>2</td>\n      <td>3</td>\n      <td>0</td>\n      <td>2</td>\n      <td>...</td>\n      <td>2</td>\n      <td>2</td>\n      <td>0</td>\n      <td>0</td>\n      <td>2</td>\n      <td>2</td>\n      <td>0</td>\n      <td>2</td>\n      <td>2</td>\n      <td>1</td>\n    </tr>\n    <tr>\n      <th>43821</th>\n      <td>257</td>\n      <td>1</td>\n      <td>1</td>\n      <td>3</td>\n      <td>1</td>\n      <td>4</td>\n      <td>5</td>\n      <td>1</td>\n      <td>2</td>\n      <td>2</td>\n      <td>...</td>\n      <td>1</td>\n      <td>2</td>\n      <td>2</td>\n      <td>2</td>\n      <td>2</td>\n      <td>1</td>\n      <td>2</td>\n      <td>2</td>\n      <td>1</td>\n      <td>0</td>\n    </tr>\n    <tr>\n      <th>43822</th>\n      <td>8613</td>\n      <td>3</td>\n      <td>2</td>\n      <td>0</td>\n      <td>7</td>\n      <td>2</td>\n      <td>1</td>\n      <td>4</td>\n      <td>0</td>\n      <td>1</td>\n      <td>...</td>\n      <td>0</td>\n      <td>0</td>\n      <td>1</td>\n      <td>1</td>\n      <td>0</td>\n      <td>0</td>\n      <td>1</td>\n      <td>0</td>\n      <td>0</td>\n      <td>0</td>\n    </tr>\n  </tbody>\n</table>\n<p>5 rows × 50 columns</p>\n</div>"
     },
     "execution_count": 17,
     "metadata": {},
     "output_type": "execute_result"
    }
   ],
   "source": [
    "# -*- coding: utf-8 -*-\n",
    "## Exemplo de Criação de um modelo de Previsão/Classificação usando as Arvores de Decisão\n",
    "## Example of Creating a Forecast/Classification model using Decision Trees\n",
    "\n",
    "## import\n",
    "import numpy as np\n",
    "import pandas as pd\n",
    "import seaborn as sns\n",
    "from sklearn.model_selection import train_test_split\n",
    "from sklearn.tree import DecisionTreeClassifier, DecisionTreeRegressor, ExtraTreeClassifier, ExtraTreeRegressor\n",
    "from sklearn import metrics\n",
    "\n",
    "## carregar o ficheiro Insol para um dataframe do pandas dInsol\n",
    "## load the Insol file into a pandas dInsol dataframe\n",
    "dInsol = pd.read_csv('View_data_nullZero.csv')\n",
    "\n",
    "\n",
    "\n",
    "dInsol.head(2)     #Mostra as primeiras n linhas do conjunto de dados\n",
    "dInsol.tail(5)     #Mostra as últimas n linhas do conjunto de dados\n"
   ]
  },
  {
   "cell_type": "code",
   "execution_count": 3,
   "outputs": [],
   "source": [
    "## Pre-processamento dividir os dados em conjunto de Treino e Teste\n",
    "## Pre-processing split data into Training and Test sets\n",
    "x = dInsol.drop('t1_fl_match_win', axis=1)   #Todas as tabelas que são usadas para fazer a predict\n",
    "y = dInsol.t1_fl_match_win                   #Resultados entre 1 e 0 8Insolvência ou não Insolvênvia)\n",
    "\n"
   ],
   "metadata": {
    "collapsed": false,
    "pycharm": {
     "name": "#%%\n"
    }
   }
  },
  {
   "cell_type": "code",
   "execution_count": 26,
   "outputs": [],
   "source": [
    "def modelDecisionTreeClassifier():\n",
    "    DecisionTree_Class_Model = DecisionTreeClassifier()\n",
    "    DecisionTree_Class_Model.fit(x_train, y_train)\n",
    "      ##Previsao/Forecasting\n",
    "    y_pred = DecisionTree_Class_Model.predict(x_teste)\n",
    "    y_pred\n",
    "\n",
    "##Accuracy Score\n",
    "    accuracy = metrics.accuracy_score(y_teste, y_pred)\n",
    "    print (\"\\nResultados do modelo Decision Tree Classifier\")\n",
    "    print('Test size {:.2f} Acc: {}'.format(a,accuracy))\n"
   ],
   "metadata": {
    "collapsed": false,
    "pycharm": {
     "name": "#%%\n"
    }
   }
  },
  {
   "cell_type": "code",
   "execution_count": 28,
   "outputs": [],
   "source": [
    "def modelExtraTreeClassifier():\n",
    "    DecisionTree_Class_Model = ExtraTreeClassifier()\n",
    "    DecisionTree_Class_Model.fit(x_train, y_train)\n",
    "      ##Previsao/Forecasting\n",
    "    y_pred = DecisionTree_Class_Model.predict(x_teste)\n",
    "    y_pred\n",
    "\n",
    "##Accuracy Score\n",
    "    accuracy = metrics.accuracy_score(y_teste, y_pred)\n",
    "    print (\"\\nResultados do modelo Extra Tree Classifier\")\n",
    "    print('Test size {:.2f} Acc: {}'.format(a,accuracy))\n"
   ],
   "metadata": {
    "collapsed": false,
    "pycharm": {
     "name": "#%%\n"
    }
   }
  },
  {
   "cell_type": "code",
   "execution_count": 29,
   "outputs": [
    {
     "name": "stdout",
     "output_type": "stream",
     "text": [
      "\n",
      "Resultados do modelo Decision Tree Classifier\n",
      "Test size 0.10 Acc: 0.5519050878393794\n",
      "\n",
      "Resultados do modelo Extra Tree Classifier\n",
      "Test size 0.10 Acc: 0.5379876796714579\n",
      "\n",
      "Resultados do modelo Decision Tree Classifier\n",
      "Test size 0.15 Acc: 0.5451779738363249\n",
      "\n",
      "Resultados do modelo Extra Tree Classifier\n",
      "Test size 0.15 Acc: 0.5457864313964101\n",
      "\n",
      "Resultados do modelo Decision Tree Classifier\n",
      "Test size 0.20 Acc: 0.5459212778094695\n",
      "\n",
      "Resultados do modelo Extra Tree Classifier\n",
      "Test size 0.20 Acc: 0.5428408442669709\n",
      "\n",
      "Resultados do modelo Decision Tree Classifier\n",
      "Test size 0.25 Acc: 0.5371485943775101\n",
      "\n",
      "Resultados do modelo Extra Tree Classifier\n",
      "Test size 0.25 Acc: 0.5383351588170865\n",
      "\n",
      "Resultados do modelo Decision Tree Classifier\n",
      "Test size 0.30 Acc: 0.5440784969955123\n",
      "\n",
      "Resultados do modelo Extra Tree Classifier\n",
      "Test size 0.30 Acc: 0.5445348748763976\n",
      "\n",
      "Resultados do modelo Decision Tree Classifier\n",
      "Test size 0.35 Acc: 0.5431253667123019\n",
      "\n",
      "Resultados do modelo Extra Tree Classifier\n",
      "Test size 0.35 Acc: 0.5340634982723776\n",
      "\n",
      "Resultados do modelo Decision Tree Classifier\n",
      "Test size 0.40 Acc: 0.5427267541357672\n",
      "\n",
      "Resultados do modelo Extra Tree Classifier\n",
      "Test size 0.40 Acc: 0.5413006274957216\n",
      "\n",
      "Resultados do modelo Decision Tree Classifier\n",
      "Test size 0.45 Acc: 0.5367374879570002\n",
      "\n",
      "Resultados do modelo Extra Tree Classifier\n",
      "Test size 0.45 Acc: 0.5368389026925612\n",
      "\n",
      "Resultados do modelo Decision Tree Classifier\n",
      "Test size 0.50 Acc: 0.5406626506024096\n",
      "\n",
      "Resultados do modelo Extra Tree Classifier\n",
      "Test size 0.50 Acc: 0.5376049653158087\n"
     ]
    }
   ],
   "source": [
    "b= 0\n",
    "a = 0.10\n",
    "while a < 0.50:\n",
    "      ## Function train_test_split\n",
    "    x_train, x_teste, y_train, y_teste = train_test_split(x, y, test_size=a, random_state=18)\n",
    "    modelDecisionTreeClassifier()\n",
    "    modelExtraTreeClassifier()\n",
    "    a+=0.05\n",
    "## Treinar o modelo\n",
    "## Train the model\n",
    "\n",
    "\n",
    "\n"
   ],
   "metadata": {
    "collapsed": false,
    "pycharm": {
     "name": "#%%\n"
    }
   }
  },
  {
   "cell_type": "code",
   "execution_count": 30,
   "outputs": [
    {
     "ename": "KeyboardInterrupt",
     "evalue": "",
     "output_type": "error",
     "traceback": [
      "\u001B[1;31m---------------------------------------------------------------------------\u001B[0m",
      "\u001B[1;31mKeyboardInterrupt\u001B[0m                         Traceback (most recent call last)",
      "Input \u001B[1;32mIn [30]\u001B[0m, in \u001B[0;36m<cell line: 18>\u001B[1;34m()\u001B[0m\n\u001B[0;32m     15\u001B[0m tree\u001B[38;5;241m.\u001B[39mexport_graphviz(model, out_file\u001B[38;5;241m=\u001B[39m\u001B[38;5;124m'\u001B[39m\u001B[38;5;124mtree.dot\u001B[39m\u001B[38;5;124m'\u001B[39m, feature_names\u001B[38;5;241m=\u001B[39mx\u001B[38;5;241m.\u001B[39mcolumns)\n\u001B[0;32m     16\u001B[0m \u001B[38;5;28;01mfrom\u001B[39;00m \u001B[38;5;21;01msubprocess\u001B[39;00m \u001B[38;5;28;01mimport\u001B[39;00m call\n\u001B[1;32m---> 18\u001B[0m \u001B[43mcall\u001B[49m\u001B[43m(\u001B[49m\u001B[43m[\u001B[49m\u001B[38;5;124;43m'\u001B[39;49m\u001B[38;5;124;43mdot\u001B[39;49m\u001B[38;5;124;43m'\u001B[39;49m\u001B[43m,\u001B[49m\u001B[43m \u001B[49m\u001B[38;5;124;43m'\u001B[39;49m\u001B[38;5;124;43m-T\u001B[39;49m\u001B[38;5;124;43m'\u001B[39;49m\u001B[43m,\u001B[49m\u001B[43m \u001B[49m\u001B[38;5;124;43m'\u001B[39;49m\u001B[38;5;124;43mpng\u001B[39;49m\u001B[38;5;124;43m'\u001B[39;49m\u001B[43m,\u001B[49m\u001B[43m \u001B[49m\u001B[38;5;124;43m'\u001B[39;49m\u001B[38;5;124;43mtree.dot\u001B[39;49m\u001B[38;5;124;43m'\u001B[39;49m\u001B[43m,\u001B[49m\u001B[43m \u001B[49m\u001B[38;5;124;43m'\u001B[39;49m\u001B[38;5;124;43m-o\u001B[39;49m\u001B[38;5;124;43m'\u001B[39;49m\u001B[43m,\u001B[49m\u001B[43m \u001B[49m\u001B[38;5;124;43m'\u001B[39;49m\u001B[38;5;124;43mtree.png\u001B[39;49m\u001B[38;5;124;43m'\u001B[39;49m\u001B[43m]\u001B[49m\u001B[43m)\u001B[49m\n\u001B[0;32m     20\u001B[0m \u001B[38;5;28;01mfrom\u001B[39;00m \u001B[38;5;21;01mIPython\u001B[39;00m\u001B[38;5;21;01m.\u001B[39;00m\u001B[38;5;21;01mdisplay\u001B[39;00m \u001B[38;5;28;01mimport\u001B[39;00m Image\n\u001B[0;32m     21\u001B[0m Image(filename \u001B[38;5;241m=\u001B[39m \u001B[38;5;124m'\u001B[39m\u001B[38;5;124mtree.png\u001B[39m\u001B[38;5;124m'\u001B[39m)\n",
      "File \u001B[1;32m~\\AppData\\Local\\Programs\\Python\\Python310\\lib\\subprocess.py:347\u001B[0m, in \u001B[0;36mcall\u001B[1;34m(timeout, *popenargs, **kwargs)\u001B[0m\n\u001B[0;32m    345\u001B[0m \u001B[38;5;28;01mwith\u001B[39;00m Popen(\u001B[38;5;241m*\u001B[39mpopenargs, \u001B[38;5;241m*\u001B[39m\u001B[38;5;241m*\u001B[39mkwargs) \u001B[38;5;28;01mas\u001B[39;00m p:\n\u001B[0;32m    346\u001B[0m     \u001B[38;5;28;01mtry\u001B[39;00m:\n\u001B[1;32m--> 347\u001B[0m         \u001B[38;5;28;01mreturn\u001B[39;00m \u001B[43mp\u001B[49m\u001B[38;5;241;43m.\u001B[39;49m\u001B[43mwait\u001B[49m\u001B[43m(\u001B[49m\u001B[43mtimeout\u001B[49m\u001B[38;5;241;43m=\u001B[39;49m\u001B[43mtimeout\u001B[49m\u001B[43m)\u001B[49m\n\u001B[0;32m    348\u001B[0m     \u001B[38;5;28;01mexcept\u001B[39;00m:  \u001B[38;5;66;03m# Including KeyboardInterrupt, wait handled that.\u001B[39;00m\n\u001B[0;32m    349\u001B[0m         p\u001B[38;5;241m.\u001B[39mkill()\n",
      "File \u001B[1;32m~\\AppData\\Local\\Programs\\Python\\Python310\\lib\\subprocess.py:1204\u001B[0m, in \u001B[0;36mPopen.wait\u001B[1;34m(self, timeout)\u001B[0m\n\u001B[0;32m   1202\u001B[0m     endtime \u001B[38;5;241m=\u001B[39m _time() \u001B[38;5;241m+\u001B[39m timeout\n\u001B[0;32m   1203\u001B[0m \u001B[38;5;28;01mtry\u001B[39;00m:\n\u001B[1;32m-> 1204\u001B[0m     \u001B[38;5;28;01mreturn\u001B[39;00m \u001B[38;5;28;43mself\u001B[39;49m\u001B[38;5;241;43m.\u001B[39;49m\u001B[43m_wait\u001B[49m\u001B[43m(\u001B[49m\u001B[43mtimeout\u001B[49m\u001B[38;5;241;43m=\u001B[39;49m\u001B[43mtimeout\u001B[49m\u001B[43m)\u001B[49m\n\u001B[0;32m   1205\u001B[0m \u001B[38;5;28;01mexcept\u001B[39;00m \u001B[38;5;167;01mKeyboardInterrupt\u001B[39;00m:\n\u001B[0;32m   1206\u001B[0m     \u001B[38;5;66;03m# https://bugs.python.org/issue25942\u001B[39;00m\n\u001B[0;32m   1207\u001B[0m     \u001B[38;5;66;03m# The first keyboard interrupt waits briefly for the child to\u001B[39;00m\n\u001B[0;32m   1208\u001B[0m     \u001B[38;5;66;03m# exit under the common assumption that it also received the ^C\u001B[39;00m\n\u001B[0;32m   1209\u001B[0m     \u001B[38;5;66;03m# generated SIGINT and will exit rapidly.\u001B[39;00m\n\u001B[0;32m   1210\u001B[0m     \u001B[38;5;28;01mif\u001B[39;00m timeout \u001B[38;5;129;01mis\u001B[39;00m \u001B[38;5;129;01mnot\u001B[39;00m \u001B[38;5;28;01mNone\u001B[39;00m:\n",
      "File \u001B[1;32m~\\AppData\\Local\\Programs\\Python\\Python310\\lib\\subprocess.py:1485\u001B[0m, in \u001B[0;36mPopen._wait\u001B[1;34m(self, timeout)\u001B[0m\n\u001B[0;32m   1482\u001B[0m     timeout_millis \u001B[38;5;241m=\u001B[39m \u001B[38;5;28mint\u001B[39m(timeout \u001B[38;5;241m*\u001B[39m \u001B[38;5;241m1000\u001B[39m)\n\u001B[0;32m   1483\u001B[0m \u001B[38;5;28;01mif\u001B[39;00m \u001B[38;5;28mself\u001B[39m\u001B[38;5;241m.\u001B[39mreturncode \u001B[38;5;129;01mis\u001B[39;00m \u001B[38;5;28;01mNone\u001B[39;00m:\n\u001B[0;32m   1484\u001B[0m     \u001B[38;5;66;03m# API note: Returns immediately if timeout_millis == 0.\u001B[39;00m\n\u001B[1;32m-> 1485\u001B[0m     result \u001B[38;5;241m=\u001B[39m \u001B[43m_winapi\u001B[49m\u001B[38;5;241;43m.\u001B[39;49m\u001B[43mWaitForSingleObject\u001B[49m\u001B[43m(\u001B[49m\u001B[38;5;28;43mself\u001B[39;49m\u001B[38;5;241;43m.\u001B[39;49m\u001B[43m_handle\u001B[49m\u001B[43m,\u001B[49m\n\u001B[0;32m   1486\u001B[0m \u001B[43m                                         \u001B[49m\u001B[43mtimeout_millis\u001B[49m\u001B[43m)\u001B[49m\n\u001B[0;32m   1487\u001B[0m     \u001B[38;5;28;01mif\u001B[39;00m result \u001B[38;5;241m==\u001B[39m _winapi\u001B[38;5;241m.\u001B[39mWAIT_TIMEOUT:\n\u001B[0;32m   1488\u001B[0m         \u001B[38;5;28;01mraise\u001B[39;00m TimeoutExpired(\u001B[38;5;28mself\u001B[39m\u001B[38;5;241m.\u001B[39margs, timeout)\n",
      "\u001B[1;31mKeyboardInterrupt\u001B[0m: "
     ]
    }
   ],
   "source": [
    "\n",
    "##Matriz da confusão\n",
    "from sklearn.metrics import confusion_matrix\n",
    "\n",
    "pd.DataFrame(\n",
    "    confusion_matrix(y_teste, y_pred),\n",
    "    columns=['Previsão da t1_home ganhar ', 'Previsão da  t1_home não ganhar'],\n",
    "    index=['Realidade de ganhar', 'Realidade de não ganhar']\n",
    ")\n",
    "\n",
    "from sklearn import tree\n",
    "\n",
    "model = tree.DecisionTreeClassifier()\n",
    "model.fit(x_train, y_train)\n",
    "\n",
    "tree.export_graphviz(model, out_file='tree.dot', feature_names=x.columns)\n",
    "from subprocess import call\n",
    "\n",
    "call(['dot', '-T', 'png', 'tree.dot', '-o', 'tree.png'])\n",
    "\n",
    "from IPython.display import Image\n",
    "Image(filename = 'tree.png')\n"
   ],
   "metadata": {
    "collapsed": false,
    "pycharm": {
     "name": "#%%\n"
    }
   }
  },
  {
   "cell_type": "code",
   "execution_count": null,
   "outputs": [],
   "source": [
    "import pickle\n",
    "\n",
    "filename = 'modelo_final.sav'\n",
    "pickle.dump(model, open(filename, 'wb'))"
   ],
   "metadata": {
    "collapsed": false,
    "pycharm": {
     "name": "#%%\n"
    }
   }
  },
  {
   "cell_type": "code",
   "execution_count": null,
   "outputs": [],
   "source": [
    "# load the model from disk\n",
    "loaded_model = pickle.load(open(filename, 'rb'))\n",
    "result = loaded_model.score(x_teste, y_teste)\n",
    "print(result)\n",
    "\n",
    "#Fazer uma previsão\n",
    "# make a prediction\n",
    "import pickle\n",
    "loaded_model = pickle.load(open('modelo_final.sav', 'rb'))    #Importar o modelo guardado #Import the saved model\n",
    "\n",
    "dNew = pd.read_csv('/work/Insoltestennewcasex.csv',sep=';',header=0)\n",
    "dNew = dNew.drop('Insolvencia', axis=1)   #Remover a tabela Insolvencia  #Remove the Insolvency table\n",
    "dNew.head(2)     #Mostra as primeiras n linhas do conjunto de dados   Display the first n rows of the dataset\n",
    "\n"
   ],
   "metadata": {
    "collapsed": false,
    "pycharm": {
     "name": "#%%\n"
    }
   }
  },
  {
   "cell_type": "code",
   "execution_count": null,
   "outputs": [],
   "source": [
    "yNew = pd.Series(loaded_model.predict(dNew))\n",
    "if yNew[0] == 0:\n",
    "  print(\"Probabilidade de NÃO Insolvência, Probabilidade=%s\" % (yNew[0]))\n",
    "else:\n",
    "   print(\"Probabilidade de Insolvência, Probabilidade=%s\" % (yNew[0]))"
   ],
   "metadata": {
    "collapsed": false,
    "pycharm": {
     "name": "#%%\n"
    }
   }
  }
 ],
 "metadata": {
  "kernelspec": {
   "display_name": "Python 3",
   "language": "python",
   "name": "python3"
  },
  "language_info": {
   "codemirror_mode": {
    "name": "ipython",
    "version": 2
   },
   "file_extension": ".py",
   "mimetype": "text/x-python",
   "name": "python",
   "nbconvert_exporter": "python",
   "pygments_lexer": "ipython2",
   "version": "2.7.6"
  }
 },
 "nbformat": 4,
 "nbformat_minor": 0
}