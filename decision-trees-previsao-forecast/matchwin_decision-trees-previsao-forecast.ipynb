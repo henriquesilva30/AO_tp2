{
 "cells": [
  {
   "cell_type": "code",
   "execution_count": 4,
   "metadata": {
    "collapsed": true,
    "pycharm": {
     "name": "#%%\n"
    }
   },
   "outputs": [
    {
     "data": {
      "text/plain": "       id_match_competition  t1_all_total5_fl_match_win  \\\n43818                  1069                           1   \n43819                   243                           2   \n43820                   214                           1   \n43821                   257                           1   \n43822                  8613                           3   \n\n       t1_all_total5_fl_match_draw  t1_all_total5_fl_match_lost  \\\n43818                            4                            0   \n43819                            1                            2   \n43820                            3                            1   \n43821                            1                            3   \n43822                            2                            0   \n\n       t1_all_total10_fl_match_win  t1_all_total10_fl_match_draw  \\\n43818                            3                             6   \n43819                            4                             2   \n43820                            5                             3   \n43821                            1                             4   \n43822                            7                             2   \n\n       t1_all_total10_fl_match_lost  t2_all_total5_fl_match_win  \\\n43818                             1                           3   \n43819                             4                           2   \n43820                             2                           3   \n43821                             5                           1   \n43822                             1                           4   \n\n       t2_all_total5_fl_match_draw  t2_all_total5_fl_match_lost  ...  \\\n43818                            1                            1  ...   \n43819                            1                            2  ...   \n43820                            0                            2  ...   \n43821                            2                            2  ...   \n43822                            0                            1  ...   \n\n       t1_h2h_home_total10_fl_match_win  t1_h2h_home_total10_fl_match_draw  \\\n43818                                 0                                  1   \n43819                                 0                                  0   \n43820                                 2                                  2   \n43821                                 1                                  2   \n43822                                 0                                  0   \n\n       t1_h2h_home_total10_fl_match_lost  t2_h2h_away_total5_fl_match_win  \\\n43818                                  0                                0   \n43819                                  0                                0   \n43820                                  0                                0   \n43821                                  2                                2   \n43822                                  1                                1   \n\n       t2_h2h_away_total5_fl_match_draw  t2_h2h_away_total5_fl_match_lost  \\\n43818                                 1                                 0   \n43819                                 0                                 0   \n43820                                 2                                 2   \n43821                                 2                                 1   \n43822                                 0                                 0   \n\n       t2_h2h_away_total10_fl_match_win  t2_h2h_away_total10_fl_match_draw  \\\n43818                                 0                                  1   \n43819                                 0                                  0   \n43820                                 0                                  2   \n43821                                 2                                  2   \n43822                                 1                                  0   \n\n       t2_h2h_away_total10_fl_match_lost  t1_fl_match_win  \n43818                                  0                0  \n43819                                  0                1  \n43820                                  2                1  \n43821                                  1                0  \n43822                                  0                0  \n\n[5 rows x 50 columns]",
      "text/html": "<div>\n<style scoped>\n    .dataframe tbody tr th:only-of-type {\n        vertical-align: middle;\n    }\n\n    .dataframe tbody tr th {\n        vertical-align: top;\n    }\n\n    .dataframe thead th {\n        text-align: right;\n    }\n</style>\n<table border=\"1\" class=\"dataframe\">\n  <thead>\n    <tr style=\"text-align: right;\">\n      <th></th>\n      <th>id_match_competition</th>\n      <th>t1_all_total5_fl_match_win</th>\n      <th>t1_all_total5_fl_match_draw</th>\n      <th>t1_all_total5_fl_match_lost</th>\n      <th>t1_all_total10_fl_match_win</th>\n      <th>t1_all_total10_fl_match_draw</th>\n      <th>t1_all_total10_fl_match_lost</th>\n      <th>t2_all_total5_fl_match_win</th>\n      <th>t2_all_total5_fl_match_draw</th>\n      <th>t2_all_total5_fl_match_lost</th>\n      <th>...</th>\n      <th>t1_h2h_home_total10_fl_match_win</th>\n      <th>t1_h2h_home_total10_fl_match_draw</th>\n      <th>t1_h2h_home_total10_fl_match_lost</th>\n      <th>t2_h2h_away_total5_fl_match_win</th>\n      <th>t2_h2h_away_total5_fl_match_draw</th>\n      <th>t2_h2h_away_total5_fl_match_lost</th>\n      <th>t2_h2h_away_total10_fl_match_win</th>\n      <th>t2_h2h_away_total10_fl_match_draw</th>\n      <th>t2_h2h_away_total10_fl_match_lost</th>\n      <th>t1_fl_match_win</th>\n    </tr>\n  </thead>\n  <tbody>\n    <tr>\n      <th>43818</th>\n      <td>1069</td>\n      <td>1</td>\n      <td>4</td>\n      <td>0</td>\n      <td>3</td>\n      <td>6</td>\n      <td>1</td>\n      <td>3</td>\n      <td>1</td>\n      <td>1</td>\n      <td>...</td>\n      <td>0</td>\n      <td>1</td>\n      <td>0</td>\n      <td>0</td>\n      <td>1</td>\n      <td>0</td>\n      <td>0</td>\n      <td>1</td>\n      <td>0</td>\n      <td>0</td>\n    </tr>\n    <tr>\n      <th>43819</th>\n      <td>243</td>\n      <td>2</td>\n      <td>1</td>\n      <td>2</td>\n      <td>4</td>\n      <td>2</td>\n      <td>4</td>\n      <td>2</td>\n      <td>1</td>\n      <td>2</td>\n      <td>...</td>\n      <td>0</td>\n      <td>0</td>\n      <td>0</td>\n      <td>0</td>\n      <td>0</td>\n      <td>0</td>\n      <td>0</td>\n      <td>0</td>\n      <td>0</td>\n      <td>1</td>\n    </tr>\n    <tr>\n      <th>43820</th>\n      <td>214</td>\n      <td>1</td>\n      <td>3</td>\n      <td>1</td>\n      <td>5</td>\n      <td>3</td>\n      <td>2</td>\n      <td>3</td>\n      <td>0</td>\n      <td>2</td>\n      <td>...</td>\n      <td>2</td>\n      <td>2</td>\n      <td>0</td>\n      <td>0</td>\n      <td>2</td>\n      <td>2</td>\n      <td>0</td>\n      <td>2</td>\n      <td>2</td>\n      <td>1</td>\n    </tr>\n    <tr>\n      <th>43821</th>\n      <td>257</td>\n      <td>1</td>\n      <td>1</td>\n      <td>3</td>\n      <td>1</td>\n      <td>4</td>\n      <td>5</td>\n      <td>1</td>\n      <td>2</td>\n      <td>2</td>\n      <td>...</td>\n      <td>1</td>\n      <td>2</td>\n      <td>2</td>\n      <td>2</td>\n      <td>2</td>\n      <td>1</td>\n      <td>2</td>\n      <td>2</td>\n      <td>1</td>\n      <td>0</td>\n    </tr>\n    <tr>\n      <th>43822</th>\n      <td>8613</td>\n      <td>3</td>\n      <td>2</td>\n      <td>0</td>\n      <td>7</td>\n      <td>2</td>\n      <td>1</td>\n      <td>4</td>\n      <td>0</td>\n      <td>1</td>\n      <td>...</td>\n      <td>0</td>\n      <td>0</td>\n      <td>1</td>\n      <td>1</td>\n      <td>0</td>\n      <td>0</td>\n      <td>1</td>\n      <td>0</td>\n      <td>0</td>\n      <td>0</td>\n    </tr>\n  </tbody>\n</table>\n<p>5 rows × 50 columns</p>\n</div>"
     },
     "execution_count": 4,
     "metadata": {},
     "output_type": "execute_result"
    }
   ],
   "source": [
    "# -*- coding: utf-8 -*-\n",
    "## Exemplo de Criação de um modelo de Previsão/Classificação usando as Arvores de Decisão\n",
    "## Example of Creating a Forecast/Classification model using Decision Trees\n",
    "\n",
    "## import\n",
    "import numpy as np\n",
    "import pandas as pd\n",
    "import seaborn as sns\n",
    "from sklearn.model_selection import train_test_split\n",
    "from sklearn.tree import DecisionTreeClassifier\n",
    "from sklearn import metrics\n",
    "\n",
    "## carregar o ficheiro Insol para um dataframe do pandas dInsol\n",
    "## load the Insol file into a pandas dInsol dataframe\n",
    "dInsol = pd.read_csv('View_data_nullZero.csv')\n",
    "\n",
    "\n",
    "\n",
    "dInsol.head(2)     #Mostra as primeiras n linhas do conjunto de dados\n",
    "dInsol.tail(5)     #Mostra as últimas n linhas do conjunto de dados\n"
   ]
  },
  {
   "cell_type": "code",
   "execution_count": 5,
   "outputs": [
    {
     "data": {
      "text/plain": "DecisionTreeClassifier()"
     },
     "execution_count": 5,
     "metadata": {},
     "output_type": "execute_result"
    }
   ],
   "source": [
    "## Pre-processamento dividir os dados em conjunto de Treino e Teste\n",
    "## Pre-processing split data into Training and Test sets\n",
    "x = dInsol.drop('t1_fl_match_win', axis=1)   #Todas as tabelas que são usadas para fazer a predict\n",
    "y = dInsol.t1_fl_match_win                   #Resultados entre 1 e 0 8Insolvência ou não Insolvênvia)\n",
    "\n",
    "## Function train_test_split\n",
    "x_train, x_teste, y_train, y_teste = train_test_split(x, y, test_size=0.50, random_state=18)\n",
    "\n",
    "## Treinar o modelo\n",
    "## Train the model\n",
    "DecisionTree_Class_Model = DecisionTreeClassifier()\n",
    "DecisionTree_Class_Model.fit(x_train, y_train)"
   ],
   "metadata": {
    "collapsed": false,
    "pycharm": {
     "name": "#%%\n"
    }
   }
  },
  {
   "cell_type": "code",
   "execution_count": 6,
   "outputs": [
    {
     "ename": "FileNotFoundError",
     "evalue": "[WinError 2] O sistema não conseguiu localizar o ficheiro especificado",
     "output_type": "error",
     "traceback": [
      "\u001B[1;31m---------------------------------------------------------------------------\u001B[0m",
      "\u001B[1;31mFileNotFoundError\u001B[0m                         Traceback (most recent call last)",
      "Input \u001B[1;32mIn [6]\u001B[0m, in \u001B[0;36m<cell line: 26>\u001B[1;34m()\u001B[0m\n\u001B[0;32m     23\u001B[0m tree\u001B[38;5;241m.\u001B[39mexport_graphviz(model, out_file\u001B[38;5;241m=\u001B[39m\u001B[38;5;124m'\u001B[39m\u001B[38;5;124mtree.dot\u001B[39m\u001B[38;5;124m'\u001B[39m, feature_names\u001B[38;5;241m=\u001B[39mx\u001B[38;5;241m.\u001B[39mcolumns)\n\u001B[0;32m     24\u001B[0m \u001B[38;5;28;01mfrom\u001B[39;00m \u001B[38;5;21;01msubprocess\u001B[39;00m \u001B[38;5;28;01mimport\u001B[39;00m call\n\u001B[1;32m---> 26\u001B[0m \u001B[43mcall\u001B[49m\u001B[43m(\u001B[49m\u001B[43m[\u001B[49m\u001B[38;5;124;43m'\u001B[39;49m\u001B[38;5;124;43mdot\u001B[39;49m\u001B[38;5;124;43m'\u001B[39;49m\u001B[43m,\u001B[49m\u001B[43m \u001B[49m\u001B[38;5;124;43m'\u001B[39;49m\u001B[38;5;124;43m-T\u001B[39;49m\u001B[38;5;124;43m'\u001B[39;49m\u001B[43m,\u001B[49m\u001B[43m \u001B[49m\u001B[38;5;124;43m'\u001B[39;49m\u001B[38;5;124;43mpng\u001B[39;49m\u001B[38;5;124;43m'\u001B[39;49m\u001B[43m,\u001B[49m\u001B[43m \u001B[49m\u001B[38;5;124;43m'\u001B[39;49m\u001B[38;5;124;43mtree.dot\u001B[39;49m\u001B[38;5;124;43m'\u001B[39;49m\u001B[43m,\u001B[49m\u001B[43m \u001B[49m\u001B[38;5;124;43m'\u001B[39;49m\u001B[38;5;124;43m-o\u001B[39;49m\u001B[38;5;124;43m'\u001B[39;49m\u001B[43m,\u001B[49m\u001B[43m \u001B[49m\u001B[38;5;124;43m'\u001B[39;49m\u001B[38;5;124;43mtree.png\u001B[39;49m\u001B[38;5;124;43m'\u001B[39;49m\u001B[43m]\u001B[49m\u001B[43m)\u001B[49m\n\u001B[0;32m     28\u001B[0m \u001B[38;5;28;01mfrom\u001B[39;00m \u001B[38;5;21;01mIPython\u001B[39;00m\u001B[38;5;21;01m.\u001B[39;00m\u001B[38;5;21;01mdisplay\u001B[39;00m \u001B[38;5;28;01mimport\u001B[39;00m Image\n\u001B[0;32m     29\u001B[0m Image(filename \u001B[38;5;241m=\u001B[39m \u001B[38;5;124m'\u001B[39m\u001B[38;5;124mtree.png\u001B[39m\u001B[38;5;124m'\u001B[39m)\n",
      "File \u001B[1;32m~\\AppData\\Local\\Programs\\Python\\Python310\\lib\\subprocess.py:345\u001B[0m, in \u001B[0;36mcall\u001B[1;34m(timeout, *popenargs, **kwargs)\u001B[0m\n\u001B[0;32m    337\u001B[0m \u001B[38;5;28;01mdef\u001B[39;00m \u001B[38;5;21mcall\u001B[39m(\u001B[38;5;241m*\u001B[39mpopenargs, timeout\u001B[38;5;241m=\u001B[39m\u001B[38;5;28;01mNone\u001B[39;00m, \u001B[38;5;241m*\u001B[39m\u001B[38;5;241m*\u001B[39mkwargs):\n\u001B[0;32m    338\u001B[0m     \u001B[38;5;124;03m\"\"\"Run command with arguments.  Wait for command to complete or\u001B[39;00m\n\u001B[0;32m    339\u001B[0m \u001B[38;5;124;03m    timeout, then return the returncode attribute.\u001B[39;00m\n\u001B[0;32m    340\u001B[0m \n\u001B[1;32m   (...)\u001B[0m\n\u001B[0;32m    343\u001B[0m \u001B[38;5;124;03m    retcode = call([\"ls\", \"-l\"])\u001B[39;00m\n\u001B[0;32m    344\u001B[0m \u001B[38;5;124;03m    \"\"\"\u001B[39;00m\n\u001B[1;32m--> 345\u001B[0m     \u001B[38;5;28;01mwith\u001B[39;00m Popen(\u001B[38;5;241m*\u001B[39mpopenargs, \u001B[38;5;241m*\u001B[39m\u001B[38;5;241m*\u001B[39mkwargs) \u001B[38;5;28;01mas\u001B[39;00m p:\n\u001B[0;32m    346\u001B[0m         \u001B[38;5;28;01mtry\u001B[39;00m:\n\u001B[0;32m    347\u001B[0m             \u001B[38;5;28;01mreturn\u001B[39;00m p\u001B[38;5;241m.\u001B[39mwait(timeout\u001B[38;5;241m=\u001B[39mtimeout)\n",
      "File \u001B[1;32m~\\AppData\\Local\\Programs\\Python\\Python310\\lib\\subprocess.py:966\u001B[0m, in \u001B[0;36mPopen.__init__\u001B[1;34m(self, args, bufsize, executable, stdin, stdout, stderr, preexec_fn, close_fds, shell, cwd, env, universal_newlines, startupinfo, creationflags, restore_signals, start_new_session, pass_fds, user, group, extra_groups, encoding, errors, text, umask, pipesize)\u001B[0m\n\u001B[0;32m    962\u001B[0m         \u001B[38;5;28;01mif\u001B[39;00m \u001B[38;5;28mself\u001B[39m\u001B[38;5;241m.\u001B[39mtext_mode:\n\u001B[0;32m    963\u001B[0m             \u001B[38;5;28mself\u001B[39m\u001B[38;5;241m.\u001B[39mstderr \u001B[38;5;241m=\u001B[39m io\u001B[38;5;241m.\u001B[39mTextIOWrapper(\u001B[38;5;28mself\u001B[39m\u001B[38;5;241m.\u001B[39mstderr,\n\u001B[0;32m    964\u001B[0m                     encoding\u001B[38;5;241m=\u001B[39mencoding, errors\u001B[38;5;241m=\u001B[39merrors)\n\u001B[1;32m--> 966\u001B[0m     \u001B[38;5;28;43mself\u001B[39;49m\u001B[38;5;241;43m.\u001B[39;49m\u001B[43m_execute_child\u001B[49m\u001B[43m(\u001B[49m\u001B[43margs\u001B[49m\u001B[43m,\u001B[49m\u001B[43m \u001B[49m\u001B[43mexecutable\u001B[49m\u001B[43m,\u001B[49m\u001B[43m \u001B[49m\u001B[43mpreexec_fn\u001B[49m\u001B[43m,\u001B[49m\u001B[43m \u001B[49m\u001B[43mclose_fds\u001B[49m\u001B[43m,\u001B[49m\n\u001B[0;32m    967\u001B[0m \u001B[43m                        \u001B[49m\u001B[43mpass_fds\u001B[49m\u001B[43m,\u001B[49m\u001B[43m \u001B[49m\u001B[43mcwd\u001B[49m\u001B[43m,\u001B[49m\u001B[43m \u001B[49m\u001B[43menv\u001B[49m\u001B[43m,\u001B[49m\n\u001B[0;32m    968\u001B[0m \u001B[43m                        \u001B[49m\u001B[43mstartupinfo\u001B[49m\u001B[43m,\u001B[49m\u001B[43m \u001B[49m\u001B[43mcreationflags\u001B[49m\u001B[43m,\u001B[49m\u001B[43m \u001B[49m\u001B[43mshell\u001B[49m\u001B[43m,\u001B[49m\n\u001B[0;32m    969\u001B[0m \u001B[43m                        \u001B[49m\u001B[43mp2cread\u001B[49m\u001B[43m,\u001B[49m\u001B[43m \u001B[49m\u001B[43mp2cwrite\u001B[49m\u001B[43m,\u001B[49m\n\u001B[0;32m    970\u001B[0m \u001B[43m                        \u001B[49m\u001B[43mc2pread\u001B[49m\u001B[43m,\u001B[49m\u001B[43m \u001B[49m\u001B[43mc2pwrite\u001B[49m\u001B[43m,\u001B[49m\n\u001B[0;32m    971\u001B[0m \u001B[43m                        \u001B[49m\u001B[43merrread\u001B[49m\u001B[43m,\u001B[49m\u001B[43m \u001B[49m\u001B[43merrwrite\u001B[49m\u001B[43m,\u001B[49m\n\u001B[0;32m    972\u001B[0m \u001B[43m                        \u001B[49m\u001B[43mrestore_signals\u001B[49m\u001B[43m,\u001B[49m\n\u001B[0;32m    973\u001B[0m \u001B[43m                        \u001B[49m\u001B[43mgid\u001B[49m\u001B[43m,\u001B[49m\u001B[43m \u001B[49m\u001B[43mgids\u001B[49m\u001B[43m,\u001B[49m\u001B[43m \u001B[49m\u001B[43muid\u001B[49m\u001B[43m,\u001B[49m\u001B[43m \u001B[49m\u001B[43mumask\u001B[49m\u001B[43m,\u001B[49m\n\u001B[0;32m    974\u001B[0m \u001B[43m                        \u001B[49m\u001B[43mstart_new_session\u001B[49m\u001B[43m)\u001B[49m\n\u001B[0;32m    975\u001B[0m \u001B[38;5;28;01mexcept\u001B[39;00m:\n\u001B[0;32m    976\u001B[0m     \u001B[38;5;66;03m# Cleanup if the child failed starting.\u001B[39;00m\n\u001B[0;32m    977\u001B[0m     \u001B[38;5;28;01mfor\u001B[39;00m f \u001B[38;5;129;01min\u001B[39;00m \u001B[38;5;28mfilter\u001B[39m(\u001B[38;5;28;01mNone\u001B[39;00m, (\u001B[38;5;28mself\u001B[39m\u001B[38;5;241m.\u001B[39mstdin, \u001B[38;5;28mself\u001B[39m\u001B[38;5;241m.\u001B[39mstdout, \u001B[38;5;28mself\u001B[39m\u001B[38;5;241m.\u001B[39mstderr)):\n",
      "File \u001B[1;32m~\\AppData\\Local\\Programs\\Python\\Python310\\lib\\subprocess.py:1435\u001B[0m, in \u001B[0;36mPopen._execute_child\u001B[1;34m(self, args, executable, preexec_fn, close_fds, pass_fds, cwd, env, startupinfo, creationflags, shell, p2cread, p2cwrite, c2pread, c2pwrite, errread, errwrite, unused_restore_signals, unused_gid, unused_gids, unused_uid, unused_umask, unused_start_new_session)\u001B[0m\n\u001B[0;32m   1433\u001B[0m \u001B[38;5;66;03m# Start the process\u001B[39;00m\n\u001B[0;32m   1434\u001B[0m \u001B[38;5;28;01mtry\u001B[39;00m:\n\u001B[1;32m-> 1435\u001B[0m     hp, ht, pid, tid \u001B[38;5;241m=\u001B[39m \u001B[43m_winapi\u001B[49m\u001B[38;5;241;43m.\u001B[39;49m\u001B[43mCreateProcess\u001B[49m\u001B[43m(\u001B[49m\u001B[43mexecutable\u001B[49m\u001B[43m,\u001B[49m\u001B[43m \u001B[49m\u001B[43margs\u001B[49m\u001B[43m,\u001B[49m\n\u001B[0;32m   1436\u001B[0m \u001B[43m                             \u001B[49m\u001B[38;5;66;43;03m# no special security\u001B[39;49;00m\n\u001B[0;32m   1437\u001B[0m \u001B[43m                             \u001B[49m\u001B[38;5;28;43;01mNone\u001B[39;49;00m\u001B[43m,\u001B[49m\u001B[43m \u001B[49m\u001B[38;5;28;43;01mNone\u001B[39;49;00m\u001B[43m,\u001B[49m\n\u001B[0;32m   1438\u001B[0m \u001B[43m                             \u001B[49m\u001B[38;5;28;43mint\u001B[39;49m\u001B[43m(\u001B[49m\u001B[38;5;129;43;01mnot\u001B[39;49;00m\u001B[43m \u001B[49m\u001B[43mclose_fds\u001B[49m\u001B[43m)\u001B[49m\u001B[43m,\u001B[49m\n\u001B[0;32m   1439\u001B[0m \u001B[43m                             \u001B[49m\u001B[43mcreationflags\u001B[49m\u001B[43m,\u001B[49m\n\u001B[0;32m   1440\u001B[0m \u001B[43m                             \u001B[49m\u001B[43menv\u001B[49m\u001B[43m,\u001B[49m\n\u001B[0;32m   1441\u001B[0m \u001B[43m                             \u001B[49m\u001B[43mcwd\u001B[49m\u001B[43m,\u001B[49m\n\u001B[0;32m   1442\u001B[0m \u001B[43m                             \u001B[49m\u001B[43mstartupinfo\u001B[49m\u001B[43m)\u001B[49m\n\u001B[0;32m   1443\u001B[0m \u001B[38;5;28;01mfinally\u001B[39;00m:\n\u001B[0;32m   1444\u001B[0m     \u001B[38;5;66;03m# Child is launched. Close the parent's copy of those pipe\u001B[39;00m\n\u001B[0;32m   1445\u001B[0m     \u001B[38;5;66;03m# handles that only the child should have open.  You need\u001B[39;00m\n\u001B[1;32m   (...)\u001B[0m\n\u001B[0;32m   1448\u001B[0m     \u001B[38;5;66;03m# pipe will not close when the child process exits and the\u001B[39;00m\n\u001B[0;32m   1449\u001B[0m     \u001B[38;5;66;03m# ReadFile will hang.\u001B[39;00m\n\u001B[0;32m   1450\u001B[0m     \u001B[38;5;28mself\u001B[39m\u001B[38;5;241m.\u001B[39m_close_pipe_fds(p2cread, p2cwrite,\n\u001B[0;32m   1451\u001B[0m                          c2pread, c2pwrite,\n\u001B[0;32m   1452\u001B[0m                          errread, errwrite)\n",
      "\u001B[1;31mFileNotFoundError\u001B[0m: [WinError 2] O sistema não conseguiu localizar o ficheiro especificado"
     ]
    }
   ],
   "source": [
    "##Previsao/Forecasting\n",
    "y_pred = DecisionTree_Class_Model.predict(x_teste)\n",
    "y_pred\n",
    "\n",
    "##Accuracy Score\n",
    "accuracy = metrics.accuracy_score(y_teste, y_pred)\n",
    "accuracy\n",
    "\n",
    "##Matriz da confusão\n",
    "from sklearn.metrics import confusion_matrix\n",
    "\n",
    "pd.DataFrame(\n",
    "    confusion_matrix(y_teste, y_pred),\n",
    "    columns=['Previsão da t1_home ganhar ', 'Previsão da  t1_home não ganhar'],\n",
    "    index=['Realidade de ganhar', 'Realidade de não ganhar']\n",
    ")\n",
    "\n",
    "from sklearn import tree\n",
    "\n",
    "model = tree.DecisionTreeClassifier()\n",
    "model.fit(x_train, y_train)\n",
    "\n",
    "tree.export_graphviz(model, out_file='tree.dot', feature_names=x.columns)\n",
    "from subprocess import call\n",
    "\n",
    "call(['dot', '-T', 'png', 'tree.dot', '-o', 'tree.png'])\n",
    "\n",
    "from IPython.display import Image\n",
    "Image(filename = 'tree.png')\n"
   ],
   "metadata": {
    "collapsed": false,
    "pycharm": {
     "name": "#%%\n"
    }
   }
  },
  {
   "cell_type": "code",
   "execution_count": null,
   "outputs": [],
   "source": [
    "import pickle\n",
    "\n",
    "filename = 'modelo_final.sav'\n",
    "pickle.dump(model, open(filename, 'wb'))"
   ],
   "metadata": {
    "collapsed": false,
    "pycharm": {
     "name": "#%%\n"
    }
   }
  },
  {
   "cell_type": "code",
   "execution_count": null,
   "outputs": [],
   "source": [
    "# load the model from disk\n",
    "loaded_model = pickle.load(open(filename, 'rb'))\n",
    "result = loaded_model.score(x_teste, y_teste)\n",
    "print(result)\n",
    "\n",
    "#Fazer uma previsão\n",
    "# make a prediction\n",
    "import pickle\n",
    "loaded_model = pickle.load(open('modelo_final.sav', 'rb'))    #Importar o modelo guardado #Import the saved model\n",
    "\n",
    "dNew = pd.read_csv('/work/Insoltestennewcasex.csv',sep=';',header=0)\n",
    "dNew = dNew.drop('Insolvencia', axis=1)   #Remover a tabela Insolvencia  #Remove the Insolvency table\n",
    "dNew.head(2)     #Mostra as primeiras n linhas do conjunto de dados   Display the first n rows of the dataset\n",
    "\n"
   ],
   "metadata": {
    "collapsed": false,
    "pycharm": {
     "name": "#%%\n"
    }
   }
  },
  {
   "cell_type": "code",
   "execution_count": null,
   "outputs": [],
   "source": [
    "yNew = pd.Series(loaded_model.predict(dNew))\n",
    "if yNew[0] == 0:\n",
    "  print(\"Probabilidade de NÃO Insolvência, Probabilidade=%s\" % (yNew[0]))\n",
    "else:\n",
    "   print(\"Probabilidade de Insolvência, Probabilidade=%s\" % (yNew[0]))"
   ],
   "metadata": {
    "collapsed": false,
    "pycharm": {
     "name": "#%%\n"
    }
   }
  }
 ],
 "metadata": {
  "kernelspec": {
   "display_name": "Python 3",
   "language": "python",
   "name": "python3"
  },
  "language_info": {
   "codemirror_mode": {
    "name": "ipython",
    "version": 2
   },
   "file_extension": ".py",
   "mimetype": "text/x-python",
   "name": "python",
   "nbconvert_exporter": "python",
   "pygments_lexer": "ipython2",
   "version": "2.7.6"
  }
 },
 "nbformat": 4,
 "nbformat_minor": 0
}