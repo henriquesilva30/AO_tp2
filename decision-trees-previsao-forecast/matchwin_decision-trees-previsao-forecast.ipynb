{
 "cells": [
  {
   "cell_type": "code",
   "execution_count": 20,
   "outputs": [
    {
     "data": {
      "text/plain": "       t1_all_total5_fl_match_win  t1_all_total5_fl_match_draw  \\\n44085                           0                            2   \n44086                           2                            1   \n44087                           1                            2   \n44088                           1                            2   \n44089                           1                            1   \n\n       t1_all_total5_fl_match_lost  t1_all_total10_fl_match_win  \\\n44085                            3                            1   \n44086                            2                            5   \n44087                            2                            3   \n44088                            2                            2   \n44089                            3                            2   \n\n       t1_all_total10_fl_match_draw  t1_all_total10_fl_match_lost  \\\n44085                             5                             4   \n44086                             2                             3   \n44087                             3                             4   \n44088                             3                             5   \n44089                             1                             7   \n\n       t2_all_total5_fl_match_win  t2_all_total5_fl_match_draw  \\\n44085                           3                            1   \n44086                           1                            1   \n44087                           2                            1   \n44088                           2                            3   \n44089                           2                            0   \n\n       t2_all_total5_fl_match_lost  t2_all_total10_fl_match_win  ...  \\\n44085                            1                            6  ...   \n44086                            3                            2  ...   \n44087                            2                            4  ...   \n44088                            0                            2  ...   \n44089                            3                            5  ...   \n\n       t2_away_total10_fl_match_win  t2_away_total10_fl_match_draw  \\\n44085                             6                              1   \n44086                             1                              3   \n44087                             1                              3   \n44088                             3                              3   \n44089                             4                              1   \n\n       t2_away_total10_fl_match_lost  t1_h2h_total5_fl_match_win  \\\n44085                              2                           1   \n44086                              4                           3   \n44087                              2                           0   \n44088                              1                           0   \n44089                              4                           0   \n\n       t1_h2h_total5_fl_match_draw  t1_h2h_total5_fl_match_lost  \\\n44085                            0                            4   \n44086                            0                            2   \n44087                            0                            0   \n44088                            1                            1   \n44089                            0                            1   \n\n       t1_h2h_total10_fl_match_win  t1_h2h_total10_fl_match_draw  \\\n44085                            2                             0   \n44086                            5                             1   \n44087                            0                             0   \n44088                            0                             1   \n44089                            0                             0   \n\n       t1_h2h_total10_fl_match_lost  t1_fl_match_win  \n44085                             8                0  \n44086                             4                0  \n44087                             0                0  \n44088                             1                0  \n44089                             1                0  \n\n[5 rows x 31 columns]",
      "text/html": "<div>\n<style scoped>\n    .dataframe tbody tr th:only-of-type {\n        vertical-align: middle;\n    }\n\n    .dataframe tbody tr th {\n        vertical-align: top;\n    }\n\n    .dataframe thead th {\n        text-align: right;\n    }\n</style>\n<table border=\"1\" class=\"dataframe\">\n  <thead>\n    <tr style=\"text-align: right;\">\n      <th></th>\n      <th>t1_all_total5_fl_match_win</th>\n      <th>t1_all_total5_fl_match_draw</th>\n      <th>t1_all_total5_fl_match_lost</th>\n      <th>t1_all_total10_fl_match_win</th>\n      <th>t1_all_total10_fl_match_draw</th>\n      <th>t1_all_total10_fl_match_lost</th>\n      <th>t2_all_total5_fl_match_win</th>\n      <th>t2_all_total5_fl_match_draw</th>\n      <th>t2_all_total5_fl_match_lost</th>\n      <th>t2_all_total10_fl_match_win</th>\n      <th>...</th>\n      <th>t2_away_total10_fl_match_win</th>\n      <th>t2_away_total10_fl_match_draw</th>\n      <th>t2_away_total10_fl_match_lost</th>\n      <th>t1_h2h_total5_fl_match_win</th>\n      <th>t1_h2h_total5_fl_match_draw</th>\n      <th>t1_h2h_total5_fl_match_lost</th>\n      <th>t1_h2h_total10_fl_match_win</th>\n      <th>t1_h2h_total10_fl_match_draw</th>\n      <th>t1_h2h_total10_fl_match_lost</th>\n      <th>t1_fl_match_win</th>\n    </tr>\n  </thead>\n  <tbody>\n    <tr>\n      <th>44085</th>\n      <td>0</td>\n      <td>2</td>\n      <td>3</td>\n      <td>1</td>\n      <td>5</td>\n      <td>4</td>\n      <td>3</td>\n      <td>1</td>\n      <td>1</td>\n      <td>6</td>\n      <td>...</td>\n      <td>6</td>\n      <td>1</td>\n      <td>2</td>\n      <td>1</td>\n      <td>0</td>\n      <td>4</td>\n      <td>2</td>\n      <td>0</td>\n      <td>8</td>\n      <td>0</td>\n    </tr>\n    <tr>\n      <th>44086</th>\n      <td>2</td>\n      <td>1</td>\n      <td>2</td>\n      <td>5</td>\n      <td>2</td>\n      <td>3</td>\n      <td>1</td>\n      <td>1</td>\n      <td>3</td>\n      <td>2</td>\n      <td>...</td>\n      <td>1</td>\n      <td>3</td>\n      <td>4</td>\n      <td>3</td>\n      <td>0</td>\n      <td>2</td>\n      <td>5</td>\n      <td>1</td>\n      <td>4</td>\n      <td>0</td>\n    </tr>\n    <tr>\n      <th>44087</th>\n      <td>1</td>\n      <td>2</td>\n      <td>2</td>\n      <td>3</td>\n      <td>3</td>\n      <td>4</td>\n      <td>2</td>\n      <td>1</td>\n      <td>2</td>\n      <td>4</td>\n      <td>...</td>\n      <td>1</td>\n      <td>3</td>\n      <td>2</td>\n      <td>0</td>\n      <td>0</td>\n      <td>0</td>\n      <td>0</td>\n      <td>0</td>\n      <td>0</td>\n      <td>0</td>\n    </tr>\n    <tr>\n      <th>44088</th>\n      <td>1</td>\n      <td>2</td>\n      <td>2</td>\n      <td>2</td>\n      <td>3</td>\n      <td>5</td>\n      <td>2</td>\n      <td>3</td>\n      <td>0</td>\n      <td>2</td>\n      <td>...</td>\n      <td>3</td>\n      <td>3</td>\n      <td>1</td>\n      <td>0</td>\n      <td>1</td>\n      <td>1</td>\n      <td>0</td>\n      <td>1</td>\n      <td>1</td>\n      <td>0</td>\n    </tr>\n    <tr>\n      <th>44089</th>\n      <td>1</td>\n      <td>1</td>\n      <td>3</td>\n      <td>2</td>\n      <td>1</td>\n      <td>7</td>\n      <td>2</td>\n      <td>0</td>\n      <td>3</td>\n      <td>5</td>\n      <td>...</td>\n      <td>4</td>\n      <td>1</td>\n      <td>4</td>\n      <td>0</td>\n      <td>0</td>\n      <td>1</td>\n      <td>0</td>\n      <td>0</td>\n      <td>1</td>\n      <td>0</td>\n    </tr>\n  </tbody>\n</table>\n<p>5 rows × 31 columns</p>\n</div>"
     },
     "execution_count": 20,
     "metadata": {},
     "output_type": "execute_result"
    }
   ],
   "source": [
    "# -*- coding: utf-8 -*-\n",
    "## Exemplo de Criação de um modelo de Previsão/Classificação usando as Arvores de Decisão\n",
    "\n",
    "## import\n",
    "import numpy as np\n",
    "import pandas as pd\n",
    "import seaborn as sns\n",
    "from sklearn.model_selection import train_test_split\n",
    "from sklearn.tree import DecisionTreeClassifier, DecisionTreeRegressor, ExtraTreeClassifier, ExtraTreeRegressor, export_graphviz\n",
    "from sklearn import metrics\n",
    "\n",
    "## carregar o ficheiro resultados para um dataframe do pandas dResult\n",
    "## load the Insol file into a pandas dResult dataframe\n",
    "dResult = pd.read_csv('../files/t1_win_NullCorretion.csv')\n",
    "\n",
    "\n",
    "\n",
    "dResult.head(2)     #Mostra as primeiras n linhas do conjunto de dados\n",
    "dResult.tail(5)     #Mostra as últimas n linhas do conjunto de dados\n"
   ],
   "metadata": {
    "collapsed": false,
    "pycharm": {
     "name": "#%%\n"
    }
   }
  },
  {
   "cell_type": "code",
   "execution_count": 21,
   "outputs": [],
   "source": [
    "## Pre-processamento dividir os dados em conjunto de Treino e Teste\n",
    "## Pre-processing split data into Training and Test sets\n",
    "x = dResult.drop('t1_fl_match_win', axis=1)   #Todas as tabelas que são usadas para fazer a predict\n",
    "y = dResult.t1_fl_match_win                   #Resultados entre 1 e 0 Vitoria ou não Vitoria)\n"
   ],
   "metadata": {
    "collapsed": false,
    "pycharm": {
     "name": "#%%\n"
    }
   }
  },
  {
   "cell_type": "code",
   "execution_count": 40,
   "outputs": [],
   "source": [
    "def modelDecisionTreeClassifier():\n",
    "    DecisionTree_Class_Model = DecisionTreeClassifier()\n",
    "    DecisionTree_Class_Model.fit(x_train, y_train)\n",
    "      ##Previsao/Forecasting\n",
    "    y_pred = DecisionTree_Class_Model.predict(x_teste)\n",
    "    y_pred\n",
    "\n",
    "##Accuracy Score\n",
    "    accuracy = [metrics.accuracy_score(y_teste, y_pred),metrics.f1_score(y_teste, y_pred),metrics.recall_score(y_teste, y_pred),metrics.precision_score(y_teste, y_pred),metrics.mean_squared_error(y_teste, y_pred)]\n",
    "    #f1 = metrics.f1_score(y_teste, y_pred)\n",
    "    #rs = metrics.recall_score(y_teste, y_pred)\n",
    "    #ps = metrics.precision_score(y_teste, y_pred)\n",
    "    #mse = metrics.mean_squared_error(y_teste, y_pred)\n",
    "    global y_pred_cm\n",
    "    y_pred_cm = y_pred\n",
    "    print (\"\\nResultados do modelo Decision Tree Classifier\")\n",
    "    print('Test size {:.2f}'.format(a))\n",
    "    print(\"Metrics : \", accuracy)\n",
    "    #rfc_fit = accuracy['estimator']\n",
    "    #rfc_fit = rfc_fit[0]\n",
    "    #filename = 'modelo_final-kf.sav'\n",
    "    #joblib.dump(rfc_fit,open(filename, 'wb'))\n",
    "   # print('Precision: {:.2f} MSE: {:.2f}'.format(ps,mse))\n",
    "\n"
   ],
   "metadata": {
    "collapsed": false,
    "pycharm": {
     "name": "#%%\n"
    }
   }
  },
  {
   "cell_type": "code",
   "execution_count": 23,
   "outputs": [],
   "source": [
    "def modelExtraTreeClassifier():\n",
    "    DecisionTree_Class_Model = ExtraTreeClassifier()\n",
    "    DecisionTree_Class_Model.fit(x_train, y_train)\n",
    "      ##Previsao/Forecasting\n",
    "    y_pred = DecisionTree_Class_Model.predict(x_teste)\n",
    "    y_pred\n",
    "\n",
    "##Accuracy Score\n",
    "    accuracy = metrics.accuracy_score(y_teste, y_pred)\n",
    "    print (\"\\nResultados do modelo Extra Tree Classifier\")\n",
    "    print('Test size {:.2f} Acc: {}'.format(a,accuracy))\n",
    "    #rfc_fit = accuracy['estimator']\n",
    "    #rfc_fit = rfc_fit[0]\n",
    "    #filename = 'modelo_final-kf.sav'\n",
    "    #joblib.dump(rfc_fit, open(filename, 'wb'))\n"
   ],
   "metadata": {
    "collapsed": false,
    "pycharm": {
     "name": "#%%\n"
    }
   }
  },
  {
   "cell_type": "code",
   "execution_count": 41,
   "outputs": [
    {
     "name": "stdout",
     "output_type": "stream",
     "text": [
      "\n",
      "Resultados do modelo Decision Tree Classifier\n",
      "Test size 0.10\n",
      "Metrics :  [[0.539351326831481, 0.44523354274788307, 0.4500276090557703, 0.44054054054054054, 0.46064867316851893]]\n"
     ]
    },
    {
     "ename": "TypeError",
     "evalue": "list indices must be integers or slices, not str",
     "output_type": "error",
     "traceback": [
      "\u001B[1;31m---------------------------------------------------------------------------\u001B[0m",
      "\u001B[1;31mTypeError\u001B[0m                                 Traceback (most recent call last)",
      "Input \u001B[1;32mIn [41]\u001B[0m, in \u001B[0;36m<cell line: 3>\u001B[1;34m()\u001B[0m\n\u001B[0;32m      3\u001B[0m \u001B[38;5;28;01mwhile\u001B[39;00m a \u001B[38;5;241m<\u001B[39m \u001B[38;5;241m0.50\u001B[39m:\n\u001B[0;32m      4\u001B[0m       \u001B[38;5;66;03m## Function train_test_split\u001B[39;00m\n\u001B[0;32m      5\u001B[0m     x_train, x_teste, y_train, y_teste \u001B[38;5;241m=\u001B[39m train_test_split(x, y, test_size\u001B[38;5;241m=\u001B[39ma, random_state\u001B[38;5;241m=\u001B[39m\u001B[38;5;241m18\u001B[39m)\n\u001B[1;32m----> 6\u001B[0m     \u001B[43mmodelDecisionTreeClassifier\u001B[49m\u001B[43m(\u001B[49m\u001B[43m)\u001B[49m\n\u001B[0;32m      7\u001B[0m     \u001B[38;5;66;03m#modelExtraTreeClassifier()\u001B[39;00m\n\u001B[0;32m      8\u001B[0m     a\u001B[38;5;241m+\u001B[39m\u001B[38;5;241m=\u001B[39m\u001B[38;5;241m0.05\u001B[39m\n",
      "Input \u001B[1;32mIn [40]\u001B[0m, in \u001B[0;36mmodelDecisionTreeClassifier\u001B[1;34m()\u001B[0m\n\u001B[0;32m     17\u001B[0m \u001B[38;5;28mprint\u001B[39m(\u001B[38;5;124m'\u001B[39m\u001B[38;5;124mTest size \u001B[39m\u001B[38;5;132;01m{:.2f}\u001B[39;00m\u001B[38;5;124m'\u001B[39m\u001B[38;5;241m.\u001B[39mformat(a))\n\u001B[0;32m     18\u001B[0m \u001B[38;5;28mprint\u001B[39m(\u001B[38;5;124m\"\u001B[39m\u001B[38;5;124mMetrics : \u001B[39m\u001B[38;5;124m\"\u001B[39m, [accuracy])\n\u001B[1;32m---> 19\u001B[0m rfc_fit \u001B[38;5;241m=\u001B[39m \u001B[43maccuracy\u001B[49m\u001B[43m[\u001B[49m\u001B[38;5;124;43m'\u001B[39;49m\u001B[38;5;124;43mestimator\u001B[39;49m\u001B[38;5;124;43m'\u001B[39;49m\u001B[43m]\u001B[49m\n\u001B[0;32m     20\u001B[0m rfc_fit \u001B[38;5;241m=\u001B[39m rfc_fit[\u001B[38;5;241m0\u001B[39m]\n\u001B[0;32m     21\u001B[0m filename \u001B[38;5;241m=\u001B[39m \u001B[38;5;124m'\u001B[39m\u001B[38;5;124mmodelo_final-kf.sav\u001B[39m\u001B[38;5;124m'\u001B[39m\n",
      "\u001B[1;31mTypeError\u001B[0m: list indices must be integers or slices, not str"
     ]
    }
   ],
   "source": [
    "b= 0\n",
    "a = 0.10\n",
    "while a < 0.50:\n",
    "      ## Function train_test_split\n",
    "    x_train, x_teste, y_train, y_teste = train_test_split(x, y, test_size=a, random_state=18)\n",
    "    modelDecisionTreeClassifier()\n",
    "    #modelExtraTreeClassifier()\n",
    "    a+=0.05\n",
    "## Treinar o modelo\n",
    "## Train the model\n",
    "\n",
    "\n",
    "\n"
   ],
   "metadata": {
    "collapsed": false,
    "pycharm": {
     "name": "#%%\n"
    }
   }
  },
  {
   "cell_type": "code",
   "execution_count": null,
   "outputs": [],
   "source": [
    "\n",
    "##Matriz da confusão\n",
    "from sklearn.metrics import confusion_matrix\n",
    "\n",
    "pd.DataFrame(\n",
    "    confusion_matrix(y_teste, y_pred_cm),\n",
    "    columns=['Previsão da t1_home ganhar ', 'Previsão da  t1_home não ganhar'],\n",
    "    index=['Realidade de ganhar', 'Realidade de não ganhar']\n",
    ")\n",
    "\n",
    "\n",
    "model = DecisionTreeClassifier()\n",
    "model.fit(x_train, y_train)\n",
    "\n",
    "export_graphviz(model, out_file='tree.dot', feature_names=x.columns)\n",
    "from subprocess import call\n",
    "\n",
    "call(['dot', '-T', 'png', 'tree.dot', '-o', 'tree.png'])\n",
    "\n",
    "from IPython.display import Image\n",
    "Image(filename = 'tree.png')\n"
   ],
   "metadata": {
    "collapsed": false,
    "pycharm": {
     "name": "#%%\n"
    }
   }
  },
  {
   "cell_type": "code",
   "execution_count": null,
   "outputs": [],
   "source": [
    "#better then pickle\n",
    "import joblib\n",
    "\n",
    "filename = 'modelo_final.sav'\n",
    "joblib.dump(model, open(filename, 'wb'))"
   ],
   "metadata": {
    "collapsed": false,
    "pycharm": {
     "name": "#%%\n"
    }
   }
  },
  {
   "cell_type": "code",
   "execution_count": null,
   "outputs": [],
   "source": [
    "# load the model from disk\n",
    "loaded_model = joblib.load(open(filename, 'rb'))\n",
    "result = loaded_model.score(x_teste, y_teste)\n",
    "print(result)\n",
    "\n",
    "# novo registo a prever\n",
    "dNew = pd.read_csv('../files/t1_win_Sample.csv')\n",
    "dNew = dNew.drop('t1_fl_match_win', axis=1)   #Remover o campo vitoria\n",
    "dNew.head(2)     #Mostra as primeiras n linhas do conjunto de dados   Display the first n rows of the dataset\n",
    "\n"
   ],
   "metadata": {
    "collapsed": false,
    "pycharm": {
     "name": "#%%\n"
    }
   }
  },
  {
   "cell_type": "code",
   "execution_count": null,
   "outputs": [],
   "source": [
    "#Fazer uma previsão com o novo registo\n",
    "yNew = pd.Series(loaded_model.predict(dNew))\n",
    "if yNew[0] == 0:\n",
    "  print(\"Equipa da casa perde\")\n",
    "else:\n",
    "  print(\"Equipa da casa ganha\")"
   ],
   "metadata": {
    "collapsed": false,
    "pycharm": {
     "name": "#%%\n"
    }
   }
  }
 ],
 "metadata": {
  "kernelspec": {
   "display_name": "Python 3.9.13 64-bit (windows store)",
   "language": "python",
   "name": "python3"
  },
  "language_info": {
   "codemirror_mode": {
    "name": "ipython",
    "version": 3
   },
   "file_extension": ".py",
   "mimetype": "text/x-python",
   "name": "python",
   "nbconvert_exporter": "python",
   "pygments_lexer": "ipython3",
   "version": "3.9.13"
  },
  "vscode": {
   "interpreter": {
    "hash": "25b9d76d03052f04b853783704bf9224d9817fdb32617c036d1776cea483770c"
   }
  }
 },
 "nbformat": 4,
 "nbformat_minor": 0
}
