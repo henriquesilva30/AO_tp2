{
 "cells": [
  {
   "cell_type": "code",
   "execution_count": 1,
   "outputs": [
    {
     "data": {
      "text/plain": "       t1_all_total5_fl_match_win  t1_all_total5_fl_match_draw  \\\n44085                           0                            2   \n44086                           2                            1   \n44087                           1                            2   \n44088                           1                            2   \n44089                           1                            1   \n\n       t1_all_total5_fl_match_lost  t1_all_total10_fl_match_win  \\\n44085                            3                            1   \n44086                            2                            5   \n44087                            2                            3   \n44088                            2                            2   \n44089                            3                            2   \n\n       t1_all_total10_fl_match_draw  t1_all_total10_fl_match_lost  \\\n44085                             5                             4   \n44086                             2                             3   \n44087                             3                             4   \n44088                             3                             5   \n44089                             1                             7   \n\n       t2_all_total5_fl_match_win  t2_all_total5_fl_match_draw  \\\n44085                           3                            1   \n44086                           1                            1   \n44087                           2                            1   \n44088                           2                            3   \n44089                           2                            0   \n\n       t2_all_total5_fl_match_lost  t2_all_total10_fl_match_win  ...  \\\n44085                            1                            6  ...   \n44086                            3                            2  ...   \n44087                            2                            4  ...   \n44088                            0                            2  ...   \n44089                            3                            5  ...   \n\n       t2_away_total10_fl_match_win  t2_away_total10_fl_match_draw  \\\n44085                             6                              1   \n44086                             1                              3   \n44087                             1                              3   \n44088                             3                              3   \n44089                             4                              1   \n\n       t2_away_total10_fl_match_lost  t1_h2h_total5_fl_match_win  \\\n44085                              2                           1   \n44086                              4                           3   \n44087                              2                           0   \n44088                              1                           0   \n44089                              4                           0   \n\n       t1_h2h_total5_fl_match_draw  t1_h2h_total5_fl_match_lost  \\\n44085                            0                            4   \n44086                            0                            2   \n44087                            0                            0   \n44088                            1                            1   \n44089                            0                            1   \n\n       t1_h2h_total10_fl_match_win  t1_h2h_total10_fl_match_draw  \\\n44085                            2                             0   \n44086                            5                             1   \n44087                            0                             0   \n44088                            0                             1   \n44089                            0                             0   \n\n       t1_h2h_total10_fl_match_lost  t1_fl_match_win  \n44085                             8                0  \n44086                             4                0  \n44087                             0                0  \n44088                             1                0  \n44089                             1                0  \n\n[5 rows x 31 columns]",
      "text/html": "<div>\n<style scoped>\n    .dataframe tbody tr th:only-of-type {\n        vertical-align: middle;\n    }\n\n    .dataframe tbody tr th {\n        vertical-align: top;\n    }\n\n    .dataframe thead th {\n        text-align: right;\n    }\n</style>\n<table border=\"1\" class=\"dataframe\">\n  <thead>\n    <tr style=\"text-align: right;\">\n      <th></th>\n      <th>t1_all_total5_fl_match_win</th>\n      <th>t1_all_total5_fl_match_draw</th>\n      <th>t1_all_total5_fl_match_lost</th>\n      <th>t1_all_total10_fl_match_win</th>\n      <th>t1_all_total10_fl_match_draw</th>\n      <th>t1_all_total10_fl_match_lost</th>\n      <th>t2_all_total5_fl_match_win</th>\n      <th>t2_all_total5_fl_match_draw</th>\n      <th>t2_all_total5_fl_match_lost</th>\n      <th>t2_all_total10_fl_match_win</th>\n      <th>...</th>\n      <th>t2_away_total10_fl_match_win</th>\n      <th>t2_away_total10_fl_match_draw</th>\n      <th>t2_away_total10_fl_match_lost</th>\n      <th>t1_h2h_total5_fl_match_win</th>\n      <th>t1_h2h_total5_fl_match_draw</th>\n      <th>t1_h2h_total5_fl_match_lost</th>\n      <th>t1_h2h_total10_fl_match_win</th>\n      <th>t1_h2h_total10_fl_match_draw</th>\n      <th>t1_h2h_total10_fl_match_lost</th>\n      <th>t1_fl_match_win</th>\n    </tr>\n  </thead>\n  <tbody>\n    <tr>\n      <th>44085</th>\n      <td>0</td>\n      <td>2</td>\n      <td>3</td>\n      <td>1</td>\n      <td>5</td>\n      <td>4</td>\n      <td>3</td>\n      <td>1</td>\n      <td>1</td>\n      <td>6</td>\n      <td>...</td>\n      <td>6</td>\n      <td>1</td>\n      <td>2</td>\n      <td>1</td>\n      <td>0</td>\n      <td>4</td>\n      <td>2</td>\n      <td>0</td>\n      <td>8</td>\n      <td>0</td>\n    </tr>\n    <tr>\n      <th>44086</th>\n      <td>2</td>\n      <td>1</td>\n      <td>2</td>\n      <td>5</td>\n      <td>2</td>\n      <td>3</td>\n      <td>1</td>\n      <td>1</td>\n      <td>3</td>\n      <td>2</td>\n      <td>...</td>\n      <td>1</td>\n      <td>3</td>\n      <td>4</td>\n      <td>3</td>\n      <td>0</td>\n      <td>2</td>\n      <td>5</td>\n      <td>1</td>\n      <td>4</td>\n      <td>0</td>\n    </tr>\n    <tr>\n      <th>44087</th>\n      <td>1</td>\n      <td>2</td>\n      <td>2</td>\n      <td>3</td>\n      <td>3</td>\n      <td>4</td>\n      <td>2</td>\n      <td>1</td>\n      <td>2</td>\n      <td>4</td>\n      <td>...</td>\n      <td>1</td>\n      <td>3</td>\n      <td>2</td>\n      <td>0</td>\n      <td>0</td>\n      <td>0</td>\n      <td>0</td>\n      <td>0</td>\n      <td>0</td>\n      <td>0</td>\n    </tr>\n    <tr>\n      <th>44088</th>\n      <td>1</td>\n      <td>2</td>\n      <td>2</td>\n      <td>2</td>\n      <td>3</td>\n      <td>5</td>\n      <td>2</td>\n      <td>3</td>\n      <td>0</td>\n      <td>2</td>\n      <td>...</td>\n      <td>3</td>\n      <td>3</td>\n      <td>1</td>\n      <td>0</td>\n      <td>1</td>\n      <td>1</td>\n      <td>0</td>\n      <td>1</td>\n      <td>1</td>\n      <td>0</td>\n    </tr>\n    <tr>\n      <th>44089</th>\n      <td>1</td>\n      <td>1</td>\n      <td>3</td>\n      <td>2</td>\n      <td>1</td>\n      <td>7</td>\n      <td>2</td>\n      <td>0</td>\n      <td>3</td>\n      <td>5</td>\n      <td>...</td>\n      <td>4</td>\n      <td>1</td>\n      <td>4</td>\n      <td>0</td>\n      <td>0</td>\n      <td>1</td>\n      <td>0</td>\n      <td>0</td>\n      <td>1</td>\n      <td>0</td>\n    </tr>\n  </tbody>\n</table>\n<p>5 rows × 31 columns</p>\n</div>"
     },
     "execution_count": 1,
     "metadata": {},
     "output_type": "execute_result"
    }
   ],
   "source": [
    "# -*- coding: utf-8 -*-\n",
    "## Exemplo de Criação de um modelo de Previsão/Classificação usando as Arvores de Decisão\n",
    "\n",
    "## import\n",
    "import numpy as np\n",
    "import pandas as pd\n",
    "import seaborn as sns\n",
    "import joblib #better then pickle\n",
    "from sklearn.model_selection import train_test_split\n",
    "from sklearn.tree import DecisionTreeClassifier, DecisionTreeRegressor, ExtraTreeClassifier, ExtraTreeRegressor, export_graphviz\n",
    "from sklearn import metrics\n",
    "\n",
    "## carregar o ficheiro resultados para um dataframe do pandas dResult\n",
    "## load the Insol file into a pandas dResult dataframe\n",
    "dResult = pd.read_csv('../files/t1_win_NullCorretion.csv')\n",
    "\n",
    "\n",
    "\n",
    "dResult.head(2)     #Mostra as primeiras n linhas do conjunto de dados\n",
    "dResult.tail(5)     #Mostra as últimas n linhas do conjunto de dados\n"
   ],
   "metadata": {
    "collapsed": false,
    "pycharm": {
     "name": "#%%\n"
    }
   }
  },
  {
   "cell_type": "code",
   "execution_count": 2,
   "outputs": [],
   "source": [
    "## Pre-processamento dividir os dados em conjunto de Treino e Teste\n",
    "## Pre-processing split data into Training and Test sets\n",
    "x = dResult.drop('t1_fl_match_win', axis=1)   #Todas as tabelas que são usadas para fazer a predict\n",
    "y = dResult.t1_fl_match_win                   #Resultados entre 1 e 0 Vitoria ou não Vitoria)\n"
   ],
   "metadata": {
    "collapsed": false,
    "pycharm": {
     "name": "#%%\n"
    }
   }
  },
  {
   "cell_type": "code",
   "execution_count": 3,
   "outputs": [],
   "source": [
    "\n",
    "def modelDecisionTreeClassifier(x_train, x_teste, y_train, y_teste):\n",
    "    DecisionTree_Class_Model = DecisionTreeClassifier()\n",
    "    DecisionTree_Class_Model.fit(x_train, y_train)\n",
    "      ##Previsao/Forecasting\n",
    "    y_pred = DecisionTree_Class_Model.predict(x_teste)\n",
    "    y_pred\n",
    "\n",
    "##Accuracy Score\n",
    "    accuracy_dec = [metrics.accuracy_score(y_teste, y_pred),metrics.f1_score(y_teste, y_pred),metrics.recall_score(y_teste, y_pred),metrics.precision_score(y_teste, y_pred),metrics.mean_squared_error(y_teste, y_pred)]\n",
    "\n",
    "\n",
    "\n",
    "    val_acc_dec=[]\n",
    "\n",
    "    global y_pred_cm\n",
    "    y_pred_cm = y_pred\n",
    "    data = {}\n",
    "    print (\"\\nResultados do modelo Decision Tree Classifier\")\n",
    "    print('Test size {:.2f}'.format(a))\n",
    "    data['Test_size']='{:.2f}'.format(a)\n",
    "    data['Modelo']= 'Decision Tree Classifier'\n",
    "    print(\"Score - F1 Score - Recall Score - Precision Score - MSE \", accuracy_dec)\n",
    "    data['Score - F1 Score - Recall Score - Precision Score - MSE'] = accuracy_dec\n",
    "    jsonString = json.dumps(data)\n",
    "    val_acc_dec.append(metrics.accuracy_score(y_teste, y_pred))\n",
    "    val_acc_dec.append(DecisionTree_Class_Model)\n",
    "    val_acc_dec.append(jsonString)\n",
    "    return val_acc_dec\n",
    "\n"
   ],
   "metadata": {
    "collapsed": false,
    "pycharm": {
     "name": "#%%\n"
    }
   }
  },
  {
   "cell_type": "code",
   "execution_count": 4,
   "outputs": [],
   "source": [
    "def modelExtraTreeClassifier(x_train, x_teste, y_train, y_teste):\n",
    "    ExtraTree_Class_Model = ExtraTreeClassifier()\n",
    "    ExtraTree_Class_Model.fit(x_train, y_train)\n",
    "      ##Previsao/Forecasting\n",
    "    y_pred = ExtraTree_Class_Model.predict(x_teste)\n",
    "    y_pred\n",
    "\n",
    "##Accuracy Score\n",
    "    accuracy_extra = [metrics.accuracy_score(y_teste, y_pred),metrics.f1_score(y_teste, y_pred),metrics.recall_score(y_teste, y_pred),metrics.precision_score(y_teste, y_pred),metrics.mean_squared_error(y_teste, y_pred)]\n",
    "\n",
    "    val_acc_extra=[]\n",
    "\n",
    "    global y_pred_cm\n",
    "    y_pred_cm = y_pred\n",
    "    data = {}\n",
    "    print (\"\\nResultados do modelo Extra Tree Classifier\")\n",
    "    print('Test size {:.2f}'.format(a))\n",
    "    data['Test_size']='{:.2f}'.format(a)\n",
    "    data['Modelo']= 'Extra Tree Classifier'\n",
    "    print(\"Score - F1 Score - Recall Score - Precision Score - MSE \", accuracy_extra)\n",
    "    data['Score - F1 Score - Recall Score - Precision Score - MSE'] = accuracy_extra\n",
    "    jsonString = json.dumps(data)\n",
    "\n",
    "    val_acc_extra.append(metrics.accuracy_score(y_teste, y_pred))\n",
    "    val_acc_extra.append(ExtraTree_Class_Model)\n",
    "    val_acc_extra.append(jsonString)\n",
    "    return val_acc_extra\n"
   ],
   "metadata": {
    "collapsed": false,
    "pycharm": {
     "name": "#%%\n"
    }
   }
  },
  {
   "cell_type": "code",
   "execution_count": 5,
   "outputs": [
    {
     "name": "stdout",
     "output_type": "stream",
     "text": [
      "\n",
      "Resultados do modelo Extra Tree Classifier\n",
      "Test size 0.10\n",
      "Score - F1 Score - Recall Score - Precision Score - MSE  [0.5495577228396462, 0.458265139116203, 0.46383213694091663, 0.4528301886792453, 0.45044227716035384]\n",
      "\n",
      "Resultados do modelo Decision Tree Classifier\n",
      "Test size 0.10\n",
      "Score - F1 Score - Recall Score - Precision Score - MSE  [0.5361760036289408, 0.43679427155053707, 0.43787962451684154, 0.4357142857142857, 0.4638239963710592]\n",
      "\n",
      "Resultados do modelo Extra Tree Classifier\n",
      "Test size 0.15\n",
      "Score - F1 Score - Recall Score - Precision Score - MSE  [0.5391593589355912, 0.44922298518250814, 0.4548115623856568, 0.44377008211353086, 0.4608406410644088]\n",
      "\n",
      "Resultados do modelo Decision Tree Classifier\n",
      "Test size 0.15\n",
      "Score - F1 Score - Recall Score - Precision Score - MSE  [0.5462654974296945, 0.45505719992736515, 0.4584705451884376, 0.45169430425378515, 0.4537345025703054]\n",
      "\n",
      "Resultados do modelo Extra Tree Classifier\n",
      "Test size 0.20\n",
      "Score - F1 Score - Recall Score - Precision Score - MSE  [0.5403719664322976, 0.44939546257302, 0.45006802721088435, 0.44872490504612045, 0.45962803356770243]\n",
      "\n",
      "Resultados do modelo Decision Tree Classifier\n",
      "Test size 0.20\n",
      "Score - F1 Score - Recall Score - Precision Score - MSE  [0.5381038784304831, 0.45306834967100845, 0.45904761904761904, 0.44724284199363734, 0.46189612156951687]\n",
      "\n",
      "Resultados do modelo Extra Tree Classifier\n",
      "Test size 0.25\n",
      "Score - F1 Score - Recall Score - Precision Score - MSE  [0.5383289485620975, 0.4467876943145994, 0.4461571862787668, 0.4474199869366427, 0.46167105143790255]\n",
      "\n",
      "Resultados do modelo Decision Tree Classifier\n",
      "Test size 0.25\n",
      "Score - F1 Score - Recall Score - Precision Score - MSE  [0.5361516828449605, 0.4506285591490276, 0.45527572731220145, 0.4460753031269943, 0.46384831715503944]\n",
      "\n",
      "Resultados do modelo Extra Tree Classifier\n",
      "Test size 0.30\n",
      "Score - F1 Score - Recall Score - Precision Score - MSE  [0.5419218265668708, 0.45063015685918945, 0.4496923633731451, 0.4515718698891514, 0.45807817343312923]\n",
      "\n",
      "Resultados do modelo Decision Tree Classifier\n",
      "Test size 0.30\n",
      "Score - F1 Score - Recall Score - Precision Score - MSE  [0.5394269297648748, 0.4476881233000906, 0.44679695982627576, 0.4485828488372093, 0.4605730702351251]\n",
      "\n",
      "Resultados do modelo Extra Tree Classifier\n",
      "Test size 0.35\n",
      "Score - F1 Score - Recall Score - Precision Score - MSE  [0.5454250907205807, 0.4495016872008161, 0.4459669884771099, 0.45309286505299795, 0.4545749092794194]\n",
      "\n",
      "Resultados do modelo Decision Tree Classifier\n",
      "Test size 0.35\n",
      "Score - F1 Score - Recall Score - Precision Score - MSE  [0.5337610160705029, 0.4496290063489635, 0.45764559327312365, 0.4418884378288979, 0.46623898392949714]\n",
      "\n",
      "Resultados do modelo Extra Tree Classifier\n",
      "Test size 0.40\n",
      "Score - F1 Score - Recall Score - Precision Score - MSE  [0.5413359038330687, 0.4519276373738058, 0.456286769735942, 0.4476510067114094, 0.45866409616693127]\n",
      "\n",
      "Resultados do modelo Decision Tree Classifier\n",
      "Test size 0.40\n",
      "Score - F1 Score - Recall Score - Precision Score - MSE  [0.5345883420276707, 0.4490535642368103, 0.45765494595703926, 0.4407695348530768, 0.4654116579723293]\n",
      "\n",
      "Resultados do modelo Extra Tree Classifier\n",
      "Test size 0.45\n",
      "Score - F1 Score - Recall Score - Precision Score - MSE  [0.5377249130588176, 0.4447269645235501, 0.44483468572120627, 0.4446192954848081, 0.4622750869411824]\n",
      "\n",
      "Resultados do modelo Decision Tree Classifier\n",
      "Test size 0.45\n",
      "Score - F1 Score - Recall Score - Precision Score - MSE  [0.5413537624111688, 0.4582688415287534, 0.46614993338985106, 0.45064980681419037, 0.4586462375888312]\n",
      "\n",
      "Resultados do modelo Extra Tree Classifier\n",
      "Test size 0.50\n",
      "Score - F1 Score - Recall Score - Precision Score - MSE  [0.5412565207530052, 0.4531444330287136, 0.455583342394259, 0.4507314974182444, 0.45874347924699477]\n",
      "\n",
      "Resultados do modelo Decision Tree Classifier\n",
      "Test size 0.50\n",
      "Score - F1 Score - Recall Score - Precision Score - MSE  [0.5454751644363801, 0.46244635193133043, 0.46863107535065784, 0.456422747008366, 0.4545248355636199]\n",
      "Val acc desc 0.5462654974296945\n",
      "Val acc extra 0.5495577228396462\n"
     ]
    }
   ],
   "source": [
    "import json\n",
    "jsonFile = open(\"decision-tree-split-train.json\", \"w\")\n",
    "jsonTxt = ''\n",
    "\n",
    "b= 0\n",
    "a = 0.10\n",
    "val_acc_dec_max = [0,0]\n",
    "val_acc_extra_max = [0,0]\n",
    "while a < 0.50:\n",
    "      ## Function train_test_split\n",
    "    x_train, x_teste, y_train, y_teste = train_test_split(x, y, test_size=a, random_state=18)\n",
    "    metc =modelExtraTreeClassifier(x_train, x_teste, y_train, y_teste)\n",
    "    mdtc = modelDecisionTreeClassifier(x_train, x_teste, y_train, y_teste)\n",
    "    if mdtc[0]>val_acc_dec_max[0]:\n",
    "        val_acc_dec_max[0] = mdtc[0]\n",
    "        val_acc_dec_max[1] = mdtc[1]\n",
    "    if metc[0]>val_acc_extra_max[0]:\n",
    "        val_acc_extra_max[0] = metc[0]\n",
    "        val_acc_extra_max[1] = metc[1]\n",
    "    a+=0.05\n",
    "    jsonTxt += metc[2]+',\\n'\n",
    "    jsonTxt += mdtc[2]+',\\n'\n",
    "jsonFile.write('['+jsonTxt+']')\n",
    "jsonFile.close()\n",
    "\n",
    "print('Val acc desc',val_acc_dec_max[0])\n",
    "print('Val acc extra',val_acc_extra_max[0])\n",
    "\n",
    "if val_acc_dec_max[0] > val_acc_extra_max[0]:\n",
    "   filename = 'modelo_final-train-split.sav'\n",
    "   joblib.dump(val_acc_dec_max[1],open(filename, 'wb'))\n",
    "else :\n",
    "    filename = 'modelo_final-train-split.sav'\n",
    "    joblib.dump(val_acc_extra_max[1],open(filename, 'wb'))\n",
    "\n",
    "## Treinar o modelo\n",
    "## Train the model\n",
    "\n",
    "\n",
    "\n"
   ],
   "metadata": {
    "collapsed": false,
    "pycharm": {
     "name": "#%%\n"
    }
   }
  },
  {
   "cell_type": "markdown",
   "source": [
    "##Matriz da confusão\n",
    "from sklearn.metrics import confusion_matrix\n",
    "\n",
    "pd.DataFrame(\n",
    "    confusion_matrix(y_teste, y_pred_cm),\n",
    "    columns=['Previsão da t1_home ganhar ', 'Previsão da  t1_home não ganhar'],\n",
    "    index=['Realidade de ganhar', 'Realidade de não ganhar']\n",
    ")\n",
    "\n",
    "\n",
    "model = DecisionTreeClassifier()\n",
    "model.fit(x_train, y_train)\n",
    "\n",
    "export_graphviz(model, out_file='tree.dot', feature_names=x.columns)\n",
    "from subprocess import call\n",
    "\n",
    "call(['dot', '-T', 'png', 'tree.dot', '-o', 'tree.png'])\n",
    "\n",
    "from IPython.display import Image\n",
    "Image(filename = 'tree.png')\n"
   ],
   "metadata": {
    "collapsed": false,
    "pycharm": {
     "name": "#%% md\n"
    }
   }
  },
  {
   "cell_type": "code",
   "execution_count": 6,
   "outputs": [],
   "source": [
    "#better then pickle\n",
    "import joblib\n",
    "\n",
    "filename ='modelo_final-train-split.sav'"
   ],
   "metadata": {
    "collapsed": false,
    "pycharm": {
     "name": "#%%\n"
    }
   }
  },
  {
   "cell_type": "code",
   "execution_count": 7,
   "outputs": [
    {
     "name": "stdout",
     "output_type": "stream",
     "text": [
      "0.899070083919256\n"
     ]
    },
    {
     "data": {
      "text/plain": "   t1_all_total5_fl_match_win  t1_all_total5_fl_match_draw  \\\n0                           3                            0   \n\n   t1_all_total5_fl_match_lost  t1_all_total10_fl_match_win  \\\n0                            2                            6   \n\n   t1_all_total10_fl_match_draw  t1_all_total10_fl_match_lost  \\\n0                             1                             3   \n\n   t2_all_total5_fl_match_win  t2_all_total5_fl_match_draw  \\\n0                           0                            4   \n\n   t2_all_total5_fl_match_lost  t2_all_total10_fl_match_win  ...  \\\n0                            1                            2  ...   \n\n   t2_away_total5_fl_match_lost  t2_away_total10_fl_match_win  \\\n0                             0                             2   \n\n   t2_away_total10_fl_match_draw  t2_away_total10_fl_match_lost  \\\n0                              4                              0   \n\n   t1_h2h_total5_fl_match_win  t1_h2h_total5_fl_match_draw  \\\n0                           0                            0   \n\n   t1_h2h_total5_fl_match_lost  t1_h2h_total10_fl_match_win  \\\n0                            0                            0   \n\n   t1_h2h_total10_fl_match_draw  t1_h2h_total10_fl_match_lost  \n0                             0                             0  \n\n[1 rows x 30 columns]",
      "text/html": "<div>\n<style scoped>\n    .dataframe tbody tr th:only-of-type {\n        vertical-align: middle;\n    }\n\n    .dataframe tbody tr th {\n        vertical-align: top;\n    }\n\n    .dataframe thead th {\n        text-align: right;\n    }\n</style>\n<table border=\"1\" class=\"dataframe\">\n  <thead>\n    <tr style=\"text-align: right;\">\n      <th></th>\n      <th>t1_all_total5_fl_match_win</th>\n      <th>t1_all_total5_fl_match_draw</th>\n      <th>t1_all_total5_fl_match_lost</th>\n      <th>t1_all_total10_fl_match_win</th>\n      <th>t1_all_total10_fl_match_draw</th>\n      <th>t1_all_total10_fl_match_lost</th>\n      <th>t2_all_total5_fl_match_win</th>\n      <th>t2_all_total5_fl_match_draw</th>\n      <th>t2_all_total5_fl_match_lost</th>\n      <th>t2_all_total10_fl_match_win</th>\n      <th>...</th>\n      <th>t2_away_total5_fl_match_lost</th>\n      <th>t2_away_total10_fl_match_win</th>\n      <th>t2_away_total10_fl_match_draw</th>\n      <th>t2_away_total10_fl_match_lost</th>\n      <th>t1_h2h_total5_fl_match_win</th>\n      <th>t1_h2h_total5_fl_match_draw</th>\n      <th>t1_h2h_total5_fl_match_lost</th>\n      <th>t1_h2h_total10_fl_match_win</th>\n      <th>t1_h2h_total10_fl_match_draw</th>\n      <th>t1_h2h_total10_fl_match_lost</th>\n    </tr>\n  </thead>\n  <tbody>\n    <tr>\n      <th>0</th>\n      <td>3</td>\n      <td>0</td>\n      <td>2</td>\n      <td>6</td>\n      <td>1</td>\n      <td>3</td>\n      <td>0</td>\n      <td>4</td>\n      <td>1</td>\n      <td>2</td>\n      <td>...</td>\n      <td>0</td>\n      <td>2</td>\n      <td>4</td>\n      <td>0</td>\n      <td>0</td>\n      <td>0</td>\n      <td>0</td>\n      <td>0</td>\n      <td>0</td>\n      <td>0</td>\n    </tr>\n  </tbody>\n</table>\n<p>1 rows × 30 columns</p>\n</div>"
     },
     "execution_count": 7,
     "metadata": {},
     "output_type": "execute_result"
    }
   ],
   "source": [
    "# load the model from disk\n",
    "loaded_model = joblib.load(open(filename, 'rb'))\n",
    "result = loaded_model.score(x_teste, y_teste)\n",
    "print(result)\n",
    "\n",
    "# novo registo a prever\n",
    "dNew = pd.read_csv('../files/t1_win_Sample.csv')\n",
    "dNew = dNew.drop('t1_fl_match_win', axis=1)   #Remover o campo vitoria\n",
    "dNew.head(2)     #Mostra as primeiras n linhas do conjunto de dados   Display the first n rows of the dataset\n",
    "\n"
   ],
   "metadata": {
    "collapsed": false,
    "pycharm": {
     "name": "#%%\n"
    }
   }
  },
  {
   "cell_type": "code",
   "execution_count": 8,
   "outputs": [
    {
     "name": "stdout",
     "output_type": "stream",
     "text": [
      "Equipa da casa perde\n"
     ]
    }
   ],
   "source": [
    "#Fazer uma previsão com o novo registo\n",
    "yNew = pd.Series(loaded_model.predict(dNew))\n",
    "if yNew[0] == 0:\n",
    "  print(\"Equipa da casa perde\")\n",
    "else:\n",
    "  print(\"Equipa da casa ganha\")"
   ],
   "metadata": {
    "collapsed": false,
    "pycharm": {
     "name": "#%%\n"
    }
   }
  },
  {
   "cell_type": "code",
   "execution_count": 8,
   "outputs": [],
   "source": [],
   "metadata": {
    "collapsed": false,
    "pycharm": {
     "name": "#%%\n"
    }
   }
  }
 ],
 "metadata": {
  "kernelspec": {
   "display_name": "Python 3.9.13 64-bit (windows store)",
   "language": "python",
   "name": "python3"
  },
  "language_info": {
   "codemirror_mode": {
    "name": "ipython",
    "version": 3
   },
   "file_extension": ".py",
   "mimetype": "text/x-python",
   "name": "python",
   "nbconvert_exporter": "python",
   "pygments_lexer": "ipython3",
   "version": "3.9.13"
  },
  "vscode": {
   "interpreter": {
    "hash": "25b9d76d03052f04b853783704bf9224d9817fdb32617c036d1776cea483770c"
   }
  }
 },
 "nbformat": 4,
 "nbformat_minor": 0
}