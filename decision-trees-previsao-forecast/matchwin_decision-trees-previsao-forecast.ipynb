{
 "cells": [
  {
   "cell_type": "code",
   "execution_count": null,
   "outputs": [],
   "source": [
    "# -*- coding: utf-8 -*-\n",
    "## Exemplo de Criação de um modelo de Previsão/Classificação usando as Arvores de Decisão\n",
    "## Example of Creating a Forecast/Classification model using Decision Trees\n",
    "\n",
    "## import\n",
    "import numpy as np\n",
    "import pandas as pd\n",
    "import seaborn as sns\n",
    "from sklearn.model_selection import train_test_split\n",
    "from sklearn.tree import DecisionTreeClassifier, DecisionTreeRegressor, ExtraTreeClassifier, ExtraTreeRegressor, export_graphviz\n",
    "from sklearn import metrics\n",
    "\n",
    "## carregar o ficheiro Insol para um dataframe do pandas dInsol\n",
    "## load the Insol file into a pandas dInsol dataframe\n",
    "dInsol = pd.read_csv('View_data_nullZero.csv')\n",
    "\n",
    "\n",
    "\n",
    "dInsol.head(2)     #Mostra as primeiras n linhas do conjunto de dados\n",
    "dInsol.tail(5)     #Mostra as últimas n linhas do conjunto de dados\n"
   ],
   "metadata": {
    "collapsed": false,
    "pycharm": {
     "name": "#%%\n"
    }
   }
  },
  {
   "cell_type": "code",
   "execution_count": null,
   "outputs": [],
   "source": [
    "## Pre-processamento dividir os dados em conjunto de Treino e Teste\n",
    "## Pre-processing split data into Training and Test sets\n",
    "x = dInsol.drop('t1_fl_match_win', axis=1)   #Todas as tabelas que são usadas para fazer a predict\n",
    "y = dInsol.t1_fl_match_win                   #Resultados entre 1 e 0 8Insolvência ou não Insolvênvia)\n"
   ],
   "metadata": {
    "collapsed": false,
    "pycharm": {
     "name": "#%%\n"
    }
   }
  },
  {
   "cell_type": "code",
   "execution_count": null,
   "outputs": [],
   "source": [
    "def modelDecisionTreeClassifier():\n",
    "    DecisionTree_Class_Model = DecisionTreeClassifier()\n",
    "    DecisionTree_Class_Model.fit(x_train, y_train)\n",
    "      ##Previsao/Forecasting\n",
    "    y_pred = DecisionTree_Class_Model.predict(x_teste)\n",
    "    y_pred\n",
    "\n",
    "##Accuracy Score\n",
    "    accuracy = metrics.accuracy_score(y_teste, y_pred)\n",
    "    f1 = metrics.f1_score(y_teste, y_pred)\n",
    "    rs = metrics.recall_score(y_teste, y_pred)\n",
    "    ps = metrics.precision_score(y_teste, y_pred)\n",
    "    mse = metrics.mean_squared_error(y_teste, y_pred)\n",
    "    global y_pred_cm\n",
    "    y_pred_cm = y_pred\n",
    "    print (\"\\nResultados do modelo Decision Tree Classifier\")\n",
    "    print('Test size {:.2f} Acc: {:.2f}'.format(a,accuracy))\n",
    "    print(('F1_score: {:.2f} Recall: {:.2f}'.format(f1,rs)))\n",
    "    print('Precision: {:.2f} MSE: {:.2f}'.format(ps,mse))\n"
   ],
   "metadata": {
    "collapsed": false,
    "pycharm": {
     "name": "#%%\n"
    }
   }
  },
  {
   "cell_type": "code",
   "execution_count": null,
   "outputs": [],
   "source": [
    "def modelExtraTreeClassifier():\n",
    "    DecisionTree_Class_Model = ExtraTreeClassifier()\n",
    "    DecisionTree_Class_Model.fit(x_train, y_train)\n",
    "      ##Previsao/Forecasting\n",
    "    y_pred = DecisionTree_Class_Model.predict(x_teste)\n",
    "    y_pred\n",
    "\n",
    "##Accuracy Score\n",
    "    accuracy = metrics.accuracy_score(y_teste, y_pred)\n",
    "    print (\"\\nResultados do modelo Extra Tree Classifier\")\n",
    "    print('Test size {:.2f} Acc: {}'.format(a,accuracy))\n"
   ],
   "metadata": {
    "collapsed": false,
    "pycharm": {
     "name": "#%%\n"
    }
   }
  },
  {
   "cell_type": "code",
   "execution_count": null,
   "outputs": [],
   "source": [
    "b= 0\n",
    "a = 0.10\n",
    "while a < 0.50:\n",
    "      ## Function train_test_split\n",
    "    x_train, x_teste, y_train, y_teste = train_test_split(x, y, test_size=a, random_state=18)\n",
    "    modelDecisionTreeClassifier()\n",
    "    #modelExtraTreeClassifier()\n",
    "    a+=0.05\n",
    "## Treinar o modelo\n",
    "## Train the model\n",
    "\n",
    "\n",
    "\n"
   ],
   "metadata": {
    "collapsed": false,
    "pycharm": {
     "name": "#%%\n"
    }
   }
  },
  {
   "cell_type": "code",
   "execution_count": null,
   "outputs": [],
   "source": [
    "\n",
    "##Matriz da confusão\n",
    "from sklearn.metrics import confusion_matrix\n",
    "\n",
    "pd.DataFrame(\n",
    "    confusion_matrix(y_teste, y_pred_cm),\n",
    "    columns=['Previsão da t1_home ganhar ', 'Previsão da  t1_home não ganhar'],\n",
    "    index=['Realidade de ganhar', 'Realidade de não ganhar']\n",
    ")\n",
    "\n",
    "\n",
    "model = DecisionTreeClassifier()\n",
    "model.fit(x_train, y_train)\n",
    "\n",
    "export_graphviz(model, out_file='tree.dot', feature_names=x.columns)\n",
    "from subprocess import call\n",
    "\n",
    "call(['dot', '-T', 'png', 'tree.dot', '-o', 'tree.png'])\n",
    "\n",
    "from IPython.display import Image\n",
    "Image(filename = 'tree.png')\n"
   ],
   "metadata": {
    "collapsed": false,
    "pycharm": {
     "name": "#%%\n"
    }
   }
  },
  {
   "cell_type": "code",
   "execution_count": null,
   "outputs": [],
   "source": [
    "#better then pickle\n",
    "import joblib\n",
    "\n",
    "filename = 'modelo_final.sav'\n",
    "joblib.dump(model, open(filename, 'wb'))"
   ],
   "metadata": {
    "collapsed": false,
    "pycharm": {
     "name": "#%%\n"
    }
   }
  },
  {
   "cell_type": "code",
   "execution_count": null,
   "outputs": [],
   "source": [
    "# load the model from disk\n",
    "loaded_model = joblib.load(open(filename, 'rb'))\n",
    "result = loaded_model.score(x_teste, y_teste)\n",
    "print(result)\n",
    "\n",
    "# novo registo a prever\n",
    "dNew = pd.read_csv('../files/data_sample_match_win.csv')\n",
    "dNew = dNew.drop('t1_fl_match_win', axis=1)   #Remover a tabela Insolvencia  #Remove the Insolvency table\n",
    "dNew.head(2)     #Mostra as primeiras n linhas do conjunto de dados   Display the first n rows of the dataset\n",
    "\n"
   ],
   "metadata": {
    "collapsed": false,
    "pycharm": {
     "name": "#%%\n"
    }
   }
  },
  {
   "cell_type": "code",
   "execution_count": null,
   "outputs": [],
   "source": [
    "#Fazer uma previsão com o novo registo\n",
    "yNew = pd.Series(loaded_model.predict(dNew))\n",
    "if yNew[0] == 0:\n",
    "  print(\"Equipa da casa perde\")\n",
    "else:\n",
    "  print(\"Equipa da casa ganha\")"
   ],
   "metadata": {
    "collapsed": false,
    "pycharm": {
     "name": "#%%\n"
    }
   }
  }
 ],
 "metadata": {
  "kernelspec": {
   "display_name": "Python 3.9.13 64-bit (windows store)",
   "language": "python",
   "name": "python3"
  },
  "language_info": {
   "codemirror_mode": {
    "name": "ipython",
    "version": 3
   },
   "file_extension": ".py",
   "mimetype": "text/x-python",
   "name": "python",
   "nbconvert_exporter": "python",
   "pygments_lexer": "ipython3",
   "version": "3.9.13"
  },
  "vscode": {
   "interpreter": {
    "hash": "25b9d76d03052f04b853783704bf9224d9817fdb32617c036d1776cea483770c"
   }
  }
 },
 "nbformat": 4,
 "nbformat_minor": 0
}